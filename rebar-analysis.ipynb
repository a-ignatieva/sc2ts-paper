{
 "cells": [
  {
   "cell_type": "markdown",
   "id": "fbf147c3-8171-42e4-bf1b-5727566cd905",
   "metadata": {},
   "source": [
    "# Rebar Recombinants Analysis"
   ]
  },
  {
   "cell_type": "markdown",
   "id": "e8c9a828-5849-484a-a0f1-4445dc45a059",
   "metadata": {},
   "source": [
    "This notebook contains supplementary analyses of the 929 recombinants identified in the `sc2ts` paper when analysed by rebar."
   ]
  },
  {
   "cell_type": "code",
   "execution_count": 1,
   "id": "6ec150d0-e6cf-4c8e-923d-7aff91309923",
   "metadata": {},
   "outputs": [],
   "source": [
    "import pandas as pd\n",
    "import numpy as np\n",
    "import matplotlib.pyplot as plt\n",
    "import seaborn as sns"
   ]
  },
  {
   "cell_type": "code",
   "execution_count": 2,
   "id": "91cac96f-9f53-42b9-9eeb-a9c514d2909c",
   "metadata": {},
   "outputs": [],
   "source": [
    "recombinants_csv = \"../arg_postprocessing/sc2ts_v1_2023-02-21_pp_dated_remapped_bps_pango_recombinants_rebar_matches_pangonet_nsl.csv\"\n",
    "rebar_tsv = \"../arg_postprocessing/sc2ts_v1_2023-02-21_pp_dated_remapped_bps_pango_rebar_output.tsv\""
   ]
  },
  {
   "cell_type": "markdown",
   "id": "6d71301b-307a-440f-ab40-900880437b6b",
   "metadata": {},
   "source": [
    "## Compare"
   ]
  },
  {
   "cell_type": "markdown",
   "id": "e4873542",
   "metadata": {},
   "source": [
    "### Data"
   ]
  },
  {
   "cell_type": "code",
   "execution_count": 3,
   "id": "d5677d2f-c5cd-449c-b48e-15c26fe66796",
   "metadata": {
    "scrolled": true
   },
   "outputs": [
    {
     "data": {
      "text/plain": [
       "929"
      ]
     },
     "execution_count": 3,
     "metadata": {},
     "output_type": "execute_result"
    }
   ],
   "source": [
    "df_sc2ts = pd.read_csv(recombinants_csv).set_index(\"sample_id\")\n",
    "# df_sc2ts.head(5)\n",
    "len(df_sc2ts)"
   ]
  },
  {
   "cell_type": "code",
   "execution_count": 4,
   "id": "bf2b8d34-33e8-47f5-9660-cec5b09c4885",
   "metadata": {},
   "outputs": [
    {
     "data": {
      "text/plain": [
       "929"
      ]
     },
     "execution_count": 4,
     "metadata": {},
     "output_type": "execute_result"
    }
   ],
   "source": [
    "df_rebar = pd.read_csv(rebar_tsv, sep=\"\\t\").set_index(\"strain\")\n",
    "# df_rebar.head(5)\n",
    "len(df_rebar)"
   ]
  },
  {
   "cell_type": "code",
   "execution_count": 5,
   "id": "4c883d4d-0751-4e84-b108-72be780ddb89",
   "metadata": {
    "scrolled": true
   },
   "outputs": [
    {
     "data": {
      "text/plain": [
       "Index(['recombinant', 'num_descendant_samples', 'num_samples',\n",
       "       'distinct_sample_pango', 'interval_left', 'interval_right',\n",
       "       'num_mutations', 'Viridian_amplicon_scheme', 'Artic_primer_version',\n",
       "       'date_added', 'group_id', 'group_size', 'recombinant_pango',\n",
       "       'recombinant_scorpio', 'recombinant_time', 'recombinant_date', 'sample',\n",
       "       'sample_pango', 'sample_scorpio', 'sample_time', 'sample_date',\n",
       "       'parent_left', 'parent_left_pango', 'parent_left_scorpio',\n",
       "       'parent_left_time', 'parent_left_date', 'parent_right',\n",
       "       'parent_right_pango', 'parent_right_scorpio', 'parent_right_time',\n",
       "       'parent_right_date', 'parent_mrca', 'parent_mrca_pango',\n",
       "       'parent_mrca_scorpio', 'parent_mrca_time', 'parent_mrca_date', 'diffs',\n",
       "       'max_run_length', 'is_rebar_recombinant', 'num_mutations_k1000',\n",
       "       'num_mutations_k4', 'parent_pangonet_distance',\n",
       "       'net_min_supporting_loci_lft', 'net_min_supporting_loci_rgt',\n",
       "       'net_min_supporting_loci_lft_rgt_ge_4', 'validate', 'validate_details',\n",
       "       'population', 'recombinant_rebar', 'parents', 'breakpoints',\n",
       "       'edge_case', 'unique_key', 'regions', 'substitutions', 'genome_length',\n",
       "       'dataset_name', 'dataset_tag', 'cli_version'],\n",
       "      dtype='object')"
      ]
     },
     "execution_count": 5,
     "metadata": {},
     "output_type": "execute_result"
    }
   ],
   "source": [
    "# NOTE: recombinant in the sc2ts file is the recombinant node ID.\n",
    "dfj = df_sc2ts.join(df_rebar, rsuffix=\"_rebar\")\n",
    "dfj.columns"
   ]
  },
  {
   "cell_type": "code",
   "execution_count": 6,
   "id": "4fd28524-c994-40ae-afb0-711e1e8f021a",
   "metadata": {},
   "outputs": [],
   "source": [
    "rebar_status = np.full(len(df_rebar), \"known\")\n",
    "rebar_status[dfj[\"recombinant_rebar\"] == \"novel\"] = \"novel\"\n",
    "rebar_status[dfj[\"recombinant_rebar\"].isna()] = \"not\"\n",
    "\n",
    "dfj[\"rebar_status\"] = rebar_status"
   ]
  },
  {
   "cell_type": "markdown",
   "id": "f220af95-5df3-473b-b335-cc3d89ffc4aa",
   "metadata": {},
   "source": [
    "### Filter"
   ]
  },
  {
   "cell_type": "code",
   "execution_count": 7,
   "id": "92bdd63c-6862-4e1a-9d8b-a26eeefaabc7",
   "metadata": {},
   "outputs": [
    {
     "data": {
      "text/plain": [
       "rebar_status\n",
       "not      703\n",
       "novel    158\n",
       "known     68\n",
       "Name: count, dtype: int64"
      ]
     },
     "execution_count": 7,
     "metadata": {},
     "output_type": "execute_result"
    }
   ],
   "source": [
    "dfj[\"rebar_status\"].value_counts()"
   ]
  },
  {
   "cell_type": "markdown",
   "id": "df77bf03-2e8b-41a5-be0a-09c4cdb7e759",
   "metadata": {},
   "source": [
    "Overall, we have 158 recombinants marked as novel by rebar. How does this cluster by high quality flag?"
   ]
  },
  {
   "cell_type": "code",
   "execution_count": 8,
   "id": "36a2807f-f469-4ebe-b9a9-f262df09ca59",
   "metadata": {},
   "outputs": [
    {
     "data": {
      "text/plain": [
       "np.int64(385)"
      ]
     },
     "execution_count": 8,
     "metadata": {},
     "output_type": "execute_result"
    }
   ],
   "source": [
    "dfj[\"high_quality\"] = dfj[\"net_min_supporting_loci_lft_rgt_ge_4\"]\n",
    "np.sum(dfj[\"high_quality\"])"
   ]
  },
  {
   "cell_type": "code",
   "execution_count": 9,
   "id": "b2da0903-5320-417a-9881-80057942eb35",
   "metadata": {},
   "outputs": [
    {
     "data": {
      "text/plain": [
       "high_quality\n",
       "False    544\n",
       "True     385\n",
       "Name: count, dtype: int64"
      ]
     },
     "execution_count": 9,
     "metadata": {},
     "output_type": "execute_result"
    }
   ],
   "source": [
    "dfj[\"high_quality\"].value_counts()"
   ]
  },
  {
   "cell_type": "code",
   "execution_count": 10,
   "id": "4b8deea4-981b-4c5a-8b97-e00b513dd7d2",
   "metadata": {},
   "outputs": [
    {
     "data": {
      "image/png": "[encoded data removed]",
      "text/plain": [
       "<Figure size 1200x300 with 1 Axes>"
      ]
     },
     "metadata": {},
     "output_type": "display_data"
    }
   ],
   "source": [
    "fig, ax = plt.subplots(1, 1, figsize=(12, 3))\n",
    "sns.histplot(data=dfj, stat=\"count\", multiple=\"stack\",\n",
    "             x=\"rebar_status\", kde=False,\n",
    "            hue=\"high_quality\",\n",
    "             element=\"bars\", legend=True, ax=ax);"
   ]
  },
  {
   "cell_type": "code",
   "execution_count": 11,
   "id": "b8f9bc69-9a5b-4eb5-bcbd-cda3a9394e9c",
   "metadata": {
    "scrolled": true
   },
   "outputs": [
    {
     "data": {
      "text/plain": [
       "np.int64(532)"
      ]
     },
     "execution_count": 11,
     "metadata": {},
     "output_type": "execute_result"
    }
   ],
   "source": [
    "np.sum((dfj[\"rebar_status\"] == \"not\") & np.logical_not(dfj[\"high_quality\"]))"
   ]
  },
  {
   "cell_type": "markdown",
   "id": "6318c72f-01c0-4436-9a59-927cacfcfa52",
   "metadata": {},
   "source": [
    "The high-quality flag is very highly correlated with rebar status \"not recombinant\", with 532 of the 544 recombinants that we're not confident in being flagged as not recombinant by rebar.\n",
    "\n",
    "Let's focus on the high quality set now"
   ]
  },
  {
   "cell_type": "markdown",
   "id": "2eba867d-1266-417d-88be-e6e89475ec1f",
   "metadata": {},
   "source": [
    "No, as it happens the vast majority of the errors have a run length of 5. So let's exclude these."
   ]
  },
  {
   "cell_type": "code",
   "execution_count": 12,
   "id": "e0e914a1-aa29-4936-a638-0200a542deca",
   "metadata": {
    "scrolled": true
   },
   "outputs": [
    {
     "data": {
      "text/html": [
       "<div>\n",
       "<style scoped>\n",
       "    .dataframe tbody tr th:only-of-type {\n",
       "        vertical-align: middle;\n",
       "    }\n",
       "\n",
       "    .dataframe tbody tr th {\n",
       "        vertical-align: top;\n",
       "    }\n",
       "\n",
       "    .dataframe thead th {\n",
       "        text-align: right;\n",
       "    }\n",
       "</style>\n",
       "<table border=\"1\" class=\"dataframe\">\n",
       "  <thead>\n",
       "    <tr style=\"text-align: right;\">\n",
       "      <th></th>\n",
       "      <th>recombinant</th>\n",
       "      <th>num_descendant_samples</th>\n",
       "      <th>num_samples</th>\n",
       "      <th>distinct_sample_pango</th>\n",
       "      <th>interval_left</th>\n",
       "      <th>interval_right</th>\n",
       "      <th>num_mutations</th>\n",
       "      <th>Viridian_amplicon_scheme</th>\n",
       "      <th>Artic_primer_version</th>\n",
       "      <th>date_added</th>\n",
       "      <th>...</th>\n",
       "      <th>edge_case</th>\n",
       "      <th>unique_key</th>\n",
       "      <th>regions</th>\n",
       "      <th>substitutions</th>\n",
       "      <th>genome_length</th>\n",
       "      <th>dataset_name</th>\n",
       "      <th>dataset_tag</th>\n",
       "      <th>cli_version</th>\n",
       "      <th>rebar_status</th>\n",
       "      <th>high_quality</th>\n",
       "    </tr>\n",
       "    <tr>\n",
       "      <th>sample_id</th>\n",
       "      <th></th>\n",
       "      <th></th>\n",
       "      <th></th>\n",
       "      <th></th>\n",
       "      <th></th>\n",
       "      <th></th>\n",
       "      <th></th>\n",
       "      <th></th>\n",
       "      <th></th>\n",
       "      <th></th>\n",
       "      <th></th>\n",
       "      <th></th>\n",
       "      <th></th>\n",
       "      <th></th>\n",
       "      <th></th>\n",
       "      <th></th>\n",
       "      <th></th>\n",
       "      <th></th>\n",
       "      <th></th>\n",
       "      <th></th>\n",
       "      <th></th>\n",
       "    </tr>\n",
       "  </thead>\n",
       "  <tbody>\n",
       "    <tr>\n",
       "      <th>ERR4437465</th>\n",
       "      <td>1530</td>\n",
       "      <td>1</td>\n",
       "      <td>1</td>\n",
       "      <td>1</td>\n",
       "      <td>8783</td>\n",
       "      <td>13617</td>\n",
       "      <td>2</td>\n",
       "      <td>COVID-ARTIC-V3</td>\n",
       "      <td>3</td>\n",
       "      <td>2020-03-22</td>\n",
       "      <td>...</td>\n",
       "      <td>False</td>\n",
       "      <td>novel_A_B.1_8783-14407</td>\n",
       "      <td>241-8782|A,14408-23403|B.1</td>\n",
       "      <td>C8782T|A;C14408T,A20268G,A23403G|B.1;C850T,C64...</td>\n",
       "      <td>29903</td>\n",
       "      <td>sars-cov-2</td>\n",
       "      <td>2025-01-28</td>\n",
       "      <td>0.2.0</td>\n",
       "      <td>novel</td>\n",
       "      <td>True</td>\n",
       "    </tr>\n",
       "    <tr>\n",
       "      <th>ERR4615866</th>\n",
       "      <td>26465</td>\n",
       "      <td>54</td>\n",
       "      <td>1</td>\n",
       "      <td>1</td>\n",
       "      <td>15325</td>\n",
       "      <td>21855</td>\n",
       "      <td>1</td>\n",
       "      <td>COVID-ARTIC-V3</td>\n",
       "      <td>3</td>\n",
       "      <td>2020-08-24</td>\n",
       "      <td>...</td>\n",
       "      <td>False</td>\n",
       "      <td>novel_B.1.177_B.1.221_15325-20660</td>\n",
       "      <td>222-15324|B.1.177,20661-29645|B.1.221</td>\n",
       "      <td>C222T,T445C,C6286T|B.1.177;C21855T,A23403G,A25...</td>\n",
       "      <td>29903</td>\n",
       "      <td>sars-cov-2</td>\n",
       "      <td>2025-01-28</td>\n",
       "      <td>0.2.0</td>\n",
       "      <td>novel</td>\n",
       "      <td>True</td>\n",
       "    </tr>\n",
       "    <tr>\n",
       "      <th>ERR4671078</th>\n",
       "      <td>27003</td>\n",
       "      <td>3</td>\n",
       "      <td>1</td>\n",
       "      <td>1</td>\n",
       "      <td>22993</td>\n",
       "      <td>25563</td>\n",
       "      <td>2</td>\n",
       "      <td>COVID-ARTIC-V3</td>\n",
       "      <td>3</td>\n",
       "      <td>2020-08-26</td>\n",
       "      <td>...</td>\n",
       "      <td>False</td>\n",
       "      <td>novel_B.1.160_B.1.1_22993-25562</td>\n",
       "      <td>4543-22992|B.1.160,25563-29399|B.1.1</td>\n",
       "      <td>C4543T,G5629T,G9526T,C11497T,G13993T,C14408T,G...</td>\n",
       "      <td>29903</td>\n",
       "      <td>sars-cov-2</td>\n",
       "      <td>2025-01-28</td>\n",
       "      <td>0.2.0</td>\n",
       "      <td>novel</td>\n",
       "      <td>True</td>\n",
       "    </tr>\n",
       "    <tr>\n",
       "      <th>SRR21719160</th>\n",
       "      <td>28379</td>\n",
       "      <td>3</td>\n",
       "      <td>1</td>\n",
       "      <td>1</td>\n",
       "      <td>6542</td>\n",
       "      <td>9515</td>\n",
       "      <td>0</td>\n",
       "      <td>COVID-ARTIC-V3</td>\n",
       "      <td>.</td>\n",
       "      <td>2020-09-02</td>\n",
       "      <td>...</td>\n",
       "      <td>False</td>\n",
       "      <td>NaN</td>\n",
       "      <td>NaN</td>\n",
       "      <td>C241T,C1059T,C3037T,C14408T,A22320G,A23403G,G2...</td>\n",
       "      <td>29903</td>\n",
       "      <td>sars-cov-2</td>\n",
       "      <td>2025-01-28</td>\n",
       "      <td>0.2.0</td>\n",
       "      <td>not</td>\n",
       "      <td>True</td>\n",
       "    </tr>\n",
       "    <tr>\n",
       "      <th>ERR4760005</th>\n",
       "      <td>34811</td>\n",
       "      <td>1</td>\n",
       "      <td>1</td>\n",
       "      <td>1</td>\n",
       "      <td>11523</td>\n",
       "      <td>25049</td>\n",
       "      <td>2</td>\n",
       "      <td>COVID-ARTIC-V3</td>\n",
       "      <td>3</td>\n",
       "      <td>2020-09-30</td>\n",
       "      <td>...</td>\n",
       "      <td>False</td>\n",
       "      <td>NaN</td>\n",
       "      <td>NaN</td>\n",
       "      <td>G204T,C241T,T445C,C3037T,C6286T,C7926T,C9745T,...</td>\n",
       "      <td>29903</td>\n",
       "      <td>sars-cov-2</td>\n",
       "      <td>2025-01-28</td>\n",
       "      <td>0.2.0</td>\n",
       "      <td>not</td>\n",
       "      <td>True</td>\n",
       "    </tr>\n",
       "    <tr>\n",
       "      <th>...</th>\n",
       "      <td>...</td>\n",
       "      <td>...</td>\n",
       "      <td>...</td>\n",
       "      <td>...</td>\n",
       "      <td>...</td>\n",
       "      <td>...</td>\n",
       "      <td>...</td>\n",
       "      <td>...</td>\n",
       "      <td>...</td>\n",
       "      <td>...</td>\n",
       "      <td>...</td>\n",
       "      <td>...</td>\n",
       "      <td>...</td>\n",
       "      <td>...</td>\n",
       "      <td>...</td>\n",
       "      <td>...</td>\n",
       "      <td>...</td>\n",
       "      <td>...</td>\n",
       "      <td>...</td>\n",
       "      <td>...</td>\n",
       "      <td>...</td>\n",
       "    </tr>\n",
       "    <tr>\n",
       "      <th>ERR10839902</th>\n",
       "      <td>1429711</td>\n",
       "      <td>2</td>\n",
       "      <td>1</td>\n",
       "      <td>1</td>\n",
       "      <td>19327</td>\n",
       "      <td>20428</td>\n",
       "      <td>1</td>\n",
       "      <td>COVID-ARTIC-V4.1</td>\n",
       "      <td>4.1alt</td>\n",
       "      <td>2023-01-22</td>\n",
       "      <td>...</td>\n",
       "      <td>False</td>\n",
       "      <td>XCE_BQ.1_XCE_19327-21809</td>\n",
       "      <td>9424-19326|BQ.1,21810-27915|XCE</td>\n",
       "      <td>A9424G,C11750T,G12160A,T14257C,G16935A|BQ.1;T2...</td>\n",
       "      <td>29903</td>\n",
       "      <td>sars-cov-2</td>\n",
       "      <td>2025-01-28</td>\n",
       "      <td>0.2.0</td>\n",
       "      <td>known</td>\n",
       "      <td>True</td>\n",
       "    </tr>\n",
       "    <tr>\n",
       "      <th>ERR10839848</th>\n",
       "      <td>1430261</td>\n",
       "      <td>1</td>\n",
       "      <td>1</td>\n",
       "      <td>1</td>\n",
       "      <td>19327</td>\n",
       "      <td>20741</td>\n",
       "      <td>2</td>\n",
       "      <td>COVID-ARTIC-V4.1</td>\n",
       "      <td>4.1alt</td>\n",
       "      <td>2023-01-23</td>\n",
       "      <td>...</td>\n",
       "      <td>False</td>\n",
       "      <td>XCT_BJ.1_CH.1.1.2_18584-20740</td>\n",
       "      <td>405-18583|BJ.1,20741-29118|CH.1.1.2</td>\n",
       "      <td>A405G,C15738T,T15939C,T16342C,T17859C|BJ.1;A20...</td>\n",
       "      <td>29903</td>\n",
       "      <td>sars-cov-2</td>\n",
       "      <td>2025-01-28</td>\n",
       "      <td>0.2.0</td>\n",
       "      <td>known</td>\n",
       "      <td>True</td>\n",
       "    </tr>\n",
       "    <tr>\n",
       "      <th>SRR23358540</th>\n",
       "      <td>1430452</td>\n",
       "      <td>1</td>\n",
       "      <td>1</td>\n",
       "      <td>1</td>\n",
       "      <td>9867</td>\n",
       "      <td>12160</td>\n",
       "      <td>1</td>\n",
       "      <td>COVID-ARTIC-V4.1</td>\n",
       "      <td>.</td>\n",
       "      <td>2023-01-23</td>\n",
       "      <td>...</td>\n",
       "      <td>False</td>\n",
       "      <td>novel_BQ.1.1.78_CH.1.1.2_11751-12159</td>\n",
       "      <td>2954-11750|BQ.1.1.78,12160-28681|CH.1.1.2</td>\n",
       "      <td>T2954C,C11750T|BQ.1.1.78;A12444G,C12880T,C1440...</td>\n",
       "      <td>29903</td>\n",
       "      <td>sars-cov-2</td>\n",
       "      <td>2025-01-28</td>\n",
       "      <td>0.2.0</td>\n",
       "      <td>novel</td>\n",
       "      <td>True</td>\n",
       "    </tr>\n",
       "    <tr>\n",
       "      <th>ERR10931828</th>\n",
       "      <td>1431988</td>\n",
       "      <td>1</td>\n",
       "      <td>1</td>\n",
       "      <td>1</td>\n",
       "      <td>19887</td>\n",
       "      <td>21811</td>\n",
       "      <td>2</td>\n",
       "      <td>COVID-ARTIC-V4.1</td>\n",
       "      <td>4.1alt</td>\n",
       "      <td>2023-01-29</td>\n",
       "      <td>...</td>\n",
       "      <td>False</td>\n",
       "      <td>novel_CH.1.1.1_CH.1.1.17_19887-21810</td>\n",
       "      <td>1545-19886|CH.1.1.1,21811-25721|CH.1.1.17</td>\n",
       "      <td>C1545T,C2790T,C3037T,C3796T,C3857A,C3927T,G418...</td>\n",
       "      <td>29903</td>\n",
       "      <td>sars-cov-2</td>\n",
       "      <td>2025-01-28</td>\n",
       "      <td>0.2.0</td>\n",
       "      <td>novel</td>\n",
       "      <td>True</td>\n",
       "    </tr>\n",
       "    <tr>\n",
       "      <th>ERR10921923</th>\n",
       "      <td>1432902</td>\n",
       "      <td>2</td>\n",
       "      <td>1</td>\n",
       "      <td>1</td>\n",
       "      <td>20742</td>\n",
       "      <td>21765</td>\n",
       "      <td>3</td>\n",
       "      <td>COVID-ARTIC-V4.1</td>\n",
       "      <td>.</td>\n",
       "      <td>2023-02-02</td>\n",
       "      <td>...</td>\n",
       "      <td>False</td>\n",
       "      <td>novel_BQ.1.1.29_CH.1.1.1_20742-22000</td>\n",
       "      <td>1545-20741|BQ.1.1.29,22001-28681|CH.1.1.1</td>\n",
       "      <td>C1931A,T2954C,G7850A,T11374C,C11750T,G12160A,T...</td>\n",
       "      <td>29903</td>\n",
       "      <td>sars-cov-2</td>\n",
       "      <td>2025-01-28</td>\n",
       "      <td>0.2.0</td>\n",
       "      <td>novel</td>\n",
       "      <td>True</td>\n",
       "    </tr>\n",
       "  </tbody>\n",
       "</table>\n",
       "<p>385 rows × 61 columns</p>\n",
       "</div>"
      ],
      "text/plain": [
       "             recombinant  num_descendant_samples  num_samples  \\\n",
       "sample_id                                                       \n",
       "ERR4437465          1530                       1            1   \n",
       "ERR4615866         26465                      54            1   \n",
       "ERR4671078         27003                       3            1   \n",
       "SRR21719160        28379                       3            1   \n",
       "ERR4760005         34811                       1            1   \n",
       "...                  ...                     ...          ...   \n",
       "ERR10839902      1429711                       2            1   \n",
       "ERR10839848      1430261                       1            1   \n",
       "SRR23358540      1430452                       1            1   \n",
       "ERR10931828      1431988                       1            1   \n",
       "ERR10921923      1432902                       2            1   \n",
       "\n",
       "             distinct_sample_pango  interval_left  interval_right  \\\n",
       "sample_id                                                           \n",
       "ERR4437465                       1           8783           13617   \n",
       "ERR4615866                       1          15325           21855   \n",
       "ERR4671078                       1          22993           25563   \n",
       "SRR21719160                      1           6542            9515   \n",
       "ERR4760005                       1          11523           25049   \n",
       "...                            ...            ...             ...   \n",
       "ERR10839902                      1          19327           20428   \n",
       "ERR10839848                      1          19327           20741   \n",
       "SRR23358540                      1           9867           12160   \n",
       "ERR10931828                      1          19887           21811   \n",
       "ERR10921923                      1          20742           21765   \n",
       "\n",
       "             num_mutations Viridian_amplicon_scheme Artic_primer_version  \\\n",
       "sample_id                                                                  \n",
       "ERR4437465               2           COVID-ARTIC-V3                    3   \n",
       "ERR4615866               1           COVID-ARTIC-V3                    3   \n",
       "ERR4671078               2           COVID-ARTIC-V3                    3   \n",
       "SRR21719160              0           COVID-ARTIC-V3                    .   \n",
       "ERR4760005               2           COVID-ARTIC-V3                    3   \n",
       "...                    ...                      ...                  ...   \n",
       "ERR10839902              1         COVID-ARTIC-V4.1               4.1alt   \n",
       "ERR10839848              2         COVID-ARTIC-V4.1               4.1alt   \n",
       "SRR23358540              1         COVID-ARTIC-V4.1                    .   \n",
       "ERR10931828              2         COVID-ARTIC-V4.1               4.1alt   \n",
       "ERR10921923              3         COVID-ARTIC-V4.1                    .   \n",
       "\n",
       "             date_added  ... edge_case                            unique_key  \\\n",
       "sample_id                ...                                                   \n",
       "ERR4437465   2020-03-22  ...     False                novel_A_B.1_8783-14407   \n",
       "ERR4615866   2020-08-24  ...     False     novel_B.1.177_B.1.221_15325-20660   \n",
       "ERR4671078   2020-08-26  ...     False       novel_B.1.160_B.1.1_22993-25562   \n",
       "SRR21719160  2020-09-02  ...     False                                   NaN   \n",
       "ERR4760005   2020-09-30  ...     False                                   NaN   \n",
       "...                 ...  ...       ...                                   ...   \n",
       "ERR10839902  2023-01-22  ...     False              XCE_BQ.1_XCE_19327-21809   \n",
       "ERR10839848  2023-01-23  ...     False         XCT_BJ.1_CH.1.1.2_18584-20740   \n",
       "SRR23358540  2023-01-23  ...     False  novel_BQ.1.1.78_CH.1.1.2_11751-12159   \n",
       "ERR10931828  2023-01-29  ...     False  novel_CH.1.1.1_CH.1.1.17_19887-21810   \n",
       "ERR10921923  2023-02-02  ...     False  novel_BQ.1.1.29_CH.1.1.1_20742-22000   \n",
       "\n",
       "                                               regions  \\\n",
       "sample_id                                                \n",
       "ERR4437465                  241-8782|A,14408-23403|B.1   \n",
       "ERR4615866       222-15324|B.1.177,20661-29645|B.1.221   \n",
       "ERR4671078        4543-22992|B.1.160,25563-29399|B.1.1   \n",
       "SRR21719160                                        NaN   \n",
       "ERR4760005                                         NaN   \n",
       "...                                                ...   \n",
       "ERR10839902            9424-19326|BQ.1,21810-27915|XCE   \n",
       "ERR10839848        405-18583|BJ.1,20741-29118|CH.1.1.2   \n",
       "SRR23358540  2954-11750|BQ.1.1.78,12160-28681|CH.1.1.2   \n",
       "ERR10931828  1545-19886|CH.1.1.1,21811-25721|CH.1.1.17   \n",
       "ERR10921923  1545-20741|BQ.1.1.29,22001-28681|CH.1.1.1   \n",
       "\n",
       "                                                 substitutions  genome_length  \\\n",
       "sample_id                                                                       \n",
       "ERR4437465   C8782T|A;C14408T,A20268G,A23403G|B.1;C850T,C64...          29903   \n",
       "ERR4615866   C222T,T445C,C6286T|B.1.177;C21855T,A23403G,A25...          29903   \n",
       "ERR4671078   C4543T,G5629T,G9526T,C11497T,G13993T,C14408T,G...          29903   \n",
       "SRR21719160  C241T,C1059T,C3037T,C14408T,A22320G,A23403G,G2...          29903   \n",
       "ERR4760005   G204T,C241T,T445C,C3037T,C6286T,C7926T,C9745T,...          29903   \n",
       "...                                                        ...            ...   \n",
       "ERR10839902  A9424G,C11750T,G12160A,T14257C,G16935A|BQ.1;T2...          29903   \n",
       "ERR10839848  A405G,C15738T,T15939C,T16342C,T17859C|BJ.1;A20...          29903   \n",
       "SRR23358540  T2954C,C11750T|BQ.1.1.78;A12444G,C12880T,C1440...          29903   \n",
       "ERR10931828  C1545T,C2790T,C3037T,C3796T,C3857A,C3927T,G418...          29903   \n",
       "ERR10921923  C1931A,T2954C,G7850A,T11374C,C11750T,G12160A,T...          29903   \n",
       "\n",
       "            dataset_name  dataset_tag cli_version rebar_status  high_quality  \n",
       "sample_id                                                                     \n",
       "ERR4437465    sars-cov-2   2025-01-28       0.2.0        novel          True  \n",
       "ERR4615866    sars-cov-2   2025-01-28       0.2.0        novel          True  \n",
       "ERR4671078    sars-cov-2   2025-01-28       0.2.0        novel          True  \n",
       "SRR21719160   sars-cov-2   2025-01-28       0.2.0          not          True  \n",
       "ERR4760005    sars-cov-2   2025-01-28       0.2.0          not          True  \n",
       "...                  ...          ...         ...          ...           ...  \n",
       "ERR10839902   sars-cov-2   2025-01-28       0.2.0        known          True  \n",
       "ERR10839848   sars-cov-2   2025-01-28       0.2.0        known          True  \n",
       "SRR23358540   sars-cov-2   2025-01-28       0.2.0        novel          True  \n",
       "ERR10931828   sars-cov-2   2025-01-28       0.2.0        novel          True  \n",
       "ERR10921923   sars-cov-2   2025-01-28       0.2.0        novel          True  \n",
       "\n",
       "[385 rows x 61 columns]"
      ]
     },
     "execution_count": 12,
     "metadata": {},
     "output_type": "execute_result"
    }
   ],
   "source": [
    "df_hq = dfj[dfj.high_quality]\n",
    "df_hq"
   ]
  },
  {
   "cell_type": "code",
   "execution_count": 13,
   "id": "9a97e47a-73e7-4ac0-b620-c6e043628c56",
   "metadata": {},
   "outputs": [
    {
     "data": {
      "text/plain": [
       "recombinant_rebar\n",
       "NaN      171\n",
       "novel    149\n",
       "XM         7\n",
       "XS         6\n",
       "XAS        6\n",
       "XAN        5\n",
       "XAB        4\n",
       "XAP        4\n",
       "XY         3\n",
       "XAJ        3\n",
       "XA         3\n",
       "XG         2\n",
       "XBM        2\n",
       "XBD        2\n",
       "XF         1\n",
       "XC         1\n",
       "XL         1\n",
       "XQ         1\n",
       "XJ         1\n",
       "XAR        1\n",
       "XE         1\n",
       "XAF        1\n",
       "XW         1\n",
       "XU         1\n",
       "XBG        1\n",
       "XBH        1\n",
       "XBE        1\n",
       "XBB        1\n",
       "XBR        1\n",
       "XBF        1\n",
       "XCE        1\n",
       "XCT        1\n",
       "Name: count, dtype: int64"
      ]
     },
     "execution_count": 13,
     "metadata": {},
     "output_type": "execute_result"
    }
   ],
   "source": [
    "df_hq[\"recombinant_rebar\"].value_counts(dropna=False)"
   ]
  },
  {
   "cell_type": "markdown",
   "id": "c60bb8f6-88e8-47aa-b177-91342f0d1d29",
   "metadata": {},
   "source": [
    "FIXME The notebook doesn't run from this point on - it wasn't in a running state when previously committed and it looks like there's a lot of duplicated code here in terms of comparing with other methods\n",
    "\n",
    "\n",
    "### Disagreement"
   ]
  },
  {
   "cell_type": "code",
   "execution_count": 14,
   "id": "edd41e64-b3e0-4d60-aaab-ae5bf7670450",
   "metadata": {},
   "outputs": [
    {
     "ename": "NameError",
     "evalue": "name 'df_nonrecomb' is not defined",
     "output_type": "error",
     "traceback": [
      "\u001b[0;31m---------------------------------------------------------------------------\u001b[0m",
      "\u001b[0;31mNameError\u001b[0m                                 Traceback (most recent call last)",
      "Cell \u001b[0;32mIn[14], line 4\u001b[0m\n\u001b[1;32m      1\u001b[0m \u001b[38;5;66;03m# TODO: Revisit.\u001b[39;00m\n\u001b[1;32m      2\u001b[0m \u001b[38;5;28;01mimport\u001b[39;00m \u001b[38;5;21;01mcopy\u001b[39;00m\n\u001b[0;32m----> 4\u001b[0m \u001b[43mdf_nonrecomb\u001b[49m[\n\u001b[1;32m      5\u001b[0m   (df_nonrecomb[\u001b[38;5;124m\"\u001b[39m\u001b[38;5;124mnum_mutations\u001b[39m\u001b[38;5;124m\"\u001b[39m] \u001b[38;5;241m>\u001b[39m\u001b[38;5;241m=\u001b[39m \u001b[38;5;241m3\u001b[39m) \u001b[38;5;241m&\u001b[39m (df_nonrecomb[\u001b[38;5;124m\"\u001b[39m\u001b[38;5;124mparent_left_pango\u001b[39m\u001b[38;5;124m\"\u001b[39m] \u001b[38;5;241m!=\u001b[39m df_nonrecomb[\u001b[38;5;124m\"\u001b[39m\u001b[38;5;124mparent_right_pango\u001b[39m\u001b[38;5;124m\"\u001b[39m])\n\u001b[1;32m      6\u001b[0m ][[\u001b[38;5;124m\"\u001b[39m\u001b[38;5;124mparent_left_pango\u001b[39m\u001b[38;5;124m\"\u001b[39m, \u001b[38;5;124m\"\u001b[39m\u001b[38;5;124mparent_right_pango\u001b[39m\u001b[38;5;124m\"\u001b[39m]]\n\u001b[1;32m      8\u001b[0m is_rebar_candidate \u001b[38;5;241m=\u001b[39m [\u001b[38;5;28;01mFalse\u001b[39;00m \u001b[38;5;28;01mfor\u001b[39;00m _ \u001b[38;5;129;01min\u001b[39;00m \u001b[38;5;28mrange\u001b[39m(\u001b[38;5;241m0\u001b[39m, \u001b[38;5;28mlen\u001b[39m(df_nonrecomb))]\n\u001b[1;32m      9\u001b[0m \u001b[38;5;28;01mfor\u001b[39;00m i,data \u001b[38;5;129;01min\u001b[39;00m \u001b[38;5;28menumerate\u001b[39m(df_nonrecomb\u001b[38;5;241m.\u001b[39miterrows()):\n",
      "\u001b[0;31mNameError\u001b[0m: name 'df_nonrecomb' is not defined"
     ]
    }
   ],
   "source": [
    "# TODO: Revisit.\n",
    "import copy\n",
    "\n",
    "df_nonrecomb[\n",
    "  (df_nonrecomb[\"num_mutations\"] >= 3) & (df_nonrecomb[\"parent_left_pango\"] != df_nonrecomb[\"parent_right_pango\"])\n",
    "][[\"parent_left_pango\", \"parent_right_pango\"]]\n",
    "\n",
    "is_rebar_candidate = [False for _ in range(0, len(df_nonrecomb))]\n",
    "for i,data in enumerate(df_nonrecomb.iterrows()):\n",
    "    index, row = data\n",
    "    if row[\"num_mutations\"] < 3: continue\n",
    "    # Check for equivalent or sister taxa\n",
    "    p1, p2 = row[\"parent_left_pango\"], row[\"parent_right_pango\"]\n",
    "    if p1 == p2: continue\n",
    "    anc, desc = pangonet.get_ancestors(p1), pangonet.get_descendants(p1)\n",
    "    if p2 in anc or p2 in desc: continue         \n",
    "    is_rebar_candidate[i] = True\n",
    "\n",
    "df_nonrecomb[\"is_rebar_candidate\"] = is_rebar_candidate\n",
    "df_nonrecomb[df_nonrecomb[\"is_rebar_candidate\"]][[\"parent_left_pango\", \"parent_right_pango\", \"num_mutations\"]]"
   ]
  },
  {
   "cell_type": "markdown",
   "id": "44999b50-6a1a-4ba0-a959-167dd538d9f4",
   "metadata": {},
   "source": [
    "### Compare parent Pango identities"
   ]
  },
  {
   "cell_type": "code",
   "execution_count": null,
   "id": "e8772b32",
   "metadata": {},
   "outputs": [],
   "source": [
    "df_recomb = df_recomb\\\n",
    "    .assign(parent_left_rebar = [x.split(\",\")[0] for x in df_recomb[\"parents\"]])\\\n",
    "    .assign(parent_right_rebar = [x.split(\",\")[1] for x in df_recomb[\"parents\"]])\\\n",
    "    .assign(breakpoint_left_rebar = [int(x.split(\"-\")[0]) for x in df_recomb[\"breakpoints\"]])\\\n",
    "    .assign(breakpoint_right_rebar = [int(x.split(\"-\")[1]) for x in df_recomb[\"breakpoints\"]])"
   ]
  },
  {
   "cell_type": "code",
   "execution_count": null,
   "id": "df9fe240-04e9-4263-aab3-2fb12d3ec9be",
   "metadata": {},
   "outputs": [],
   "source": [
    "is_parents_concordant = np.zeros(len(df_recomb), dtype=bool)\n",
    "i = 0\n",
    "for index, row in df_recomb.iterrows():\n",
    "    concordant_count = 0\n",
    "    for p in [\"left\", \"right\"]:\n",
    "        p_rebar = row[f\"parent_{p}_rebar\"]\n",
    "        anc_rebar = pangonet.get_ancestors(p_rebar)\n",
    "        desc_rebar = pangonet.get_descendants(p_rebar)\n",
    "        p_sc2ts = row[f\"parent_{p}_pango\"]\n",
    "\n",
    "        concordant = (p_rebar == p_sc2ts) or \\\n",
    "            (p_sc2ts in anc_rebar) or \\\n",
    "            (p_sc2ts in desc_rebar)\n",
    "        # TBD: We could put a distance check here to make sure they're not\n",
    "        # extremely distant related.\n",
    "        concordant_count += 1 if concordant else 0\n",
    "\n",
    "    # If both parents are concordant\n",
    "    if concordant_count == 2:\n",
    "        is_parents_concordant[i] = 1\n",
    "    i +=1\n",
    "df_recomb = df_recomb.assign(is_parents_concordant = is_parents_concordant)"
   ]
  },
  {
   "cell_type": "code",
   "execution_count": null,
   "id": "db952228-aebd-4998-a3a9-a0345fb70771",
   "metadata": {},
   "outputs": [],
   "source": [
    "num_concordant = len(df_recomb[df_recomb['is_parents_concordant']])\n",
    "perc_concordant = round((num_concordant / len(df_recomb) ) * 100, 1)\n",
    "print(f\"Concordant Parents: {num_concordant}/{len(df_recomb)} ({perc_concordant}%)\")"
   ]
  },
  {
   "cell_type": "code",
   "execution_count": null,
   "id": "7a216dbc",
   "metadata": {},
   "outputs": [],
   "source": [
    "pd.set_option('display.max_rows', 100)\n",
    "df_recomb.loc[\n",
    "    ~df_recomb[\"is_parents_concordant\"],\n",
    "    [\n",
    "        \"descendants\",\n",
    "        \"sample_pango\",\n",
    "        \"parent_left_pango\",    # sc2ts\n",
    "        \"parent_left_rebar\",\n",
    "        \"parent_right_pango\",   # sc2ts\n",
    "        \"parent_right_rebar\",\n",
    "    ]\n",
    "]"
   ]
  },
  {
   "cell_type": "markdown",
   "id": "1e15cce1-b02f-403e-bd69-66cea794f387",
   "metadata": {},
   "source": [
    "### Compare breakpoint intervals"
   ]
  },
  {
   "cell_type": "code",
   "execution_count": null,
   "id": "171bb349",
   "metadata": {},
   "outputs": [],
   "source": [
    "# TODO: Refactor and move to utils.\n",
    "def overlap_breakpoint_intervals(*, rebar_interval, sc2ts_interval):\n",
    "    assert rebar_interval[0] < rebar_interval[1]\n",
    "    assert sc2ts_interval[0] < sc2ts_interval[1]\n",
    "    # NOTE: rebar reports closed intervals spanning regions ambiguously assigned to parents.\n",
    "    # Adjust the rebar coordinates so they are comparable to sc2ts.\n",
    "    rebar_interval_adj = (rebar_interval[0] - 1, rebar_interval[1] + 1)\n",
    "    rebar_size = rebar_interval_adj[1] - rebar_interval_adj[0]\n",
    "    sc2ts_size = sc2ts_interval[1] - sc2ts_interval[0]\n",
    "    def _get_overlap(a, b):\n",
    "        return max(0, min(a[1], b[1]) - max(a[0], b[0]))\n",
    "    overlap_size = _get_overlap(a=rebar_interval_adj, b=sc2ts_interval)\n",
    "    is_overlap_with_rebar = overlap_size > 0\n",
    "    overlap_rebar_size_ratio = overlap_size / rebar_size\n",
    "    sc2ts_rebar_size_ratio = sc2ts_size / rebar_size\n",
    "    interval_distance = max(\n",
    "        0,\n",
    "        max(\n",
    "            rebar_interval_adj[0] - sc2ts_interval[1],\n",
    "            sc2ts_interval[0] - rebar_interval_adj[1],\n",
    "        )\n",
    "    )\n",
    "    return (\n",
    "        is_overlap_with_rebar,\n",
    "        overlap_rebar_size_ratio,\n",
    "        sc2ts_rebar_size_ratio,\n",
    "        interval_distance,\n",
    "    )\n",
    "\n",
    "\n",
    "is_overlap_with_rebar = np.zeros(len(df_recomb), dtype=bool)\n",
    "overlap_rebar_size_ratio = np.zeros(len(df_recomb), dtype=np.float32)\n",
    "sc2ts_rebar_size_ratio = np.zeros(len(df_recomb), dtype=np.float32)\n",
    "interval_distance = np.zeros(len(df_recomb), dtype=np.float32)\n",
    "\n",
    "i = 0\n",
    "for index, row in df_recomb.iterrows():\n",
    "    (\n",
    "        is_overlap_with_rebar[i], \n",
    "        overlap_rebar_size_ratio[i], \n",
    "        sc2ts_rebar_size_ratio[i],\n",
    "        interval_distance[i],\n",
    "    ) = overlap_breakpoint_intervals(\n",
    "        rebar_interval=(row[\"breakpoint_left_rebar\"], row[\"breakpoint_right_rebar\"]),\n",
    "        sc2ts_interval=(row[\"interval_left\"], row[\"interval_right\"]),\n",
    "    )\n",
    "    i += 1\n",
    "\n",
    "df_recomb = df_recomb\\\n",
    "    .assign(is_overlap_with_rebar = is_overlap_with_rebar)\\\n",
    "    .assign(overlap_rebar_size_ratio = overlap_rebar_size_ratio)\\\n",
    "    .assign(sc2ts_rebar_size_ratio = sc2ts_rebar_size_ratio)\\\n",
    "    .assign(interval_distance = interval_distance)\n",
    "\n",
    "df_recomb[\n",
    "    [\n",
    "        \"interval_left\",\n",
    "        \"interval_right\",\n",
    "        \"breakpoint_left_rebar\",\n",
    "        \"breakpoint_right_rebar\",\n",
    "        \"is_overlap_with_rebar\",\n",
    "    ]\n",
    "]"
   ]
  },
  {
   "cell_type": "code",
   "execution_count": null,
   "id": "09948367-d0e7-4c0c-9dc8-45a698d8d1b2",
   "metadata": {},
   "outputs": [],
   "source": [
    "num_concordant = len(df_recomb[df_recomb['is_overlap_with_rebar']])\n",
    "perc_concordant = round((num_concordant / len(df_recomb) ) * 100, 1)\n",
    "print(f\"Concordant Breakpoints: {num_concordant}/{len(df_recomb)} ({perc_concordant}%)\")"
   ]
  },
  {
   "cell_type": "code",
   "execution_count": null,
   "id": "80062211",
   "metadata": {},
   "outputs": [],
   "source": [
    "# TODO: Refactor and move to utils.\n",
    "def plot_breakpoint_interval_properties(df, title):\n",
    "    fig, ax = plt.subplots(nrows=1, ncols=3, figsize=(12, 2))\n",
    "    fig.suptitle(title)\n",
    "    ax[0].set_ylabel(\"Number of recombinants\")\n",
    "    ax[0].set_xlabel(\"Interval overlap size / rebar interval size\")\n",
    "    ax[0].hist(df[\"overlap_rebar_size_ratio\"], bins=30)\n",
    "    ax[1].set_xlabel(\"sc2ts interval size / rebar interval size\")\n",
    "    ax[1].hist(df[\"sc2ts_rebar_size_ratio\"], bins=30)\n",
    "    ax[2].set_xlabel(\"Distance between intervals\")\n",
    "    ax[2].hist(df[\"interval_distance\"], bins=30, log=True);"
   ]
  },
  {
   "cell_type": "code",
   "execution_count": null,
   "id": "ac5dff6d",
   "metadata": {},
   "outputs": [],
   "source": [
    "plot_breakpoint_interval_properties(df_recomb, title=\"Breakpoint intervals: All recombinants\")"
   ]
  },
  {
   "cell_type": "code",
   "execution_count": null,
   "id": "2c4ccb19",
   "metadata": {},
   "outputs": [],
   "source": [
    "plot_breakpoint_interval_properties(\n",
    "    df_recomb[df_recomb[\"recombinant_rebar\"] == \"novel\"],\n",
    "    title=\"Breakpoint intervals: Novel recombinants\",\n",
    ")"
   ]
  },
  {
   "cell_type": "code",
   "execution_count": null,
   "id": "c909877c",
   "metadata": {},
   "outputs": [],
   "source": [
    "plot_breakpoint_interval_properties(\n",
    "    df_recomb[df_recomb[\"recombinant_rebar\"] != \"novel\"],\n",
    "    title=\"Breakpoint intervals: Known recombinants\",\n",
    ")"
   ]
  },
  {
   "cell_type": "code",
   "execution_count": null,
   "id": "a84dcbbf",
   "metadata": {},
   "outputs": [],
   "source": [
    "# Cases where the breakpoint intervals do not overlap.\n",
    "df_recomb.loc[\n",
    "    ~df_recomb[\"is_overlap_with_rebar\"],\n",
    "    [\n",
    "        \"sample_pango\",\n",
    "        \"recombinant_rebar\",\n",
    "        \"descendants\",\n",
    "        \"interval_left\",\n",
    "        \"interval_right\",\n",
    "        \"breakpoint_left_rebar\",\n",
    "        \"breakpoint_right_rebar\",\n",
    "        \"overlap_rebar_size_ratio\",\n",
    "        \"sc2ts_rebar_size_ratio\",\n",
    "        \"interval_distance\",\n",
    "    ]\n",
    "].sort_values(by=\"recombinant_rebar\")"
   ]
  },
  {
   "cell_type": "markdown",
   "id": "25e32529",
   "metadata": {},
   "source": [
    "### Explore sensitivity between sc2ts and rebar"
   ]
  },
  {
   "cell_type": "code",
   "execution_count": null,
   "id": "66bf5ab7-b08b-467c-8f9f-fbb9a36a95c4",
   "metadata": {},
   "outputs": [],
   "source": [
    "node_dist = []\n",
    "for i, row in df_hq.iterrows():\n",
    "    if row[\"parent_left_pango\"] == \"Unknown (R)\" or row[\"parent_right_pango\"] == \"Unknown (R)\":\n",
    "        node_dist.append(-1)\n",
    "        continue\n",
    "    if row[\"parent_left_pango\"].startswith(\"X\") or row[\"parent_right_pango\"].startswith(\"X\"):\n",
    "        node_dist.append(-1)\n",
    "        continue\n",
    "    d = nb_utils.get_pangonet_distance(\n",
    "        pangonet=pangonet,\n",
    "        label_1=row[\"parent_left_pango\"],\n",
    "        label_2=row[\"parent_right_pango\"],\n",
    "    )\n",
    "    node_dist.append(d)"
   ]
  },
  {
   "cell_type": "code",
   "execution_count": null,
   "id": "a90da1a9",
   "metadata": {},
   "outputs": [],
   "source": [
    "# Exclude these cases.\n",
    "len([x for x in node_dist if x == -1])"
   ]
  },
  {
   "cell_type": "code",
   "execution_count": null,
   "id": "586d073a",
   "metadata": {},
   "outputs": [],
   "source": [
    "df_hq_nd = df_hq.assign(node_distance=node_dist)\n",
    "df_hq_nd = df_hq_nd[df_hq_nd[\"node_distance\"] >= 0]\n",
    "df_hq_nd.head(1)"
   ]
  },
  {
   "cell_type": "code",
   "execution_count": null,
   "id": "6b707139",
   "metadata": {},
   "outputs": [],
   "source": [
    "recomb_nd = df_hq_nd[~df_hq_nd[\"recombinant_rebar\"].isna()].node_distance\n",
    "nonrecomb_nd = df_hq_nd[df_hq_nd[\"recombinant_rebar\"].isna()].node_distance\n",
    "\n",
    "fig, ax = plt.subplots(1, 1, figsize=(8, 3))\n",
    "nb_utils.draw_stacked_histogram(\n",
    "    a=recomb_nd,\n",
    "    b=nonrecomb_nd,\n",
    "    ax=ax,\n",
    "    alegend='Recombinant as per rebar',\n",
    "    blegend='Non-recombinant as per rebar',\n",
    "    xlabel='pangonet distance between sc2ts-identified parents',\n",
    "    ylabel='Count of recombination nodes',\n",
    "    xlim=[0, 20],\n",
    ");"
   ]
  },
  {
   "cell_type": "markdown",
   "id": "b1029726",
   "metadata": {},
   "source": [
    "### Explore relationship with number of averted mutations"
   ]
  },
  {
   "cell_type": "code",
   "execution_count": null,
   "id": "e74ec420",
   "metadata": {},
   "outputs": [],
   "source": [
    "is_rebar_recomb = df_hq[\"recombinant_rebar\"].isna()\n",
    "rebar_nonrecomb = df_hq[is_rebar_recomb].num_mutations_averted\n",
    "rebar_recomb = df_hq[~is_rebar_recomb].num_mutations_averted\n",
    "\n",
    "fig, ax = plt.subplots(1, 1, figsize=(8, 3))\n",
    "nb_utils.draw_stacked_histogram(\n",
    "    a=rebar_recomb,\n",
    "    b=rebar_nonrecomb,\n",
    "    ax=ax,\n",
    "    alegend='Recombinant as per rebar',\n",
    "    blegend='Non-recombinant as per rebar',\n",
    "    xlabel='Number of averted mutations',\n",
    "    ylabel='Count of recombinants',\n",
    "    xlim=[4, 25],\n",
    ");"
   ]
  },
  {
   "cell_type": "markdown",
   "id": "56b9d526",
   "metadata": {},
   "source": [
    "## Summary\n",
    "\n",
    "### Recombinants\n",
    "\n",
    "- There are 213 recombinants detected by both `rebar` and `sc2ts`.\n",
    "- 182/213 (85.4%) have concordant parents, based on a non-sister taxa relationship.\n",
    "- 201/213 (94.4%) have overlapping breakpoints.\n",
    "- Parents that are not concordant tend to be close sister taxa (ex. `BA.5.2.21` vs. `BA.5.2.6`).\n",
    "\n",
    "### Non-Recombinants\n",
    "\n",
    "- There are 355 recombinants detected by `sc2ts` but not `rebar`.\n",
    "- Only 23/355 are rebar candidates (based on number of mutations, parents as sister taxa)."
   ]
  },
  {
   "cell_type": "markdown",
   "id": "d0a3cb45",
   "metadata": {},
   "source": []
  }
 ],
 "metadata": {
  "kernelspec": {
   "display_name": "Python 3 (ipykernel)",
   "language": "python",
   "name": "python3"
  },
  "language_info": {
   "codemirror_mode": {
    "name": "ipython",
    "version": 3
   },
   "file_extension": ".py",
   "mimetype": "text/x-python",
   "name": "python",
   "nbconvert_exporter": "python",
   "pygments_lexer": "ipython3",
   "version": "3.10.12"
  }
 },
 "nbformat": 4,
 "nbformat_minor": 5
}
