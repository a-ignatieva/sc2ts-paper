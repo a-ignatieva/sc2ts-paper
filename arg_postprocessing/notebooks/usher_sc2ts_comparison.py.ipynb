{
 "cells": [
  {
   "cell_type": "code",
   "execution_count": null,
   "id": "c78381d1-f987-47f6-8d78-17629f8af407",
   "metadata": {},
   "outputs": [],
   "source": [
    "import pandas as pd\n",
    "import sc2ts\n",
    "import tszip\n",
    "import numpy as np\n",
    "import matplotlib.pyplot as plt"
   ]
  },
  {
   "cell_type": "code",
   "execution_count": null,
   "id": "66a52a33-de74-481e-b6c0-fba244ef7c32",
   "metadata": {},
   "outputs": [],
   "source": [
    "tsu = tszip.load(snakemake.input[0])\n",
    "tsup = tszip.load(snakemake.input[1])\n",
    "dfup = pd.read_csv(snakemake.input[2], index_col=0)"
   ]
  },
  {
   "cell_type": "code",
   "execution_count": null,
   "id": "eb3e805e-3a7e-441e-ba7c-51f6ecff2eda",
   "metadata": {},
   "outputs": [],
   "source": [
    "tss = tszip.load(snakemake.input[3])\n",
    "tssp = tszip.load(snakemake.input[4])\n",
    "dfsp = pd.read_csv(snakemake.input[5], index_col=0)"
   ]
  },
  {
   "cell_type": "markdown",
   "id": "7d37bb89-7509-4d18-82c8-50d9d9ed990c",
   "metadata": {},
   "source": [
    "# Base ARGs\n",
    "\n",
    "Comparison of the two base ARGs (tsu is Usher, tss is sc2ts)"
   ]
  },
  {
   "cell_type": "code",
   "execution_count": null,
   "id": "b0f585db-85e5-405c-b883-67472ec025c5",
   "metadata": {},
   "outputs": [],
   "source": [
    "tsu"
   ]
  },
  {
   "cell_type": "code",
   "execution_count": null,
   "id": "11e3b430-0168-4ebc-a9e1-bdd890f450ea",
   "metadata": {},
   "outputs": [],
   "source": [
    "tss"
   ]
  },
  {
   "cell_type": "code",
   "execution_count": null,
   "id": "23a3db49-d894-4d9a-b574-105cb78ca69f",
   "metadata": {},
   "outputs": [],
   "source": [
    "data = []\n",
    "for name, ts in [(\"usher\", tsu), (\"sc2ts\", tss)]:\n",
    "    data.append({\n",
    "        \"name\": name,\n",
    "        \"trees\": ts.num_trees,\n",
    "        \"nodes\": ts.num_nodes,\n",
    "        \"edges\": ts.num_edges,\n",
    "        \"mutations\": ts.num_mutations,\n",
    "        \"samples\": ts.num_samples,\n",
    "    })\n",
    "pd.DataFrame(data)"
   ]
  },
  {
   "cell_type": "code",
   "execution_count": null,
   "id": "00c15416-7409-4fe6-a706-c76d8e333b37",
   "metadata": {},
   "outputs": [],
   "source": [
    "assert tsu.reference_sequence.metadata == tss.reference_sequence.metadata\n",
    "assert tsu.reference_sequence.data == tss.reference_sequence.data\n"
   ]
  },
  {
   "cell_type": "code",
   "execution_count": null,
   "id": "3e5b5966-065e-4cc4-a09b-98bfc44bc0d5",
   "metadata": {},
   "outputs": [],
   "source": [
    "diff = tss.num_mutations - tsu.num_mutations\n",
    "diff"
   ]
  },
  {
   "cell_type": "code",
   "execution_count": null,
   "id": "d27e7b0f-9b2f-4786-b4db-3f6653286a7f",
   "metadata": {},
   "outputs": [],
   "source": [
    "f\"Difference in mutations = {diff /  tss.num_mutations:.2%}\""
   ]
  },
  {
   "cell_type": "markdown",
   "id": "6a6c95b9-f24a-4bb3-8514-a7daaf86f721",
   "metadata": {},
   "source": [
    "The differences are not uniform along the genome, with sc2ts having significantly more mutations at a handful of positions"
   ]
  },
  {
   "cell_type": "code",
   "execution_count": null,
   "id": "1e560b00-73b9-4ac8-9a60-349cc5b4d134",
   "metadata": {},
   "outputs": [],
   "source": [
    "_, ax = plt.subplots(1, figsize=(16, 4))\n",
    "ax.plot(dfup.site, dfsp.old - dfup.old) \n",
    "ax.set_ylabel(\"Difference between mutation counts\")"
   ]
  },
  {
   "cell_type": "code",
   "execution_count": null,
   "id": "640d9eae-45be-45d6-aa7f-a56a07e4d63e",
   "metadata": {},
   "outputs": [],
   "source": [
    "diff = tsu.num_nodes - tss.num_nodes\n",
    "diff"
   ]
  },
  {
   "cell_type": "code",
   "execution_count": null,
   "id": "547323db-ca21-4579-a7a8-c5c26e6e1f87",
   "metadata": {},
   "outputs": [],
   "source": [
    "f\"Difference in nodes = {diff /  tsu.num_nodes:.2%}\""
   ]
  },
  {
   "cell_type": "markdown",
   "id": "d8ff11ab-a673-494e-9b6f-dc3ca347e79a",
   "metadata": {},
   "source": [
    "There is a significant difference in the number of nodes, although this is at least partially explained by sc2ts allowing samples to be internal:"
   ]
  },
  {
   "cell_type": "code",
   "execution_count": null,
   "id": "eb1ac653-1ee9-466b-8b0b-094749ea233d",
   "metadata": {},
   "outputs": [],
   "source": [
    "tree = tsu.first()\n",
    "np.sum(tree.num_children_array[tsu.samples()] > 0)"
   ]
  },
  {
   "cell_type": "code",
   "execution_count": null,
   "id": "dfce35ae-5a1e-46a4-9469-8f128b363a9d",
   "metadata": {},
   "outputs": [],
   "source": [
    "tree = tss.first()\n",
    "np.sum(tree.num_children_array[tss.samples()] > 0)"
   ]
  },
  {
   "cell_type": "code",
   "execution_count": null,
   "id": "10ada1fd-a09d-4e00-8510-827ee894414a",
   "metadata": {},
   "outputs": [],
   "source": []
  },
  {
   "cell_type": "markdown",
   "id": "4e8e9153-bb50-4aff-a84f-30df5416ba5e",
   "metadata": {},
   "source": [
    "# All sites parsimony ARGs\n",
    "\n",
    "Comparison of the ARGs we get when we map all the deletions back on (only changes mutations)"
   ]
  },
  {
   "cell_type": "code",
   "execution_count": null,
   "id": "63c282a0-27e7-4456-8cf3-80f694ba0190",
   "metadata": {},
   "outputs": [],
   "source": [
    "tsup.num_mutations"
   ]
  },
  {
   "cell_type": "code",
   "execution_count": null,
   "id": "af78fc20-1d46-46a0-b54c-91217213491a",
   "metadata": {},
   "outputs": [],
   "source": [
    "tssp.num_mutations"
   ]
  },
  {
   "cell_type": "code",
   "execution_count": null,
   "id": "eb99669f-89fa-444a-8f8a-dc1027b5be4e",
   "metadata": {},
   "outputs": [],
   "source": [
    "diff = tssp.num_mutations - tsup.num_mutations\n",
    "diff"
   ]
  },
  {
   "cell_type": "code",
   "execution_count": null,
   "id": "f1746e71-3574-4f80-bb1c-867a545cfc82",
   "metadata": {},
   "outputs": [],
   "source": [
    "f\"Difference in mutations = {diff /  tssp.num_mutations:.2%}\""
   ]
  },
  {
   "cell_type": "markdown",
   "id": "0721ea4c-e198-4e85-b379-765200de001d",
   "metadata": {},
   "source": [
    "There is a significant difference between the two - what is this driven by? Let's look at the parsimony reports"
   ]
  },
  {
   "cell_type": "code",
   "execution_count": null,
   "id": "4bea76bf-38ef-44b9-8d4c-f87cff3acf64",
   "metadata": {},
   "outputs": [],
   "source": [
    "dfup"
   ]
  },
  {
   "cell_type": "code",
   "execution_count": null,
   "id": "9e714a96-18ad-449f-ac9f-04352f19ed02",
   "metadata": {},
   "outputs": [],
   "source": [
    "dfsp"
   ]
  },
  {
   "cell_type": "code",
   "execution_count": null,
   "id": "5b778cf1-1774-4e18-9628-63f74cf2151a",
   "metadata": {},
   "outputs": [],
   "source": [
    "data = []\n",
    "for name, df in [(\"sc2ts\", dfsp), (\"usher\", dfup)]:\n",
    "    data.append({\n",
    "        \"name\": name,\n",
    "        \"identical\": np.sum(df.old == df.new),\n",
    "        \"exact_inter\": np.sum(df.old == df.intersection),\n",
    "        \"exact_inter10\": np.sum((df.old == df.intersection) & (df.new - df.old < 10)),\n",
    "        \"exact_inter100\": np.sum((df.old == df.intersection) & (df.new - df.old < 100)),\n",
    "    })\n",
    "pd.DataFrame(data)"
   ]
  },
  {
   "cell_type": "markdown",
   "id": "24c2b352-8a6c-48ba-bbc2-33cb7bca650b",
   "metadata": {},
   "source": [
    "A large majority of the sites are identical before and after remapping with parsimony, and about 25k sites recapture the existing mutations exactly with small number of additional mutations.\n",
    "\n",
    "The differences seem to be from a small number of sites doing very badly. If we plot the number of remapped mutations in sc2ts vs usher along the genome."
   ]
  },
  {
   "cell_type": "code",
   "execution_count": null,
   "id": "0e257d1e-e67a-4aa0-a6c5-0ab505dd4455",
   "metadata": {},
   "outputs": [],
   "source": [
    "_, ax = plt.subplots(1, figsize=(16, 4))\n",
    "ax.plot(dfup.site, dfsp.new - dfup.new) \n",
    "ax.set_ylabel(\"Difference between remapped mutation counts\")\n",
    "ax.set_ylim((-2000, 2000));"
   ]
  },
  {
   "cell_type": "markdown",
   "id": "11e1ef86-877a-401b-a606-0b257f4d05f9",
   "metadata": {},
   "source": [
    "Sc2ts seems to do particularly badly in the righthand flank, which accounts for a large fraction of the excess mutations"
   ]
  },
  {
   "cell_type": "code",
   "execution_count": null,
   "id": "81fcd512-70c6-4e87-91c4-d9404f4a63a8",
   "metadata": {},
   "outputs": [],
   "source": [
    "dfsp[dfsp.site > 29600]"
   ]
  },
  {
   "cell_type": "code",
   "execution_count": null,
   "id": "9db38e6f-8af3-4146-9fe7-b9f234f962ac",
   "metadata": {},
   "outputs": [],
   "source": [
    "dfsp[dfsp.site > 29600].new.sum() - dfup[dfup.site > 29600].new.sum()"
   ]
  },
  {
   "cell_type": "markdown",
   "id": "e362fd07-def6-4da0-acdb-072411c12173",
   "metadata": {},
   "source": [
    "Usher seems to do badly in one particular place:"
   ]
  },
  {
   "cell_type": "code",
   "execution_count": null,
   "id": "d10838c8-ddf8-4722-a415-589320e470be",
   "metadata": {},
   "outputs": [],
   "source": [
    "diffs = dfsp.new - dfup.new\n",
    "dfup[diffs < -1000]"
   ]
  }
 ],
 "metadata": {
  "kernelspec": {
   "display_name": "Python 3 (ipykernel)",
   "language": "python",
   "name": "python3"
  },
  "language_info": {
   "codemirror_mode": {
    "name": "ipython",
    "version": 3
   },
   "file_extension": ".py",
   "mimetype": "text/x-python",
   "name": "python",
   "nbconvert_exporter": "python",
   "pygments_lexer": "ipython3",
   "version": "3.10.0"
  }
 },
 "nbformat": 4,
 "nbformat_minor": 5
}
