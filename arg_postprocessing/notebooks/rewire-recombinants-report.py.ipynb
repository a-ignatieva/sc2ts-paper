{
 "cells": [
  {
   "cell_type": "code",
   "execution_count": null,
   "id": "eb9b1a10-7d44-4f63-ac32-0816d732b5a8",
   "metadata": {},
   "outputs": [],
   "source": [
    "import sc2ts\n",
    "import json\n",
    "import pandas as pd\n",
    "import numpy as np\n",
    "import tszip"
   ]
  },
  {
   "cell_type": "code",
   "execution_count": null,
   "id": "c9d09d18-439b-4a6f-8df2-8f0971a92ad7",
   "metadata": {},
   "outputs": [],
   "source": [
    "rematch_data = snakemake.input[1]\n",
    "\n",
    "ts_in = tszip.load(snakemake.input[0])\n",
    "ts_out =  tszip.load(snakemake.input[2])\n",
    "\n",
    "records = {}\n",
    "with open(rematch_data) as f:\n",
    "    for d in json.load(f):\n",
    "        r = sc2ts.RematchRecombinantsLbsResult.fromdict(d)\n",
    "        records[r.recombinant] = r"
   ]
  },
  {
   "cell_type": "code",
   "execution_count": null,
   "id": "cf36335c-bbbc-46a8-ab1f-fd3c8ba5fdc5",
   "metadata": {},
   "outputs": [],
   "source": [
    "tree_in = ts_in.first()\n",
    "tree_out = ts_out.first()\n",
    "data = []\n",
    "for r in records.values():\n",
    "   \n",
    "    lbs = r.long_branch_split\n",
    "    hmm_match = None\n",
    "    if lbs is None:\n",
    "        assert len(r.recomb_match.path) == 1\n",
    "        hmm_match = r.recomb_match\n",
    "    elif len(lbs.hmm_match.parents) == 1:\n",
    "        hmm_match = lbs.hmm_match\n",
    "\n",
    "    if hmm_match is not None:\n",
    "        old_descendants = tree_in.num_samples(r.recombinant)\n",
    "        new_descendants = tree_out.num_samples(r.recombinant)\n",
    "        assert old_descendants == new_descendants\n",
    "        data.append({\n",
    "            \"recombinant\": r.recombinant,\n",
    "            \"num_descendant_samples\": old_descendants,\n",
    "            \"rewire_existing\": lbs is None,\n",
    "            \"original_muts\": len(r.original_match.mutations),\n",
    "            \"new_muts\": len(hmm_match.mutations),\n",
    "        })\n",
    "df = pd.DataFrame(data).set_index(\"recombinant\")\n",
    "df[\"muts_gained\"] = df[\"new_muts\"] - df[\"original_muts\"]\n",
    "df"
   ]
  },
  {
   "cell_type": "code",
   "execution_count": null,
   "id": "6ccb6ae3-510c-4fc8-96fa-aeb40cfcc146",
   "metadata": {},
   "outputs": [],
   "source": [
    "ts_in.num_trees, ts_out.num_trees"
   ]
  },
  {
   "cell_type": "code",
   "execution_count": null,
   "id": "84381493-807f-47a8-a686-4bff60f39669",
   "metadata": {},
   "outputs": [],
   "source": [
    "ts_out.num_mutations - ts_in.num_mutations"
   ]
  },
  {
   "cell_type": "code",
   "execution_count": null,
   "id": "c4d6b515-6686-4cef-83e9-a6b07f74662e",
   "metadata": {},
   "outputs": [],
   "source": [
    "ts_out.num_nodes - ts_in.num_nodes"
   ]
  },
  {
   "cell_type": "markdown",
   "id": "bc3f4be2-305e-4ac3-ae41-60106d803b98",
   "metadata": {},
   "source": [
    "# Rewire existing"
   ]
  },
  {
   "cell_type": "code",
   "execution_count": null,
   "id": "fa61d89f-f867-4e29-b75f-548bb00af59a",
   "metadata": {},
   "outputs": [],
   "source": [
    "df[\"rewire_existing\"].value_counts()"
   ]
  },
  {
   "cell_type": "code",
   "execution_count": null,
   "id": "a1c94a9a-8a58-4489-ad42-a23c6dc68647",
   "metadata": {},
   "outputs": [],
   "source": [
    "df_re = df[df[\"rewire_existing\"]]\n",
    "df_re"
   ]
  },
  {
   "cell_type": "code",
   "execution_count": null,
   "id": "57b8e315-ca9c-4e8b-9e10-8e102d1a7702",
   "metadata": {},
   "outputs": [],
   "source": [
    "df_re[\"muts_gained\"].value_counts()"
   ]
  },
  {
   "cell_type": "code",
   "execution_count": null,
   "id": "13c32af6-dc7c-406c-8b32-1572bf7a7be2",
   "metadata": {},
   "outputs": [],
   "source": [
    "df_re[\"muts_gained\"].sum()"
   ]
  },
  {
   "cell_type": "code",
   "execution_count": null,
   "id": "547b9e14-a85b-4a6d-b6c3-d698c9a6eee2",
   "metadata": {},
   "outputs": [],
   "source": [
    "df_re[\"num_descendant_samples\"].value_counts()"
   ]
  },
  {
   "cell_type": "code",
   "execution_count": null,
   "id": "92d419d1-8838-49a5-a666-804ac05f6080",
   "metadata": {},
   "outputs": [],
   "source": [
    "df_re[\"num_descendant_samples\"].median()"
   ]
  },
  {
   "cell_type": "code",
   "execution_count": null,
   "id": "4f6ef65f-3155-471c-9aeb-b26d3eabfbd7",
   "metadata": {},
   "outputs": [],
   "source": [
    "df_re[\"num_descendant_samples\"].sum()"
   ]
  },
  {
   "cell_type": "markdown",
   "id": "2b38f554-6a4a-4847-860b-8155c6902a54",
   "metadata": {},
   "source": [
    "# Rewire long branch splits"
   ]
  },
  {
   "cell_type": "code",
   "execution_count": null,
   "id": "04d1a0ce-a3f6-4466-8543-1091db723971",
   "metadata": {},
   "outputs": [],
   "source": [
    "df_lbs = df[~df[\"rewire_existing\"]]\n",
    "df_lbs"
   ]
  },
  {
   "cell_type": "code",
   "execution_count": null,
   "id": "7664a7a2-049f-4572-b828-205bd179020f",
   "metadata": {},
   "outputs": [],
   "source": [
    "df_lbs[\"muts_gained\"].value_counts()"
   ]
  },
  {
   "cell_type": "markdown",
   "id": "9fec88cb-5134-4275-999e-968b13deb322",
   "metadata": {},
   "source": [
    "## Look at majority first"
   ]
  },
  {
   "cell_type": "code",
   "execution_count": null,
   "id": "b672d705-dec8-4ea3-b6ee-05b27c3bc7b7",
   "metadata": {},
   "outputs": [],
   "source": [
    "df_lbs = df_lbs[df_lbs[\"muts_gained\"] >= 0]\n",
    "df_lbs"
   ]
  },
  {
   "cell_type": "code",
   "execution_count": null,
   "id": "205f6c11-85b1-46af-8ed5-e4a5a067bc3c",
   "metadata": {},
   "outputs": [],
   "source": [
    "df_lbs[\"muts_gained\"].value_counts()"
   ]
  },
  {
   "cell_type": "code",
   "execution_count": null,
   "id": "b4be3736-64a3-48b5-9c8c-d2cce71d5cdb",
   "metadata": {},
   "outputs": [],
   "source": [
    "df_lbs[\"muts_gained\"].sum()"
   ]
  },
  {
   "cell_type": "code",
   "execution_count": null,
   "id": "a94b13dc-d1f8-405b-bce9-567093a4f683",
   "metadata": {},
   "outputs": [],
   "source": [
    "df_lbs[\"num_descendant_samples\"].sum()"
   ]
  },
  {
   "cell_type": "markdown",
   "id": "fdbe7eae-6ce7-40f1-90ca-8e249dce247b",
   "metadata": {},
   "source": [
    "## Now the outliers"
   ]
  },
  {
   "cell_type": "code",
   "execution_count": null,
   "id": "9972ac83-c8dd-4a53-a40e-23545d24bde9",
   "metadata": {},
   "outputs": [],
   "source": [
    "df_lbs = df[~df[\"rewire_existing\"]]\n",
    "df_lbs = df_lbs[df_lbs[\"muts_gained\"] < 0]\n",
    "df_lbs"
   ]
  }
 ],
 "metadata": {
  "kernelspec": {
   "display_name": "Python 3 (ipykernel)",
   "language": "python",
   "name": "python3"
  },
  "language_info": {
   "codemirror_mode": {
    "name": "ipython",
    "version": 3
   },
   "file_extension": ".py",
   "mimetype": "text/x-python",
   "name": "python",
   "nbconvert_exporter": "python",
   "pygments_lexer": "ipython3",
   "version": "3.10.0"
  }
 },
 "nbformat": 4,
 "nbformat_minor": 5
}
