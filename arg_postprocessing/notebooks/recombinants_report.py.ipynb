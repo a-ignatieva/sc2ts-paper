{
 "cells": [
  {
   "cell_type": "code",
   "execution_count": null,
   "id": "a245b5e3-98ed-42cd-bc19-d283c5a7521d",
   "metadata": {},
   "outputs": [],
   "source": [
    "import tszip\n",
    "import sc2ts\n",
    "import pandas as pd"
   ]
  },
  {
   "cell_type": "code",
   "execution_count": null,
   "id": "76e28612-b3cb-4528-ace4-ca66bc4becdc",
   "metadata": {},
   "outputs": [],
   "source": [
    "ts = tszip.load(snakemake.input[0])\n",
    "ts"
   ]
  },
  {
   "cell_type": "code",
   "execution_count": null,
   "id": "3c858589-4408-423a-8489-49d047f3acff",
   "metadata": {},
   "outputs": [],
   "source": [
    "ti = sc2ts.TreeInfo(ts, show_progress=False, pango_source=\"pango\", scorpio_source=\"scorpio\")\n",
    "ti"
   ]
  },
  {
   "cell_type": "code",
   "execution_count": null,
   "id": "2fd103d8-2510-434d-9658-603d8c15c2a4",
   "metadata": {},
   "outputs": [],
   "source": [
    "dfr = ti.recombinants_summary(show_progress=False)"
   ]
  },
  {
   "cell_type": "code",
   "execution_count": null,
   "id": "e8dd5020-9c73-4e08-9df6-40ed516e0015",
   "metadata": {},
   "outputs": [],
   "source": [
    "dfr"
   ]
  },
  {
   "cell_type": "code",
   "execution_count": null,
   "id": "935465fc-61d3-442e-a4a6-4c239f1a80d8",
   "metadata": {},
   "outputs": [],
   "source": [
    "dfr.describe()"
   ]
  },
  {
   "cell_type": "code",
   "execution_count": null,
   "id": "e9b37b05-abca-4506-b894-096ab2b690b0",
   "metadata": {},
   "outputs": [],
   "source": [
    "dfr.to_csv(snakemake.output[0]);"
   ]
  }
 ],
 "metadata": {
  "kernelspec": {
   "display_name": "Python 3 (ipykernel)",
   "language": "python",
   "name": "python3"
  },
  "language_info": {
   "codemirror_mode": {
    "name": "ipython",
    "version": 3
   },
   "file_extension": ".py",
   "mimetype": "text/x-python",
   "name": "python",
   "nbconvert_exporter": "python",
   "pygments_lexer": "ipython3",
   "version": "3.10.0"
  }
 },
 "nbformat": 4,
 "nbformat_minor": 5
}
