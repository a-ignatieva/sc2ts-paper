{
 "cells": [
  {
   "cell_type": "code",
   "execution_count": 1,
   "id": "62b4fbda-c370-445a-a53a-dd3e284fb8f4",
   "metadata": {},
   "outputs": [],
   "source": [
    "import sc2ts\n",
    "import tszip\n",
    "import shutil"
   ]
  },
  {
   "cell_type": "code",
   "execution_count": null,
   "id": "8b1fd0f6-a1be-4e93-8762-44f83ca6fb37",
   "metadata": {},
   "outputs": [],
   "source": [
    "assert len(snakemake.input) == len(snakemake.output) == 4\n",
    "for fin, fout in zip(snakemake.input, snakemake.output):\n",
    "    shutil.copy(fin, fout)"
   ]
  },
  {
   "cell_type": "markdown",
   "id": "e9d1b1f2-cd04-4df6-bd00-d127b2736d33",
   "metadata": {},
   "source": [
    "# Main sc2ts ARG\n",
    "\n",
    "Built from Viridian data up to 2023-02-21. Internal nodes have been dated using tsdate, and contains deletions and highly homoplasic sites post-hoc mapped on by parsimony."
   ]
  },
  {
   "cell_type": "code",
   "execution_count": null,
   "id": "58c8832c-e93b-4443-b423-3440d686ab4d",
   "metadata": {},
   "outputs": [],
   "source": [
    "ts_sc2ts = tszip.load(\"sc2ts_viridian_v1.trees.tsz\")\n",
    "ts_sc2ts"
   ]
  },
  {
   "cell_type": "code",
   "execution_count": null,
   "id": "7c403359-876c-4726-ac6d-9df5c9bcbf42",
   "metadata": {},
   "outputs": [],
   "source": [
    "sc2ts.node_data(ts_sc2ts)"
   ]
  },
  {
   "cell_type": "code",
   "execution_count": null,
   "id": "ac20583e-8d39-4ca7-9618-20048908f5c9",
   "metadata": {},
   "outputs": [],
   "source": [
    "sc2ts.mutation_data(ts_sc2ts)"
   ]
  },
  {
   "cell_type": "code",
   "execution_count": null,
   "id": "c076bade-cf60-40be-9e9d-ac12a8be35ff",
   "metadata": {},
   "outputs": [],
   "source": [
    "ts_sc2ts.metadata"
   ]
  },
  {
   "cell_type": "markdown",
   "id": "3512cc55-dd57-4625-b1a8-3aa571b07ccb",
   "metadata": {},
   "source": [
    "# Main UShER tree \n",
    "\n",
    "Translation of the Viridian UShER tree to tskit format. Time units are uncalibrated and branch-lengths are not meaningful."
   ]
  },
  {
   "cell_type": "code",
   "execution_count": null,
   "id": "71f7961b-247d-4392-b867-1a9ed416c4f7",
   "metadata": {},
   "outputs": [],
   "source": [
    "ts_usher = tszip.load(\"usher_viridian_v1.trees.tsz\")\n",
    "ts_usher"
   ]
  },
  {
   "cell_type": "code",
   "execution_count": null,
   "id": "578a54dd-2766-48e1-95a6-569c84e40cec",
   "metadata": {},
   "outputs": [],
   "source": [
    "sc2ts.node_data(ts_usher)"
   ]
  },
  {
   "cell_type": "code",
   "execution_count": null,
   "id": "51ebf0d4-9129-4c4a-98aa-94559063c226",
   "metadata": {},
   "outputs": [],
   "source": [
    "sc2ts.mutation_data(ts_usher)"
   ]
  },
  {
   "cell_type": "code",
   "execution_count": null,
   "id": "e9965cb9-7b8e-4cc8-9ff2-5d0913acd492",
   "metadata": {},
   "outputs": [],
   "source": [
    "ts_usher.metadata"
   ]
  },
  {
   "cell_type": "markdown",
   "id": "6ae3a0c2-1870-4a2b-9613-bf3848532a72",
   "metadata": {},
   "source": [
    "# Intersection sc2ts ARG\n",
    "\n",
    "Subset of main sc2ts ARG subset to the intersection of samples and sites common to sc2ts and UShER. Internal nodes have **not** been dated by tsdate and so will likely differ from the node dates on the main ARG."
   ]
  },
  {
   "cell_type": "code",
   "execution_count": null,
   "id": "db785c70-fc5d-4761-835c-23d777a8f584",
   "metadata": {},
   "outputs": [],
   "source": [
    "ts_sc2ts_inter = tszip.load(\"sc2ts_viridian_inter_v1.trees.tsz\")\n",
    "ts_sc2ts_inter"
   ]
  },
  {
   "cell_type": "code",
   "execution_count": null,
   "id": "27e37067-b6cb-4d67-a8a8-e565798722dd",
   "metadata": {},
   "outputs": [],
   "source": [
    "sc2ts.node_data(ts_sc2ts_inter)"
   ]
  },
  {
   "cell_type": "code",
   "execution_count": null,
   "id": "cf3ea641-a91a-460d-a79c-799c8feebb24",
   "metadata": {},
   "outputs": [],
   "source": [
    "sc2ts.mutation_data(ts_sc2ts_inter)"
   ]
  },
  {
   "cell_type": "code",
   "execution_count": null,
   "id": "f593ed4e-657b-4b31-9846-5707ed17b0ee",
   "metadata": {},
   "outputs": [],
   "source": [
    "ts_sc2ts.metadata"
   ]
  },
  {
   "cell_type": "markdown",
   "id": "f2306e75-7e16-4687-9e28-3bd9d1f945f5",
   "metadata": {},
   "source": [
    "# Intersection UShER ARG\n",
    "\n",
    "Subset of main UShER ARG subset to the intersection of samples and sites common to both. Internal nodes have been dated by tsdate."
   ]
  },
  {
   "cell_type": "code",
   "execution_count": null,
   "id": "912b0079-de6c-4cc0-9c51-cc6a658ee093",
   "metadata": {},
   "outputs": [],
   "source": [
    "ts_usher_inter =tszip.load(\"usher_viridian_inter_v1.trees.tsz\")\n",
    "ts_usher_inter"
   ]
  },
  {
   "cell_type": "code",
   "execution_count": null,
   "id": "f23cf814-738e-4326-8796-95651010e158",
   "metadata": {},
   "outputs": [],
   "source": [
    "sc2ts.node_data(ts_usher_inter)"
   ]
  },
  {
   "cell_type": "code",
   "execution_count": null,
   "id": "684fbdec-3393-4089-aeb9-2fc9e188de86",
   "metadata": {},
   "outputs": [],
   "source": [
    "sc2ts.mutation_data(ts_usher_inter)"
   ]
  },
  {
   "cell_type": "code",
   "execution_count": null,
   "id": "f6404cc2-a669-4ca1-afca-018f87a1f860",
   "metadata": {},
   "outputs": [],
   "source": [
    "ts_usher_inter.metadata"
   ]
  }
 ],
 "metadata": {
  "kernelspec": {
   "display_name": "Python 3 (ipykernel)",
   "language": "python",
   "name": "python3"
  },
  "language_info": {
   "codemirror_mode": {
    "name": "ipython",
    "version": 3
   },
   "file_extension": ".py",
   "mimetype": "text/x-python",
   "name": "python",
   "nbconvert_exporter": "python",
   "pygments_lexer": "ipython3",
   "version": "3.10.0"
  }
 },
 "nbformat": 4,
 "nbformat_minor": 5
}
