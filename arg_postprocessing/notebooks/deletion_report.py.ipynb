{
 "cells": [
  {
   "cell_type": "code",
   "execution_count": null,
   "id": "a245b5e3-98ed-42cd-bc19-d283c5a7521d",
   "metadata": {},
   "outputs": [],
   "source": [
    "import tszip\n",
    "import sc2ts"
   ]
  },
  {
   "cell_type": "code",
   "execution_count": null,
   "id": "76e28612-b3cb-4528-ace4-ca66bc4becdc",
   "metadata": {},
   "outputs": [],
   "source": [
    "ts = tszip.load(snakemake.input[0])\n",
    "ts"
   ]
  },
  {
   "cell_type": "code",
   "execution_count": null,
   "id": "3c858589-4408-423a-8489-49d047f3acff",
   "metadata": {},
   "outputs": [],
   "source": [
    "ti = sc2ts.TreeInfo(ts, show_progress=False)\n",
    "ti"
   ]
  },
  {
   "cell_type": "code",
   "execution_count": null,
   "id": "dcfcb937-15b3-48cc-9153-e92563f8c4ba",
   "metadata": {},
   "outputs": [],
   "source": [
    "ti.plot_mutations_per_node_distribution();"
   ]
  },
  {
   "cell_type": "code",
   "execution_count": null,
   "id": "9e772f95-de1c-4708-adf3-768cba674bc8",
   "metadata": {},
   "outputs": [],
   "source": [
    "ti.plot_mutations_per_site_distribution();"
   ]
  },
  {
   "cell_type": "code",
   "execution_count": null,
   "id": "834ac25b-828f-42b0-811d-b2de00e0608a",
   "metadata": {},
   "outputs": [],
   "source": [
    "ti.plot_mutations_per_site(annotate_threshold=0.10);"
   ]
  },
  {
   "cell_type": "code",
   "execution_count": null,
   "id": "5837c97f-e29a-449f-84da-f6d2630d4308",
   "metadata": {},
   "outputs": [],
   "source": [
    "ti.plot_mutations_per_site(annotate_threshold=0.10, select=ti.mutations_is_reversion);"
   ]
  },
  {
   "cell_type": "code",
   "execution_count": null,
   "id": "c2bb2943-b24d-49fb-880f-b2b74e710ff0",
   "metadata": {},
   "outputs": [],
   "source": [
    "ti.plot_deletion_overlaps()"
   ]
  },
  {
   "cell_type": "code",
   "execution_count": null,
   "id": "f59c1a79-a226-42a8-97dd-cf9d2d486030",
   "metadata": {},
   "outputs": [],
   "source": [
    "df = ti.deletions_summary()\n",
    "df"
   ]
  },
  {
   "cell_type": "code",
   "execution_count": null,
   "id": "457d69b4-07c1-4fd9-961e-dbf5680e21e3",
   "metadata": {},
   "outputs": [],
   "source": [
    "df.to_csv(snakemake.output[0])"
   ]
  },
  {
   "cell_type": "code",
   "execution_count": null,
   "id": "b75e5caf-8979-43d7-ab26-2ab92dfb3b69",
   "metadata": {},
   "outputs": [],
   "source": [
    "df.length.value_counts()"
   ]
  },
  {
   "cell_type": "code",
   "execution_count": null,
   "id": "615a5d07-c99e-463e-8aab-720ff4c5f0de",
   "metadata": {},
   "outputs": [],
   "source": [
    "dfl = df[df.max_inheritors > 100].sort_values(\"max_inheritors\")\n",
    "dfl"
   ]
  },
  {
   "cell_type": "code",
   "execution_count": null,
   "id": "8bf355d0-3917-4310-acd4-dd27293e6092",
   "metadata": {},
   "outputs": [],
   "source": [
    "dfl.length.value_counts()"
   ]
  },
  {
   "cell_type": "code",
   "execution_count": null,
   "id": "4f18dc62-93cb-4d05-8be9-88eff914473f",
   "metadata": {},
   "outputs": [],
   "source": [
    "df.sort_values(\"max_inheritors\").tail(20)"
   ]
  }
 ],
 "metadata": {
  "kernelspec": {
   "display_name": "Python 3 (ipykernel)",
   "language": "python",
   "name": "python3"
  },
  "language_info": {
   "codemirror_mode": {
    "name": "ipython",
    "version": 3
   },
   "file_extension": ".py",
   "mimetype": "text/x-python",
   "name": "python",
   "nbconvert_exporter": "python",
   "pygments_lexer": "ipython3",
   "version": "3.10.0"
  }
 },
 "nbformat": 4,
 "nbformat_minor": 5
}
