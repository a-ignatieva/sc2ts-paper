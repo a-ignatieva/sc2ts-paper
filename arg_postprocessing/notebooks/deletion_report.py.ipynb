{
 "cells": [
  {
   "cell_type": "code",
   "execution_count": null,
   "id": "a245b5e3-98ed-42cd-bc19-d283c5a7521d",
   "metadata": {},
   "outputs": [],
   "source": [
    "import tszip\n",
    "import sc2ts\n",
    "import pandas as pd"
   ]
  },
  {
   "cell_type": "code",
   "execution_count": null,
   "id": "76e28612-b3cb-4528-ace4-ca66bc4becdc",
   "metadata": {},
   "outputs": [],
   "source": [
    "ts = tszip.load(snakemake.input[0])\n",
    "ts"
   ]
  },
  {
   "cell_type": "code",
   "execution_count": null,
   "id": "3c858589-4408-423a-8489-49d047f3acff",
   "metadata": {},
   "outputs": [],
   "source": [
    "ti = sc2ts.TreeInfo(ts, show_progress=False)\n",
    "ti"
   ]
  },
  {
   "cell_type": "code",
   "execution_count": null,
   "id": "dcfcb937-15b3-48cc-9153-e92563f8c4ba",
   "metadata": {},
   "outputs": [],
   "source": [
    "ti.plot_mutations_per_node_distribution();"
   ]
  },
  {
   "cell_type": "code",
   "execution_count": null,
   "id": "9e772f95-de1c-4708-adf3-768cba674bc8",
   "metadata": {},
   "outputs": [],
   "source": [
    "ti.plot_mutations_per_site_distribution();"
   ]
  },
  {
   "cell_type": "code",
   "execution_count": null,
   "id": "834ac25b-828f-42b0-811d-b2de00e0608a",
   "metadata": {},
   "outputs": [],
   "source": [
    "ti.plot_mutations_per_site(annotate_threshold=0.65);"
   ]
  },
  {
   "cell_type": "code",
   "execution_count": null,
   "id": "5837c97f-e29a-449f-84da-f6d2630d4308",
   "metadata": {},
   "outputs": [],
   "source": [
    "ti.plot_mutations_per_site(annotate_threshold=0.10, select=ti.mutations_is_reversion);"
   ]
  },
  {
   "cell_type": "code",
   "execution_count": null,
   "id": "c2bb2943-b24d-49fb-880f-b2b74e710ff0",
   "metadata": {},
   "outputs": [],
   "source": [
    "ti.plot_deletion_overlaps(annotate_threshold=0.1);"
   ]
  },
  {
   "cell_type": "code",
   "execution_count": null,
   "id": "f59c1a79-a226-42a8-97dd-cf9d2d486030",
   "metadata": {},
   "outputs": [],
   "source": [
    "df = ti.deletions_summary()\n",
    "df"
   ]
  },
  {
   "cell_type": "code",
   "execution_count": null,
   "id": "457d69b4-07c1-4fd9-961e-dbf5680e21e3",
   "metadata": {},
   "outputs": [],
   "source": [
    "df.to_csv(snakemake.output[0]);"
   ]
  },
  {
   "cell_type": "code",
   "execution_count": null,
   "id": "b75e5caf-8979-43d7-ab26-2ab92dfb3b69",
   "metadata": {},
   "outputs": [],
   "source": [
    "df.length.value_counts()"
   ]
  },
  {
   "cell_type": "code",
   "execution_count": null,
   "id": "615a5d07-c99e-463e-8aab-720ff4c5f0de",
   "metadata": {},
   "outputs": [],
   "source": [
    "dfl = df[df.max_inheritors > 100].sort_values(\"max_inheritors\")\n",
    "dfl"
   ]
  },
  {
   "cell_type": "code",
   "execution_count": null,
   "id": "8bf355d0-3917-4310-acd4-dd27293e6092",
   "metadata": {},
   "outputs": [],
   "source": [
    "dfl.length.value_counts()"
   ]
  },
  {
   "cell_type": "code",
   "execution_count": null,
   "id": "4f18dc62-93cb-4d05-8be9-88eff914473f",
   "metadata": {},
   "outputs": [],
   "source": [
    "df.sort_values(\"max_inheritors\").tail(20)"
   ]
  },
  {
   "cell_type": "markdown",
   "id": "fb83070e-6871-48f6-b6fd-0b1cf968de80",
   "metadata": {},
   "source": [
    "# Examine the mutations"
   ]
  },
  {
   "cell_type": "code",
   "execution_count": null,
   "id": "919e25f3-0fa4-45aa-a341-40ceb1ed365a",
   "metadata": {},
   "outputs": [],
   "source": [
    "data = []\n",
    "for site in ts.sites():\n",
    "    original_mutations = site.metadata[\"sc2ts\"].get(\"original_mutations\", None)\n",
    "    if original_mutations is not None:\n",
    "        new_mutations = []\n",
    "        for mut in site.mutations:\n",
    "            new_mutations.append(\n",
    "                {\n",
    "                    \"node\": mut.node,\n",
    "                    \"derived_state\": mut.derived_state,\n",
    "                    \"metadata\": mut.metadata,\n",
    "                }\n",
    "            )\n",
    "        data.append(\n",
    "            {\n",
    "                \"site\": int(site.id),\n",
    "                \"position\": int(site.position),\n",
    "                \"original_mutations\": original_mutations,\n",
    "                \"new_mutations\": new_mutations,\n",
    "            }\n",
    "        )"
   ]
  },
  {
   "cell_type": "code",
   "execution_count": null,
   "id": "573cf099-b249-4af5-ba78-5d57b0ee1e46",
   "metadata": {},
   "outputs": [],
   "source": [
    "df_data = []\n",
    "for row in data:\n",
    "    A = set((d[\"node\"], d[\"derived_state\"]) for d in row[\"original_mutations\"])\n",
    "    B = set((d[\"node\"], d[\"derived_state\"]) for d in row[\"new_mutations\"])\n",
    "    df_data.append({\"original_mutations\": len(A), \"new_mutations\": len(B), \n",
    "                    \"intersection\": len(A & B), \"position\": row[\"position\"]})\n",
    "    \n",
    "dfm = pd.DataFrame(df_data)\n",
    "dfm"
   ]
  },
  {
   "cell_type": "code",
   "execution_count": null,
   "id": "d7bde9d5-93e5-40f0-a008-25f36f56e4a9",
   "metadata": {},
   "outputs": [],
   "source": [
    "dfm[dfm.original_mutations > 500]"
   ]
  },
  {
   "cell_type": "code",
   "execution_count": null,
   "id": "7e0399ee-f69f-4c6f-83e3-cc60552324d4",
   "metadata": {},
   "outputs": [],
   "source": [
    "dfm.original_mutations.hist();"
   ]
  },
  {
   "cell_type": "code",
   "execution_count": null,
   "id": "7eabb667-61fc-4973-8dbd-df8397bc5fec",
   "metadata": {},
   "outputs": [],
   "source": [
    "dfm.new_mutations.hist();"
   ]
  },
  {
   "cell_type": "code",
   "execution_count": null,
   "id": "63886832-7454-4084-a530-ca72ddeed1f4",
   "metadata": {},
   "outputs": [],
   "source": [
    "dfm.original_mutations.describe()"
   ]
  },
  {
   "cell_type": "code",
   "execution_count": null,
   "id": "d8518ffc-2389-4229-8b61-80023b867117",
   "metadata": {},
   "outputs": [],
   "source": [
    "dfm.new_mutations.describe()"
   ]
  },
  {
   "cell_type": "code",
   "execution_count": null,
   "id": "7ca0dcdb-aa7b-4a1b-b7b0-7468bfbb265c",
   "metadata": {},
   "outputs": [],
   "source": [
    "dfm.intersection.describe()"
   ]
  }
 ],
 "metadata": {
  "kernelspec": {
   "display_name": "Python 3 (ipykernel)",
   "language": "python",
   "name": "python3"
  },
  "language_info": {
   "codemirror_mode": {
    "name": "ipython",
    "version": 3
   },
   "file_extension": ".py",
   "mimetype": "text/x-python",
   "name": "python",
   "nbconvert_exporter": "python",
   "pygments_lexer": "ipython3",
   "version": "3.10.0"
  }
 },
 "nbformat": 4,
 "nbformat_minor": 5
}
