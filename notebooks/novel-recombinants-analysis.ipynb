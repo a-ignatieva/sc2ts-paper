{
 "cells": [
  {
   "cell_type": "markdown",
   "id": "fbf147c3-8171-42e4-bf1b-5727566cd905",
   "metadata": {},
   "source": [
    "# Novel Recombinants Analysis"
   ]
  },
  {
   "cell_type": "markdown",
   "id": "e8c9a828-5849-484a-a0f1-4445dc45a059",
   "metadata": {},
   "source": [
    "This notebook contains supplementary analyses of the 929 novel recombinants identified in the `sc2ts` paper."
   ]
  },
  {
   "cell_type": "markdown",
   "id": "d0fbf845-0ae3-4900-b390-1a4547c0fd91",
   "metadata": {},
   "source": [
    "## Dependencies\n",
    "\n",
    "1. **Install python dependencies using `conda` (or a `conda` derivative):**\n",
    "\n",
    "    ```bash\n",
    "     micromamba env create -f notebooks/novel-recombinants-analysis.yml\n",
    "    ```\n",
    "\n",
    "2. **Install conda environment as a jupyter kernel.**\n",
    "\n",
    "    ```bash\n",
    "    python -m ipykernel install --user --name=novel-recombinants\n",
    "    ```\n",
    "\n",
    "3. **Select `ncov-recombinants` kernel for this notebook.**"
   ]
  },
  {
   "cell_type": "code",
   "execution_count": 1,
   "id": "6ec150d0-e6cf-4c8e-923d-7aff91309923",
   "metadata": {},
   "outputs": [],
   "source": [
    "import pandas as pd\n",
    "import numpy as np\n",
    "from matplotlib import pyplot as plt\n",
    "\n",
    "import collections\n",
    "import json\n",
    "import os\n",
    "import shutil"
   ]
  },
  {
   "cell_type": "code",
   "execution_count": 2,
   "id": "41c2de93-2126-45c6-b4e6-8acc99e31f78",
   "metadata": {},
   "outputs": [],
   "source": [
    "curr_dir = os.path.basename(os.getcwd())\n",
    "\n",
    "# If we're still in the notebooks directory, move up to the project root.\n",
    "if curr_dir != \"sc2ts-paper\":\n",
    "  sc2ts_dir = os.path.join(os.getcwd(), \"..\")\n",
    "  _ = os.chdir(sc2ts_dir)"
   ]
  },
  {
   "cell_type": "markdown",
   "id": "fbf95b4c-cb51-4fbb-b83b-8bce161c5356",
   "metadata": {},
   "source": [
    "## Data\n",
    "\n",
    "- Viridan metadata: `data/run_metadata.v04.tsv.gz`\n",
    "   - URL: https://figshare.com/articles/dataset/Supplementary_table_S1/25712982?file=45969195\n",
    "- Viridian sequences: `data/Viridian_tree_cons_seqs/<#>.cons.fa.xz`\n",
    "   - URL: https://doi.org/10.6084/m9.figshare.25713225\n",
    "- Viridian index: `data/Viridian_tree_cons_seqs/index.tsv.xz`\n",
    "\n",
    "> **Note**: Keep files in their compressed form (`gz`, `xz`), we will use tools that don't need decompression first."
   ]
  },
  {
   "cell_type": "markdown",
   "id": "9e776e19-1c46-4f15-b484-7be1856270ed",
   "metadata": {},
   "source": [
    "Change the working directory to the root of the `sc2ts-paper` project."
   ]
  },
  {
   "cell_type": "markdown",
   "id": "0ed6fc1e-af3f-4a07-807f-f30562892b6d",
   "metadata": {},
   "source": [
    "Setup input/output files and directories."
   ]
  },
  {
   "cell_type": "code",
   "execution_count": 3,
   "id": "bd3acbc5-1f2f-4be2-bcf6-7d2cd91d1e90",
   "metadata": {},
   "outputs": [],
   "source": [
    "from pathlib import Path\n",
    "\n",
    "data_dir = Path(\"data\")\n",
    "dataset_dir = Path(\"notebooks/dataset\")\n",
    "results_dir = Path(\"results\")\n",
    "\n",
    "metadata = data_dir / \"run_metadata.v04.tsv.gz\"\n",
    "sequences = data_dir / \"Viridian_tree_cons_seqs\"\n",
    "index = data_dir / \"Viridian_tree_cons_seqs\" / \"index.tsv.xz\"\n",
    "recombinants = data_dir / \"recombinants.csv\"\n",
    "results = results_dir / \"novel_recombinants\"\n",
    "nextclade_dataset = dataset_dir / \"nextclade\"\n",
    "\n",
    "if not os.path.exists(results):\n",
    "  os.makedirs(results)\n",
    "if not os.path.exists(nextclade_dataset):\n",
    "  os.makedirs(nextclade_dataset)"
   ]
  },
  {
   "cell_type": "markdown",
   "id": "77ae0623-7fb0-42d3-bc62-ac03053b601f",
   "metadata": {},
   "source": [
    "## Dependencies"
   ]
  },
  {
   "cell_type": "markdown",
   "id": "1355f595-ddf3-44a8-8ce9-535722dd5293",
   "metadata": {},
   "source": [
    "### Install csvtk\n",
    "\n",
    "`csvtk` is used as a unix-based dataframe engine."
   ]
  },
  {
   "cell_type": "code",
   "execution_count": null,
   "id": "2b79ede9-d7fc-4bf2-951c-ef3a2035c636",
   "metadata": {},
   "outputs": [],
   "source": [
    "! wget -q -O csvtk.tar.gz https://github.com/shenwei356/csvtk/releases/download/v0.32.0/csvtk_linux_386.tar.gz\n",
    "! tar -xf csvtk.tar.gz\n",
    "! mv csvtk bin/\n",
    "! rm -f csvtk.tar.gz\n",
    "! bin/csvtk --help | head -n 5"
   ]
  },
  {
   "cell_type": "markdown",
   "id": "be2832ac-2d8b-4bb3-9843-3a9b10c0bf59",
   "metadata": {},
   "source": [
    "### Install seqkit\n",
    "\n",
    "`seqkit` is a unix-based tool for sequence queries and manipulation."
   ]
  },
  {
   "cell_type": "code",
   "execution_count": null,
   "id": "8ce11a03-cf83-450d-b5b7-16cf2c817fc5",
   "metadata": {},
   "outputs": [],
   "source": [
    "! wget -q -O seqkit.tar.gz https://github.com/shenwei356/seqkit/releases/download/v2.9.0/seqkit_linux_amd64.tar.gz\n",
    "! tar -xf seqkit.tar.gz\n",
    "! mv seqkit bin/\n",
    "! rm -f seqkit.tar.xz\n",
    "! bin/seqkit --help | head -n 5"
   ]
  },
  {
   "cell_type": "markdown",
   "id": "73c4d4cb-bf8a-4c3e-88b8-3bd9a7be743b",
   "metadata": {},
   "source": [
    "### Install nextclade\n",
    "\n",
    "`nextclade` is a unix-based tool for sequence alignment and lineage assignment."
   ]
  },
  {
   "cell_type": "code",
   "execution_count": null,
   "id": "4497dc52-6bd0-444b-989a-1089fcc6e185",
   "metadata": {},
   "outputs": [],
   "source": [
    "! wget -q -O bin/nextclade https://github.com/nextstrain/nextclade/releases/download/3.10.2/nextclade-x86_64-unknown-linux-musl\n",
    "! bin/nextclade --help | head -n 5"
   ]
  },
  {
   "cell_type": "markdown",
   "id": "4c3c8e44-f0a6-43c9-91d8-d55fbab1700a",
   "metadata": {},
   "source": [
    "### Install rebar\n",
    "\n",
    "`rebar` is a unix-based tool for recombinant sequence detection."
   ]
  },
  {
   "cell_type": "code",
   "execution_count": null,
   "id": "cc0855df-0405-4ae3-bb9a-9de3648a2f61",
   "metadata": {},
   "outputs": [],
   "source": [
    "! wget -q -O bin/rebar https://github.com/phac-nml/rebar/releases/download/v0.2.1/rebar-x86_64-unknown-linux-musl\n",
    "! bin/rebar --help | head -n 5"
   ]
  },
  {
   "cell_type": "markdown",
   "id": "953edd18-3e2f-4be6-8f80-05314acf9539",
   "metadata": {},
   "source": [
    "### Install pangonet\n",
    "\n",
    "`pangonet` is a python package and CLI tool for manipulating SARS-CoV-2 lineages in a recombination-aware, phylogenetic network.\n",
    "\n",
    "Mainly, it's useful for getting ancestral/descendant relationships of lineages."
   ]
  },
  {
   "cell_type": "code",
   "execution_count": null,
   "id": "e448d03b-3ad4-4a5f-afab-1700b17f0f4a",
   "metadata": {},
   "outputs": [],
   "source": [
    "! git clone https://github.com/phac-nml/pangonet.git\n",
    "! cd pangonet && pip install . && cd -\n",
    "! pangonet --help | head"
   ]
  },
  {
   "cell_type": "code",
   "execution_count": 4,
   "id": "9cb9293d-dbdd-44b7-9d9f-1d1d92884513",
   "metadata": {},
   "outputs": [
    {
     "name": "stdout",
     "output_type": "stream",
     "text": [
      "2025-03-21 15:10:32,035 INFO:Creating aliases.\n",
      "2025-03-21 15:10:32,039 INFO:Creating network.\n"
     ]
    }
   ],
   "source": [
    "from pangonet.pangonet import PangoNet\n",
    "\n",
    "alias_key_path = os.path.join(\"notebooks\", \"dataset\", \"rebar\", \"alias_key.json\")\n",
    "lineage_notes_path = os.path.join(\"notebooks\", \"dataset\", \"rebar\", \"lineage_notes.txt\")\n",
    "pango = PangoNet().build(alias_key=alias_key_path, lineage_notes=lineage_notes_path)"
   ]
  },
  {
   "cell_type": "markdown",
   "id": "1cb48dc9-d8d5-4f18-a023-d43794d30cee",
   "metadata": {},
   "source": [
    "## Metadata and Sequences\n",
    "\n",
    "Extract Viridian metadata for the novel recombinants."
   ]
  },
  {
   "cell_type": "code",
   "execution_count": null,
   "id": "8b8f4550-58f7-4215-ad69-a75d7746fefc",
   "metadata": {},
   "outputs": [],
   "source": [
    "! bin/csvtk cut -f sample_id {recombinants} \\\n",
    "  | tail -n+2 \\\n",
    "  | bin/csvtk grep -t -f Run -P - {metadata} \\\n",
    "  | bin/csvtk merge -t -f Run {index} - | \\\n",
    "  > {results}/metadata.tsv\n",
    "\n",
    "pd.read_csv(f\"{results}/metadata.tsv\", sep=\"\\t\")"
   ]
  },
  {
   "cell_type": "markdown",
   "id": "5b368f56-ef98-448e-8a5d-4d63a3540a39",
   "metadata": {},
   "source": [
    "Extract Viridian batch numbers for the novel recombinants."
   ]
  },
  {
   "cell_type": "code",
   "execution_count": null,
   "id": "914099fa-e000-4122-935f-077135936910",
   "metadata": {},
   "outputs": [],
   "source": [
    "! bin/csvtk cut -t -f Batch {results}/metadata.tsv | tail -n+2 | sort -g | uniq > {results}/batches.txt"
   ]
  },
  {
   "cell_type": "markdown",
   "id": "ac70088e-698d-4860-ae8b-3c5f2eb17030",
   "metadata": {},
   "source": [
    "Extract Viridian consensus sequences for the novel recombinants."
   ]
  },
  {
   "cell_type": "code",
   "execution_count": null,
   "id": "737ca1ef-c1d6-4dda-b7e7-7153ed561625",
   "metadata": {},
   "outputs": [],
   "source": [
    "! cat results/novel_recombinants/batches.txt | while read batch; do \\\n",
    "  echo Batch: ${batch} 1>&2; \\\n",
    "  bin/csvtk grep -t -f Batch -p ${batch} results/novel_recombinants/metadata.tsv \\\n",
    "    | bin/csvtk cut -t -f Run \\\n",
    "    | tail -n+2 \\\n",
    "    | bin/seqkit grep -w 0 -f - data/Viridian_tree_cons_seqs/${batch}.cons.fa.xz; \\\n",
    "done > results/novel_recombinants/sequences.fasta"
   ]
  },
  {
   "cell_type": "markdown",
   "id": "ba18f4da-b56f-43c0-a85d-174911a9eae8",
   "metadata": {},
   "source": [
    "## Align"
   ]
  },
  {
   "cell_type": "markdown",
   "id": "98eeee60-44b6-4a55-a6d9-d69d009e3b7c",
   "metadata": {},
   "source": [
    "Download the sars-cov-2 lineage model."
   ]
  },
  {
   "cell_type": "code",
   "execution_count": null,
   "id": "9a9b4e2f-fad8-467f-b92e-b8334d28928e",
   "metadata": {},
   "outputs": [],
   "source": [
    "! bin/nextclade dataset get \\\n",
    "  --name sars-cov-2 \\\n",
    "  --tag  2025-01-28--16-39-09Z \\\n",
    "  --output-dir dataset/nextclade"
   ]
  },
  {
   "cell_type": "markdown",
   "id": "f77701b0-ea13-41b8-a7ad-bbe5cec45acb",
   "metadata": {},
   "source": [
    "Align the sequences."
   ]
  },
  {
   "cell_type": "code",
   "execution_count": null,
   "id": "a988993f-e037-4dbf-8c67-579eb275b25d",
   "metadata": {},
   "outputs": [],
   "source": [
    "! bin/nextclade run \\\n",
    "  --input-dataset dataset/nextclade \\\n",
    "  --jobs 2 \\\n",
    "  --output-tsv {results}/nextclade.tsv \\\n",
    "  --output-fasta {results}/nextclade.fasta \\\n",
    "  {results}/sequences.fasta"
   ]
  },
  {
   "cell_type": "markdown",
   "id": "dc0b8df8-6636-4755-a8e4-121c4f017103",
   "metadata": {},
   "source": [
    "### Detect Recombination"
   ]
  },
  {
   "cell_type": "markdown",
   "id": "7f6719a0-a400-4922-a82e-78e659d72eda",
   "metadata": {},
   "source": [
    "Download the sars-cov-2 lineage model."
   ]
  },
  {
   "cell_type": "code",
   "execution_count": null,
   "id": "c64dab64-7556-4860-9f3a-669027893600",
   "metadata": {},
   "outputs": [],
   "source": [
    "! bin/rebar dataset download \\\n",
    "  --name sars-cov-2 \\\n",
    "  --tag 2025-01-28 \\\n",
    "  --verbosity error \\\n",
    "  --output-dir dataset/rebar"
   ]
  },
  {
   "cell_type": "markdown",
   "id": "dcaa86a0-038c-429d-8931-8775e83e564d",
   "metadata": {},
   "source": [
    "Detection recombination in the sequences."
   ]
  },
  {
   "cell_type": "code",
   "execution_count": null,
   "id": "6c1bc68c-452d-4c40-97b9-14dac0eeb8e7",
   "metadata": {},
   "outputs": [],
   "source": [
    "! bin/rebar run \\\n",
    "  --dataset-dir dataset/rebar \\\n",
    "  --threads 2 \\\n",
    "  --alignment {results}/nextclade.fasta \\\n",
    "  --output-dir {results}/rebar\n",
    "\n",
    "! cp {results}/rebar/linelist.tsv data/rebar.tsv"
   ]
  },
  {
   "cell_type": "markdown",
   "id": "08f3a1d3-9fb6-4e5e-a27b-41b6b05706fd",
   "metadata": {},
   "source": [
    "Plot parents and breakpoints."
   ]
  },
  {
   "cell_type": "code",
   "execution_count": null,
   "id": "c6bf8447-a28e-4fec-af3e-c40562d069c9",
   "metadata": {},
   "outputs": [],
   "source": [
    "! bin/rebar plot \\\n",
    "  --run-dir {results}/rebar \\\n",
    "  --annotations dataset/rebar/annotations.tsv \\\n",
    "  --verbosity error"
   ]
  },
  {
   "cell_type": "markdown",
   "id": "6d71301b-307a-440f-ab40-900880437b6b",
   "metadata": {},
   "source": [
    "## Compare"
   ]
  },
  {
   "cell_type": "markdown",
   "id": "e171e6ee-b848-42b9-8c20-7b11d8bb9cc5",
   "metadata": {},
   "source": [
    "### Data"
   ]
  },
  {
   "cell_type": "code",
   "execution_count": 5,
   "id": "d5677d2f-c5cd-449c-b48e-15c26fe66796",
   "metadata": {
    "scrolled": true
   },
   "outputs": [
    {
     "data": {
      "text/plain": [
       "929"
      ]
     },
     "execution_count": 5,
     "metadata": {},
     "output_type": "execute_result"
    }
   ],
   "source": [
    "sc2ts_file = data_dir / \"recombinants.csv\"\n",
    "df_sc2ts = pd.read_csv(sc2ts_file).set_index(\"sample_id\")\n",
    "# df_sc2ts.head(5)\n",
    "len(df_sc2ts)"
   ]
  },
  {
   "cell_type": "code",
   "execution_count": 6,
   "id": "730f4256-d06f-4a83-98f5-3e6530a80bc7",
   "metadata": {},
   "outputs": [
    {
     "data": {
      "text/plain": [
       "929"
      ]
     },
     "execution_count": 6,
     "metadata": {},
     "output_type": "execute_result"
    }
   ],
   "source": [
    "rebar_file = data_dir / \"rebar.tsv\"\n",
    "df_rebar = pd.read_csv(rebar_file, sep=\"\\t\").set_index(\"strain\")\n",
    "# df_rebar.head(5)\n",
    "len(df_rebar)"
   ]
  },
  {
   "cell_type": "code",
   "execution_count": 7,
   "id": "4c883d4d-0751-4e84-b108-72be780ddb89",
   "metadata": {
    "scrolled": true
   },
   "outputs": [
    {
     "data": {
      "text/plain": [
       "Index(['recombinant', 'descendants', 'sample', 'sample_pango', 'interval_left',\n",
       "       'interval_right', 'num_mutations', 'date_added', 'group_id',\n",
       "       'parent_left', 'parent_left_pango', 'parent_right',\n",
       "       'parent_right_pango', 'mrca', 't_mrca', 'diffs', 'max_run_length',\n",
       "       'validate', 'validate_details', 'population', 'recombinant_rebar',\n",
       "       'parents', 'breakpoints', 'edge_case', 'unique_key', 'regions',\n",
       "       'substitutions', 'genome_length', 'dataset_name', 'dataset_tag',\n",
       "       'cli_version'],\n",
       "      dtype='object')"
      ]
     },
     "execution_count": 7,
     "metadata": {},
     "output_type": "execute_result"
    }
   ],
   "source": [
    "# NOTE: recombinant in the sc2ts file is the recombinant node ID.\n",
    "dfj = df_sc2ts.join(df_rebar, rsuffix=\"_rebar\")\n",
    "dfj.columns"
   ]
  },
  {
   "cell_type": "markdown",
   "id": "f220af95-5df3-473b-b335-cc3d89ffc4aa",
   "metadata": {},
   "source": [
    "### Filter"
   ]
  },
  {
   "cell_type": "code",
   "execution_count": 8,
   "id": "3f966f06",
   "metadata": {},
   "outputs": [
    {
     "data": {
      "text/plain": [
       "161"
      ]
     },
     "execution_count": 8,
     "metadata": {},
     "output_type": "execute_result"
    }
   ],
   "source": [
    "int(sum(dfj[\"recombinant_rebar\"] == \"novel\"))"
   ]
  },
  {
   "cell_type": "markdown",
   "id": "df77bf03-2e8b-41a5-be0a-09c4cdb7e759",
   "metadata": {},
   "source": [
    "Overall, we have 161 recombinants marked as novel by rebar. Is the run_length diagnostic here in terms of picking these out?"
   ]
  },
  {
   "cell_type": "code",
   "execution_count": 9,
   "id": "81ce9e3d-4e53-4fd2-9402-39b17437a1f3",
   "metadata": {},
   "outputs": [
    {
     "data": {
      "image/png": "[encoded data removed]",
      "text/plain": [
       "<Figure size 1200x200 with 2 Axes>"
      ]
     },
     "metadata": {},
     "output_type": "display_data"
    }
   ],
   "source": [
    "novel_max_run_len = dfj[dfj[\"recombinant_rebar\"] == \"novel\"].max_run_length\n",
    "nonnovel_max_run_len = dfj[dfj[\"recombinant_rebar\"] != \"novel\"].max_run_length\n",
    "\n",
    "fig, ax = plt.subplots(1, 2, figsize=(12, 2))\n",
    "\n",
    "ax[0].hist(novel_max_run_len, bins=30, color='dodgerblue')\n",
    "ax[0].set_title(\"Novel as per rebar\")\n",
    "ax[0].set_ylabel(\"Count\")\n",
    "ax[0].set_xlabel(\"Max run length\")\n",
    "\n",
    "ax[1].hist(nonnovel_max_run_len, bins=30, color='orange')\n",
    "ax[1].set_title(\"Non-novel as per rebar\")\n",
    "ax[1].set_ylabel(\"Count\")\n",
    "ax[1].set_xlabel(\"Max run length\")\n",
    "\n",
    "plt.tight_layout()\n",
    "plt.show()"
   ]
  },
  {
   "cell_type": "markdown",
   "id": "2eba867d-1266-417d-88be-e6e89475ec1f",
   "metadata": {},
   "source": [
    "No, as it happens the vast majority of the errors have a run length of 5. So let's exclude these."
   ]
  },
  {
   "cell_type": "code",
   "execution_count": 10,
   "id": "663b1dbd-610a-485c-a71e-74a3202c4233",
   "metadata": {
    "scrolled": true
   },
   "outputs": [
    {
     "data": {
      "text/plain": [
       "578"
      ]
     },
     "execution_count": 10,
     "metadata": {},
     "output_type": "execute_result"
    }
   ],
   "source": [
    "df_hq = dfj[dfj.max_run_length != 5]\n",
    "# df_hq.head(5)\n",
    "len(df_hq)"
   ]
  },
  {
   "cell_type": "code",
   "execution_count": 11,
   "id": "56768cd0-64e1-4db7-b2f3-86a4b8141222",
   "metadata": {},
   "outputs": [
    {
     "data": {
      "text/html": [
       "<div>\n",
       "<style scoped>\n",
       "    .dataframe tbody tr th:only-of-type {\n",
       "        vertical-align: middle;\n",
       "    }\n",
       "\n",
       "    .dataframe tbody tr th {\n",
       "        vertical-align: top;\n",
       "    }\n",
       "\n",
       "    .dataframe thead th {\n",
       "        text-align: right;\n",
       "    }\n",
       "</style>\n",
       "<table border=\"1\" class=\"dataframe\">\n",
       "  <thead>\n",
       "    <tr style=\"text-align: right;\">\n",
       "      <th></th>\n",
       "      <th>count</th>\n",
       "    </tr>\n",
       "    <tr>\n",
       "      <th>lineage</th>\n",
       "      <th></th>\n",
       "    </tr>\n",
       "  </thead>\n",
       "  <tbody>\n",
       "    <tr>\n",
       "      <th>NaN</th>\n",
       "      <td>355</td>\n",
       "    </tr>\n",
       "    <tr>\n",
       "      <th>novel</th>\n",
       "      <td>155</td>\n",
       "    </tr>\n",
       "    <tr>\n",
       "      <th>XM</th>\n",
       "      <td>7</td>\n",
       "    </tr>\n",
       "    <tr>\n",
       "      <th>XS</th>\n",
       "      <td>7</td>\n",
       "    </tr>\n",
       "    <tr>\n",
       "      <th>XAS</th>\n",
       "      <td>6</td>\n",
       "    </tr>\n",
       "    <tr>\n",
       "      <th>XAN</th>\n",
       "      <td>5</td>\n",
       "    </tr>\n",
       "    <tr>\n",
       "      <th>XAB</th>\n",
       "      <td>4</td>\n",
       "    </tr>\n",
       "    <tr>\n",
       "      <th>XAP</th>\n",
       "      <td>4</td>\n",
       "    </tr>\n",
       "    <tr>\n",
       "      <th>XA</th>\n",
       "      <td>3</td>\n",
       "    </tr>\n",
       "    <tr>\n",
       "      <th>XY</th>\n",
       "      <td>3</td>\n",
       "    </tr>\n",
       "    <tr>\n",
       "      <th>XAJ</th>\n",
       "      <td>3</td>\n",
       "    </tr>\n",
       "    <tr>\n",
       "      <th>XBB</th>\n",
       "      <td>2</td>\n",
       "    </tr>\n",
       "    <tr>\n",
       "      <th>XBD</th>\n",
       "      <td>2</td>\n",
       "    </tr>\n",
       "    <tr>\n",
       "      <th>XBM</th>\n",
       "      <td>2</td>\n",
       "    </tr>\n",
       "    <tr>\n",
       "      <th>XG</th>\n",
       "      <td>2</td>\n",
       "    </tr>\n",
       "    <tr>\n",
       "      <th>XQ</th>\n",
       "      <td>1</td>\n",
       "    </tr>\n",
       "    <tr>\n",
       "      <th>XBA</th>\n",
       "      <td>1</td>\n",
       "    </tr>\n",
       "    <tr>\n",
       "      <th>XCE</th>\n",
       "      <td>1</td>\n",
       "    </tr>\n",
       "    <tr>\n",
       "      <th>XBF</th>\n",
       "      <td>1</td>\n",
       "    </tr>\n",
       "    <tr>\n",
       "      <th>XBR</th>\n",
       "      <td>1</td>\n",
       "    </tr>\n",
       "    <tr>\n",
       "      <th>XC</th>\n",
       "      <td>1</td>\n",
       "    </tr>\n",
       "    <tr>\n",
       "      <th>XBE</th>\n",
       "      <td>1</td>\n",
       "    </tr>\n",
       "    <tr>\n",
       "      <th>XBH</th>\n",
       "      <td>1</td>\n",
       "    </tr>\n",
       "    <tr>\n",
       "      <th>XF</th>\n",
       "      <td>1</td>\n",
       "    </tr>\n",
       "    <tr>\n",
       "      <th>XE</th>\n",
       "      <td>1</td>\n",
       "    </tr>\n",
       "    <tr>\n",
       "      <th>XBG</th>\n",
       "      <td>1</td>\n",
       "    </tr>\n",
       "    <tr>\n",
       "      <th>XJ</th>\n",
       "      <td>1</td>\n",
       "    </tr>\n",
       "    <tr>\n",
       "      <th>XAR</th>\n",
       "      <td>1</td>\n",
       "    </tr>\n",
       "    <tr>\n",
       "      <th>XL</th>\n",
       "      <td>1</td>\n",
       "    </tr>\n",
       "    <tr>\n",
       "      <th>XAF</th>\n",
       "      <td>1</td>\n",
       "    </tr>\n",
       "    <tr>\n",
       "      <th>XU</th>\n",
       "      <td>1</td>\n",
       "    </tr>\n",
       "    <tr>\n",
       "      <th>XW</th>\n",
       "      <td>1</td>\n",
       "    </tr>\n",
       "    <tr>\n",
       "      <th>XCT</th>\n",
       "      <td>1</td>\n",
       "    </tr>\n",
       "  </tbody>\n",
       "</table>\n",
       "</div>"
      ],
      "text/plain": [
       "         count\n",
       "lineage       \n",
       "NaN        355\n",
       "novel      155\n",
       "XM           7\n",
       "XS           7\n",
       "XAS          6\n",
       "XAN          5\n",
       "XAB          4\n",
       "XAP          4\n",
       "XA           3\n",
       "XY           3\n",
       "XAJ          3\n",
       "XBB          2\n",
       "XBD          2\n",
       "XBM          2\n",
       "XG           2\n",
       "XQ           1\n",
       "XBA          1\n",
       "XCE          1\n",
       "XBF          1\n",
       "XBR          1\n",
       "XC           1\n",
       "XBE          1\n",
       "XBH          1\n",
       "XF           1\n",
       "XE           1\n",
       "XBG          1\n",
       "XJ           1\n",
       "XAR          1\n",
       "XL           1\n",
       "XAF          1\n",
       "XU           1\n",
       "XW           1\n",
       "XCT          1"
      ]
     },
     "execution_count": 11,
     "metadata": {},
     "output_type": "execute_result"
    }
   ],
   "source": [
    "# Of the filtered sc2ts recombinants, rebar classifies:\n",
    "# non-recombinants: 355\n",
    "# novel recombinants: 155\n",
    "# known recombinants: 68\n",
    "counts = collections.Counter(df_hq[\"recombinant_rebar\"])\n",
    "df_counts = pd.DataFrame(\n",
    "    {\n",
    "        \"lineage\": counts.keys(),\n",
    "        \"count\": counts.values(),\n",
    "    }\n",
    ")\\\n",
    "    .sort_values(\"count\", ascending=False)\\\n",
    "    .set_index(\"lineage\")\n",
    "df_counts"
   ]
  },
  {
   "cell_type": "code",
   "execution_count": 12,
   "id": "935ecf61-b184-4bba-8387-a7842ab1fcb3",
   "metadata": {},
   "outputs": [
    {
     "data": {
      "text/plain": [
       "355"
      ]
     },
     "execution_count": 12,
     "metadata": {},
     "output_type": "execute_result"
    }
   ],
   "source": [
    "# TODO: Analyse these later.\n",
    "df_nonrecomb = df_hq[df_hq[\"recombinant_rebar\"].isna()]\n",
    "#df_nonrecomb.head(5)\n",
    "len(df_nonrecomb)"
   ]
  },
  {
   "cell_type": "code",
   "execution_count": 13,
   "id": "8a157690-4eae-4630-9ec9-4c439721350b",
   "metadata": {
    "scrolled": true
   },
   "outputs": [
    {
     "data": {
      "text/plain": [
       "223"
      ]
     },
     "execution_count": 13,
     "metadata": {},
     "output_type": "execute_result"
    }
   ],
   "source": [
    "df_recomb = df_hq[~df_hq[\"recombinant_rebar\"].isna()]\n",
    "# df_recomb.head(5)\n",
    "len(df_recomb)"
   ]
  },
  {
   "cell_type": "markdown",
   "id": "286b9a47-8567-4b88-8f3d-d8063789e5a8",
   "metadata": {},
   "source": [
    "Do any of these recombinants have more than one breakpoint?"
   ]
  },
  {
   "cell_type": "code",
   "execution_count": 14,
   "id": "8b05603a",
   "metadata": {},
   "outputs": [],
   "source": [
    "df_recomb = df_recomb\\\n",
    "    .assign(num_parents_rebar = [len(x.split(\",\")) for x in df_recomb[\"parents\"]])\\\n",
    "    .assign(num_breakpoints_rebar = [len(x.split(\",\")) for x in df_recomb[\"breakpoints\"]])"
   ]
  },
  {
   "cell_type": "code",
   "execution_count": 15,
   "id": "09e4dd5c",
   "metadata": {},
   "outputs": [
    {
     "data": {
      "text/plain": [
       "0"
      ]
     },
     "execution_count": 15,
     "metadata": {},
     "output_type": "execute_result"
    }
   ],
   "source": [
    "# How many recombinants have more than 2 parents as per rebar?\n",
    "sum(df_recomb[\"num_parents_rebar\"] > 2)"
   ]
  },
  {
   "cell_type": "code",
   "execution_count": 16,
   "id": "905c9727",
   "metadata": {},
   "outputs": [
    {
     "data": {
      "text/plain": [
       "7"
      ]
     },
     "execution_count": 16,
     "metadata": {},
     "output_type": "execute_result"
    }
   ],
   "source": [
    "# How many recombinants have more than 1 breakpoint as per rebar?\n",
    "sum(df_recomb[\"num_breakpoints_rebar\"] > 1)"
   ]
  },
  {
   "cell_type": "code",
   "execution_count": 17,
   "id": "c10fef19",
   "metadata": {},
   "outputs": [
    {
     "data": {
      "text/plain": [
       "216"
      ]
     },
     "execution_count": 17,
     "metadata": {},
     "output_type": "execute_result"
    }
   ],
   "source": [
    "# 7 recombinants (only 1 novel) have more than one breakpoint. Exclude them.\n",
    "df_recomb = df_recomb[\n",
    "    (df_recomb[\"num_parents_rebar\"] == 2) & \\\n",
    "    (df_recomb[\"num_breakpoints_rebar\"] == 1)\n",
    "]\n",
    "len(df_recomb)"
   ]
  },
  {
   "cell_type": "code",
   "execution_count": 18,
   "id": "f7d1a191",
   "metadata": {},
   "outputs": [
    {
     "data": {
      "text/plain": [
       "213"
      ]
     },
     "execution_count": 18,
     "metadata": {},
     "output_type": "execute_result"
    }
   ],
   "source": [
    "# 3 recombinants have \"Unknown (R)\" as per sc2ts. Exclude them.\n",
    "# TODO: Investigate them.\n",
    "df_recomb = df_recomb[\n",
    "    (df_recomb[\"parent_left_pango\"] != \"Unknown (R)\") & \\\n",
    "    (df_recomb[\"parent_right_pango\"] != \"Unknown (R)\")\n",
    "]\n",
    "len(df_recomb)"
   ]
  },
  {
   "cell_type": "markdown",
   "id": "c60bb8f6-88e8-47aa-b177-91342f0d1d29",
   "metadata": {},
   "source": [
    "### Disagreement"
   ]
  },
  {
   "cell_type": "code",
   "execution_count": 19,
   "id": "edd41e64-b3e0-4d60-aaab-ae5bf7670450",
   "metadata": {},
   "outputs": [
    {
     "name": "stderr",
     "output_type": "stream",
     "text": [
      "/var/folders/4h/9ylb643n37d8jc7srjm7qzk00000gr/T/ipykernel_33453/3416799169.py:18: SettingWithCopyWarning: \n",
      "A value is trying to be set on a copy of a slice from a DataFrame.\n",
      "Try using .loc[row_indexer,col_indexer] = value instead\n",
      "\n",
      "See the caveats in the documentation: https://pandas.pydata.org/pandas-docs/stable/user_guide/indexing.html#returning-a-view-versus-a-copy\n",
      "  df_nonrecomb[\"is_rebar_candidate\"] = is_rebar_candidate\n"
     ]
    },
    {
     "data": {
      "text/html": [
       "<div>\n",
       "<style scoped>\n",
       "    .dataframe tbody tr th:only-of-type {\n",
       "        vertical-align: middle;\n",
       "    }\n",
       "\n",
       "    .dataframe tbody tr th {\n",
       "        vertical-align: top;\n",
       "    }\n",
       "\n",
       "    .dataframe thead th {\n",
       "        text-align: right;\n",
       "    }\n",
       "</style>\n",
       "<table border=\"1\" class=\"dataframe\">\n",
       "  <thead>\n",
       "    <tr style=\"text-align: right;\">\n",
       "      <th></th>\n",
       "      <th>parent_left_pango</th>\n",
       "      <th>parent_right_pango</th>\n",
       "      <th>num_mutations</th>\n",
       "    </tr>\n",
       "    <tr>\n",
       "      <th>sample_id</th>\n",
       "      <th></th>\n",
       "      <th></th>\n",
       "      <th></th>\n",
       "    </tr>\n",
       "  </thead>\n",
       "  <tbody>\n",
       "    <tr>\n",
       "      <th>ERR6574263</th>\n",
       "      <td>AY.42</td>\n",
       "      <td>AY.125</td>\n",
       "      <td>3</td>\n",
       "    </tr>\n",
       "    <tr>\n",
       "      <th>SRR15777646</th>\n",
       "      <td>AY.75</td>\n",
       "      <td>AY.103</td>\n",
       "      <td>3</td>\n",
       "    </tr>\n",
       "    <tr>\n",
       "      <th>ERR6769488</th>\n",
       "      <td>AY.80</td>\n",
       "      <td>AY.4</td>\n",
       "      <td>3</td>\n",
       "    </tr>\n",
       "    <tr>\n",
       "      <th>ERR6681765</th>\n",
       "      <td>AY.4</td>\n",
       "      <td>AY.98</td>\n",
       "      <td>3</td>\n",
       "    </tr>\n",
       "    <tr>\n",
       "      <th>ERR6758858</th>\n",
       "      <td>AY.4</td>\n",
       "      <td>Unknown (R)</td>\n",
       "      <td>3</td>\n",
       "    </tr>\n",
       "    <tr>\n",
       "      <th>SRR16241365</th>\n",
       "      <td>AY.103</td>\n",
       "      <td>AY.98.1</td>\n",
       "      <td>3</td>\n",
       "    </tr>\n",
       "    <tr>\n",
       "      <th>ERR7343244</th>\n",
       "      <td>AY.4</td>\n",
       "      <td>AY.98</td>\n",
       "      <td>3</td>\n",
       "    </tr>\n",
       "    <tr>\n",
       "      <th>SRR16566613</th>\n",
       "      <td>AY.119</td>\n",
       "      <td>AY.3</td>\n",
       "      <td>3</td>\n",
       "    </tr>\n",
       "    <tr>\n",
       "      <th>ERR7268953</th>\n",
       "      <td>AY.4.2</td>\n",
       "      <td>AY.120</td>\n",
       "      <td>3</td>\n",
       "    </tr>\n",
       "    <tr>\n",
       "      <th>SRR20757449</th>\n",
       "      <td>AY.103</td>\n",
       "      <td>AY.44</td>\n",
       "      <td>3</td>\n",
       "    </tr>\n",
       "    <tr>\n",
       "      <th>ERR8203799</th>\n",
       "      <td>AY.4</td>\n",
       "      <td>AY.43</td>\n",
       "      <td>3</td>\n",
       "    </tr>\n",
       "    <tr>\n",
       "      <th>SRR20186337</th>\n",
       "      <td>AY.54</td>\n",
       "      <td>AY.44</td>\n",
       "      <td>3</td>\n",
       "    </tr>\n",
       "    <tr>\n",
       "      <th>SRR18098223</th>\n",
       "      <td>AY.44</td>\n",
       "      <td>AY.120.1</td>\n",
       "      <td>3</td>\n",
       "    </tr>\n",
       "    <tr>\n",
       "      <th>SRR19945157</th>\n",
       "      <td>BA.1.15</td>\n",
       "      <td>BA.1.1</td>\n",
       "      <td>3</td>\n",
       "    </tr>\n",
       "    <tr>\n",
       "      <th>SRR21340083</th>\n",
       "      <td>BA.4</td>\n",
       "      <td>BA.2</td>\n",
       "      <td>4</td>\n",
       "    </tr>\n",
       "    <tr>\n",
       "      <th>ERR10039731</th>\n",
       "      <td>BA.5.2.1</td>\n",
       "      <td>BA.2</td>\n",
       "      <td>3</td>\n",
       "    </tr>\n",
       "    <tr>\n",
       "      <th>ERR10109588</th>\n",
       "      <td>BE.1</td>\n",
       "      <td>BA.2</td>\n",
       "      <td>3</td>\n",
       "    </tr>\n",
       "    <tr>\n",
       "      <th>SRR21440711</th>\n",
       "      <td>BA.2</td>\n",
       "      <td>BA.5.2</td>\n",
       "      <td>3</td>\n",
       "    </tr>\n",
       "    <tr>\n",
       "      <th>SRR21671244</th>\n",
       "      <td>BA.5.1</td>\n",
       "      <td>BA.2</td>\n",
       "      <td>3</td>\n",
       "    </tr>\n",
       "    <tr>\n",
       "      <th>SRR21901029</th>\n",
       "      <td>BE.1</td>\n",
       "      <td>BF.4</td>\n",
       "      <td>3</td>\n",
       "    </tr>\n",
       "    <tr>\n",
       "      <th>SRR21889729</th>\n",
       "      <td>CM.4</td>\n",
       "      <td>BA.2.10</td>\n",
       "      <td>3</td>\n",
       "    </tr>\n",
       "    <tr>\n",
       "      <th>ERR10627135</th>\n",
       "      <td>BA.5.2.20</td>\n",
       "      <td>BN.1.3</td>\n",
       "      <td>3</td>\n",
       "    </tr>\n",
       "    <tr>\n",
       "      <th>ERR10706966</th>\n",
       "      <td>BQ.1</td>\n",
       "      <td>BA.2</td>\n",
       "      <td>8</td>\n",
       "    </tr>\n",
       "  </tbody>\n",
       "</table>\n",
       "</div>"
      ],
      "text/plain": [
       "            parent_left_pango parent_right_pango  num_mutations\n",
       "sample_id                                                      \n",
       "ERR6574263              AY.42             AY.125              3\n",
       "SRR15777646             AY.75             AY.103              3\n",
       "ERR6769488              AY.80               AY.4              3\n",
       "ERR6681765               AY.4              AY.98              3\n",
       "ERR6758858               AY.4        Unknown (R)              3\n",
       "SRR16241365            AY.103            AY.98.1              3\n",
       "ERR7343244               AY.4              AY.98              3\n",
       "SRR16566613            AY.119               AY.3              3\n",
       "ERR7268953             AY.4.2             AY.120              3\n",
       "SRR20757449            AY.103              AY.44              3\n",
       "ERR8203799               AY.4              AY.43              3\n",
       "SRR20186337             AY.54              AY.44              3\n",
       "SRR18098223             AY.44           AY.120.1              3\n",
       "SRR19945157           BA.1.15             BA.1.1              3\n",
       "SRR21340083              BA.4               BA.2              4\n",
       "ERR10039731          BA.5.2.1               BA.2              3\n",
       "ERR10109588              BE.1               BA.2              3\n",
       "SRR21440711              BA.2             BA.5.2              3\n",
       "SRR21671244            BA.5.1               BA.2              3\n",
       "SRR21901029              BE.1               BF.4              3\n",
       "SRR21889729              CM.4            BA.2.10              3\n",
       "ERR10627135         BA.5.2.20             BN.1.3              3\n",
       "ERR10706966              BQ.1               BA.2              8"
      ]
     },
     "execution_count": 19,
     "metadata": {},
     "output_type": "execute_result"
    }
   ],
   "source": [
    "import copy\n",
    "\n",
    "df_nonrecomb[\n",
    "  (df_nonrecomb[\"num_mutations\"] >= 3) & (df_nonrecomb[\"parent_left_pango\"] != df_nonrecomb[\"parent_right_pango\"])\n",
    "][[\"parent_left_pango\", \"parent_right_pango\"]]\n",
    "\n",
    "is_rebar_candidate = [False for _ in range(0, len(df_nonrecomb))]\n",
    "for i,data in enumerate(df_nonrecomb.iterrows()):\n",
    "    index, row = data\n",
    "    if row[\"num_mutations\"] < 3: continue\n",
    "    # Check for equivalent or sister taxa\n",
    "    p1, p2 = row[\"parent_left_pango\"], row[\"parent_right_pango\"]\n",
    "    if p1 == p2: continue\n",
    "    anc, desc = pango.get_ancestors(p1), pango.get_descendants(p1)\n",
    "    if p2 in anc or p2 in desc: continue         \n",
    "    is_rebar_candidate[i] = True\n",
    "\n",
    "df_nonrecomb[\"is_rebar_candidate\"] = is_rebar_candidate\n",
    "df_nonrecomb[df_nonrecomb[\"is_rebar_candidate\"]][[\"parent_left_pango\", \"parent_right_pango\", \"num_mutations\"]]"
   ]
  },
  {
   "cell_type": "markdown",
   "id": "44999b50-6a1a-4ba0-a959-167dd538d9f4",
   "metadata": {},
   "source": [
    "### Compare parent Pango identities"
   ]
  },
  {
   "cell_type": "code",
   "execution_count": 20,
   "id": "e8772b32",
   "metadata": {},
   "outputs": [],
   "source": [
    "df_recomb = df_recomb\\\n",
    "    .assign(parent_left_rebar = [x.split(\",\")[0] for x in df_recomb[\"parents\"]])\\\n",
    "    .assign(parent_right_rebar = [x.split(\",\")[1] for x in df_recomb[\"parents\"]])\\\n",
    "    .assign(breakpoint_left_rebar = [int(x.split(\"-\")[0]) for x in df_recomb[\"breakpoints\"]])\\\n",
    "    .assign(breakpoint_right_rebar = [int(x.split(\"-\")[1]) for x in df_recomb[\"breakpoints\"]])"
   ]
  },
  {
   "cell_type": "code",
   "execution_count": 23,
   "id": "df9fe240-04e9-4263-aab3-2fb12d3ec9be",
   "metadata": {},
   "outputs": [],
   "source": [
    "is_parents_concordant = np.zeros(len(df_recomb), dtype=bool)\n",
    "i = 0\n",
    "for index, row in df_recomb.iterrows():\n",
    "    concordant_count = 0\n",
    "    for p in [\"left\", \"right\"]:\n",
    "        p_rebar = row[f\"parent_{p}_rebar\"]\n",
    "        anc_rebar = pango.get_ancestors(p_rebar)\n",
    "        desc_rebar = pango.get_descendants(p_rebar)\n",
    "        p_sc2ts = row[f\"parent_{p}_pango\"]\n",
    "\n",
    "        concordant = (p_rebar == p_sc2ts) or \\\n",
    "            (p_sc2ts in anc_rebar) or \\\n",
    "            (p_sc2ts in desc_rebar)\n",
    "        # TBD: We could put a distance check here to make sure they're not\n",
    "        # extremely distant related.\n",
    "        concordant_count += 1 if concordant else 0\n",
    "\n",
    "    # If both parents are concordant\n",
    "    if concordant_count == 2:\n",
    "        is_parents_concordant[i] = 1\n",
    "    i +=1\n",
    "df_recomb = df_recomb.assign(is_parents_concordant = is_parents_concordant)"
   ]
  },
  {
   "cell_type": "code",
   "execution_count": 24,
   "id": "db952228-aebd-4998-a3a9-a0345fb70771",
   "metadata": {},
   "outputs": [
    {
     "name": "stdout",
     "output_type": "stream",
     "text": [
      "Concordant Parents: 182/213 (85.4%)\n"
     ]
    }
   ],
   "source": [
    "num_concordant = len(df_recomb[df_recomb['is_parents_concordant']])\n",
    "perc_concordant = round((num_concordant / len(df_recomb) ) * 100, 1)\n",
    "print(f\"Concordant Parents: {num_concordant}/{len(df_recomb)} ({perc_concordant}%)\")"
   ]
  },
  {
   "cell_type": "code",
   "execution_count": 25,
   "id": "7a216dbc",
   "metadata": {},
   "outputs": [
    {
     "data": {
      "text/html": [
       "<div>\n",
       "<style scoped>\n",
       "    .dataframe tbody tr th:only-of-type {\n",
       "        vertical-align: middle;\n",
       "    }\n",
       "\n",
       "    .dataframe tbody tr th {\n",
       "        vertical-align: top;\n",
       "    }\n",
       "\n",
       "    .dataframe thead th {\n",
       "        text-align: right;\n",
       "    }\n",
       "</style>\n",
       "<table border=\"1\" class=\"dataframe\">\n",
       "  <thead>\n",
       "    <tr style=\"text-align: right;\">\n",
       "      <th></th>\n",
       "      <th>descendants</th>\n",
       "      <th>sample_pango</th>\n",
       "      <th>parent_left_pango</th>\n",
       "      <th>parent_left_rebar</th>\n",
       "      <th>parent_right_pango</th>\n",
       "      <th>parent_right_rebar</th>\n",
       "    </tr>\n",
       "    <tr>\n",
       "      <th>sample_id</th>\n",
       "      <th></th>\n",
       "      <th></th>\n",
       "      <th></th>\n",
       "      <th></th>\n",
       "      <th></th>\n",
       "      <th></th>\n",
       "    </tr>\n",
       "  </thead>\n",
       "  <tbody>\n",
       "    <tr>\n",
       "      <th>ERR5238288</th>\n",
       "      <td>1</td>\n",
       "      <td>B.1.177.9</td>\n",
       "      <td>B.1.1.7</td>\n",
       "      <td>B.1.1.7</td>\n",
       "      <td>B.1.177.9</td>\n",
       "      <td>B.1.177.10</td>\n",
       "    </tr>\n",
       "    <tr>\n",
       "      <th>ERR6457057</th>\n",
       "      <td>1</td>\n",
       "      <td>AY.9</td>\n",
       "      <td>AY.4.7</td>\n",
       "      <td>AY.4.2</td>\n",
       "      <td>AY.9.2</td>\n",
       "      <td>AY.9.2</td>\n",
       "    </tr>\n",
       "    <tr>\n",
       "      <th>SRR15800623</th>\n",
       "      <td>1</td>\n",
       "      <td>B.1.617.2</td>\n",
       "      <td>B.1.617.2</td>\n",
       "      <td>AY.100</td>\n",
       "      <td>AY.10</td>\n",
       "      <td>AY.67</td>\n",
       "    </tr>\n",
       "    <tr>\n",
       "      <th>SRR16063537</th>\n",
       "      <td>21</td>\n",
       "      <td>B.1.617.2</td>\n",
       "      <td>AY.26</td>\n",
       "      <td>AY.11</td>\n",
       "      <td>AY.3</td>\n",
       "      <td>AY.3</td>\n",
       "    </tr>\n",
       "    <tr>\n",
       "      <th>SRR15982371</th>\n",
       "      <td>1</td>\n",
       "      <td>B.1.617.2</td>\n",
       "      <td>AY.25</td>\n",
       "      <td>AY.23</td>\n",
       "      <td>AY.26</td>\n",
       "      <td>AY.26</td>\n",
       "    </tr>\n",
       "    <tr>\n",
       "      <th>ERR8213432</th>\n",
       "      <td>1</td>\n",
       "      <td>AY.43</td>\n",
       "      <td>AY.43</td>\n",
       "      <td>AY.43</td>\n",
       "      <td>AY.4</td>\n",
       "      <td>AY.86</td>\n",
       "    </tr>\n",
       "    <tr>\n",
       "      <th>SRR20940538</th>\n",
       "      <td>2</td>\n",
       "      <td>B.1.617.2</td>\n",
       "      <td>AY.25</td>\n",
       "      <td>AY.121.1</td>\n",
       "      <td>AY.44</td>\n",
       "      <td>AY.87</td>\n",
       "    </tr>\n",
       "    <tr>\n",
       "      <th>SRR20358773</th>\n",
       "      <td>1</td>\n",
       "      <td>BA.1.15</td>\n",
       "      <td>AY.25</td>\n",
       "      <td>AY.41</td>\n",
       "      <td>BA.1.15</td>\n",
       "      <td>BA.1.15.3</td>\n",
       "    </tr>\n",
       "    <tr>\n",
       "      <th>ERR8691075</th>\n",
       "      <td>152</td>\n",
       "      <td>XQ</td>\n",
       "      <td>BA.1.1.15</td>\n",
       "      <td>BA.1.1</td>\n",
       "      <td>BA.2.9</td>\n",
       "      <td>BA.2.23</td>\n",
       "    </tr>\n",
       "    <tr>\n",
       "      <th>ERR8985886</th>\n",
       "      <td>1</td>\n",
       "      <td>BA.2</td>\n",
       "      <td>BA.2</td>\n",
       "      <td>BA.2.2</td>\n",
       "      <td>BA.1.1</td>\n",
       "      <td>XZ</td>\n",
       "    </tr>\n",
       "    <tr>\n",
       "      <th>ERR9215243</th>\n",
       "      <td>3</td>\n",
       "      <td>BA.2</td>\n",
       "      <td>BA.2.10</td>\n",
       "      <td>BA.2.10</td>\n",
       "      <td>BA.2</td>\n",
       "      <td>BA.1</td>\n",
       "    </tr>\n",
       "    <tr>\n",
       "      <th>ERR9262073</th>\n",
       "      <td>1</td>\n",
       "      <td>BA.2</td>\n",
       "      <td>BA.2.9</td>\n",
       "      <td>BA.2.1</td>\n",
       "      <td>BA.1.15</td>\n",
       "      <td>BA.1.15</td>\n",
       "    </tr>\n",
       "    <tr>\n",
       "      <th>ERR9327284</th>\n",
       "      <td>1</td>\n",
       "      <td>XM</td>\n",
       "      <td>BA.1.16</td>\n",
       "      <td>BA.1.16</td>\n",
       "      <td>BA.2.37</td>\n",
       "      <td>BA.2.12</td>\n",
       "    </tr>\n",
       "    <tr>\n",
       "      <th>ERR9809853</th>\n",
       "      <td>2</td>\n",
       "      <td>BA.4</td>\n",
       "      <td>BA.4</td>\n",
       "      <td>XAS</td>\n",
       "      <td>BA.2</td>\n",
       "      <td>BA.2.35</td>\n",
       "    </tr>\n",
       "    <tr>\n",
       "      <th>ERR9858123</th>\n",
       "      <td>2</td>\n",
       "      <td>BA.4</td>\n",
       "      <td>BE.1</td>\n",
       "      <td>BA.4</td>\n",
       "      <td>BA.2</td>\n",
       "      <td>BA.2.21</td>\n",
       "    </tr>\n",
       "    <tr>\n",
       "      <th>SRR20118013</th>\n",
       "      <td>1</td>\n",
       "      <td>XAS</td>\n",
       "      <td>BA.5.5</td>\n",
       "      <td>BA.4</td>\n",
       "      <td>BA.2.12</td>\n",
       "      <td>BA.2</td>\n",
       "    </tr>\n",
       "    <tr>\n",
       "      <th>SRR20916680</th>\n",
       "      <td>1</td>\n",
       "      <td>BE.1</td>\n",
       "      <td>BE.1</td>\n",
       "      <td>BE.1.3</td>\n",
       "      <td>BF.8</td>\n",
       "      <td>BF.36</td>\n",
       "    </tr>\n",
       "    <tr>\n",
       "      <th>SRR21042659</th>\n",
       "      <td>2</td>\n",
       "      <td>BA.2.12.1</td>\n",
       "      <td>BA.5.5</td>\n",
       "      <td>BA.2.21</td>\n",
       "      <td>BA.2.12.1</td>\n",
       "      <td>BG.5</td>\n",
       "    </tr>\n",
       "    <tr>\n",
       "      <th>ERR10109642</th>\n",
       "      <td>1</td>\n",
       "      <td>BA.4</td>\n",
       "      <td>BF.5</td>\n",
       "      <td>BF.24</td>\n",
       "      <td>BA.2</td>\n",
       "      <td>XAS</td>\n",
       "    </tr>\n",
       "    <tr>\n",
       "      <th>SRR21370028</th>\n",
       "      <td>1</td>\n",
       "      <td>BA.5.2</td>\n",
       "      <td>BA.4.6</td>\n",
       "      <td>BA.4.6</td>\n",
       "      <td>BA.5.2.21</td>\n",
       "      <td>BA.5.2.6</td>\n",
       "    </tr>\n",
       "    <tr>\n",
       "      <th>SRR21382433</th>\n",
       "      <td>1</td>\n",
       "      <td>BF.3</td>\n",
       "      <td>BF.3</td>\n",
       "      <td>BF.3</td>\n",
       "      <td>BA.4</td>\n",
       "      <td>XW</td>\n",
       "    </tr>\n",
       "    <tr>\n",
       "      <th>SRR21458174</th>\n",
       "      <td>1</td>\n",
       "      <td>BA.4</td>\n",
       "      <td>BA.5.5</td>\n",
       "      <td>BA.4</td>\n",
       "      <td>BA.2</td>\n",
       "      <td>BA.2.21</td>\n",
       "    </tr>\n",
       "    <tr>\n",
       "      <th>SRR21737519</th>\n",
       "      <td>4</td>\n",
       "      <td>BA.5.2.1</td>\n",
       "      <td>BA.2.18</td>\n",
       "      <td>BA.2.75</td>\n",
       "      <td>BF.26</td>\n",
       "      <td>BF.26</td>\n",
       "    </tr>\n",
       "    <tr>\n",
       "      <th>SRR21795806</th>\n",
       "      <td>4</td>\n",
       "      <td>BA.5.2.1</td>\n",
       "      <td>BA.5.1.22</td>\n",
       "      <td>BA.5.1.8</td>\n",
       "      <td>BA.5.2.1</td>\n",
       "      <td>BF.38</td>\n",
       "    </tr>\n",
       "    <tr>\n",
       "      <th>SRR21868921</th>\n",
       "      <td>2</td>\n",
       "      <td>BA.5.2.1</td>\n",
       "      <td>BA.4.6</td>\n",
       "      <td>BA.4.6</td>\n",
       "      <td>BF.8</td>\n",
       "      <td>BF.30</td>\n",
       "    </tr>\n",
       "    <tr>\n",
       "      <th>ERR10381145</th>\n",
       "      <td>6</td>\n",
       "      <td>XBH</td>\n",
       "      <td>BA.2</td>\n",
       "      <td>BF.7</td>\n",
       "      <td>BA.2.75.2</td>\n",
       "      <td>BA.2.75.2</td>\n",
       "    </tr>\n",
       "    <tr>\n",
       "      <th>SRR21948388</th>\n",
       "      <td>1</td>\n",
       "      <td>BA.5.2</td>\n",
       "      <td>BA.5.2.19</td>\n",
       "      <td>BA.5.2.26</td>\n",
       "      <td>BF.10</td>\n",
       "      <td>BF.10</td>\n",
       "    </tr>\n",
       "    <tr>\n",
       "      <th>ERR10427736</th>\n",
       "      <td>1</td>\n",
       "      <td>BE.1</td>\n",
       "      <td>BF.7.13.1</td>\n",
       "      <td>BF.7.13.2</td>\n",
       "      <td>BE.1</td>\n",
       "      <td>BE.1.1</td>\n",
       "    </tr>\n",
       "    <tr>\n",
       "      <th>SRR22973069</th>\n",
       "      <td>2</td>\n",
       "      <td>BQ.1.1</td>\n",
       "      <td>BA.5.6</td>\n",
       "      <td>BA.5.6.2</td>\n",
       "      <td>BQ.1.22</td>\n",
       "      <td>BQ.1.1</td>\n",
       "    </tr>\n",
       "    <tr>\n",
       "      <th>ERR10756327</th>\n",
       "      <td>185</td>\n",
       "      <td>XBF</td>\n",
       "      <td>BA.5.2.1</td>\n",
       "      <td>BA.5.2.3</td>\n",
       "      <td>BM.1.1.1</td>\n",
       "      <td>CJ.1</td>\n",
       "    </tr>\n",
       "    <tr>\n",
       "      <th>ERR10839902</th>\n",
       "      <td>2</td>\n",
       "      <td>XBB.1</td>\n",
       "      <td>BQ.1</td>\n",
       "      <td>BQ.1</td>\n",
       "      <td>XBB.1.5.18</td>\n",
       "      <td>XCE</td>\n",
       "    </tr>\n",
       "  </tbody>\n",
       "</table>\n",
       "</div>"
      ],
      "text/plain": [
       "             descendants sample_pango parent_left_pango parent_left_rebar  \\\n",
       "sample_id                                                                   \n",
       "ERR5238288             1    B.1.177.9           B.1.1.7           B.1.1.7   \n",
       "ERR6457057             1         AY.9            AY.4.7            AY.4.2   \n",
       "SRR15800623            1    B.1.617.2         B.1.617.2            AY.100   \n",
       "SRR16063537           21    B.1.617.2             AY.26             AY.11   \n",
       "SRR15982371            1    B.1.617.2             AY.25             AY.23   \n",
       "ERR8213432             1        AY.43             AY.43             AY.43   \n",
       "SRR20940538            2    B.1.617.2             AY.25          AY.121.1   \n",
       "SRR20358773            1      BA.1.15             AY.25             AY.41   \n",
       "ERR8691075           152           XQ         BA.1.1.15            BA.1.1   \n",
       "ERR8985886             1         BA.2              BA.2            BA.2.2   \n",
       "ERR9215243             3         BA.2           BA.2.10           BA.2.10   \n",
       "ERR9262073             1         BA.2            BA.2.9            BA.2.1   \n",
       "ERR9327284             1           XM           BA.1.16           BA.1.16   \n",
       "ERR9809853             2         BA.4              BA.4               XAS   \n",
       "ERR9858123             2         BA.4              BE.1              BA.4   \n",
       "SRR20118013            1          XAS            BA.5.5              BA.4   \n",
       "SRR20916680            1         BE.1              BE.1            BE.1.3   \n",
       "SRR21042659            2    BA.2.12.1            BA.5.5           BA.2.21   \n",
       "ERR10109642            1         BA.4              BF.5             BF.24   \n",
       "SRR21370028            1       BA.5.2            BA.4.6            BA.4.6   \n",
       "SRR21382433            1         BF.3              BF.3              BF.3   \n",
       "SRR21458174            1         BA.4            BA.5.5              BA.4   \n",
       "SRR21737519            4     BA.5.2.1           BA.2.18           BA.2.75   \n",
       "SRR21795806            4     BA.5.2.1         BA.5.1.22          BA.5.1.8   \n",
       "SRR21868921            2     BA.5.2.1            BA.4.6            BA.4.6   \n",
       "ERR10381145            6          XBH              BA.2              BF.7   \n",
       "SRR21948388            1       BA.5.2         BA.5.2.19         BA.5.2.26   \n",
       "ERR10427736            1         BE.1         BF.7.13.1         BF.7.13.2   \n",
       "SRR22973069            2       BQ.1.1            BA.5.6          BA.5.6.2   \n",
       "ERR10756327          185          XBF          BA.5.2.1          BA.5.2.3   \n",
       "ERR10839902            2        XBB.1              BQ.1              BQ.1   \n",
       "\n",
       "            parent_right_pango parent_right_rebar  \n",
       "sample_id                                          \n",
       "ERR5238288           B.1.177.9         B.1.177.10  \n",
       "ERR6457057              AY.9.2             AY.9.2  \n",
       "SRR15800623              AY.10              AY.67  \n",
       "SRR16063537               AY.3               AY.3  \n",
       "SRR15982371              AY.26              AY.26  \n",
       "ERR8213432                AY.4              AY.86  \n",
       "SRR20940538              AY.44              AY.87  \n",
       "SRR20358773            BA.1.15          BA.1.15.3  \n",
       "ERR8691075              BA.2.9            BA.2.23  \n",
       "ERR8985886              BA.1.1                 XZ  \n",
       "ERR9215243                BA.2               BA.1  \n",
       "ERR9262073             BA.1.15            BA.1.15  \n",
       "ERR9327284             BA.2.37            BA.2.12  \n",
       "ERR9809853                BA.2            BA.2.35  \n",
       "ERR9858123                BA.2            BA.2.21  \n",
       "SRR20118013            BA.2.12               BA.2  \n",
       "SRR20916680               BF.8              BF.36  \n",
       "SRR21042659          BA.2.12.1               BG.5  \n",
       "ERR10109642               BA.2                XAS  \n",
       "SRR21370028          BA.5.2.21           BA.5.2.6  \n",
       "SRR21382433               BA.4                 XW  \n",
       "SRR21458174               BA.2            BA.2.21  \n",
       "SRR21737519              BF.26              BF.26  \n",
       "SRR21795806           BA.5.2.1              BF.38  \n",
       "SRR21868921               BF.8              BF.30  \n",
       "ERR10381145          BA.2.75.2          BA.2.75.2  \n",
       "SRR21948388              BF.10              BF.10  \n",
       "ERR10427736               BE.1             BE.1.1  \n",
       "SRR22973069            BQ.1.22             BQ.1.1  \n",
       "ERR10756327           BM.1.1.1               CJ.1  \n",
       "ERR10839902         XBB.1.5.18                XCE  "
      ]
     },
     "execution_count": 25,
     "metadata": {},
     "output_type": "execute_result"
    }
   ],
   "source": [
    "pd.set_option('display.max_rows', 100)\n",
    "df_recomb.loc[\n",
    "    ~df_recomb[\"is_parents_concordant\"],\n",
    "    [\n",
    "        \"descendants\",\n",
    "        \"sample_pango\",\n",
    "        \"parent_left_pango\",    # sc2ts\n",
    "        \"parent_left_rebar\",\n",
    "        \"parent_right_pango\",   # sc2ts\n",
    "        \"parent_right_rebar\",\n",
    "    ]\n",
    "]"
   ]
  },
  {
   "cell_type": "markdown",
   "id": "1e15cce1-b02f-403e-bd69-66cea794f387",
   "metadata": {},
   "source": [
    "### Breakpoint intervals"
   ]
  },
  {
   "cell_type": "code",
   "execution_count": 28,
   "id": "171bb349",
   "metadata": {},
   "outputs": [
    {
     "data": {
      "text/html": [
       "<div>\n",
       "<style scoped>\n",
       "    .dataframe tbody tr th:only-of-type {\n",
       "        vertical-align: middle;\n",
       "    }\n",
       "\n",
       "    .dataframe tbody tr th {\n",
       "        vertical-align: top;\n",
       "    }\n",
       "\n",
       "    .dataframe thead th {\n",
       "        text-align: right;\n",
       "    }\n",
       "</style>\n",
       "<table border=\"1\" class=\"dataframe\">\n",
       "  <thead>\n",
       "    <tr style=\"text-align: right;\">\n",
       "      <th></th>\n",
       "      <th>interval_left</th>\n",
       "      <th>interval_right</th>\n",
       "      <th>breakpoint_left_rebar</th>\n",
       "      <th>breakpoint_right_rebar</th>\n",
       "      <th>is_overlap_with_rebar</th>\n",
       "    </tr>\n",
       "    <tr>\n",
       "      <th>sample_id</th>\n",
       "      <th></th>\n",
       "      <th></th>\n",
       "      <th></th>\n",
       "      <th></th>\n",
       "      <th></th>\n",
       "    </tr>\n",
       "  </thead>\n",
       "  <tbody>\n",
       "    <tr>\n",
       "      <th>ERR4437465</th>\n",
       "      <td>8783</td>\n",
       "      <td>13617</td>\n",
       "      <td>8783</td>\n",
       "      <td>14407</td>\n",
       "      <td>True</td>\n",
       "    </tr>\n",
       "    <tr>\n",
       "      <th>ERR4615866</th>\n",
       "      <td>15325</td>\n",
       "      <td>21855</td>\n",
       "      <td>15325</td>\n",
       "      <td>20660</td>\n",
       "      <td>True</td>\n",
       "    </tr>\n",
       "    <tr>\n",
       "      <th>ERR4671078</th>\n",
       "      <td>22993</td>\n",
       "      <td>25563</td>\n",
       "      <td>22993</td>\n",
       "      <td>25562</td>\n",
       "      <td>True</td>\n",
       "    </tr>\n",
       "    <tr>\n",
       "      <th>ERR4786984</th>\n",
       "      <td>27871</td>\n",
       "      <td>27944</td>\n",
       "      <td>26802</td>\n",
       "      <td>27943</td>\n",
       "      <td>True</td>\n",
       "    </tr>\n",
       "    <tr>\n",
       "      <th>ERR4793705</th>\n",
       "      <td>22993</td>\n",
       "      <td>25505</td>\n",
       "      <td>22993</td>\n",
       "      <td>25504</td>\n",
       "      <td>True</td>\n",
       "    </tr>\n",
       "    <tr>\n",
       "      <th>...</th>\n",
       "      <td>...</td>\n",
       "      <td>...</td>\n",
       "      <td>...</td>\n",
       "      <td>...</td>\n",
       "      <td>...</td>\n",
       "    </tr>\n",
       "    <tr>\n",
       "      <th>ERR10839848</th>\n",
       "      <td>19327</td>\n",
       "      <td>20741</td>\n",
       "      <td>18584</td>\n",
       "      <td>20740</td>\n",
       "      <td>True</td>\n",
       "    </tr>\n",
       "    <tr>\n",
       "      <th>SRR23358540</th>\n",
       "      <td>9867</td>\n",
       "      <td>12160</td>\n",
       "      <td>11751</td>\n",
       "      <td>12159</td>\n",
       "      <td>True</td>\n",
       "    </tr>\n",
       "    <tr>\n",
       "      <th>ERR10931828</th>\n",
       "      <td>19887</td>\n",
       "      <td>21811</td>\n",
       "      <td>19887</td>\n",
       "      <td>21810</td>\n",
       "      <td>True</td>\n",
       "    </tr>\n",
       "    <tr>\n",
       "      <th>ERR10921923</th>\n",
       "      <td>20742</td>\n",
       "      <td>21767</td>\n",
       "      <td>20742</td>\n",
       "      <td>22000</td>\n",
       "      <td>True</td>\n",
       "    </tr>\n",
       "    <tr>\n",
       "      <th>ERR10933490</th>\n",
       "      <td>27916</td>\n",
       "      <td>29729</td>\n",
       "      <td>22897</td>\n",
       "      <td>22941</td>\n",
       "      <td>False</td>\n",
       "    </tr>\n",
       "  </tbody>\n",
       "</table>\n",
       "<p>213 rows × 5 columns</p>\n",
       "</div>"
      ],
      "text/plain": [
       "             interval_left  interval_right  breakpoint_left_rebar  \\\n",
       "sample_id                                                           \n",
       "ERR4437465            8783           13617                   8783   \n",
       "ERR4615866           15325           21855                  15325   \n",
       "ERR4671078           22993           25563                  22993   \n",
       "ERR4786984           27871           27944                  26802   \n",
       "ERR4793705           22993           25505                  22993   \n",
       "...                    ...             ...                    ...   \n",
       "ERR10839848          19327           20741                  18584   \n",
       "SRR23358540           9867           12160                  11751   \n",
       "ERR10931828          19887           21811                  19887   \n",
       "ERR10921923          20742           21767                  20742   \n",
       "ERR10933490          27916           29729                  22897   \n",
       "\n",
       "             breakpoint_right_rebar  is_overlap_with_rebar  \n",
       "sample_id                                                   \n",
       "ERR4437465                    14407                   True  \n",
       "ERR4615866                    20660                   True  \n",
       "ERR4671078                    25562                   True  \n",
       "ERR4786984                    27943                   True  \n",
       "ERR4793705                    25504                   True  \n",
       "...                             ...                    ...  \n",
       "ERR10839848                   20740                   True  \n",
       "SRR23358540                   12159                   True  \n",
       "ERR10931828                   21810                   True  \n",
       "ERR10921923                   22000                   True  \n",
       "ERR10933490                   22941                  False  \n",
       "\n",
       "[213 rows x 5 columns]"
      ]
     },
     "execution_count": 28,
     "metadata": {},
     "output_type": "execute_result"
    }
   ],
   "source": [
    "# TODO: Refactor and move to utils.\n",
    "def overlap_breakpoint_intervals(*, rebar_interval, sc2ts_interval):\n",
    "    assert rebar_interval[0] < rebar_interval[1]\n",
    "    assert sc2ts_interval[0] < sc2ts_interval[1]\n",
    "    # NOTE: rebar reports closed intervals spanning regions ambiguously assigned to parents.\n",
    "    # Adjust the rebar coordinates so they are comparable to sc2ts.\n",
    "    rebar_interval_adj = (rebar_interval[0] - 1, rebar_interval[1] + 1)\n",
    "    rebar_size = rebar_interval_adj[1] - rebar_interval_adj[0]\n",
    "    sc2ts_size = sc2ts_interval[1] - sc2ts_interval[0]\n",
    "    def _get_overlap(a, b):\n",
    "        return max(0, min(a[1], b[1]) - max(a[0], b[0]))\n",
    "    overlap_size = _get_overlap(a=rebar_interval_adj, b=sc2ts_interval)\n",
    "    is_overlap_with_rebar = overlap_size > 0\n",
    "    overlap_rebar_size_ratio = overlap_size / rebar_size\n",
    "    sc2ts_rebar_size_ratio = sc2ts_size / rebar_size\n",
    "    interval_distance = max(\n",
    "        0,\n",
    "        max(\n",
    "            rebar_interval_adj[0] - sc2ts_interval[1],\n",
    "            sc2ts_interval[0] - rebar_interval_adj[1],\n",
    "        )\n",
    "    )\n",
    "    return (\n",
    "        is_overlap_with_rebar,\n",
    "        overlap_rebar_size_ratio,\n",
    "        sc2ts_rebar_size_ratio,\n",
    "        interval_distance,\n",
    "    )\n",
    "\n",
    "\n",
    "is_overlap_with_rebar = np.zeros(len(df_recomb), dtype=bool)\n",
    "overlap_rebar_size_ratio = np.zeros(len(df_recomb), dtype=np.float32)\n",
    "sc2ts_rebar_size_ratio = np.zeros(len(df_recomb), dtype=np.float32)\n",
    "interval_distance = np.zeros(len(df_recomb), dtype=np.float32)\n",
    "\n",
    "i = 0\n",
    "for index, row in df_recomb.iterrows():\n",
    "    (\n",
    "        is_overlap_with_rebar[i], \n",
    "        overlap_rebar_size_ratio[i], \n",
    "        sc2ts_rebar_size_ratio[i],\n",
    "        interval_distance[i],\n",
    "    ) = overlap_breakpoint_intervals(\n",
    "        rebar_interval=(row[\"breakpoint_left_rebar\"], row[\"breakpoint_right_rebar\"]),\n",
    "        sc2ts_interval=(row[\"interval_left\"], row[\"interval_right\"]),\n",
    "    )\n",
    "    i += 1\n",
    "\n",
    "df_recomb = df_recomb\\\n",
    "    .assign(is_overlap_with_rebar = is_overlap_with_rebar)\\\n",
    "    .assign(overlap_rebar_size_ratio = overlap_rebar_size_ratio)\\\n",
    "    .assign(sc2ts_rebar_size_ratio = sc2ts_rebar_size_ratio)\\\n",
    "    .assign(interval_distance = interval_distance)\n",
    "\n",
    "df_recomb[\n",
    "    [\n",
    "        \"interval_left\",\n",
    "        \"interval_right\",\n",
    "        \"breakpoint_left_rebar\",\n",
    "        \"breakpoint_right_rebar\",\n",
    "        \"is_overlap_with_rebar\",\n",
    "    ]\n",
    "]"
   ]
  },
  {
   "cell_type": "code",
   "execution_count": 29,
   "id": "09948367-d0e7-4c0c-9dc8-45a698d8d1b2",
   "metadata": {},
   "outputs": [
    {
     "name": "stdout",
     "output_type": "stream",
     "text": [
      "Concordant Breakpoints: 201/213 (94.4%)\n"
     ]
    }
   ],
   "source": [
    "num_concordant = len(df_recomb[df_recomb['is_overlap_with_rebar']])\n",
    "perc_concordant = round((num_concordant / len(df_recomb) ) * 100, 1)\n",
    "print(f\"Concordant Breakpoints: {num_concordant}/{len(df_recomb)} ({perc_concordant}%)\")"
   ]
  },
  {
   "cell_type": "markdown",
   "id": "5d3be10b-43a8-4955-9feb-12dae822b878",
   "metadata": {},
   "source": [
    "### Plot"
   ]
  },
  {
   "cell_type": "code",
   "execution_count": 30,
   "id": "80062211",
   "metadata": {},
   "outputs": [],
   "source": [
    "import matplotlib.pyplot as plt\n",
    "\n",
    "# TODO: Refactor and move to utils.\n",
    "def plot_breakpoint_interval_properties(df, title):\n",
    "    fig, ax = plt.subplots(nrows=1, ncols=3, figsize=(12, 2))\n",
    "    fig.suptitle(title)\n",
    "    ax[0].set_ylabel(\"Number of recombinants\")\n",
    "    ax[0].set_xlabel(\"Interval overlap size / rebar interval size\")\n",
    "    ax[0].hist(df[\"overlap_rebar_size_ratio\"], bins=30)\n",
    "    ax[1].set_xlabel(\"sc2ts interval size / rebar interval size\")\n",
    "    ax[1].hist(df[\"sc2ts_rebar_size_ratio\"], bins=30)\n",
    "    ax[2].set_xlabel(\"Distance between intervals\")\n",
    "    ax[2].hist(df[\"interval_distance\"], bins=30, log=True);"
   ]
  },
  {
   "cell_type": "code",
   "execution_count": 31,
   "id": "ac5dff6d",
   "metadata": {},
   "outputs": [
    {
     "data": {
      "image/png": "[encoded data removed]",
      "text/plain": [
       "<Figure size 1200x200 with 3 Axes>"
      ]
     },
     "metadata": {},
     "output_type": "display_data"
    }
   ],
   "source": [
    "plot_breakpoint_interval_properties(df_recomb, title=\"Breakpoint intervals: All recombinants\")"
   ]
  },
  {
   "cell_type": "code",
   "execution_count": 32,
   "id": "2c4ccb19",
   "metadata": {},
   "outputs": [
    {
     "data": {
      "image/png": "[encoded data removed]",
      "text/plain": [
       "<Figure size 1200x200 with 3 Axes>"
      ]
     },
     "metadata": {},
     "output_type": "display_data"
    }
   ],
   "source": [
    "plot_breakpoint_interval_properties(\n",
    "    df_recomb[df_recomb[\"recombinant_rebar\"] == \"novel\"],\n",
    "    title=\"Breakpoint intervals: Novel recombinants\",\n",
    ")"
   ]
  },
  {
   "cell_type": "code",
   "execution_count": 33,
   "id": "c909877c",
   "metadata": {},
   "outputs": [
    {
     "data": {
      "image/png": "[encoded data removed]",
      "text/plain": [
       "<Figure size 1200x200 with 3 Axes>"
      ]
     },
     "metadata": {},
     "output_type": "display_data"
    }
   ],
   "source": [
    "plot_breakpoint_interval_properties(\n",
    "    df_recomb[df_recomb[\"recombinant_rebar\"] != \"novel\"],\n",
    "    title=\"Breakpoint intervals: Known recombinants\",\n",
    ")"
   ]
  },
  {
   "cell_type": "code",
   "execution_count": 34,
   "id": "a84dcbbf",
   "metadata": {},
   "outputs": [
    {
     "data": {
      "text/html": [
       "<div>\n",
       "<style scoped>\n",
       "    .dataframe tbody tr th:only-of-type {\n",
       "        vertical-align: middle;\n",
       "    }\n",
       "\n",
       "    .dataframe tbody tr th {\n",
       "        vertical-align: top;\n",
       "    }\n",
       "\n",
       "    .dataframe thead th {\n",
       "        text-align: right;\n",
       "    }\n",
       "</style>\n",
       "<table border=\"1\" class=\"dataframe\">\n",
       "  <thead>\n",
       "    <tr style=\"text-align: right;\">\n",
       "      <th></th>\n",
       "      <th>sample_pango</th>\n",
       "      <th>recombinant_rebar</th>\n",
       "      <th>descendants</th>\n",
       "      <th>interval_left</th>\n",
       "      <th>interval_right</th>\n",
       "      <th>breakpoint_left_rebar</th>\n",
       "      <th>breakpoint_right_rebar</th>\n",
       "      <th>overlap_rebar_size_ratio</th>\n",
       "      <th>sc2ts_rebar_size_ratio</th>\n",
       "      <th>interval_distance</th>\n",
       "    </tr>\n",
       "    <tr>\n",
       "      <th>sample_id</th>\n",
       "      <th></th>\n",
       "      <th></th>\n",
       "      <th></th>\n",
       "      <th></th>\n",
       "      <th></th>\n",
       "      <th></th>\n",
       "      <th></th>\n",
       "      <th></th>\n",
       "      <th></th>\n",
       "      <th></th>\n",
       "    </tr>\n",
       "  </thead>\n",
       "  <tbody>\n",
       "    <tr>\n",
       "      <th>ERR9755541</th>\n",
       "      <td>BA.2</td>\n",
       "      <td>XAB</td>\n",
       "      <td>36</td>\n",
       "      <td>10199</td>\n",
       "      <td>10447</td>\n",
       "      <td>9535</td>\n",
       "      <td>10197</td>\n",
       "      <td>0.0</td>\n",
       "      <td>0.373494</td>\n",
       "      <td>1.0</td>\n",
       "    </tr>\n",
       "    <tr>\n",
       "      <th>ERR9909297</th>\n",
       "      <td>BA.5.1</td>\n",
       "      <td>XAN</td>\n",
       "      <td>1</td>\n",
       "      <td>18569</td>\n",
       "      <td>21767</td>\n",
       "      <td>9867</td>\n",
       "      <td>12524</td>\n",
       "      <td>0.0</td>\n",
       "      <td>1.202708</td>\n",
       "      <td>6044.0</td>\n",
       "    </tr>\n",
       "    <tr>\n",
       "      <th>ERR10462353</th>\n",
       "      <td>XBB</td>\n",
       "      <td>XBB</td>\n",
       "      <td>6455</td>\n",
       "      <td>22332</td>\n",
       "      <td>22577</td>\n",
       "      <td>22897</td>\n",
       "      <td>22941</td>\n",
       "      <td>0.0</td>\n",
       "      <td>5.326087</td>\n",
       "      <td>319.0</td>\n",
       "    </tr>\n",
       "    <tr>\n",
       "      <th>ERR10933490</th>\n",
       "      <td>XBB.1.5.4</td>\n",
       "      <td>XBB</td>\n",
       "      <td>2</td>\n",
       "      <td>27916</td>\n",
       "      <td>29729</td>\n",
       "      <td>22897</td>\n",
       "      <td>22941</td>\n",
       "      <td>0.0</td>\n",
       "      <td>39.413044</td>\n",
       "      <td>4974.0</td>\n",
       "    </tr>\n",
       "    <tr>\n",
       "      <th>SRR16063537</th>\n",
       "      <td>B.1.617.2</td>\n",
       "      <td>novel</td>\n",
       "      <td>21</td>\n",
       "      <td>21319</td>\n",
       "      <td>22227</td>\n",
       "      <td>13020</td>\n",
       "      <td>19515</td>\n",
       "      <td>0.0</td>\n",
       "      <td>0.139757</td>\n",
       "      <td>1803.0</td>\n",
       "    </tr>\n",
       "    <tr>\n",
       "      <th>ERR7273201</th>\n",
       "      <td>AY.4</td>\n",
       "      <td>novel</td>\n",
       "      <td>2</td>\n",
       "      <td>17041</td>\n",
       "      <td>19220</td>\n",
       "      <td>21615</td>\n",
       "      <td>25332</td>\n",
       "      <td>0.0</td>\n",
       "      <td>0.585910</td>\n",
       "      <td>2394.0</td>\n",
       "    </tr>\n",
       "    <tr>\n",
       "      <th>SRR20940538</th>\n",
       "      <td>B.1.617.2</td>\n",
       "      <td>novel</td>\n",
       "      <td>2</td>\n",
       "      <td>14015</td>\n",
       "      <td>14818</td>\n",
       "      <td>19816</td>\n",
       "      <td>19858</td>\n",
       "      <td>0.0</td>\n",
       "      <td>18.250000</td>\n",
       "      <td>4997.0</td>\n",
       "    </tr>\n",
       "    <tr>\n",
       "      <th>SRR19942335</th>\n",
       "      <td>BA.2</td>\n",
       "      <td>novel</td>\n",
       "      <td>1</td>\n",
       "      <td>15010</td>\n",
       "      <td>21721</td>\n",
       "      <td>22793</td>\n",
       "      <td>22916</td>\n",
       "      <td>0.0</td>\n",
       "      <td>53.688000</td>\n",
       "      <td>1071.0</td>\n",
       "    </tr>\n",
       "    <tr>\n",
       "      <th>ERR10019912</th>\n",
       "      <td>BA.5.1</td>\n",
       "      <td>novel</td>\n",
       "      <td>4</td>\n",
       "      <td>13612</td>\n",
       "      <td>17750</td>\n",
       "      <td>24701</td>\n",
       "      <td>25854</td>\n",
       "      <td>0.0</td>\n",
       "      <td>3.582684</td>\n",
       "      <td>6950.0</td>\n",
       "    </tr>\n",
       "    <tr>\n",
       "      <th>SRR20916680</th>\n",
       "      <td>BE.1</td>\n",
       "      <td>novel</td>\n",
       "      <td>1</td>\n",
       "      <td>25827</td>\n",
       "      <td>27038</td>\n",
       "      <td>17286</td>\n",
       "      <td>25333</td>\n",
       "      <td>0.0</td>\n",
       "      <td>0.150453</td>\n",
       "      <td>493.0</td>\n",
       "    </tr>\n",
       "    <tr>\n",
       "      <th>SRR21457722</th>\n",
       "      <td>BA.5.1.25</td>\n",
       "      <td>novel</td>\n",
       "      <td>1</td>\n",
       "      <td>25050</td>\n",
       "      <td>27438</td>\n",
       "      <td>12311</td>\n",
       "      <td>23201</td>\n",
       "      <td>0.0</td>\n",
       "      <td>0.219243</td>\n",
       "      <td>1848.0</td>\n",
       "    </tr>\n",
       "    <tr>\n",
       "      <th>SRR21868921</th>\n",
       "      <td>BA.5.2.1</td>\n",
       "      <td>novel</td>\n",
       "      <td>2</td>\n",
       "      <td>23536</td>\n",
       "      <td>23587</td>\n",
       "      <td>25917</td>\n",
       "      <td>26528</td>\n",
       "      <td>0.0</td>\n",
       "      <td>0.083197</td>\n",
       "      <td>2329.0</td>\n",
       "    </tr>\n",
       "  </tbody>\n",
       "</table>\n",
       "</div>"
      ],
      "text/plain": [
       "            sample_pango recombinant_rebar  descendants  interval_left  \\\n",
       "sample_id                                                                \n",
       "ERR9755541          BA.2               XAB           36          10199   \n",
       "ERR9909297        BA.5.1               XAN            1          18569   \n",
       "ERR10462353          XBB               XBB         6455          22332   \n",
       "ERR10933490    XBB.1.5.4               XBB            2          27916   \n",
       "SRR16063537    B.1.617.2             novel           21          21319   \n",
       "ERR7273201          AY.4             novel            2          17041   \n",
       "SRR20940538    B.1.617.2             novel            2          14015   \n",
       "SRR19942335         BA.2             novel            1          15010   \n",
       "ERR10019912       BA.5.1             novel            4          13612   \n",
       "SRR20916680         BE.1             novel            1          25827   \n",
       "SRR21457722    BA.5.1.25             novel            1          25050   \n",
       "SRR21868921     BA.5.2.1             novel            2          23536   \n",
       "\n",
       "             interval_right  breakpoint_left_rebar  breakpoint_right_rebar  \\\n",
       "sample_id                                                                    \n",
       "ERR9755541            10447                   9535                   10197   \n",
       "ERR9909297            21767                   9867                   12524   \n",
       "ERR10462353           22577                  22897                   22941   \n",
       "ERR10933490           29729                  22897                   22941   \n",
       "SRR16063537           22227                  13020                   19515   \n",
       "ERR7273201            19220                  21615                   25332   \n",
       "SRR20940538           14818                  19816                   19858   \n",
       "SRR19942335           21721                  22793                   22916   \n",
       "ERR10019912           17750                  24701                   25854   \n",
       "SRR20916680           27038                  17286                   25333   \n",
       "SRR21457722           27438                  12311                   23201   \n",
       "SRR21868921           23587                  25917                   26528   \n",
       "\n",
       "             overlap_rebar_size_ratio  sc2ts_rebar_size_ratio  \\\n",
       "sample_id                                                       \n",
       "ERR9755541                        0.0                0.373494   \n",
       "ERR9909297                        0.0                1.202708   \n",
       "ERR10462353                       0.0                5.326087   \n",
       "ERR10933490                       0.0               39.413044   \n",
       "SRR16063537                       0.0                0.139757   \n",
       "ERR7273201                        0.0                0.585910   \n",
       "SRR20940538                       0.0               18.250000   \n",
       "SRR19942335                       0.0               53.688000   \n",
       "ERR10019912                       0.0                3.582684   \n",
       "SRR20916680                       0.0                0.150453   \n",
       "SRR21457722                       0.0                0.219243   \n",
       "SRR21868921                       0.0                0.083197   \n",
       "\n",
       "             interval_distance  \n",
       "sample_id                       \n",
       "ERR9755541                 1.0  \n",
       "ERR9909297              6044.0  \n",
       "ERR10462353              319.0  \n",
       "ERR10933490             4974.0  \n",
       "SRR16063537             1803.0  \n",
       "ERR7273201              2394.0  \n",
       "SRR20940538             4997.0  \n",
       "SRR19942335             1071.0  \n",
       "ERR10019912             6950.0  \n",
       "SRR20916680              493.0  \n",
       "SRR21457722             1848.0  \n",
       "SRR21868921             2329.0  "
      ]
     },
     "execution_count": 34,
     "metadata": {},
     "output_type": "execute_result"
    }
   ],
   "source": [
    "# Cases where the breakpoint intervals do not overlap.\n",
    "df_recomb.loc[\n",
    "    ~df_recomb[\"is_overlap_with_rebar\"],\n",
    "    [\n",
    "        \"sample_pango\",\n",
    "        \"recombinant_rebar\",\n",
    "        \"descendants\",\n",
    "        \"interval_left\",\n",
    "        \"interval_right\",\n",
    "        \"breakpoint_left_rebar\",\n",
    "        \"breakpoint_right_rebar\",\n",
    "        \"overlap_rebar_size_ratio\",\n",
    "        \"sc2ts_rebar_size_ratio\",\n",
    "        \"interval_distance\",\n",
    "    ]\n",
    "].sort_values(by=\"recombinant_rebar\")"
   ]
  },
  {
   "cell_type": "markdown",
   "id": "cd3f9c5f-f6b4-45dc-a2f3-c4785bd2ae08",
   "metadata": {},
   "source": [
    "## Summary\n",
    "\n",
    "### Recombinants\n",
    "\n",
    "- There are 213 recombinants detected by both `rebar` and `sc2ts`.\n",
    "- 182/213 (85.4%) have concordant parents, based on a non-sister taxa relationship.\n",
    "- 201/213 (94.4%) have overlapping breakpoints.\n",
    "- Parents that are not concordant tend to be close sister taxa (ex. `BA.5.2.21` vs. `BA.5.2.6`).\n",
    "\n",
    "### Non-Recombinants\n",
    "\n",
    "- There are 355 recombinants detected by `sc2ts` but not `rebar`.\n",
    "- Only 23/355 are rebar candidates (based on number of mutations, parents as sister taxa)."
   ]
  },
  {
   "cell_type": "code",
   "execution_count": null,
   "id": "66bf5ab7-b08b-467c-8f9f-fbb9a36a95c4",
   "metadata": {},
   "outputs": [],
   "source": []
  }
 ],
 "metadata": {
  "kernelspec": {
   "display_name": "Python 3",
   "language": "python",
   "name": "python3"
  },
  "language_info": {
   "codemirror_mode": {
    "name": "ipython",
    "version": 3
   },
   "file_extension": ".py",
   "mimetype": "text/x-python",
   "name": "python",
   "nbconvert_exporter": "python",
   "pygments_lexer": "ipython3",
   "version": "3.10.14"
  }
 },
 "nbformat": 4,
 "nbformat_minor": 5
}
