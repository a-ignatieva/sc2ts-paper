{
 "cells": [
  {
   "cell_type": "code",
   "execution_count": 1,
   "id": "180b70e7-85b0-4188-b80d-2ad7639ef6b8",
   "metadata": {},
   "outputs": [],
   "source": [
    "import pandas as pd\n",
    "import sc2ts\n",
    "import tszip\n",
    "import numpy as np\n",
    "import matplotlib.pyplot as plt\n",
    "import pathlib"
   ]
  },
  {
   "cell_type": "code",
   "execution_count": 2,
   "id": "675f2c6d-e1da-4482-899b-81e2f40b650a",
   "metadata": {},
   "outputs": [],
   "source": [
    "datadir = pathlib.Path(\"../data\")"
   ]
  },
  {
   "cell_type": "code",
   "execution_count": 3,
   "id": "c8881004-cd29-4474-9c67-163fc44683fc",
   "metadata": {},
   "outputs": [],
   "source": [
    "def ts_summary(ts):\n",
    "    return {\"samples\": ts.num_samples, \"sites\": ts.num_sites, \"mutations\": ts.num_mutations}"
   ]
  },
  {
   "cell_type": "markdown",
   "id": "5afcffbe-d782-4074-ab0f-deaa1ab72b25",
   "metadata": {},
   "source": [
    "# Comparison of UShER and sc2ts on Viridian data"
   ]
  },
  {
   "cell_type": "code",
   "execution_count": 4,
   "id": "c1bc00a9-36a4-42a8-82b2-4c40453e2f68",
   "metadata": {},
   "outputs": [],
   "source": [
    "ts_usher_full = tszip.load(datadir/\"usher_viridian_v1.0.trees.tsz\")"
   ]
  },
  {
   "cell_type": "code",
   "execution_count": 5,
   "id": "cd167ac0-de8b-4827-ab69-889aed2fbd1b",
   "metadata": {},
   "outputs": [
    {
     "data": {
      "text/plain": [
       "{'samples': 4471579, 'sites': 27508, 'mutations': 3364841}"
      ]
     },
     "execution_count": 5,
     "metadata": {},
     "output_type": "execute_result"
    }
   ],
   "source": [
    "ts_summary(ts_usher_full)"
   ]
  },
  {
   "cell_type": "markdown",
   "id": "1df09ce1-609e-4428-bd74-042e696c1786",
   "metadata": {},
   "source": [
    "Comparison with sc2ts is complicated because there's several versions. \n",
    "\n",
    "- The \"base\" ARG is the (almost) the raw output of sc2ts inference, with a few minor bits of postprocessing done\n",
    "- The \"final\" ARG is the one that we release on Zenodo, which has deletions etc mapped on to it\n",
    "- The \"intersection\" ARGs are then the ARGs that are most comparable between sc2ts and UShER."
   ]
  },
  {
   "cell_type": "code",
   "execution_count": 6,
   "id": "d5b09d7f-4c69-493e-94db-dc6680181b3b",
   "metadata": {},
   "outputs": [
    {
     "data": {
      "text/plain": [
       "{'samples': 2482157, 'sites': 29803, 'mutations': 1906167}"
      ]
     },
     "execution_count": 6,
     "metadata": {},
     "output_type": "execute_result"
    }
   ],
   "source": [
    "ts_sc2ts_base = tszip.load(\"../arg_postprocessing/sc2ts_v1_2023-02-21_pr_pp.trees\")\n",
    "ts_summary(ts_sc2ts_base)"
   ]
  },
  {
   "cell_type": "code",
   "execution_count": 7,
   "id": "a30b078b-2863-46eb-8c92-e3fc31331a04",
   "metadata": {},
   "outputs": [],
   "source": [
    "ts_sc2ts_final = tszip.load(datadir / \"sc2ts_viridian_v1.2.trees.tsz\")"
   ]
  },
  {
   "cell_type": "code",
   "execution_count": 8,
   "id": "21f55993-4a65-4aba-bcaa-a69eca450c2e",
   "metadata": {
    "scrolled": true
   },
   "outputs": [
    {
     "data": {
      "text/plain": [
       "{'samples': 2482157, 'sites': 29893, 'mutations': 2285344}"
      ]
     },
     "execution_count": 8,
     "metadata": {},
     "output_type": "execute_result"
    }
   ],
   "source": [
    "ts_summary(ts_sc2ts_final)"
   ]
  },
  {
   "cell_type": "code",
   "execution_count": 10,
   "id": "f75f4b95-bedc-43ea-ac46-a2c21bb9d01c",
   "metadata": {},
   "outputs": [
    {
     "data": {
      "text/plain": [
       "379177"
      ]
     },
     "execution_count": 10,
     "metadata": {},
     "output_type": "execute_result"
    }
   ],
   "source": [
    "ts_sc2ts_final.num_mutations - ts_sc2ts_base.num_mutations"
   ]
  },
  {
   "cell_type": "markdown",
   "id": "936d3159-9177-480f-a99a-a4b54b9c1c43",
   "metadata": {},
   "source": [
    "We have 379177 extra mutations as a result of the site remapping."
   ]
  },
  {
   "cell_type": "code",
   "execution_count": 65,
   "id": "1db66288-bacd-4a4c-8f18-c2ee0e28ebd7",
   "metadata": {},
   "outputs": [],
   "source": [
    "# https://gist.github.com/alimanfoo/c5977e87111abe8127453b21204c1065\n",
    "def find_runs(x):\n",
    "    \"\"\"Find runs of consecutive items in an array.\"\"\"\n",
    "    \n",
    "    # ensure array\n",
    "    x = np.asanyarray(x)\n",
    "    if x.ndim != 1:\n",
    "        raise ValueError(\"only 1D array supported\")\n",
    "    n = x.shape[0]\n",
    "\n",
    "    # handle empty array\n",
    "    if n == 0:\n",
    "        return np.array([]), np.array([]), np.array([])\n",
    "    \n",
    "    else:\n",
    "        # find run starts\n",
    "        loc_run_start = np.empty(n, dtype=bool)\n",
    "        loc_run_start[0] = True\n",
    "        np.not_equal(x[:-1], x[1:], out=loc_run_start[1:])\n",
    "        run_starts = np.nonzero(loc_run_start)[0]\n",
    "\n",
    "        # find run values\n",
    "        run_values = x[loc_run_start]\n",
    "        # find run lengths\n",
    "        run_lengths = np.diff(np.append(run_starts, n))\n",
    "        return run_values, run_starts, run_lengths\n",
    "\n",
    "\n",
    "def add_genes_to_axis(ax):\n",
    "    genes = sc2ts.get_gene_coordinates()\n",
    "    mids = []\n",
    "    for j, (gene, (left, right)) in enumerate(genes.items()):\n",
    "        mids.append(left + (right - left) / 2)\n",
    "        # FIXME totally arbitrary choice of colours, use something better!\n",
    "        colour = \"black\"\n",
    "        if j % 2 == 1:\n",
    "            colour = \"green\"\n",
    "        ax.axvspan(left, right, color=colour, alpha=0.1, zorder=0)\n",
    "\n",
    "    ax2 = ax.secondary_xaxis(\"top\")\n",
    "    ax2.tick_params(axis=\"x\")\n",
    "    ax2.set_xticks(mids, minor=False)\n",
    "    ax2.set_xticklabels(list(genes.keys()), rotation=\"vertical\")\n",
    "\n",
    "\n",
    "def plot_per_site_count(pos, count, annotate_threshold):\n",
    "    fig, ax = plt.subplots(1, 1, figsize=(16, 4))\n",
    "    ax.plot(pos, count)\n",
    "    add_genes_to_axis(ax)\n",
    "    threshold = np.max(count) * annotate_threshold\n",
    "\n",
    "    # Show runs of sites exceeding threshold\n",
    "    for v, start, length in zip(*find_runs(count > threshold)):\n",
    "        if v:\n",
    "            end = start + length\n",
    "            x, y = int(pos[start]), int(pos[min(len(pos) - 1, end)])\n",
    "            if x == y - 1:\n",
    "                label = f\"{x}\"\n",
    "            else:\n",
    "                label = f\"{x}-{y}\"\n",
    "            plt.annotate(label, xy=(x, count[start]), xycoords=\"data\")\n",
    "    ax.set_xlabel(\"Position on genome\")\n",
    "    return fig, ax\n",
    "\n",
    "\n",
    "def plot_mutations_per_site(ts, annotate_threshold=0.9):\n",
    "  \n",
    "    count = np.bincount(ts.mutations_site, minlength=ts.num_sites)\n",
    "    fig, ax = plot_per_site_count(ts.sites_position, count, annotate_threshold)\n",
    "    zero_fraction = np.sum(count == 0) / ts.num_sites\n",
    "    mean_per_site = np.mean(count)\n",
    "    ax.annotate(\n",
    "        f\"{zero_fraction * 100:.2f}% sites have 0 mutations\\n\"\n",
    "        f\"{mean_per_site: .2f} mutations per site\",\n",
    "        xy=(ts.sites_position[0], np.max(count)),\n",
    "        xycoords=\"data\",\n",
    "    )\n",
    "    ax.set_ylabel(\"Number of mutations\")\n"
   ]
  },
  {
   "cell_type": "code",
   "execution_count": 66,
   "id": "fe8fb192-89f2-4829-ac0d-b2322b3ee9ba",
   "metadata": {},
   "outputs": [
    {
     "data": {
      "image/png": "[encoded data removed]",
      "text/plain": [
       "<Figure size 1600x400 with 1 Axes>"
      ]
     },
     "metadata": {},
     "output_type": "display_data"
    }
   ],
   "source": [
    "plot_mutations_per_site(ts_sc2ts_base)"
   ]
  },
  {
   "cell_type": "code",
   "execution_count": 21,
   "id": "99c5fa41-b751-4c51-b27b-f8828a7ae2eb",
   "metadata": {},
   "outputs": [
    {
     "data": {
      "image/png": "[encoded data removed]",
      "text/plain": [
       "<Figure size 1600x400 with 1 Axes>"
      ]
     },
     "metadata": {},
     "output_type": "display_data"
    }
   ],
   "source": [
    "plot_mutations_per_site(ts_usher_full, annotate_threshold=0.5)"
   ]
  },
  {
   "cell_type": "code",
   "execution_count": 22,
   "id": "1621cffd-fc1b-420a-9ab2-6ae177bfa2a7",
   "metadata": {},
   "outputs": [
    {
     "data": {
      "image/png": "[encoded data removed]",
      "text/plain": [
       "<Figure size 1600x400 with 1 Axes>"
      ]
     },
     "metadata": {},
     "output_type": "display_data"
    }
   ],
   "source": [
    "plot_mutations_per_site(ts_sc2ts_final, annotate_threshold=0.2)"
   ]
  },
  {
   "cell_type": "markdown",
   "id": "d171d2fc-4b4e-41cf-8261-695189e91a95",
   "metadata": {},
   "source": [
    "These are all hard to compare. The sc2ts ARG is using a different set of sites, and when we've mapped back in deletions it's not easy to see how to compare these fairly.\n",
    "\n",
    "So, we compute the intersection between the two ARGs, reporting on the subset of both for that share the same samples and sites.\n",
    "\n",
    "# Intersection comparison"
   ]
  },
  {
   "cell_type": "code",
   "execution_count": 15,
   "id": "1727f754-edfb-4421-8dd8-39235953f6a8",
   "metadata": {},
   "outputs": [
    {
     "data": {
      "text/plain": [
       "{'samples': 2475418, 'sites': 27507, 'mutations': 2078370}"
      ]
     },
     "execution_count": 15,
     "metadata": {},
     "output_type": "execute_result"
    }
   ],
   "source": [
    "ts_sc2ts_inter = tszip.load(datadir / \"sc2ts_viridian_inter_v1.2.trees.tsz\")\n",
    "ts_summary(ts_sc2ts_inter)"
   ]
  },
  {
   "cell_type": "code",
   "execution_count": 16,
   "id": "772a5a24-4df6-48fd-97c7-d9b11ce47953",
   "metadata": {
    "scrolled": true
   },
   "outputs": [
    {
     "data": {
      "text/plain": [
       "{'samples': 2475418, 'sites': 27507, 'mutations': 1934680}"
      ]
     },
     "execution_count": 16,
     "metadata": {},
     "output_type": "execute_result"
    }
   ],
   "source": [
    "ts_usher_inter = tszip.load(datadir / \"usher_viridian_inter_v1.2.trees.tsz\")\n",
    "ts_summary(ts_usher_inter)"
   ]
  },
  {
   "cell_type": "code",
   "execution_count": 96,
   "id": "5f1ce2d3-99ba-4887-80c3-e52827a81d4e",
   "metadata": {},
   "outputs": [
    {
     "data": {
      "text/plain": [
       "143690"
      ]
     },
     "execution_count": 96,
     "metadata": {},
     "output_type": "execute_result"
    }
   ],
   "source": [
    "ts_sc2ts_inter.num_mutations - ts_usher_inter.num_mutations"
   ]
  },
  {
   "cell_type": "code",
   "execution_count": 23,
   "id": "b3f934d0-1845-4646-9b97-72659d4debc5",
   "metadata": {},
   "outputs": [
    {
     "data": {
      "image/png": "[encoded data removed]",
      "text/plain": [
       "<Figure size 1600x400 with 1 Axes>"
      ]
     },
     "metadata": {},
     "output_type": "display_data"
    }
   ],
   "source": [
    "plot_mutations_per_site(ts_sc2ts_inter, annotate_threshold=0.3)"
   ]
  },
  {
   "cell_type": "code",
   "execution_count": 24,
   "id": "3744b956-7bda-4104-a7f5-dbb09d61f468",
   "metadata": {},
   "outputs": [
    {
     "data": {
      "image/png": "[encoded data removed]",
      "text/plain": [
       "<Figure size 1600x400 with 1 Axes>"
      ]
     },
     "metadata": {},
     "output_type": "display_data"
    }
   ],
   "source": [
    "plot_mutations_per_site(ts_usher_inter, annotate_threshold=0.9)"
   ]
  },
  {
   "cell_type": "code",
   "execution_count": 25,
   "id": "5724572d-6571-4a1a-a706-4461746b0b84",
   "metadata": {},
   "outputs": [
    {
     "data": {
      "text/html": [
       "<div>\n",
       "<style scoped>\n",
       "    .dataframe tbody tr th:only-of-type {\n",
       "        vertical-align: middle;\n",
       "    }\n",
       "\n",
       "    .dataframe tbody tr th {\n",
       "        vertical-align: top;\n",
       "    }\n",
       "\n",
       "    .dataframe thead th {\n",
       "        text-align: right;\n",
       "    }\n",
       "</style>\n",
       "<table border=\"1\" class=\"dataframe\">\n",
       "  <thead>\n",
       "    <tr style=\"text-align: right;\">\n",
       "      <th></th>\n",
       "      <th>mutation_id</th>\n",
       "      <th>position</th>\n",
       "      <th>parent</th>\n",
       "      <th>node</th>\n",
       "      <th>inherited_state</th>\n",
       "      <th>derived_state</th>\n",
       "      <th>date</th>\n",
       "    </tr>\n",
       "  </thead>\n",
       "  <tbody>\n",
       "    <tr>\n",
       "      <th>0</th>\n",
       "      <td>0</td>\n",
       "      <td>269</td>\n",
       "      <td>-1</td>\n",
       "      <td>2721238</td>\n",
       "      <td>G</td>\n",
       "      <td>A</td>\n",
       "      <td>2020-12-16</td>\n",
       "    </tr>\n",
       "    <tr>\n",
       "      <th>1</th>\n",
       "      <td>1</td>\n",
       "      <td>269</td>\n",
       "      <td>-1</td>\n",
       "      <td>74546</td>\n",
       "      <td>G</td>\n",
       "      <td>A</td>\n",
       "      <td>2021-01-04</td>\n",
       "    </tr>\n",
       "    <tr>\n",
       "      <th>2</th>\n",
       "      <td>2</td>\n",
       "      <td>269</td>\n",
       "      <td>-1</td>\n",
       "      <td>97151</td>\n",
       "      <td>G</td>\n",
       "      <td>A</td>\n",
       "      <td>2021-01-27</td>\n",
       "    </tr>\n",
       "    <tr>\n",
       "      <th>3</th>\n",
       "      <td>3</td>\n",
       "      <td>269</td>\n",
       "      <td>-1</td>\n",
       "      <td>97236</td>\n",
       "      <td>G</td>\n",
       "      <td>A</td>\n",
       "      <td>2021-01-27</td>\n",
       "    </tr>\n",
       "    <tr>\n",
       "      <th>4</th>\n",
       "      <td>4</td>\n",
       "      <td>269</td>\n",
       "      <td>-1</td>\n",
       "      <td>114666</td>\n",
       "      <td>G</td>\n",
       "      <td>A</td>\n",
       "      <td>2021-02-12</td>\n",
       "    </tr>\n",
       "    <tr>\n",
       "      <th>...</th>\n",
       "      <td>...</td>\n",
       "      <td>...</td>\n",
       "      <td>...</td>\n",
       "      <td>...</td>\n",
       "      <td>...</td>\n",
       "      <td>...</td>\n",
       "      <td>...</td>\n",
       "    </tr>\n",
       "    <tr>\n",
       "      <th>2078365</th>\n",
       "      <td>2078365</td>\n",
       "      <td>29671</td>\n",
       "      <td>-1</td>\n",
       "      <td>1100325</td>\n",
       "      <td>A</td>\n",
       "      <td>G</td>\n",
       "      <td>2022-07-02</td>\n",
       "    </tr>\n",
       "    <tr>\n",
       "      <th>2078366</th>\n",
       "      <td>2078366</td>\n",
       "      <td>29671</td>\n",
       "      <td>-1</td>\n",
       "      <td>2497100</td>\n",
       "      <td>A</td>\n",
       "      <td>G</td>\n",
       "      <td>2022-07-08</td>\n",
       "    </tr>\n",
       "    <tr>\n",
       "      <th>2078367</th>\n",
       "      <td>2078367</td>\n",
       "      <td>29671</td>\n",
       "      <td>-1</td>\n",
       "      <td>1113651</td>\n",
       "      <td>A</td>\n",
       "      <td>G</td>\n",
       "      <td>2022-07-12</td>\n",
       "    </tr>\n",
       "    <tr>\n",
       "      <th>2078368</th>\n",
       "      <td>2078368</td>\n",
       "      <td>29671</td>\n",
       "      <td>-1</td>\n",
       "      <td>1167429</td>\n",
       "      <td>A</td>\n",
       "      <td>G</td>\n",
       "      <td>2022-09-10</td>\n",
       "    </tr>\n",
       "    <tr>\n",
       "      <th>2078369</th>\n",
       "      <td>2078369</td>\n",
       "      <td>29671</td>\n",
       "      <td>-1</td>\n",
       "      <td>1203202</td>\n",
       "      <td>A</td>\n",
       "      <td>T</td>\n",
       "      <td>2022-11-14</td>\n",
       "    </tr>\n",
       "  </tbody>\n",
       "</table>\n",
       "<p>2078370 rows × 7 columns</p>\n",
       "</div>"
      ],
      "text/plain": [
       "         mutation_id  position  parent     node inherited_state derived_state  \\\n",
       "0                  0       269      -1  2721238               G             A   \n",
       "1                  1       269      -1    74546               G             A   \n",
       "2                  2       269      -1    97151               G             A   \n",
       "3                  3       269      -1    97236               G             A   \n",
       "4                  4       269      -1   114666               G             A   \n",
       "...              ...       ...     ...      ...             ...           ...   \n",
       "2078365      2078365     29671      -1  1100325               A             G   \n",
       "2078366      2078366     29671      -1  2497100               A             G   \n",
       "2078367      2078367     29671      -1  1113651               A             G   \n",
       "2078368      2078368     29671      -1  1167429               A             G   \n",
       "2078369      2078369     29671      -1  1203202               A             T   \n",
       "\n",
       "              date  \n",
       "0       2020-12-16  \n",
       "1       2021-01-04  \n",
       "2       2021-01-27  \n",
       "3       2021-01-27  \n",
       "4       2021-02-12  \n",
       "...            ...  \n",
       "2078365 2022-07-02  \n",
       "2078366 2022-07-08  \n",
       "2078367 2022-07-12  \n",
       "2078368 2022-09-10  \n",
       "2078369 2022-11-14  \n",
       "\n",
       "[2078370 rows x 7 columns]"
      ]
     },
     "execution_count": 25,
     "metadata": {},
     "output_type": "execute_result"
    }
   ],
   "source": [
    "dfm_sc2ts_inter = sc2ts.mutation_data(ts_sc2ts_inter, inheritance_stats=False)\n",
    "dfm_sc2ts_inter"
   ]
  },
  {
   "cell_type": "code",
   "execution_count": 26,
   "id": "1bfe2863-c70d-43ea-a652-5a0209211f9d",
   "metadata": {},
   "outputs": [
    {
     "data": {
      "text/html": [
       "<div>\n",
       "<style scoped>\n",
       "    .dataframe tbody tr th:only-of-type {\n",
       "        vertical-align: middle;\n",
       "    }\n",
       "\n",
       "    .dataframe tbody tr th {\n",
       "        vertical-align: top;\n",
       "    }\n",
       "\n",
       "    .dataframe thead th {\n",
       "        text-align: right;\n",
       "    }\n",
       "</style>\n",
       "<table border=\"1\" class=\"dataframe\">\n",
       "  <thead>\n",
       "    <tr style=\"text-align: right;\">\n",
       "      <th></th>\n",
       "      <th>mutation_id</th>\n",
       "      <th>position</th>\n",
       "      <th>parent</th>\n",
       "      <th>node</th>\n",
       "      <th>inherited_state</th>\n",
       "      <th>derived_state</th>\n",
       "    </tr>\n",
       "  </thead>\n",
       "  <tbody>\n",
       "    <tr>\n",
       "      <th>0</th>\n",
       "      <td>0</td>\n",
       "      <td>269</td>\n",
       "      <td>-1</td>\n",
       "      <td>2950593</td>\n",
       "      <td>G</td>\n",
       "      <td>A</td>\n",
       "    </tr>\n",
       "    <tr>\n",
       "      <th>1</th>\n",
       "      <td>1</td>\n",
       "      <td>269</td>\n",
       "      <td>-1</td>\n",
       "      <td>74546</td>\n",
       "      <td>G</td>\n",
       "      <td>A</td>\n",
       "    </tr>\n",
       "    <tr>\n",
       "      <th>2</th>\n",
       "      <td>2</td>\n",
       "      <td>269</td>\n",
       "      <td>-1</td>\n",
       "      <td>2941538</td>\n",
       "      <td>G</td>\n",
       "      <td>A</td>\n",
       "    </tr>\n",
       "    <tr>\n",
       "      <th>3</th>\n",
       "      <td>3</td>\n",
       "      <td>269</td>\n",
       "      <td>-1</td>\n",
       "      <td>2930168</td>\n",
       "      <td>G</td>\n",
       "      <td>A</td>\n",
       "    </tr>\n",
       "    <tr>\n",
       "      <th>4</th>\n",
       "      <td>4</td>\n",
       "      <td>269</td>\n",
       "      <td>-1</td>\n",
       "      <td>2810634</td>\n",
       "      <td>G</td>\n",
       "      <td>A</td>\n",
       "    </tr>\n",
       "    <tr>\n",
       "      <th>...</th>\n",
       "      <td>...</td>\n",
       "      <td>...</td>\n",
       "      <td>...</td>\n",
       "      <td>...</td>\n",
       "      <td>...</td>\n",
       "      <td>...</td>\n",
       "    </tr>\n",
       "    <tr>\n",
       "      <th>1934675</th>\n",
       "      <td>1934675</td>\n",
       "      <td>29671</td>\n",
       "      <td>-1</td>\n",
       "      <td>1050450</td>\n",
       "      <td>A</td>\n",
       "      <td>G</td>\n",
       "    </tr>\n",
       "    <tr>\n",
       "      <th>1934676</th>\n",
       "      <td>1934676</td>\n",
       "      <td>29671</td>\n",
       "      <td>-1</td>\n",
       "      <td>2716802</td>\n",
       "      <td>A</td>\n",
       "      <td>G</td>\n",
       "    </tr>\n",
       "    <tr>\n",
       "      <th>1934677</th>\n",
       "      <td>1934677</td>\n",
       "      <td>29671</td>\n",
       "      <td>-1</td>\n",
       "      <td>2844868</td>\n",
       "      <td>A</td>\n",
       "      <td>G</td>\n",
       "    </tr>\n",
       "    <tr>\n",
       "      <th>1934678</th>\n",
       "      <td>1934678</td>\n",
       "      <td>29671</td>\n",
       "      <td>-1</td>\n",
       "      <td>2718613</td>\n",
       "      <td>A</td>\n",
       "      <td>G</td>\n",
       "    </tr>\n",
       "    <tr>\n",
       "      <th>1934679</th>\n",
       "      <td>1934679</td>\n",
       "      <td>29671</td>\n",
       "      <td>-1</td>\n",
       "      <td>1203202</td>\n",
       "      <td>A</td>\n",
       "      <td>T</td>\n",
       "    </tr>\n",
       "  </tbody>\n",
       "</table>\n",
       "<p>1934680 rows × 6 columns</p>\n",
       "</div>"
      ],
      "text/plain": [
       "         mutation_id  position  parent     node inherited_state derived_state\n",
       "0                  0       269      -1  2950593               G             A\n",
       "1                  1       269      -1    74546               G             A\n",
       "2                  2       269      -1  2941538               G             A\n",
       "3                  3       269      -1  2930168               G             A\n",
       "4                  4       269      -1  2810634               G             A\n",
       "...              ...       ...     ...      ...             ...           ...\n",
       "1934675      1934675     29671      -1  1050450               A             G\n",
       "1934676      1934676     29671      -1  2716802               A             G\n",
       "1934677      1934677     29671      -1  2844868               A             G\n",
       "1934678      1934678     29671      -1  2718613               A             G\n",
       "1934679      1934679     29671      -1  1203202               A             T\n",
       "\n",
       "[1934680 rows x 6 columns]"
      ]
     },
     "execution_count": 26,
     "metadata": {},
     "output_type": "execute_result"
    }
   ],
   "source": [
    "dfm_usher_inter = sc2ts.mutation_data(ts_usher_inter, inheritance_stats=False)\n",
    "dfm_usher_inter"
   ]
  },
  {
   "cell_type": "code",
   "execution_count": 27,
   "id": "bb0f30b4-bef1-43a8-b3b9-a81d6ca50715",
   "metadata": {},
   "outputs": [
    {
     "data": {
      "text/html": [
       "<div>\n",
       "<style scoped>\n",
       "    .dataframe tbody tr th:only-of-type {\n",
       "        vertical-align: middle;\n",
       "    }\n",
       "\n",
       "    .dataframe tbody tr th {\n",
       "        vertical-align: top;\n",
       "    }\n",
       "\n",
       "    .dataframe thead th {\n",
       "        text-align: right;\n",
       "    }\n",
       "</style>\n",
       "<table border=\"1\" class=\"dataframe\">\n",
       "  <thead>\n",
       "    <tr style=\"text-align: right;\">\n",
       "      <th></th>\n",
       "      <th>mutation_id</th>\n",
       "      <th>position</th>\n",
       "      <th>parent</th>\n",
       "      <th>node</th>\n",
       "      <th>inherited_state</th>\n",
       "      <th>derived_state</th>\n",
       "      <th>date</th>\n",
       "    </tr>\n",
       "  </thead>\n",
       "  <tbody>\n",
       "    <tr>\n",
       "      <th>5251</th>\n",
       "      <td>5251</td>\n",
       "      <td>335</td>\n",
       "      <td>-1</td>\n",
       "      <td>9218</td>\n",
       "      <td>C</td>\n",
       "      <td>-</td>\n",
       "      <td>2020-05-01</td>\n",
       "    </tr>\n",
       "    <tr>\n",
       "      <th>5253</th>\n",
       "      <td>5253</td>\n",
       "      <td>335</td>\n",
       "      <td>-1</td>\n",
       "      <td>2736630</td>\n",
       "      <td>C</td>\n",
       "      <td>-</td>\n",
       "      <td>2020-05-08</td>\n",
       "    </tr>\n",
       "    <tr>\n",
       "      <th>5254</th>\n",
       "      <td>5254</td>\n",
       "      <td>335</td>\n",
       "      <td>-1</td>\n",
       "      <td>10030</td>\n",
       "      <td>C</td>\n",
       "      <td>-</td>\n",
       "      <td>2020-05-08</td>\n",
       "    </tr>\n",
       "    <tr>\n",
       "      <th>5255</th>\n",
       "      <td>5255</td>\n",
       "      <td>335</td>\n",
       "      <td>-1</td>\n",
       "      <td>10581</td>\n",
       "      <td>C</td>\n",
       "      <td>-</td>\n",
       "      <td>2020-05-13</td>\n",
       "    </tr>\n",
       "    <tr>\n",
       "      <th>5256</th>\n",
       "      <td>5256</td>\n",
       "      <td>335</td>\n",
       "      <td>-1</td>\n",
       "      <td>1237496</td>\n",
       "      <td>C</td>\n",
       "      <td>-</td>\n",
       "      <td>2020-05-13</td>\n",
       "    </tr>\n",
       "    <tr>\n",
       "      <th>...</th>\n",
       "      <td>...</td>\n",
       "      <td>...</td>\n",
       "      <td>...</td>\n",
       "      <td>...</td>\n",
       "      <td>...</td>\n",
       "      <td>...</td>\n",
       "      <td>...</td>\n",
       "    </tr>\n",
       "    <tr>\n",
       "      <th>2069473</th>\n",
       "      <td>2069473</td>\n",
       "      <td>29614</td>\n",
       "      <td>-1</td>\n",
       "      <td>1224709</td>\n",
       "      <td>C</td>\n",
       "      <td>-</td>\n",
       "      <td>2023-02-08</td>\n",
       "    </tr>\n",
       "    <tr>\n",
       "      <th>2069474</th>\n",
       "      <td>2069474</td>\n",
       "      <td>29614</td>\n",
       "      <td>-1</td>\n",
       "      <td>2475027</td>\n",
       "      <td>C</td>\n",
       "      <td>-</td>\n",
       "      <td>2023-02-09</td>\n",
       "    </tr>\n",
       "    <tr>\n",
       "      <th>2069476</th>\n",
       "      <td>2069476</td>\n",
       "      <td>29614</td>\n",
       "      <td>-1</td>\n",
       "      <td>1225298</td>\n",
       "      <td>C</td>\n",
       "      <td>-</td>\n",
       "      <td>2023-02-10</td>\n",
       "    </tr>\n",
       "    <tr>\n",
       "      <th>2069477</th>\n",
       "      <td>2069477</td>\n",
       "      <td>29614</td>\n",
       "      <td>-1</td>\n",
       "      <td>1225498</td>\n",
       "      <td>C</td>\n",
       "      <td>-</td>\n",
       "      <td>2023-02-10</td>\n",
       "    </tr>\n",
       "    <tr>\n",
       "      <th>2069478</th>\n",
       "      <td>2069478</td>\n",
       "      <td>29614</td>\n",
       "      <td>-1</td>\n",
       "      <td>1225723</td>\n",
       "      <td>C</td>\n",
       "      <td>-</td>\n",
       "      <td>2023-02-11</td>\n",
       "    </tr>\n",
       "  </tbody>\n",
       "</table>\n",
       "<p>97319 rows × 7 columns</p>\n",
       "</div>"
      ],
      "text/plain": [
       "         mutation_id  position  parent     node inherited_state derived_state  \\\n",
       "5251            5251       335      -1     9218               C             -   \n",
       "5253            5253       335      -1  2736630               C             -   \n",
       "5254            5254       335      -1    10030               C             -   \n",
       "5255            5255       335      -1    10581               C             -   \n",
       "5256            5256       335      -1  1237496               C             -   \n",
       "...              ...       ...     ...      ...             ...           ...   \n",
       "2069473      2069473     29614      -1  1224709               C             -   \n",
       "2069474      2069474     29614      -1  2475027               C             -   \n",
       "2069476      2069476     29614      -1  1225298               C             -   \n",
       "2069477      2069477     29614      -1  1225498               C             -   \n",
       "2069478      2069478     29614      -1  1225723               C             -   \n",
       "\n",
       "              date  \n",
       "5251    2020-05-01  \n",
       "5253    2020-05-08  \n",
       "5254    2020-05-08  \n",
       "5255    2020-05-13  \n",
       "5256    2020-05-13  \n",
       "...            ...  \n",
       "2069473 2023-02-08  \n",
       "2069474 2023-02-09  \n",
       "2069476 2023-02-10  \n",
       "2069477 2023-02-10  \n",
       "2069478 2023-02-11  \n",
       "\n",
       "[97319 rows x 7 columns]"
      ]
     },
     "execution_count": 27,
     "metadata": {},
     "output_type": "execute_result"
    }
   ],
   "source": [
    "dfm_sc2ts_inter_indels = dfm_sc2ts_inter[\n",
    "    (dfm_sc2ts_inter.inherited_state == \"-\") | (dfm_sc2ts_inter.derived_state == \"-\")]\n",
    "dfm_sc2ts_inter_indels"
   ]
  },
  {
   "cell_type": "code",
   "execution_count": 28,
   "id": "3696e7fc-27c4-418f-9f30-c5ec7580ef55",
   "metadata": {
    "scrolled": true
   },
   "outputs": [
    {
     "data": {
      "text/plain": [
       "46371"
      ]
     },
     "execution_count": 28,
     "metadata": {},
     "output_type": "execute_result"
    }
   ],
   "source": [
    "ts_sc2ts_inter.num_mutations - ts_usher_inter.num_mutations - dfm_sc2ts_inter_indels.shape[0]"
   ]
  },
  {
   "cell_type": "code",
   "execution_count": 29,
   "id": "598b11ed-a488-4c03-a41b-854e9f939ef3",
   "metadata": {
    "scrolled": true
   },
   "outputs": [
    {
     "data": {
      "text/plain": [
       "0.02396830483594186"
      ]
     },
     "execution_count": 29,
     "metadata": {},
     "output_type": "execute_result"
    }
   ],
   "source": [
    "(ts_sc2ts_inter.num_mutations - ts_usher_inter.num_mutations - dfm_sc2ts_inter_indels.shape[0]) / ts_usher_inter.num_mutations"
   ]
  },
  {
   "cell_type": "markdown",
   "id": "fa4ebfbf-b795-418e-937b-0c8751f76c75",
   "metadata": {},
   "source": [
    "If we exclude all indel mutations from the sc2ts ARG we have 2.3% more mutations than UShER."
   ]
  },
  {
   "cell_type": "code",
   "execution_count": 30,
   "id": "7e74db27-09ef-42c7-b050-4dbc3181f990",
   "metadata": {
    "scrolled": true
   },
   "outputs": [
    {
     "data": {
      "text/plain": [
       "position\n",
       "692      6784\n",
       "689      6783\n",
       "690      6782\n",
       "688      6779\n",
       "687      6778\n",
       "         ... \n",
       "18744       1\n",
       "14724       1\n",
       "22792       1\n",
       "22786       1\n",
       "22882       1\n",
       "Name: count, Length: 108, dtype: int64"
      ]
     },
     "execution_count": 30,
     "metadata": {},
     "output_type": "execute_result"
    }
   ],
   "source": [
    "dfm_sc2ts_inter_indels[\"position\"].value_counts()"
   ]
  },
  {
   "cell_type": "code",
   "execution_count": 31,
   "id": "943939c7-95a8-460d-a179-aaec9fcfb6ff",
   "metadata": {},
   "outputs": [
    {
     "data": {
      "text/html": [
       "<div>\n",
       "<style scoped>\n",
       "    .dataframe tbody tr th:only-of-type {\n",
       "        vertical-align: middle;\n",
       "    }\n",
       "\n",
       "    .dataframe tbody tr th {\n",
       "        vertical-align: top;\n",
       "    }\n",
       "\n",
       "    .dataframe thead th {\n",
       "        text-align: right;\n",
       "    }\n",
       "</style>\n",
       "<table border=\"1\" class=\"dataframe\">\n",
       "  <thead>\n",
       "    <tr style=\"text-align: right;\">\n",
       "      <th></th>\n",
       "      <th>position</th>\n",
       "      <th>reason</th>\n",
       "    </tr>\n",
       "  </thead>\n",
       "  <tbody>\n",
       "    <tr>\n",
       "      <th>0</th>\n",
       "      <td>203</td>\n",
       "      <td>pango</td>\n",
       "    </tr>\n",
       "    <tr>\n",
       "      <th>1</th>\n",
       "      <td>222</td>\n",
       "      <td>pango</td>\n",
       "    </tr>\n",
       "    <tr>\n",
       "      <th>2</th>\n",
       "      <td>335</td>\n",
       "      <td>pango</td>\n",
       "    </tr>\n",
       "    <tr>\n",
       "      <th>3</th>\n",
       "      <td>337</td>\n",
       "      <td>pango</td>\n",
       "    </tr>\n",
       "    <tr>\n",
       "      <th>4</th>\n",
       "      <td>683</td>\n",
       "      <td>pango</td>\n",
       "    </tr>\n",
       "    <tr>\n",
       "      <th>...</th>\n",
       "      <td>...</td>\n",
       "      <td>...</td>\n",
       "    </tr>\n",
       "    <tr>\n",
       "      <th>158</th>\n",
       "      <td>29762</td>\n",
       "      <td>pango</td>\n",
       "    </tr>\n",
       "    <tr>\n",
       "      <th>159</th>\n",
       "      <td>29769</td>\n",
       "      <td>pango</td>\n",
       "    </tr>\n",
       "    <tr>\n",
       "      <th>160</th>\n",
       "      <td>29774</td>\n",
       "      <td>pango</td>\n",
       "    </tr>\n",
       "    <tr>\n",
       "      <th>161</th>\n",
       "      <td>29779</td>\n",
       "      <td>pango</td>\n",
       "    </tr>\n",
       "    <tr>\n",
       "      <th>162</th>\n",
       "      <td>29781</td>\n",
       "      <td>pango</td>\n",
       "    </tr>\n",
       "  </tbody>\n",
       "</table>\n",
       "<p>163 rows × 2 columns</p>\n",
       "</div>"
      ],
      "text/plain": [
       "     position reason\n",
       "0         203  pango\n",
       "1         222  pango\n",
       "2         335  pango\n",
       "3         337  pango\n",
       "4         683  pango\n",
       "..        ...    ...\n",
       "158     29762  pango\n",
       "159     29769  pango\n",
       "160     29774  pango\n",
       "161     29779  pango\n",
       "162     29781  pango\n",
       "\n",
       "[163 rows x 2 columns]"
      ]
     },
     "execution_count": 31,
     "metadata": {},
     "output_type": "execute_result"
    }
   ],
   "source": [
    "df_remapped_sites = pd.read_csv(\"../arg_postprocessing/sc2ts_v1_2023-02-21_pr_pp_sites_to_remap.csv\")\n",
    "df_remapped_sites"
   ]
  },
  {
   "cell_type": "code",
   "execution_count": 32,
   "id": "a3195842-4075-4bb6-a221-a0c488005d6c",
   "metadata": {},
   "outputs": [
    {
     "data": {
      "text/plain": [
       "array([  686,   687,   688,   689,   690,   691,   692,   693,   694,\n",
       "        6513,  6514,  6515, 11283, 11284, 11285, 11286, 11287, 11288,\n",
       "       11289, 11290, 11291, 11292, 11293, 11294, 11295, 11296, 21633,\n",
       "       21634, 21635, 21636, 21637, 21638, 21639, 21640, 21641, 21765,\n",
       "       21766, 21767, 21768, 21769, 21770, 21987, 21988, 21989, 21990,\n",
       "       21991, 21992, 21993, 21994, 21995, 22029, 22030, 22031, 22032,\n",
       "       22033, 22034, 22194, 22195, 22196, 28248, 28249, 28250, 28251,\n",
       "       28252, 28253, 28271, 28362, 28363, 28364, 28365, 28366, 28367,\n",
       "       28368, 28369, 28370])"
      ]
     },
     "execution_count": 32,
     "metadata": {},
     "output_type": "execute_result"
    }
   ],
   "source": [
    "del_sites = df_remapped_sites[df_remapped_sites[\"reason\"] == \"deletion\"][\"position\"].values\n",
    "del_sites"
   ]
  },
  {
   "cell_type": "code",
   "execution_count": 33,
   "id": "9b87682b-3f21-4fd1-a2b9-2cd1a4f51bf7",
   "metadata": {},
   "outputs": [
    {
     "data": {
      "text/plain": [
       "(75,)"
      ]
     },
     "execution_count": 33,
     "metadata": {},
     "output_type": "execute_result"
    }
   ],
   "source": [
    "del_sites.shape"
   ]
  },
  {
   "cell_type": "code",
   "execution_count": 34,
   "id": "2b924750-b677-4bc5-87a2-3308efdf8cdf",
   "metadata": {},
   "outputs": [
    {
     "data": {
      "text/html": [
       "<div>\n",
       "<style scoped>\n",
       "    .dataframe tbody tr th:only-of-type {\n",
       "        vertical-align: middle;\n",
       "    }\n",
       "\n",
       "    .dataframe tbody tr th {\n",
       "        vertical-align: top;\n",
       "    }\n",
       "\n",
       "    .dataframe thead th {\n",
       "        text-align: right;\n",
       "    }\n",
       "</style>\n",
       "<table border=\"1\" class=\"dataframe\">\n",
       "  <thead>\n",
       "    <tr style=\"text-align: right;\">\n",
       "      <th></th>\n",
       "      <th>mutation_id</th>\n",
       "      <th>position</th>\n",
       "      <th>parent</th>\n",
       "      <th>node</th>\n",
       "      <th>inherited_state</th>\n",
       "      <th>derived_state</th>\n",
       "    </tr>\n",
       "  </thead>\n",
       "  <tbody>\n",
       "    <tr>\n",
       "      <th>0</th>\n",
       "      <td>0</td>\n",
       "      <td>269</td>\n",
       "      <td>-1</td>\n",
       "      <td>2950593</td>\n",
       "      <td>G</td>\n",
       "      <td>A</td>\n",
       "    </tr>\n",
       "    <tr>\n",
       "      <th>1</th>\n",
       "      <td>1</td>\n",
       "      <td>269</td>\n",
       "      <td>-1</td>\n",
       "      <td>74546</td>\n",
       "      <td>G</td>\n",
       "      <td>A</td>\n",
       "    </tr>\n",
       "    <tr>\n",
       "      <th>2</th>\n",
       "      <td>2</td>\n",
       "      <td>269</td>\n",
       "      <td>-1</td>\n",
       "      <td>2941538</td>\n",
       "      <td>G</td>\n",
       "      <td>A</td>\n",
       "    </tr>\n",
       "    <tr>\n",
       "      <th>3</th>\n",
       "      <td>3</td>\n",
       "      <td>269</td>\n",
       "      <td>-1</td>\n",
       "      <td>2930168</td>\n",
       "      <td>G</td>\n",
       "      <td>A</td>\n",
       "    </tr>\n",
       "    <tr>\n",
       "      <th>4</th>\n",
       "      <td>4</td>\n",
       "      <td>269</td>\n",
       "      <td>-1</td>\n",
       "      <td>2810634</td>\n",
       "      <td>G</td>\n",
       "      <td>A</td>\n",
       "    </tr>\n",
       "    <tr>\n",
       "      <th>...</th>\n",
       "      <td>...</td>\n",
       "      <td>...</td>\n",
       "      <td>...</td>\n",
       "      <td>...</td>\n",
       "      <td>...</td>\n",
       "      <td>...</td>\n",
       "    </tr>\n",
       "    <tr>\n",
       "      <th>1934675</th>\n",
       "      <td>1934675</td>\n",
       "      <td>29671</td>\n",
       "      <td>-1</td>\n",
       "      <td>1050450</td>\n",
       "      <td>A</td>\n",
       "      <td>G</td>\n",
       "    </tr>\n",
       "    <tr>\n",
       "      <th>1934676</th>\n",
       "      <td>1934676</td>\n",
       "      <td>29671</td>\n",
       "      <td>-1</td>\n",
       "      <td>2716802</td>\n",
       "      <td>A</td>\n",
       "      <td>G</td>\n",
       "    </tr>\n",
       "    <tr>\n",
       "      <th>1934677</th>\n",
       "      <td>1934677</td>\n",
       "      <td>29671</td>\n",
       "      <td>-1</td>\n",
       "      <td>2844868</td>\n",
       "      <td>A</td>\n",
       "      <td>G</td>\n",
       "    </tr>\n",
       "    <tr>\n",
       "      <th>1934678</th>\n",
       "      <td>1934678</td>\n",
       "      <td>29671</td>\n",
       "      <td>-1</td>\n",
       "      <td>2718613</td>\n",
       "      <td>A</td>\n",
       "      <td>G</td>\n",
       "    </tr>\n",
       "    <tr>\n",
       "      <th>1934679</th>\n",
       "      <td>1934679</td>\n",
       "      <td>29671</td>\n",
       "      <td>-1</td>\n",
       "      <td>1203202</td>\n",
       "      <td>A</td>\n",
       "      <td>T</td>\n",
       "    </tr>\n",
       "  </tbody>\n",
       "</table>\n",
       "<p>1927007 rows × 6 columns</p>\n",
       "</div>"
      ],
      "text/plain": [
       "         mutation_id  position  parent     node inherited_state derived_state\n",
       "0                  0       269      -1  2950593               G             A\n",
       "1                  1       269      -1    74546               G             A\n",
       "2                  2       269      -1  2941538               G             A\n",
       "3                  3       269      -1  2930168               G             A\n",
       "4                  4       269      -1  2810634               G             A\n",
       "...              ...       ...     ...      ...             ...           ...\n",
       "1934675      1934675     29671      -1  1050450               A             G\n",
       "1934676      1934676     29671      -1  2716802               A             G\n",
       "1934677      1934677     29671      -1  2844868               A             G\n",
       "1934678      1934678     29671      -1  2718613               A             G\n",
       "1934679      1934679     29671      -1  1203202               A             T\n",
       "\n",
       "[1927007 rows x 6 columns]"
      ]
     },
     "execution_count": 34,
     "metadata": {},
     "output_type": "execute_result"
    }
   ],
   "source": [
    "dfm_usher_inter_no_del_sites = dfm_usher_inter[~dfm_usher_inter[\"position\"].isin(del_sites)]\n",
    "dfm_usher_inter_no_del_sites"
   ]
  },
  {
   "cell_type": "code",
   "execution_count": 35,
   "id": "3916aeb7-7943-4313-9990-5449489d23ba",
   "metadata": {},
   "outputs": [
    {
     "data": {
      "text/html": [
       "<div>\n",
       "<style scoped>\n",
       "    .dataframe tbody tr th:only-of-type {\n",
       "        vertical-align: middle;\n",
       "    }\n",
       "\n",
       "    .dataframe tbody tr th {\n",
       "        vertical-align: top;\n",
       "    }\n",
       "\n",
       "    .dataframe thead th {\n",
       "        text-align: right;\n",
       "    }\n",
       "</style>\n",
       "<table border=\"1\" class=\"dataframe\">\n",
       "  <thead>\n",
       "    <tr style=\"text-align: right;\">\n",
       "      <th></th>\n",
       "      <th>mutation_id</th>\n",
       "      <th>position</th>\n",
       "      <th>parent</th>\n",
       "      <th>node</th>\n",
       "      <th>inherited_state</th>\n",
       "      <th>derived_state</th>\n",
       "      <th>date</th>\n",
       "    </tr>\n",
       "  </thead>\n",
       "  <tbody>\n",
       "    <tr>\n",
       "      <th>0</th>\n",
       "      <td>0</td>\n",
       "      <td>269</td>\n",
       "      <td>-1</td>\n",
       "      <td>2721238</td>\n",
       "      <td>G</td>\n",
       "      <td>A</td>\n",
       "      <td>2020-12-16</td>\n",
       "    </tr>\n",
       "    <tr>\n",
       "      <th>1</th>\n",
       "      <td>1</td>\n",
       "      <td>269</td>\n",
       "      <td>-1</td>\n",
       "      <td>74546</td>\n",
       "      <td>G</td>\n",
       "      <td>A</td>\n",
       "      <td>2021-01-04</td>\n",
       "    </tr>\n",
       "    <tr>\n",
       "      <th>2</th>\n",
       "      <td>2</td>\n",
       "      <td>269</td>\n",
       "      <td>-1</td>\n",
       "      <td>97151</td>\n",
       "      <td>G</td>\n",
       "      <td>A</td>\n",
       "      <td>2021-01-27</td>\n",
       "    </tr>\n",
       "    <tr>\n",
       "      <th>3</th>\n",
       "      <td>3</td>\n",
       "      <td>269</td>\n",
       "      <td>-1</td>\n",
       "      <td>97236</td>\n",
       "      <td>G</td>\n",
       "      <td>A</td>\n",
       "      <td>2021-01-27</td>\n",
       "    </tr>\n",
       "    <tr>\n",
       "      <th>4</th>\n",
       "      <td>4</td>\n",
       "      <td>269</td>\n",
       "      <td>-1</td>\n",
       "      <td>114666</td>\n",
       "      <td>G</td>\n",
       "      <td>A</td>\n",
       "      <td>2021-02-12</td>\n",
       "    </tr>\n",
       "    <tr>\n",
       "      <th>...</th>\n",
       "      <td>...</td>\n",
       "      <td>...</td>\n",
       "      <td>...</td>\n",
       "      <td>...</td>\n",
       "      <td>...</td>\n",
       "      <td>...</td>\n",
       "      <td>...</td>\n",
       "    </tr>\n",
       "    <tr>\n",
       "      <th>2078365</th>\n",
       "      <td>2078365</td>\n",
       "      <td>29671</td>\n",
       "      <td>-1</td>\n",
       "      <td>1100325</td>\n",
       "      <td>A</td>\n",
       "      <td>G</td>\n",
       "      <td>2022-07-02</td>\n",
       "    </tr>\n",
       "    <tr>\n",
       "      <th>2078366</th>\n",
       "      <td>2078366</td>\n",
       "      <td>29671</td>\n",
       "      <td>-1</td>\n",
       "      <td>2497100</td>\n",
       "      <td>A</td>\n",
       "      <td>G</td>\n",
       "      <td>2022-07-08</td>\n",
       "    </tr>\n",
       "    <tr>\n",
       "      <th>2078367</th>\n",
       "      <td>2078367</td>\n",
       "      <td>29671</td>\n",
       "      <td>-1</td>\n",
       "      <td>1113651</td>\n",
       "      <td>A</td>\n",
       "      <td>G</td>\n",
       "      <td>2022-07-12</td>\n",
       "    </tr>\n",
       "    <tr>\n",
       "      <th>2078368</th>\n",
       "      <td>2078368</td>\n",
       "      <td>29671</td>\n",
       "      <td>-1</td>\n",
       "      <td>1167429</td>\n",
       "      <td>A</td>\n",
       "      <td>G</td>\n",
       "      <td>2022-09-10</td>\n",
       "    </tr>\n",
       "    <tr>\n",
       "      <th>2078369</th>\n",
       "      <td>2078369</td>\n",
       "      <td>29671</td>\n",
       "      <td>-1</td>\n",
       "      <td>1203202</td>\n",
       "      <td>A</td>\n",
       "      <td>T</td>\n",
       "      <td>2022-11-14</td>\n",
       "    </tr>\n",
       "  </tbody>\n",
       "</table>\n",
       "<p>1984795 rows × 7 columns</p>\n",
       "</div>"
      ],
      "text/plain": [
       "         mutation_id  position  parent     node inherited_state derived_state  \\\n",
       "0                  0       269      -1  2721238               G             A   \n",
       "1                  1       269      -1    74546               G             A   \n",
       "2                  2       269      -1    97151               G             A   \n",
       "3                  3       269      -1    97236               G             A   \n",
       "4                  4       269      -1   114666               G             A   \n",
       "...              ...       ...     ...      ...             ...           ...   \n",
       "2078365      2078365     29671      -1  1100325               A             G   \n",
       "2078366      2078366     29671      -1  2497100               A             G   \n",
       "2078367      2078367     29671      -1  1113651               A             G   \n",
       "2078368      2078368     29671      -1  1167429               A             G   \n",
       "2078369      2078369     29671      -1  1203202               A             T   \n",
       "\n",
       "              date  \n",
       "0       2020-12-16  \n",
       "1       2021-01-04  \n",
       "2       2021-01-27  \n",
       "3       2021-01-27  \n",
       "4       2021-02-12  \n",
       "...            ...  \n",
       "2078365 2022-07-02  \n",
       "2078366 2022-07-08  \n",
       "2078367 2022-07-12  \n",
       "2078368 2022-09-10  \n",
       "2078369 2022-11-14  \n",
       "\n",
       "[1984795 rows x 7 columns]"
      ]
     },
     "execution_count": 35,
     "metadata": {},
     "output_type": "execute_result"
    }
   ],
   "source": [
    "dfm_sc2ts_inter_no_del_sites = dfm_sc2ts_inter[~dfm_sc2ts_inter[\"position\"].isin(del_sites)]\n",
    "dfm_sc2ts_inter_no_del_sites"
   ]
  },
  {
   "cell_type": "code",
   "execution_count": 36,
   "id": "b9426a1f-c762-49ff-9c0b-6ea96da97045",
   "metadata": {},
   "outputs": [
    {
     "data": {
      "text/plain": [
       "57788"
      ]
     },
     "execution_count": 36,
     "metadata": {},
     "output_type": "execute_result"
    }
   ],
   "source": [
    "dfm_sc2ts_inter_no_del_sites.shape[0] - dfm_usher_inter_no_del_sites.shape[0] "
   ]
  },
  {
   "cell_type": "code",
   "execution_count": 37,
   "id": "88d627fa-0497-450f-834b-59a2eb773b2f",
   "metadata": {},
   "outputs": [
    {
     "data": {
      "text/plain": [
       "0.029988474354270638"
      ]
     },
     "execution_count": 37,
     "metadata": {},
     "output_type": "execute_result"
    }
   ],
   "source": [
    "(dfm_sc2ts_inter_no_del_sites.shape[0] - dfm_usher_inter_no_del_sites.shape[0]) / dfm_usher_inter_no_del_sites.shape[0]"
   ]
  },
  {
   "cell_type": "markdown",
   "id": "e4b8fa3d-01a1-4261-b197-b863c2add085",
   "metadata": {},
   "source": [
    "If we exclude all sites that were remapped for deletions, we have 3% more mutations than UShER."
   ]
  },
  {
   "cell_type": "code",
   "execution_count": 38,
   "id": "97571990-e85e-42d8-96db-4928c8bc7a37",
   "metadata": {},
   "outputs": [
    {
     "data": {
      "text/html": [
       "<div>\n",
       "<style scoped>\n",
       "    .dataframe tbody tr th:only-of-type {\n",
       "        vertical-align: middle;\n",
       "    }\n",
       "\n",
       "    .dataframe tbody tr th {\n",
       "        vertical-align: top;\n",
       "    }\n",
       "\n",
       "    .dataframe thead th {\n",
       "        text-align: right;\n",
       "    }\n",
       "</style>\n",
       "<table border=\"1\" class=\"dataframe\">\n",
       "  <thead>\n",
       "    <tr style=\"text-align: right;\">\n",
       "      <th></th>\n",
       "      <th>mutation_id</th>\n",
       "      <th>position</th>\n",
       "      <th>parent</th>\n",
       "      <th>node</th>\n",
       "      <th>inherited_state</th>\n",
       "      <th>derived_state</th>\n",
       "    </tr>\n",
       "  </thead>\n",
       "  <tbody>\n",
       "    <tr>\n",
       "      <th>0</th>\n",
       "      <td>0</td>\n",
       "      <td>269</td>\n",
       "      <td>-1</td>\n",
       "      <td>2950593</td>\n",
       "      <td>G</td>\n",
       "      <td>A</td>\n",
       "    </tr>\n",
       "    <tr>\n",
       "      <th>1</th>\n",
       "      <td>1</td>\n",
       "      <td>269</td>\n",
       "      <td>-1</td>\n",
       "      <td>74546</td>\n",
       "      <td>G</td>\n",
       "      <td>A</td>\n",
       "    </tr>\n",
       "    <tr>\n",
       "      <th>2</th>\n",
       "      <td>2</td>\n",
       "      <td>269</td>\n",
       "      <td>-1</td>\n",
       "      <td>2941538</td>\n",
       "      <td>G</td>\n",
       "      <td>A</td>\n",
       "    </tr>\n",
       "    <tr>\n",
       "      <th>3</th>\n",
       "      <td>3</td>\n",
       "      <td>269</td>\n",
       "      <td>-1</td>\n",
       "      <td>2930168</td>\n",
       "      <td>G</td>\n",
       "      <td>A</td>\n",
       "    </tr>\n",
       "    <tr>\n",
       "      <th>4</th>\n",
       "      <td>4</td>\n",
       "      <td>269</td>\n",
       "      <td>-1</td>\n",
       "      <td>2810634</td>\n",
       "      <td>G</td>\n",
       "      <td>A</td>\n",
       "    </tr>\n",
       "    <tr>\n",
       "      <th>...</th>\n",
       "      <td>...</td>\n",
       "      <td>...</td>\n",
       "      <td>...</td>\n",
       "      <td>...</td>\n",
       "      <td>...</td>\n",
       "      <td>...</td>\n",
       "    </tr>\n",
       "    <tr>\n",
       "      <th>1934675</th>\n",
       "      <td>1934675</td>\n",
       "      <td>29671</td>\n",
       "      <td>-1</td>\n",
       "      <td>1050450</td>\n",
       "      <td>A</td>\n",
       "      <td>G</td>\n",
       "    </tr>\n",
       "    <tr>\n",
       "      <th>1934676</th>\n",
       "      <td>1934676</td>\n",
       "      <td>29671</td>\n",
       "      <td>-1</td>\n",
       "      <td>2716802</td>\n",
       "      <td>A</td>\n",
       "      <td>G</td>\n",
       "    </tr>\n",
       "    <tr>\n",
       "      <th>1934677</th>\n",
       "      <td>1934677</td>\n",
       "      <td>29671</td>\n",
       "      <td>-1</td>\n",
       "      <td>2844868</td>\n",
       "      <td>A</td>\n",
       "      <td>G</td>\n",
       "    </tr>\n",
       "    <tr>\n",
       "      <th>1934678</th>\n",
       "      <td>1934678</td>\n",
       "      <td>29671</td>\n",
       "      <td>-1</td>\n",
       "      <td>2718613</td>\n",
       "      <td>A</td>\n",
       "      <td>G</td>\n",
       "    </tr>\n",
       "    <tr>\n",
       "      <th>1934679</th>\n",
       "      <td>1934679</td>\n",
       "      <td>29671</td>\n",
       "      <td>-1</td>\n",
       "      <td>1203202</td>\n",
       "      <td>A</td>\n",
       "      <td>T</td>\n",
       "    </tr>\n",
       "  </tbody>\n",
       "</table>\n",
       "<p>1835459 rows × 6 columns</p>\n",
       "</div>"
      ],
      "text/plain": [
       "         mutation_id  position  parent     node inherited_state derived_state\n",
       "0                  0       269      -1  2950593               G             A\n",
       "1                  1       269      -1    74546               G             A\n",
       "2                  2       269      -1  2941538               G             A\n",
       "3                  3       269      -1  2930168               G             A\n",
       "4                  4       269      -1  2810634               G             A\n",
       "...              ...       ...     ...      ...             ...           ...\n",
       "1934675      1934675     29671      -1  1050450               A             G\n",
       "1934676      1934676     29671      -1  2716802               A             G\n",
       "1934677      1934677     29671      -1  2844868               A             G\n",
       "1934678      1934678     29671      -1  2718613               A             G\n",
       "1934679      1934679     29671      -1  1203202               A             T\n",
       "\n",
       "[1835459 rows x 6 columns]"
      ]
     },
     "execution_count": 38,
     "metadata": {},
     "output_type": "execute_result"
    }
   ],
   "source": [
    "dfm_usher_inter_no_remapped_sites = dfm_usher_inter[~dfm_usher_inter[\"position\"].isin(df_remapped_sites[\"position\"])]\n",
    "dfm_usher_inter_no_remapped_sites"
   ]
  },
  {
   "cell_type": "code",
   "execution_count": 39,
   "id": "dacea3b2-0acf-4273-a634-7b7d61d57822",
   "metadata": {},
   "outputs": [
    {
     "data": {
      "text/html": [
       "<div>\n",
       "<style scoped>\n",
       "    .dataframe tbody tr th:only-of-type {\n",
       "        vertical-align: middle;\n",
       "    }\n",
       "\n",
       "    .dataframe tbody tr th {\n",
       "        vertical-align: top;\n",
       "    }\n",
       "\n",
       "    .dataframe thead th {\n",
       "        text-align: right;\n",
       "    }\n",
       "</style>\n",
       "<table border=\"1\" class=\"dataframe\">\n",
       "  <thead>\n",
       "    <tr style=\"text-align: right;\">\n",
       "      <th></th>\n",
       "      <th>mutation_id</th>\n",
       "      <th>position</th>\n",
       "      <th>parent</th>\n",
       "      <th>node</th>\n",
       "      <th>inherited_state</th>\n",
       "      <th>derived_state</th>\n",
       "      <th>date</th>\n",
       "    </tr>\n",
       "  </thead>\n",
       "  <tbody>\n",
       "    <tr>\n",
       "      <th>0</th>\n",
       "      <td>0</td>\n",
       "      <td>269</td>\n",
       "      <td>-1</td>\n",
       "      <td>2721238</td>\n",
       "      <td>G</td>\n",
       "      <td>A</td>\n",
       "      <td>2020-12-16</td>\n",
       "    </tr>\n",
       "    <tr>\n",
       "      <th>1</th>\n",
       "      <td>1</td>\n",
       "      <td>269</td>\n",
       "      <td>-1</td>\n",
       "      <td>74546</td>\n",
       "      <td>G</td>\n",
       "      <td>A</td>\n",
       "      <td>2021-01-04</td>\n",
       "    </tr>\n",
       "    <tr>\n",
       "      <th>2</th>\n",
       "      <td>2</td>\n",
       "      <td>269</td>\n",
       "      <td>-1</td>\n",
       "      <td>97151</td>\n",
       "      <td>G</td>\n",
       "      <td>A</td>\n",
       "      <td>2021-01-27</td>\n",
       "    </tr>\n",
       "    <tr>\n",
       "      <th>3</th>\n",
       "      <td>3</td>\n",
       "      <td>269</td>\n",
       "      <td>-1</td>\n",
       "      <td>97236</td>\n",
       "      <td>G</td>\n",
       "      <td>A</td>\n",
       "      <td>2021-01-27</td>\n",
       "    </tr>\n",
       "    <tr>\n",
       "      <th>4</th>\n",
       "      <td>4</td>\n",
       "      <td>269</td>\n",
       "      <td>-1</td>\n",
       "      <td>114666</td>\n",
       "      <td>G</td>\n",
       "      <td>A</td>\n",
       "      <td>2021-02-12</td>\n",
       "    </tr>\n",
       "    <tr>\n",
       "      <th>...</th>\n",
       "      <td>...</td>\n",
       "      <td>...</td>\n",
       "      <td>...</td>\n",
       "      <td>...</td>\n",
       "      <td>...</td>\n",
       "      <td>...</td>\n",
       "      <td>...</td>\n",
       "    </tr>\n",
       "    <tr>\n",
       "      <th>2078365</th>\n",
       "      <td>2078365</td>\n",
       "      <td>29671</td>\n",
       "      <td>-1</td>\n",
       "      <td>1100325</td>\n",
       "      <td>A</td>\n",
       "      <td>G</td>\n",
       "      <td>2022-07-02</td>\n",
       "    </tr>\n",
       "    <tr>\n",
       "      <th>2078366</th>\n",
       "      <td>2078366</td>\n",
       "      <td>29671</td>\n",
       "      <td>-1</td>\n",
       "      <td>2497100</td>\n",
       "      <td>A</td>\n",
       "      <td>G</td>\n",
       "      <td>2022-07-08</td>\n",
       "    </tr>\n",
       "    <tr>\n",
       "      <th>2078367</th>\n",
       "      <td>2078367</td>\n",
       "      <td>29671</td>\n",
       "      <td>-1</td>\n",
       "      <td>1113651</td>\n",
       "      <td>A</td>\n",
       "      <td>G</td>\n",
       "      <td>2022-07-12</td>\n",
       "    </tr>\n",
       "    <tr>\n",
       "      <th>2078368</th>\n",
       "      <td>2078368</td>\n",
       "      <td>29671</td>\n",
       "      <td>-1</td>\n",
       "      <td>1167429</td>\n",
       "      <td>A</td>\n",
       "      <td>G</td>\n",
       "      <td>2022-09-10</td>\n",
       "    </tr>\n",
       "    <tr>\n",
       "      <th>2078369</th>\n",
       "      <td>2078369</td>\n",
       "      <td>29671</td>\n",
       "      <td>-1</td>\n",
       "      <td>1203202</td>\n",
       "      <td>A</td>\n",
       "      <td>T</td>\n",
       "      <td>2022-11-14</td>\n",
       "    </tr>\n",
       "  </tbody>\n",
       "</table>\n",
       "<p>1830674 rows × 7 columns</p>\n",
       "</div>"
      ],
      "text/plain": [
       "         mutation_id  position  parent     node inherited_state derived_state  \\\n",
       "0                  0       269      -1  2721238               G             A   \n",
       "1                  1       269      -1    74546               G             A   \n",
       "2                  2       269      -1    97151               G             A   \n",
       "3                  3       269      -1    97236               G             A   \n",
       "4                  4       269      -1   114666               G             A   \n",
       "...              ...       ...     ...      ...             ...           ...   \n",
       "2078365      2078365     29671      -1  1100325               A             G   \n",
       "2078366      2078366     29671      -1  2497100               A             G   \n",
       "2078367      2078367     29671      -1  1113651               A             G   \n",
       "2078368      2078368     29671      -1  1167429               A             G   \n",
       "2078369      2078369     29671      -1  1203202               A             T   \n",
       "\n",
       "              date  \n",
       "0       2020-12-16  \n",
       "1       2021-01-04  \n",
       "2       2021-01-27  \n",
       "3       2021-01-27  \n",
       "4       2021-02-12  \n",
       "...            ...  \n",
       "2078365 2022-07-02  \n",
       "2078366 2022-07-08  \n",
       "2078367 2022-07-12  \n",
       "2078368 2022-09-10  \n",
       "2078369 2022-11-14  \n",
       "\n",
       "[1830674 rows x 7 columns]"
      ]
     },
     "execution_count": 39,
     "metadata": {},
     "output_type": "execute_result"
    }
   ],
   "source": [
    "dfm_sc2ts_inter_no_remapped_sites = dfm_sc2ts_inter[~dfm_sc2ts_inter[\"position\"].isin(df_remapped_sites[\"position\"])]\n",
    "dfm_sc2ts_inter_no_remapped_sites"
   ]
  },
  {
   "cell_type": "code",
   "execution_count": 40,
   "id": "24ebcf6b-e07a-4f60-a08e-2f1f488834d6",
   "metadata": {},
   "outputs": [
    {
     "data": {
      "text/plain": [
       "4785"
      ]
     },
     "execution_count": 40,
     "metadata": {},
     "output_type": "execute_result"
    }
   ],
   "source": [
    "dfm_usher_inter_no_remapped_sites.shape[0] - dfm_sc2ts_inter_no_remapped_sites.shape[0]"
   ]
  },
  {
   "cell_type": "code",
   "execution_count": 41,
   "id": "7da20fd0-e20f-4190-9d25-44f2873f9437",
   "metadata": {},
   "outputs": [
    {
     "data": {
      "text/plain": [
       "0.002606977328286821"
      ]
     },
     "execution_count": 41,
     "metadata": {},
     "output_type": "execute_result"
    }
   ],
   "source": [
    "(dfm_usher_inter_no_remapped_sites.shape[0] - dfm_sc2ts_inter_no_remapped_sites.shape[0]) / dfm_usher_inter_no_remapped_sites.shape[0]"
   ]
  },
  {
   "cell_type": "code",
   "execution_count": 42,
   "id": "bb45dbf9-3b50-47ff-91b3-2b38f9667a42",
   "metadata": {},
   "outputs": [
    {
     "data": {
      "text/plain": [
       "(26192,)"
      ]
     },
     "execution_count": 42,
     "metadata": {},
     "output_type": "execute_result"
    }
   ],
   "source": [
    "dfm_usher_inter_no_remapped_sites[\"position\"].unique().shape"
   ]
  },
  {
   "cell_type": "markdown",
   "id": "ec65f5a4-c22b-4ae7-abaa-736bfc0474ac",
   "metadata": {},
   "source": [
    "If we restrict to the 26192 sites that were not remapped, sc2ts has 4785 (0.26%) fewer mutations than UShER."
   ]
  },
  {
   "cell_type": "code",
   "execution_count": 97,
   "id": "9db5916b-8455-4760-a44f-eef4ede113b9",
   "metadata": {},
   "outputs": [
    {
     "data": {
      "text/html": [
       "<div>\n",
       "<style scoped>\n",
       "    .dataframe tbody tr th:only-of-type {\n",
       "        vertical-align: middle;\n",
       "    }\n",
       "\n",
       "    .dataframe tbody tr th {\n",
       "        vertical-align: top;\n",
       "    }\n",
       "\n",
       "    .dataframe thead th {\n",
       "        text-align: right;\n",
       "    }\n",
       "</style>\n",
       "<table border=\"1\" class=\"dataframe\">\n",
       "  <thead>\n",
       "    <tr style=\"text-align: right;\">\n",
       "      <th></th>\n",
       "      <th>mutation_id</th>\n",
       "      <th>position</th>\n",
       "      <th>parent</th>\n",
       "      <th>node</th>\n",
       "      <th>inherited_state</th>\n",
       "      <th>derived_state</th>\n",
       "      <th>date</th>\n",
       "    </tr>\n",
       "  </thead>\n",
       "  <tbody>\n",
       "    <tr>\n",
       "      <th>5246</th>\n",
       "      <td>5246</td>\n",
       "      <td>335</td>\n",
       "      <td>-1</td>\n",
       "      <td>2738712</td>\n",
       "      <td>C</td>\n",
       "      <td>T</td>\n",
       "      <td>2020-03-11</td>\n",
       "    </tr>\n",
       "    <tr>\n",
       "      <th>5247</th>\n",
       "      <td>5247</td>\n",
       "      <td>335</td>\n",
       "      <td>-1</td>\n",
       "      <td>1228490</td>\n",
       "      <td>C</td>\n",
       "      <td>T</td>\n",
       "      <td>2020-03-25</td>\n",
       "    </tr>\n",
       "    <tr>\n",
       "      <th>5248</th>\n",
       "      <td>5248</td>\n",
       "      <td>335</td>\n",
       "      <td>-1</td>\n",
       "      <td>3124</td>\n",
       "      <td>C</td>\n",
       "      <td>T</td>\n",
       "      <td>2020-03-30</td>\n",
       "    </tr>\n",
       "    <tr>\n",
       "      <th>5249</th>\n",
       "      <td>5249</td>\n",
       "      <td>335</td>\n",
       "      <td>-1</td>\n",
       "      <td>3214</td>\n",
       "      <td>C</td>\n",
       "      <td>T</td>\n",
       "      <td>2020-03-31</td>\n",
       "    </tr>\n",
       "    <tr>\n",
       "      <th>5250</th>\n",
       "      <td>5250</td>\n",
       "      <td>335</td>\n",
       "      <td>-1</td>\n",
       "      <td>5345</td>\n",
       "      <td>C</td>\n",
       "      <td>T</td>\n",
       "      <td>2020-04-09</td>\n",
       "    </tr>\n",
       "    <tr>\n",
       "      <th>...</th>\n",
       "      <td>...</td>\n",
       "      <td>...</td>\n",
       "      <td>...</td>\n",
       "      <td>...</td>\n",
       "      <td>...</td>\n",
       "      <td>...</td>\n",
       "      <td>...</td>\n",
       "    </tr>\n",
       "    <tr>\n",
       "      <th>2069476</th>\n",
       "      <td>2069476</td>\n",
       "      <td>29614</td>\n",
       "      <td>-1</td>\n",
       "      <td>1225298</td>\n",
       "      <td>C</td>\n",
       "      <td>-</td>\n",
       "      <td>2023-02-10</td>\n",
       "    </tr>\n",
       "    <tr>\n",
       "      <th>2069477</th>\n",
       "      <td>2069477</td>\n",
       "      <td>29614</td>\n",
       "      <td>-1</td>\n",
       "      <td>1225498</td>\n",
       "      <td>C</td>\n",
       "      <td>-</td>\n",
       "      <td>2023-02-10</td>\n",
       "    </tr>\n",
       "    <tr>\n",
       "      <th>2069478</th>\n",
       "      <td>2069478</td>\n",
       "      <td>29614</td>\n",
       "      <td>-1</td>\n",
       "      <td>1225723</td>\n",
       "      <td>C</td>\n",
       "      <td>-</td>\n",
       "      <td>2023-02-11</td>\n",
       "    </tr>\n",
       "    <tr>\n",
       "      <th>2069479</th>\n",
       "      <td>2069479</td>\n",
       "      <td>29614</td>\n",
       "      <td>-1</td>\n",
       "      <td>1225790</td>\n",
       "      <td>C</td>\n",
       "      <td>T</td>\n",
       "      <td>2023-02-12</td>\n",
       "    </tr>\n",
       "    <tr>\n",
       "      <th>2069480</th>\n",
       "      <td>2069480</td>\n",
       "      <td>29614</td>\n",
       "      <td>-1</td>\n",
       "      <td>2475439</td>\n",
       "      <td>C</td>\n",
       "      <td>T</td>\n",
       "      <td>2023-02-17</td>\n",
       "    </tr>\n",
       "  </tbody>\n",
       "</table>\n",
       "<p>247696 rows × 7 columns</p>\n",
       "</div>"
      ],
      "text/plain": [
       "         mutation_id  position  parent     node inherited_state derived_state  \\\n",
       "5246            5246       335      -1  2738712               C             T   \n",
       "5247            5247       335      -1  1228490               C             T   \n",
       "5248            5248       335      -1     3124               C             T   \n",
       "5249            5249       335      -1     3214               C             T   \n",
       "5250            5250       335      -1     5345               C             T   \n",
       "...              ...       ...     ...      ...             ...           ...   \n",
       "2069476      2069476     29614      -1  1225298               C             -   \n",
       "2069477      2069477     29614      -1  1225498               C             -   \n",
       "2069478      2069478     29614      -1  1225723               C             -   \n",
       "2069479      2069479     29614      -1  1225790               C             T   \n",
       "2069480      2069480     29614      -1  2475439               C             T   \n",
       "\n",
       "              date  \n",
       "5246    2020-03-11  \n",
       "5247    2020-03-25  \n",
       "5248    2020-03-30  \n",
       "5249    2020-03-31  \n",
       "5250    2020-04-09  \n",
       "...            ...  \n",
       "2069476 2023-02-10  \n",
       "2069477 2023-02-10  \n",
       "2069478 2023-02-11  \n",
       "2069479 2023-02-12  \n",
       "2069480 2023-02-17  \n",
       "\n",
       "[247696 rows x 7 columns]"
      ]
     },
     "execution_count": 97,
     "metadata": {},
     "output_type": "execute_result"
    }
   ],
   "source": [
    "dfm_sc2ts_inter_remapped_sites = dfm_sc2ts_inter[dfm_sc2ts_inter[\"position\"].isin(df_remapped_sites[\"position\"])]\n",
    "dfm_sc2ts_inter_remapped_sites"
   ]
  },
  {
   "cell_type": "code",
   "execution_count": 44,
   "id": "59479cd1-595f-43db-ac24-816ee571fbce",
   "metadata": {},
   "outputs": [
    {
     "data": {
      "text/html": [
       "<div>\n",
       "<style scoped>\n",
       "    .dataframe tbody tr th:only-of-type {\n",
       "        vertical-align: middle;\n",
       "    }\n",
       "\n",
       "    .dataframe tbody tr th {\n",
       "        vertical-align: top;\n",
       "    }\n",
       "\n",
       "    .dataframe thead th {\n",
       "        text-align: right;\n",
       "    }\n",
       "</style>\n",
       "<table border=\"1\" class=\"dataframe\">\n",
       "  <thead>\n",
       "    <tr style=\"text-align: right;\">\n",
       "      <th></th>\n",
       "      <th>mutation_id</th>\n",
       "      <th>position</th>\n",
       "      <th>parent</th>\n",
       "      <th>node</th>\n",
       "      <th>inherited_state</th>\n",
       "      <th>derived_state</th>\n",
       "    </tr>\n",
       "  </thead>\n",
       "  <tbody>\n",
       "    <tr>\n",
       "      <th>5457</th>\n",
       "      <td>5457</td>\n",
       "      <td>335</td>\n",
       "      <td>-1</td>\n",
       "      <td>2970679</td>\n",
       "      <td>C</td>\n",
       "      <td>T</td>\n",
       "    </tr>\n",
       "    <tr>\n",
       "      <th>5458</th>\n",
       "      <td>5458</td>\n",
       "      <td>335</td>\n",
       "      <td>-1</td>\n",
       "      <td>2858079</td>\n",
       "      <td>C</td>\n",
       "      <td>T</td>\n",
       "    </tr>\n",
       "    <tr>\n",
       "      <th>5459</th>\n",
       "      <td>5459</td>\n",
       "      <td>335</td>\n",
       "      <td>-1</td>\n",
       "      <td>1228490</td>\n",
       "      <td>C</td>\n",
       "      <td>T</td>\n",
       "    </tr>\n",
       "    <tr>\n",
       "      <th>5460</th>\n",
       "      <td>5460</td>\n",
       "      <td>335</td>\n",
       "      <td>-1</td>\n",
       "      <td>3214</td>\n",
       "      <td>C</td>\n",
       "      <td>T</td>\n",
       "    </tr>\n",
       "    <tr>\n",
       "      <th>5461</th>\n",
       "      <td>5461</td>\n",
       "      <td>335</td>\n",
       "      <td>-1</td>\n",
       "      <td>5345</td>\n",
       "      <td>C</td>\n",
       "      <td>T</td>\n",
       "    </tr>\n",
       "    <tr>\n",
       "      <th>...</th>\n",
       "      <td>...</td>\n",
       "      <td>...</td>\n",
       "      <td>...</td>\n",
       "      <td>...</td>\n",
       "      <td>...</td>\n",
       "      <td>...</td>\n",
       "    </tr>\n",
       "    <tr>\n",
       "      <th>1926466</th>\n",
       "      <td>1926466</td>\n",
       "      <td>29614</td>\n",
       "      <td>-1</td>\n",
       "      <td>1221375</td>\n",
       "      <td>C</td>\n",
       "      <td>T</td>\n",
       "    </tr>\n",
       "    <tr>\n",
       "      <th>1926467</th>\n",
       "      <td>1926467</td>\n",
       "      <td>29614</td>\n",
       "      <td>-1</td>\n",
       "      <td>1224289</td>\n",
       "      <td>C</td>\n",
       "      <td>T</td>\n",
       "    </tr>\n",
       "    <tr>\n",
       "      <th>1926468</th>\n",
       "      <td>1926468</td>\n",
       "      <td>29614</td>\n",
       "      <td>-1</td>\n",
       "      <td>2709041</td>\n",
       "      <td>C</td>\n",
       "      <td>T</td>\n",
       "    </tr>\n",
       "    <tr>\n",
       "      <th>1926469</th>\n",
       "      <td>1926469</td>\n",
       "      <td>29614</td>\n",
       "      <td>-1</td>\n",
       "      <td>1225100</td>\n",
       "      <td>C</td>\n",
       "      <td>T</td>\n",
       "    </tr>\n",
       "    <tr>\n",
       "      <th>1926470</th>\n",
       "      <td>1926470</td>\n",
       "      <td>29614</td>\n",
       "      <td>-1</td>\n",
       "      <td>1223524</td>\n",
       "      <td>C</td>\n",
       "      <td>T</td>\n",
       "    </tr>\n",
       "  </tbody>\n",
       "</table>\n",
       "<p>99221 rows × 6 columns</p>\n",
       "</div>"
      ],
      "text/plain": [
       "         mutation_id  position  parent     node inherited_state derived_state\n",
       "5457            5457       335      -1  2970679               C             T\n",
       "5458            5458       335      -1  2858079               C             T\n",
       "5459            5459       335      -1  1228490               C             T\n",
       "5460            5460       335      -1     3214               C             T\n",
       "5461            5461       335      -1     5345               C             T\n",
       "...              ...       ...     ...      ...             ...           ...\n",
       "1926466      1926466     29614      -1  1221375               C             T\n",
       "1926467      1926467     29614      -1  1224289               C             T\n",
       "1926468      1926468     29614      -1  2709041               C             T\n",
       "1926469      1926469     29614      -1  1225100               C             T\n",
       "1926470      1926470     29614      -1  1223524               C             T\n",
       "\n",
       "[99221 rows x 6 columns]"
      ]
     },
     "execution_count": 44,
     "metadata": {},
     "output_type": "execute_result"
    }
   ],
   "source": [
    "dfm_usher_inter_remapped_sites = dfm_usher_inter[dfm_usher_inter[\"position\"].isin(df_remapped_sites[\"position\"])]\n",
    "dfm_usher_inter_remapped_sites"
   ]
  },
  {
   "cell_type": "code",
   "execution_count": 45,
   "id": "7fda451e-878b-404b-a91a-cf53402d2eb8",
   "metadata": {},
   "outputs": [
    {
     "data": {
      "text/plain": [
       "2.4964070106126726"
      ]
     },
     "execution_count": 45,
     "metadata": {},
     "output_type": "execute_result"
    }
   ],
   "source": [
    "dfm_sc2ts_inter_remapped_sites.shape[0] / dfm_usher_inter_remapped_sites.shape[0] "
   ]
  },
  {
   "cell_type": "markdown",
   "id": "173ba9b6-b1e2-409e-a60a-f4d3d25ddddf",
   "metadata": {},
   "source": [
    "When we consider just the 163 sites that have been remapped, sc2ts has around 2.5 times more mutations than UShER (247696 vs 99221)."
   ]
  },
  {
   "cell_type": "markdown",
   "id": "04259c6f-9e84-4f91-a50b-1d3a309f7cd3",
   "metadata": {},
   "source": [
    "## Indels in non-deletion sites\n",
    "\n",
    "What about indels that occur on the sites that we remapped because they are pango informative? There are some, but it's only 10K mutations and unlike to be significant overall. \n",
    "\n",
    "We could remap these sites by masking deletions to make this a closer comparison, but it's probably not worth the trouble."
   ]
  },
  {
   "cell_type": "code",
   "execution_count": 46,
   "id": "aec195f8-7679-4d38-b724-72af6ce84a0f",
   "metadata": {
    "scrolled": true
   },
   "outputs": [
    {
     "data": {
      "text/html": [
       "<div>\n",
       "<style scoped>\n",
       "    .dataframe tbody tr th:only-of-type {\n",
       "        vertical-align: middle;\n",
       "    }\n",
       "\n",
       "    .dataframe tbody tr th {\n",
       "        vertical-align: top;\n",
       "    }\n",
       "\n",
       "    .dataframe thead th {\n",
       "        text-align: right;\n",
       "    }\n",
       "</style>\n",
       "<table border=\"1\" class=\"dataframe\">\n",
       "  <thead>\n",
       "    <tr style=\"text-align: right;\">\n",
       "      <th></th>\n",
       "      <th>mutation_id</th>\n",
       "      <th>position</th>\n",
       "      <th>parent</th>\n",
       "      <th>node</th>\n",
       "      <th>inherited_state</th>\n",
       "      <th>derived_state</th>\n",
       "      <th>date</th>\n",
       "    </tr>\n",
       "  </thead>\n",
       "  <tbody>\n",
       "    <tr>\n",
       "      <th>5251</th>\n",
       "      <td>5251</td>\n",
       "      <td>335</td>\n",
       "      <td>-1</td>\n",
       "      <td>9218</td>\n",
       "      <td>C</td>\n",
       "      <td>-</td>\n",
       "      <td>2020-05-01</td>\n",
       "    </tr>\n",
       "    <tr>\n",
       "      <th>5253</th>\n",
       "      <td>5253</td>\n",
       "      <td>335</td>\n",
       "      <td>-1</td>\n",
       "      <td>2736630</td>\n",
       "      <td>C</td>\n",
       "      <td>-</td>\n",
       "      <td>2020-05-08</td>\n",
       "    </tr>\n",
       "    <tr>\n",
       "      <th>5254</th>\n",
       "      <td>5254</td>\n",
       "      <td>335</td>\n",
       "      <td>-1</td>\n",
       "      <td>10030</td>\n",
       "      <td>C</td>\n",
       "      <td>-</td>\n",
       "      <td>2020-05-08</td>\n",
       "    </tr>\n",
       "    <tr>\n",
       "      <th>5255</th>\n",
       "      <td>5255</td>\n",
       "      <td>335</td>\n",
       "      <td>-1</td>\n",
       "      <td>10581</td>\n",
       "      <td>C</td>\n",
       "      <td>-</td>\n",
       "      <td>2020-05-13</td>\n",
       "    </tr>\n",
       "    <tr>\n",
       "      <th>5256</th>\n",
       "      <td>5256</td>\n",
       "      <td>335</td>\n",
       "      <td>-1</td>\n",
       "      <td>1237496</td>\n",
       "      <td>C</td>\n",
       "      <td>-</td>\n",
       "      <td>2020-05-13</td>\n",
       "    </tr>\n",
       "    <tr>\n",
       "      <th>...</th>\n",
       "      <td>...</td>\n",
       "      <td>...</td>\n",
       "      <td>...</td>\n",
       "      <td>...</td>\n",
       "      <td>...</td>\n",
       "      <td>...</td>\n",
       "      <td>...</td>\n",
       "    </tr>\n",
       "    <tr>\n",
       "      <th>2069473</th>\n",
       "      <td>2069473</td>\n",
       "      <td>29614</td>\n",
       "      <td>-1</td>\n",
       "      <td>1224709</td>\n",
       "      <td>C</td>\n",
       "      <td>-</td>\n",
       "      <td>2023-02-08</td>\n",
       "    </tr>\n",
       "    <tr>\n",
       "      <th>2069474</th>\n",
       "      <td>2069474</td>\n",
       "      <td>29614</td>\n",
       "      <td>-1</td>\n",
       "      <td>2475027</td>\n",
       "      <td>C</td>\n",
       "      <td>-</td>\n",
       "      <td>2023-02-09</td>\n",
       "    </tr>\n",
       "    <tr>\n",
       "      <th>2069476</th>\n",
       "      <td>2069476</td>\n",
       "      <td>29614</td>\n",
       "      <td>-1</td>\n",
       "      <td>1225298</td>\n",
       "      <td>C</td>\n",
       "      <td>-</td>\n",
       "      <td>2023-02-10</td>\n",
       "    </tr>\n",
       "    <tr>\n",
       "      <th>2069477</th>\n",
       "      <td>2069477</td>\n",
       "      <td>29614</td>\n",
       "      <td>-1</td>\n",
       "      <td>1225498</td>\n",
       "      <td>C</td>\n",
       "      <td>-</td>\n",
       "      <td>2023-02-10</td>\n",
       "    </tr>\n",
       "    <tr>\n",
       "      <th>2069478</th>\n",
       "      <td>2069478</td>\n",
       "      <td>29614</td>\n",
       "      <td>-1</td>\n",
       "      <td>1225723</td>\n",
       "      <td>C</td>\n",
       "      <td>-</td>\n",
       "      <td>2023-02-11</td>\n",
       "    </tr>\n",
       "  </tbody>\n",
       "</table>\n",
       "<p>10646 rows × 7 columns</p>\n",
       "</div>"
      ],
      "text/plain": [
       "         mutation_id  position  parent     node inherited_state derived_state  \\\n",
       "5251            5251       335      -1     9218               C             -   \n",
       "5253            5253       335      -1  2736630               C             -   \n",
       "5254            5254       335      -1    10030               C             -   \n",
       "5255            5255       335      -1    10581               C             -   \n",
       "5256            5256       335      -1  1237496               C             -   \n",
       "...              ...       ...     ...      ...             ...           ...   \n",
       "2069473      2069473     29614      -1  1224709               C             -   \n",
       "2069474      2069474     29614      -1  2475027               C             -   \n",
       "2069476      2069476     29614      -1  1225298               C             -   \n",
       "2069477      2069477     29614      -1  1225498               C             -   \n",
       "2069478      2069478     29614      -1  1225723               C             -   \n",
       "\n",
       "              date  \n",
       "5251    2020-05-01  \n",
       "5253    2020-05-08  \n",
       "5254    2020-05-08  \n",
       "5255    2020-05-13  \n",
       "5256    2020-05-13  \n",
       "...            ...  \n",
       "2069473 2023-02-08  \n",
       "2069474 2023-02-09  \n",
       "2069476 2023-02-10  \n",
       "2069477 2023-02-10  \n",
       "2069478 2023-02-11  \n",
       "\n",
       "[10646 rows x 7 columns]"
      ]
     },
     "execution_count": 46,
     "metadata": {},
     "output_type": "execute_result"
    }
   ],
   "source": [
    "indels = (dfm_sc2ts_inter_no_del_sites.inherited_state == \"-\") | (dfm_sc2ts_inter_no_del_sites.derived_state == \"-\")\n",
    "dfm_sc2ts_inter_no_del_sites[indels]"
   ]
  },
  {
   "cell_type": "markdown",
   "id": "82463821-04a6-4421-a6c0-51f052f4c33c",
   "metadata": {},
   "source": [
    "# All sites parsimony analysis\n",
    "\n",
    "Another way we can measure the parsimony of the two different intersection ARGs is to see how parsimonious they are when we map back mutations at *all* sites along the genome. The dataframes below count the number of mutations that were in the ARG at that position before remapping (\"old\"), the number of mutations after remapping (\"new\"), and the intersection between the old and new sets of mutations. If the ARG is a good representation of the data, we would expect the sets of mutations before and after parsimony remapping to be basically the same.\n",
    "\n",
    "This analysis is partially done as an automatic output of the postprocessing pipeline [here](\n",
    "https://github.com/jeromekelleher/sc2ts-paper/blob/main/arg_postprocessing/logs/usher_sc2ts_comparison.ipynb)\n",
    "\n",
    "**NOTE** we may have an off-by-one error here in the \"new\" column, as we report 1 mutation in the flanks, but this seems unlikely if all the sequences carry the reference base?\n",
    "\n"
   ]
  },
  {
   "cell_type": "code",
   "execution_count": 54,
   "id": "0afa6771-320e-47b7-a5b6-877b3f81db0c",
   "metadata": {},
   "outputs": [
    {
     "data": {
      "text/html": [
       "<div>\n",
       "<style scoped>\n",
       "    .dataframe tbody tr th:only-of-type {\n",
       "        vertical-align: middle;\n",
       "    }\n",
       "\n",
       "    .dataframe tbody tr th {\n",
       "        vertical-align: top;\n",
       "    }\n",
       "\n",
       "    .dataframe thead th {\n",
       "        text-align: right;\n",
       "    }\n",
       "</style>\n",
       "<table border=\"1\" class=\"dataframe\">\n",
       "  <thead>\n",
       "    <tr style=\"text-align: right;\">\n",
       "      <th></th>\n",
       "      <th>old</th>\n",
       "      <th>new</th>\n",
       "      <th>intersection</th>\n",
       "    </tr>\n",
       "    <tr>\n",
       "      <th>site</th>\n",
       "      <th></th>\n",
       "      <th></th>\n",
       "      <th></th>\n",
       "    </tr>\n",
       "  </thead>\n",
       "  <tbody>\n",
       "    <tr>\n",
       "      <th>1</th>\n",
       "      <td>0</td>\n",
       "      <td>1</td>\n",
       "      <td>0</td>\n",
       "    </tr>\n",
       "    <tr>\n",
       "      <th>2</th>\n",
       "      <td>0</td>\n",
       "      <td>1</td>\n",
       "      <td>0</td>\n",
       "    </tr>\n",
       "    <tr>\n",
       "      <th>3</th>\n",
       "      <td>0</td>\n",
       "      <td>1</td>\n",
       "      <td>0</td>\n",
       "    </tr>\n",
       "    <tr>\n",
       "      <th>4</th>\n",
       "      <td>0</td>\n",
       "      <td>1</td>\n",
       "      <td>0</td>\n",
       "    </tr>\n",
       "    <tr>\n",
       "      <th>5</th>\n",
       "      <td>0</td>\n",
       "      <td>1</td>\n",
       "      <td>0</td>\n",
       "    </tr>\n",
       "    <tr>\n",
       "      <th>...</th>\n",
       "      <td>...</td>\n",
       "      <td>...</td>\n",
       "      <td>...</td>\n",
       "    </tr>\n",
       "    <tr>\n",
       "      <th>29899</th>\n",
       "      <td>0</td>\n",
       "      <td>1</td>\n",
       "      <td>0</td>\n",
       "    </tr>\n",
       "    <tr>\n",
       "      <th>29900</th>\n",
       "      <td>0</td>\n",
       "      <td>1</td>\n",
       "      <td>0</td>\n",
       "    </tr>\n",
       "    <tr>\n",
       "      <th>29901</th>\n",
       "      <td>0</td>\n",
       "      <td>1</td>\n",
       "      <td>0</td>\n",
       "    </tr>\n",
       "    <tr>\n",
       "      <th>29902</th>\n",
       "      <td>0</td>\n",
       "      <td>1</td>\n",
       "      <td>0</td>\n",
       "    </tr>\n",
       "    <tr>\n",
       "      <th>29903</th>\n",
       "      <td>0</td>\n",
       "      <td>1</td>\n",
       "      <td>0</td>\n",
       "    </tr>\n",
       "  </tbody>\n",
       "</table>\n",
       "<p>29903 rows × 3 columns</p>\n",
       "</div>"
      ],
      "text/plain": [
       "       old  new  intersection\n",
       "site                         \n",
       "1        0    1             0\n",
       "2        0    1             0\n",
       "3        0    1             0\n",
       "4        0    1             0\n",
       "5        0    1             0\n",
       "...    ...  ...           ...\n",
       "29899    0    1             0\n",
       "29900    0    1             0\n",
       "29901    0    1             0\n",
       "29902    0    1             0\n",
       "29903    0    1             0\n",
       "\n",
       "[29903 rows x 3 columns]"
      ]
     },
     "execution_count": 54,
     "metadata": {},
     "output_type": "execute_result"
    }
   ],
   "source": [
    "df_usher_asp = pd.read_csv(\"../arg_postprocessing/usher_2023-02-21_intersection_asp.csv\", index_col=0).set_index(\"site\")\n",
    "df_usher_asp"
   ]
  },
  {
   "cell_type": "code",
   "execution_count": 55,
   "id": "5e3d59a8-0eac-4298-806b-241c78f30fff",
   "metadata": {},
   "outputs": [
    {
     "data": {
      "text/html": [
       "<div>\n",
       "<style scoped>\n",
       "    .dataframe tbody tr th:only-of-type {\n",
       "        vertical-align: middle;\n",
       "    }\n",
       "\n",
       "    .dataframe tbody tr th {\n",
       "        vertical-align: top;\n",
       "    }\n",
       "\n",
       "    .dataframe thead th {\n",
       "        text-align: right;\n",
       "    }\n",
       "</style>\n",
       "<table border=\"1\" class=\"dataframe\">\n",
       "  <thead>\n",
       "    <tr style=\"text-align: right;\">\n",
       "      <th></th>\n",
       "      <th>old</th>\n",
       "      <th>new</th>\n",
       "      <th>intersection</th>\n",
       "    </tr>\n",
       "    <tr>\n",
       "      <th>site</th>\n",
       "      <th></th>\n",
       "      <th></th>\n",
       "      <th></th>\n",
       "    </tr>\n",
       "  </thead>\n",
       "  <tbody>\n",
       "    <tr>\n",
       "      <th>1</th>\n",
       "      <td>0</td>\n",
       "      <td>1</td>\n",
       "      <td>0</td>\n",
       "    </tr>\n",
       "    <tr>\n",
       "      <th>2</th>\n",
       "      <td>0</td>\n",
       "      <td>1</td>\n",
       "      <td>0</td>\n",
       "    </tr>\n",
       "    <tr>\n",
       "      <th>3</th>\n",
       "      <td>0</td>\n",
       "      <td>1</td>\n",
       "      <td>0</td>\n",
       "    </tr>\n",
       "    <tr>\n",
       "      <th>4</th>\n",
       "      <td>0</td>\n",
       "      <td>1</td>\n",
       "      <td>0</td>\n",
       "    </tr>\n",
       "    <tr>\n",
       "      <th>5</th>\n",
       "      <td>0</td>\n",
       "      <td>1</td>\n",
       "      <td>0</td>\n",
       "    </tr>\n",
       "    <tr>\n",
       "      <th>...</th>\n",
       "      <td>...</td>\n",
       "      <td>...</td>\n",
       "      <td>...</td>\n",
       "    </tr>\n",
       "    <tr>\n",
       "      <th>29899</th>\n",
       "      <td>0</td>\n",
       "      <td>1</td>\n",
       "      <td>0</td>\n",
       "    </tr>\n",
       "    <tr>\n",
       "      <th>29900</th>\n",
       "      <td>0</td>\n",
       "      <td>1</td>\n",
       "      <td>0</td>\n",
       "    </tr>\n",
       "    <tr>\n",
       "      <th>29901</th>\n",
       "      <td>0</td>\n",
       "      <td>1</td>\n",
       "      <td>0</td>\n",
       "    </tr>\n",
       "    <tr>\n",
       "      <th>29902</th>\n",
       "      <td>0</td>\n",
       "      <td>1</td>\n",
       "      <td>0</td>\n",
       "    </tr>\n",
       "    <tr>\n",
       "      <th>29903</th>\n",
       "      <td>0</td>\n",
       "      <td>1</td>\n",
       "      <td>0</td>\n",
       "    </tr>\n",
       "  </tbody>\n",
       "</table>\n",
       "<p>29903 rows × 3 columns</p>\n",
       "</div>"
      ],
      "text/plain": [
       "       old  new  intersection\n",
       "site                         \n",
       "1        0    1             0\n",
       "2        0    1             0\n",
       "3        0    1             0\n",
       "4        0    1             0\n",
       "5        0    1             0\n",
       "...    ...  ...           ...\n",
       "29899    0    1             0\n",
       "29900    0    1             0\n",
       "29901    0    1             0\n",
       "29902    0    1             0\n",
       "29903    0    1             0\n",
       "\n",
       "[29903 rows x 3 columns]"
      ]
     },
     "execution_count": 55,
     "metadata": {},
     "output_type": "execute_result"
    }
   ],
   "source": [
    "df_sc2ts_asp = pd.read_csv(\"../arg_postprocessing/sc2ts_2023-02-21_intersection_asp.csv\", index_col=0).set_index(\"site\")\n",
    "df_sc2ts_asp"
   ]
  },
  {
   "cell_type": "code",
   "execution_count": 56,
   "id": "0851371c-df58-48cc-8680-b57ea3c11795",
   "metadata": {},
   "outputs": [
    {
     "data": {
      "text/plain": [
       "old              1934679\n",
       "new             11470551\n",
       "intersection     1927275\n",
       "dtype: int64"
      ]
     },
     "execution_count": 56,
     "metadata": {},
     "output_type": "execute_result"
    }
   ],
   "source": [
    "df_usher_asp.sum()"
   ]
  },
  {
   "cell_type": "code",
   "execution_count": 57,
   "id": "70f81880-f451-4576-899b-233197e32f50",
   "metadata": {},
   "outputs": [
    {
     "data": {
      "text/plain": [
       "old              2078370\n",
       "new             10840687\n",
       "intersection     2072695\n",
       "dtype: int64"
      ]
     },
     "execution_count": 57,
     "metadata": {},
     "output_type": "execute_result"
    }
   ],
   "source": [
    "df_sc2ts_asp.sum()"
   ]
  },
  {
   "cell_type": "code",
   "execution_count": 62,
   "id": "6de42fdf-b47b-4238-ae4c-58f09909680e",
   "metadata": {},
   "outputs": [
    {
     "data": {
      "text/plain": [
       "np.int64(629864)"
      ]
     },
     "execution_count": 62,
     "metadata": {},
     "output_type": "execute_result"
    }
   ],
   "source": [
    "df_usher_asp[\"new\"].sum() - df_sc2ts_asp[\"new\"].sum()"
   ]
  },
  {
   "cell_type": "code",
   "execution_count": 63,
   "id": "5a374943-d182-41ef-b7b3-de2d5bbe51e4",
   "metadata": {},
   "outputs": [
    {
     "data": {
      "text/plain": [
       "np.float64(0.05491139876366881)"
      ]
     },
     "execution_count": 63,
     "metadata": {},
     "output_type": "execute_result"
    }
   ],
   "source": [
    "_ / df_usher_asp[\"new\"].sum() "
   ]
  },
  {
   "cell_type": "markdown",
   "id": "2943ed9d-25ab-478c-9b87-3fa7d6031016",
   "metadata": {},
   "source": [
    "So, while the UShER tree has fewer mutations when we consider the intersection sites, when we remap *all* sites in the ARG, and take deletions into account, the sc2ts ARG has 629864 (5.5%) fewer mutations"
   ]
  },
  {
   "cell_type": "code",
   "execution_count": 76,
   "id": "8d531638-c1b3-40fd-84f2-9fb0e9b9512e",
   "metadata": {},
   "outputs": [
    {
     "data": {
      "image/png": "[encoded data removed]",
      "text/plain": [
       "<Figure size 1600x400 with 1 Axes>"
      ]
     },
     "metadata": {},
     "output_type": "display_data"
    }
   ],
   "source": [
    "_, ax = plot_per_site_count(df_sc2ts_asp.index, df_usher_asp[\"new\"], 0.9)\n",
    "ax.set_ylim(0, 5000);"
   ]
  },
  {
   "cell_type": "code",
   "execution_count": 82,
   "id": "9046d1d0-6473-47a7-9146-c0229ec25e82",
   "metadata": {},
   "outputs": [
    {
     "data": {
      "text/html": [
       "<div>\n",
       "<style scoped>\n",
       "    .dataframe tbody tr th:only-of-type {\n",
       "        vertical-align: middle;\n",
       "    }\n",
       "\n",
       "    .dataframe tbody tr th {\n",
       "        vertical-align: top;\n",
       "    }\n",
       "\n",
       "    .dataframe thead th {\n",
       "        text-align: right;\n",
       "    }\n",
       "</style>\n",
       "<table border=\"1\" class=\"dataframe\">\n",
       "  <thead>\n",
       "    <tr style=\"text-align: right;\">\n",
       "      <th></th>\n",
       "      <th>old</th>\n",
       "      <th>new</th>\n",
       "      <th>intersection</th>\n",
       "    </tr>\n",
       "    <tr>\n",
       "      <th>site</th>\n",
       "      <th></th>\n",
       "      <th></th>\n",
       "      <th></th>\n",
       "    </tr>\n",
       "  </thead>\n",
       "  <tbody>\n",
       "    <tr>\n",
       "      <th>47</th>\n",
       "      <td>0</td>\n",
       "      <td>52297</td>\n",
       "      <td>0</td>\n",
       "    </tr>\n",
       "    <tr>\n",
       "      <th>51</th>\n",
       "      <td>0</td>\n",
       "      <td>52980</td>\n",
       "      <td>0</td>\n",
       "    </tr>\n",
       "    <tr>\n",
       "      <th>52</th>\n",
       "      <td>0</td>\n",
       "      <td>52818</td>\n",
       "      <td>0</td>\n",
       "    </tr>\n",
       "    <tr>\n",
       "      <th>53</th>\n",
       "      <td>0</td>\n",
       "      <td>52684</td>\n",
       "      <td>0</td>\n",
       "    </tr>\n",
       "    <tr>\n",
       "      <th>54</th>\n",
       "      <td>0</td>\n",
       "      <td>52619</td>\n",
       "      <td>0</td>\n",
       "    </tr>\n",
       "    <tr>\n",
       "      <th>8835</th>\n",
       "      <td>0</td>\n",
       "      <td>147738</td>\n",
       "      <td>0</td>\n",
       "    </tr>\n",
       "    <tr>\n",
       "      <th>15521</th>\n",
       "      <td>0</td>\n",
       "      <td>274478</td>\n",
       "      <td>0</td>\n",
       "    </tr>\n",
       "    <tr>\n",
       "      <th>29828</th>\n",
       "      <td>0</td>\n",
       "      <td>57737</td>\n",
       "      <td>0</td>\n",
       "    </tr>\n",
       "    <tr>\n",
       "      <th>29829</th>\n",
       "      <td>0</td>\n",
       "      <td>59154</td>\n",
       "      <td>0</td>\n",
       "    </tr>\n",
       "    <tr>\n",
       "      <th>29830</th>\n",
       "      <td>0</td>\n",
       "      <td>59380</td>\n",
       "      <td>0</td>\n",
       "    </tr>\n",
       "    <tr>\n",
       "      <th>29831</th>\n",
       "      <td>0</td>\n",
       "      <td>59622</td>\n",
       "      <td>0</td>\n",
       "    </tr>\n",
       "    <tr>\n",
       "      <th>29832</th>\n",
       "      <td>0</td>\n",
       "      <td>69443</td>\n",
       "      <td>0</td>\n",
       "    </tr>\n",
       "    <tr>\n",
       "      <th>29833</th>\n",
       "      <td>0</td>\n",
       "      <td>69382</td>\n",
       "      <td>0</td>\n",
       "    </tr>\n",
       "    <tr>\n",
       "      <th>29834</th>\n",
       "      <td>0</td>\n",
       "      <td>69548</td>\n",
       "      <td>0</td>\n",
       "    </tr>\n",
       "    <tr>\n",
       "      <th>29835</th>\n",
       "      <td>0</td>\n",
       "      <td>69732</td>\n",
       "      <td>0</td>\n",
       "    </tr>\n",
       "    <tr>\n",
       "      <th>29836</th>\n",
       "      <td>0</td>\n",
       "      <td>69712</td>\n",
       "      <td>0</td>\n",
       "    </tr>\n",
       "  </tbody>\n",
       "</table>\n",
       "</div>"
      ],
      "text/plain": [
       "       old     new  intersection\n",
       "site                            \n",
       "47       0   52297             0\n",
       "51       0   52980             0\n",
       "52       0   52818             0\n",
       "53       0   52684             0\n",
       "54       0   52619             0\n",
       "8835     0  147738             0\n",
       "15521    0  274478             0\n",
       "29828    0   57737             0\n",
       "29829    0   59154             0\n",
       "29830    0   59380             0\n",
       "29831    0   59622             0\n",
       "29832    0   69443             0\n",
       "29833    0   69382             0\n",
       "29834    0   69548             0\n",
       "29835    0   69732             0\n",
       "29836    0   69712             0"
      ]
     },
     "execution_count": 82,
     "metadata": {},
     "output_type": "execute_result"
    }
   ],
   "source": [
    "df_usher_asp[df_usher_asp[\"new\"] > 50_000]"
   ]
  },
  {
   "cell_type": "markdown",
   "id": "e98cfc4d-1cfb-42d0-8f54-762f22e61769",
   "metadata": {},
   "source": [
    "Two very large outlier sites that were not included in the original UShER or sc2ts sites, 8835 and 15521 have large mutation counts for both (with UShER having significantly fewer)."
   ]
  },
  {
   "cell_type": "code",
   "execution_count": 83,
   "id": "02b6f01d-a23a-47fd-8caf-470639bdab20",
   "metadata": {},
   "outputs": [
    {
     "data": {
      "text/html": [
       "<div>\n",
       "<style scoped>\n",
       "    .dataframe tbody tr th:only-of-type {\n",
       "        vertical-align: middle;\n",
       "    }\n",
       "\n",
       "    .dataframe tbody tr th {\n",
       "        vertical-align: top;\n",
       "    }\n",
       "\n",
       "    .dataframe thead th {\n",
       "        text-align: right;\n",
       "    }\n",
       "</style>\n",
       "<table border=\"1\" class=\"dataframe\">\n",
       "  <thead>\n",
       "    <tr style=\"text-align: right;\">\n",
       "      <th></th>\n",
       "      <th>old</th>\n",
       "      <th>new</th>\n",
       "      <th>intersection</th>\n",
       "    </tr>\n",
       "    <tr>\n",
       "      <th>site</th>\n",
       "      <th></th>\n",
       "      <th></th>\n",
       "      <th></th>\n",
       "    </tr>\n",
       "  </thead>\n",
       "  <tbody>\n",
       "    <tr>\n",
       "      <th>8835</th>\n",
       "      <td>0</td>\n",
       "      <td>179776</td>\n",
       "      <td>0</td>\n",
       "    </tr>\n",
       "    <tr>\n",
       "      <th>15521</th>\n",
       "      <td>0</td>\n",
       "      <td>324457</td>\n",
       "      <td>0</td>\n",
       "    </tr>\n",
       "  </tbody>\n",
       "</table>\n",
       "</div>"
      ],
      "text/plain": [
       "       old     new  intersection\n",
       "site                            \n",
       "8835     0  179776             0\n",
       "15521    0  324457             0"
      ]
     },
     "execution_count": 83,
     "metadata": {},
     "output_type": "execute_result"
    }
   ],
   "source": [
    "df_sc2ts_asp.loc[[8835, 15521]]"
   ]
  },
  {
   "cell_type": "code",
   "execution_count": 84,
   "id": "d3fcd587-6028-4abd-91d4-d312905410b2",
   "metadata": {},
   "outputs": [
    {
     "data": {
      "text/html": [
       "<div>\n",
       "<style scoped>\n",
       "    .dataframe tbody tr th:only-of-type {\n",
       "        vertical-align: middle;\n",
       "    }\n",
       "\n",
       "    .dataframe tbody tr th {\n",
       "        vertical-align: top;\n",
       "    }\n",
       "\n",
       "    .dataframe thead th {\n",
       "        text-align: right;\n",
       "    }\n",
       "</style>\n",
       "<table border=\"1\" class=\"dataframe\">\n",
       "  <thead>\n",
       "    <tr style=\"text-align: right;\">\n",
       "      <th></th>\n",
       "      <th>old</th>\n",
       "      <th>new</th>\n",
       "      <th>intersection</th>\n",
       "    </tr>\n",
       "    <tr>\n",
       "      <th>site</th>\n",
       "      <th></th>\n",
       "      <th></th>\n",
       "      <th></th>\n",
       "    </tr>\n",
       "  </thead>\n",
       "  <tbody>\n",
       "    <tr>\n",
       "      <th>8835</th>\n",
       "      <td>0</td>\n",
       "      <td>147738</td>\n",
       "      <td>0</td>\n",
       "    </tr>\n",
       "    <tr>\n",
       "      <th>15521</th>\n",
       "      <td>0</td>\n",
       "      <td>274478</td>\n",
       "      <td>0</td>\n",
       "    </tr>\n",
       "  </tbody>\n",
       "</table>\n",
       "</div>"
      ],
      "text/plain": [
       "       old     new  intersection\n",
       "site                            \n",
       "8835     0  147738             0\n",
       "15521    0  274478             0"
      ]
     },
     "execution_count": 84,
     "metadata": {},
     "output_type": "execute_result"
    }
   ],
   "source": [
    "df_usher_asp.loc[[8835, 15521]]"
   ]
  },
  {
   "cell_type": "code",
   "execution_count": 88,
   "id": "1ee72dea-4005-4b5c-8a0f-588390eac026",
   "metadata": {},
   "outputs": [
    {
     "data": {
      "image/png": "[encoded data removed]",
      "text/plain": [
       "<Figure size 640x480 with 1 Axes>"
      ]
     },
     "metadata": {},
     "output_type": "display_data"
    }
   ],
   "source": [
    "diff = df_sc2ts_asp.new - df_usher_asp.new\n",
    "diff.hist();"
   ]
  },
  {
   "cell_type": "markdown",
   "id": "2a558a3c-e80f-49ea-904b-6c9d8715812b",
   "metadata": {},
   "source": [
    "The difference seems mostly negative (sc2ts smaller) with a few large positive outliers (UShER smaller). "
   ]
  },
  {
   "cell_type": "code",
   "execution_count": 89,
   "id": "c5bf2b04-beb9-42cb-920e-317ac3b8d860",
   "metadata": {},
   "outputs": [
    {
     "data": {
      "text/plain": [
       "site\n",
       "8835     32038\n",
       "15521    49979\n",
       "Name: new, dtype: int64"
      ]
     },
     "execution_count": 89,
     "metadata": {},
     "output_type": "execute_result"
    }
   ],
   "source": [
    "diff[diff > 20_000]"
   ]
  },
  {
   "cell_type": "markdown",
   "id": "18dac77a-7979-4953-a017-756e1f6c5c58",
   "metadata": {},
   "source": [
    "This is from the large outlier sites above, 88365 and 15521 (UShER definitely seems to be doing a better job around these locations). If we exclude those and focus on smaller differences, we get "
   ]
  },
  {
   "cell_type": "code",
   "execution_count": 92,
   "id": "0cf83f41-fa1d-42b2-88c1-5140f3bcad2c",
   "metadata": {},
   "outputs": [
    {
     "data": {
      "image/png": "[encoded data removed]",
      "text/plain": [
       "<Figure size 640x480 with 1 Axes>"
      ]
     },
     "metadata": {},
     "output_type": "display_data"
    }
   ],
   "source": [
    "diff[diff.abs() < 5_000].hist();"
   ]
  },
  {
   "cell_type": "code",
   "execution_count": 95,
   "id": "c7f431d2-f62b-48bd-93a0-447727556fe9",
   "metadata": {},
   "outputs": [
    {
     "data": {
      "text/plain": [
       "site\n",
       "686     -3428\n",
       "687     -3429\n",
       "688     -3423\n",
       "689     -3428\n",
       "690     -3430\n",
       "         ... \n",
       "29831   -3536\n",
       "29833   -1048\n",
       "29834   -1054\n",
       "29835   -1136\n",
       "29836   -1129\n",
       "Name: new, Length: 309, dtype: int64"
      ]
     },
     "execution_count": 95,
     "metadata": {},
     "output_type": "execute_result"
    }
   ],
   "source": [
    "diff[diff < -1_000]"
   ]
  },
  {
   "cell_type": "markdown",
   "id": "8e131975-5fe4-4904-9aed-48299830c5e9",
   "metadata": {},
   "source": [
    "The locations where sc2ts does significantly better are in the regions that were remapped for deletions. Thus, it's likely that the difference in overall parsimony is attributable to the inclusion of the signals from deletions in the sc2ts ARG and the additional parsimony hueristics that were applied."
   ]
  }
 ],
 "metadata": {
  "kernelspec": {
   "display_name": "Python 3 (ipykernel)",
   "language": "python",
   "name": "python3"
  },
  "language_info": {
   "codemirror_mode": {
    "name": "ipython",
    "version": 3
   },
   "file_extension": ".py",
   "mimetype": "text/x-python",
   "name": "python",
   "nbconvert_exporter": "python",
   "pygments_lexer": "ipython3",
   "version": "3.10.12"
  }
 },
 "nbformat": 4,
 "nbformat_minor": 5
}
