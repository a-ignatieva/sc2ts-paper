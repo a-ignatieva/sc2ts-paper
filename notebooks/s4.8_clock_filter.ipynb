{
 "cells": [
  {
   "cell_type": "markdown",
   "id": "a19c5b08-9544-484d-a01c-a4370540ff86",
   "metadata": {},
   "source": [
    "# Clock Filter\n",
    "\n",
    "This is a notebook to identify date outliers in GISAID SARS-CoV-2."
   ]
  },
  {
   "cell_type": "markdown",
   "id": "1473dcc6-752e-4993-bb29-036f74ac93dc",
   "metadata": {},
   "source": [
    "## Setup"
   ]
  },
  {
   "cell_type": "markdown",
   "id": "62021082-58cd-4250-9888-54a7ecc10ef6",
   "metadata": {},
   "source": [
    "### Libraries"
   ]
  },
  {
   "cell_type": "code",
   "execution_count": null,
   "id": "619df2e5-d858-48cb-b1fa-9cc8dc01a703",
   "metadata": {},
   "outputs": [],
   "source": [
    "import pandas as pd\n",
    "import copy\n",
    "import numpy as np\n",
    "import json\n",
    "import seaborn as sns\n",
    "import matplotlib.pyplot as plt\n",
    "import matplotlib.dates as mdates\n",
    "from datetime import datetime, timedelta\n",
    "import os"
   ]
  },
  {
   "cell_type": "markdown",
   "id": "06a57fac-32d3-4927-bd7e-20c8a047dbc2",
   "metadata": {},
   "source": [
    "### Variables"
   ]
  },
  {
   "cell_type": "code",
   "execution_count": null,
   "id": "8de8f596-aeed-4448-8067-773842184be4",
   "metadata": {},
   "outputs": [],
   "source": [
    "# Reference Tree\n",
    "tree_path     = \"../data/ncov_gisaid_reference_2022-08-22.json\"\n",
    "\n",
    "NO_DATA_CHAR  = \"NA\"\n",
    "REFERENCE_STRAIN=\"Wuhan/Hu-1/2019\"\n",
    "MIN_DATE=\"2020-01-01\"\n",
    "\n",
    "# Exclude strain if 'bad' for any of these\n",
    "BAD_QUALITY_COLS = [\n",
    "    \"qc.missingData.status\",\n",
    "    \"qc.mixedSites.status\",\n",
    "    \"qc.frameShifts.status\",\n",
    "    \"qc.stopCodons.status\"\n",
    "]\n",
    "\n",
    "plt.rcParams[\"svg.fonttype\"]     = \"none\"\n",
    "plt.rcParams[\"figure.facecolor\"] = \"white\"\n",
    "plt.rcParams[\"axes.facecolor\"]   = \"white\"\n",
    "plt.rcParams[\"savefig.facecolor\"]   = \"white\""
   ]
  },
  {
   "cell_type": "markdown",
   "id": "0fa5d3a8-3cb3-4785-aa0e-1b23750fdff1",
   "metadata": {},
   "source": [
    "#### GISAID Param"
   ]
  },
  {
   "cell_type": "code",
   "execution_count": null,
   "id": "ec33abaa-5327-4bf0-96e8-7c1bb091fe5e",
   "metadata": {},
   "outputs": [],
   "source": [
    "metadata_path = \"../results/minimal.tsv\"\n",
    "outdir        = os.path.join(\"../results\")"
   ]
  },
  {
   "cell_type": "code",
   "execution_count": null,
   "id": "52ee1203-f38a-4d76-a505-134994bbb1a4",
   "metadata": {},
   "outputs": [],
   "source": [
    "if not os.path.exists(outdir):\n",
    "    os.mkdir(outdir)"
   ]
  },
  {
   "cell_type": "markdown",
   "id": "ebe33521-315d-4cbf-8b16-7cdeb4d91a60",
   "metadata": {},
   "source": [
    "### Functions"
   ]
  },
  {
   "cell_type": "code",
   "execution_count": null,
   "id": "a24f95da-943f-4750-b0ac-62c6f597f375",
   "metadata": {},
   "outputs": [],
   "source": [
    "def extract_clade_mrca(tree_data):\n",
    "    \n",
    "    tmrca_data = []\n",
    "    \n",
    "    # Found a node with a clade annotation (MRCA)\n",
    "    # The branch attributes will contain: 'labels': {'clade': '19A'}\n",
    "    if \"labels\" in tree_data[\"branch_attrs\"]:\n",
    "        if \"clade\" in tree_data[\"branch_attrs\"][\"labels\"]:\n",
    "            clade = tree_data[\"branch_attrs\"][\"labels\"][\"clade\"]\n",
    "            # Dates are in node attributes\n",
    "            tmrca = tree_data[\"node_attrs\"][\"num_date\"][\"value\"]\n",
    "            tmrca_ci = tree_data[\"node_attrs\"][\"num_date\"][\"confidence\"]\n",
    "            tmrca_data = [[clade,tmrca, tmrca_ci[0], tmrca_ci[1]]]\n",
    "\n",
    "    # Continue recursion\n",
    "    if \"children\" in tree_data:\n",
    "        for child in tree_data[\"children\"]:\n",
    "            child_mrca_data = extract_clade_mrca(child)\n",
    "            tmrca_data = tmrca_data + child_mrca_data\n",
    "\n",
    "    return tmrca_data"
   ]
  },
  {
   "cell_type": "code",
   "execution_count": null,
   "id": "87857e14-76cb-4a58-999f-b7ab376f7945",
   "metadata": {},
   "outputs": [],
   "source": [
    "def decimal_date_to_datetime(decimal_date):\n",
    "    \"\"\"\n",
    "    Credit: Jon Clements\n",
    "    Link: https://stackoverflow.com/a/20911144\n",
    "    \"\"\"\n",
    "    year = int(decimal_date)\n",
    "    remainder = decimal_date - year\n",
    "    \n",
    "    base_date = datetime(year, 1, 1)\n",
    "    year_days = base_date.replace(year=base_date.year + 1) - base_date\n",
    "    year_seconds = year_days.total_seconds()\n",
    "    \n",
    "    remainder_seconds = year_seconds * remainder\n",
    "    result_datetime = base_date + timedelta(seconds=remainder_seconds)\n",
    "    # exclude time\n",
    "    result_date = result_datetime.replace(hour=0, minute=0, second=0, microsecond=0)\n",
    "    \n",
    "    return result_date"
   ]
  },
  {
   "cell_type": "markdown",
   "id": "37e2d26a-2914-4af3-a49a-616ac577c6db",
   "metadata": {},
   "source": [
    "## Dataframes"
   ]
  },
  {
   "cell_type": "markdown",
   "id": "cb8bc6b4-c413-4a32-94bc-1f125ab1f48f",
   "metadata": {},
   "source": [
    "### Metadata"
   ]
  },
  {
   "cell_type": "code",
   "execution_count": null,
   "id": "aa521983-b8ad-4751-849e-59e61b0e4e0e",
   "metadata": {},
   "outputs": [],
   "source": [
    "metadata_df = pd.read_csv(metadata_path, sep=\"\\t\")\n",
    "# Filter for complete dates\n",
    "metadata_df = metadata_df[metadata_df[\"date\"].str.match(\"[0-9]{4}-[0-9]{2}-[0-9]{2}\")]\n",
    "# Convert string dates to datetime objects\n",
    "metadata_df[\"datetime\"] = pd.to_datetime(metadata_df[\"date\"], format=\"%Y-%m-%d\")\n",
    "metadata_df.fillna(NO_DATA_CHAR, inplace=True)"
   ]
  },
  {
   "cell_type": "markdown",
   "id": "aa52f24d-0e5f-4fd9-9896-f544dffd4c26",
   "metadata": {},
   "source": [
    "### Filter"
   ]
  },
  {
   "cell_type": "markdown",
   "id": "768d082a-ac7e-4e89-9c35-ae897024e002",
   "metadata": {},
   "source": [
    "#### 1. Date Range"
   ]
  },
  {
   "cell_type": "code",
   "execution_count": null,
   "id": "4d77b89d-f089-46f4-8c68-1c407d75d638",
   "metadata": {},
   "outputs": [],
   "source": [
    "metadata_df = metadata_df[metadata_df[\"datetime\"] >= np.datetime64(MIN_DATE)]"
   ]
  },
  {
   "cell_type": "markdown",
   "id": "46a70178-4e1f-476e-b1c4-c068a241ce6f",
   "metadata": {},
   "source": [
    "#### 2. Host"
   ]
  },
  {
   "cell_type": "code",
   "execution_count": null,
   "id": "868998f7-d978-4623-83e3-21cf9aa077f7",
   "metadata": {},
   "outputs": [],
   "source": [
    "metadata_df = metadata_df[metadata_df[\"host\"] == \"Human\"]"
   ]
  },
  {
   "cell_type": "markdown",
   "id": "44ecaf3f-961a-4da3-bdee-c2c3c3b5d3d6",
   "metadata": {},
   "source": [
    "#### 3. Reference Strain"
   ]
  },
  {
   "cell_type": "code",
   "execution_count": null,
   "id": "fd892645-5f3d-44be-9999-78c29db55a07",
   "metadata": {},
   "outputs": [],
   "source": [
    "metadata_df = metadata_df[metadata_df[\"strain\"] != REFERENCE_STRAIN]"
   ]
  },
  {
   "cell_type": "markdown",
   "id": "e125fc5d-3423-44a9-99fa-9e788f681d6a",
   "metadata": {},
   "source": [
    "#### 4. Genome Quality"
   ]
  },
  {
   "cell_type": "code",
   "execution_count": null,
   "id": "d1c3bbae-608e-4be0-8ee7-cdd575e964e2",
   "metadata": {},
   "outputs": [],
   "source": [
    "for col in BAD_QUALITY_COLS:\n",
    "    print(\"Filter: {}\".format(col))\n",
    "    metadata_df = metadata_df[metadata_df[col] != \"bad\"]"
   ]
  },
  {
   "cell_type": "markdown",
   "id": "f5faf95b-7569-404a-995d-0d6142a828bf",
   "metadata": {},
   "source": [
    "### Nextstrain MRCA"
   ]
  },
  {
   "cell_type": "markdown",
   "id": "96a26687-60f9-41d1-bc46-50661fdfde89",
   "metadata": {},
   "source": [
    "#### Parse Tree JSON"
   ]
  },
  {
   "cell_type": "code",
   "execution_count": null,
   "id": "052ae318-c25b-44f3-a704-b34a020171d8",
   "metadata": {},
   "outputs": [],
   "source": [
    "with open(tree_path) as infile:\n",
    "    json_data = json.load(infile)\n",
    "tree_data = json_data[\"tree\"]\n",
    "\n",
    "# Creates a list of lists\n",
    "mrca_data = extract_clade_mrca(tree_data)"
   ]
  },
  {
   "cell_type": "markdown",
   "id": "30c45a8e-4128-493a-ba02-ba9af718e8e9",
   "metadata": {},
   "source": [
    "#### Convert to Dataframe"
   ]
  },
  {
   "cell_type": "code",
   "execution_count": null,
   "id": "88d3b6a5-2160-4b02-b36b-97ba75083018",
   "metadata": {},
   "outputs": [],
   "source": [
    "# First, convert list of lists to dictionary\n",
    "mrca_dict = {\n",
    "    \"clade\" : [],\n",
    "    \"inferred_date\" : [],\n",
    "    \"ci_low\" : [],\n",
    "    \"ci_high\" : [],\n",
    "}\n",
    "for clade_data in mrca_data:\n",
    "    clade = clade_data[0]\n",
    "    \n",
    "    # Convert decimal dates (2021.5) to datetime objects    \n",
    "    inferred_date = decimal_date_to_datetime(clade_data[1])\n",
    "    ci_low = decimal_date_to_datetime(clade_data[2])\n",
    "    ci_high = decimal_date_to_datetime(clade_data[3])\n",
    "    \n",
    "    mrca_dict[\"clade\"].append(clade)\n",
    "    mrca_dict[\"inferred_date\"].append(inferred_date)\n",
    "    mrca_dict[\"ci_low\"].append(ci_low)\n",
    "    mrca_dict[\"ci_high\"].append(ci_high)\n",
    "    \n",
    "mrca_df = pd.DataFrame(mrca_dict)\n",
    "mrca_df = mrca_df.sort_values(by=\"clade\")\n",
    "outpath = os.path.join(outdir, \"clade_mrca.tsv\")\n",
    "mrca_df.to_csv(outpath, sep=\"\\t\", index=False)\n",
    "\n",
    "mrca_df"
   ]
  },
  {
   "cell_type": "markdown",
   "id": "53a67e55-a24a-4524-94ff-9c9527a8830d",
   "metadata": {},
   "source": [
    "## Clock Filter"
   ]
  },
  {
   "cell_type": "code",
   "execution_count": null,
   "id": "d20990b7-e000-44e8-af52-8f4147c82c32",
   "metadata": {},
   "outputs": [],
   "source": [
    "clade_data = {}\n",
    "\n",
    "# Iterate through the clades observed in the metadata\n",
    "for clade in set(metadata_df[\"clade\"]):\n",
    "\n",
    "    # Skip over samples missing a clade assignment (i.e. couldn't be aligned)\n",
    "    # Or recombinants, which is not a true clade\n",
    "    if (\n",
    "        clade == NO_DATA_CHAR \n",
    "        or clade == \"recombinant\"\n",
    "    ): continue\n",
    "    \n",
    "    print(\"Filtering clade:\", clade)\n",
    "    \n",
    "    # Initialize data dict for this clade\n",
    "    clade_data[clade] = {}\n",
    "    \n",
    "    clade_metadata = copy.copy(metadata_df[metadata_df[\"clade\"] == clade])\n",
    "    clade_mrca     = mrca_df[mrca_df[\"clade\"] == clade]\n",
    "   \n",
    "    # Classify samples based on collection dates\n",
    "    # By default, set to Undetermined\n",
    "    clade_metadata.loc[clade_metadata.index,\"date_filter\"] = \"Undetermined\"\n",
    "\n",
    "    # Check if we have MRCA dates for this clade\n",
    "    if len(clade_mrca) > 0:\n",
    "        clade_metadata.loc[clade_metadata[\"datetime\"] < clade_mrca[\"ci_low\"].values[0], \"date_filter\"] = \"Fail\"\n",
    "        clade_metadata.loc[clade_metadata[\"datetime\"] >= clade_mrca[\"ci_high\"].values[0], \"date_filter\"] = \"Pass\"\n",
    "\n",
    "    # Get counts for each category, just in case we want to use this in a figure caption or title\n",
    "    num_undetermined = len(clade_metadata[clade_metadata[\"date_filter\"] == \"Undetermined\"])\n",
    "    num_fail = len(clade_metadata[clade_metadata[\"date_filter\"] == \"Fail\"])\n",
    "    num_pass = len(clade_metadata[clade_metadata[\"date_filter\"] == \"Pass\"])\n",
    "        \n",
    "    # Remove duplicate values for a scatter plot\n",
    "    clade_metadatal_minimal = clade_metadata[[\"datetime\", \"totalSubstitutions\", \"date_filter\"]].drop_duplicates()\n",
    "\n",
    "    # Store the stats in the clade data dict\n",
    "    clade_data[clade] = {}\n",
    "    clade_data[clade][\"clade_metadata\"]         = clade_metadata\n",
    "    clade_data[clade][\"clade_metadata_minimal\"] = clade_metadata    \n",
    "    clade_data[clade][\"clade_mrca\"]             = clade_mrca\n",
    "    clade_data[clade][\"num_undetermined\"]       = num_undetermined\n",
    "    clade_data[clade][\"num_fail\"]               = num_fail\n",
    "    clade_data[clade][\"num_pass\"]               = num_pass"
   ]
  },
  {
   "cell_type": "markdown",
   "id": "1dd66605-1a7a-4468-9a78-5d47bfdf9f48",
   "metadata": {},
   "source": [
    "## Exclusion List"
   ]
  },
  {
   "cell_type": "code",
   "execution_count": null,
   "id": "ab4dcc7a-6180-41d2-b6aa-ddffdeb81047",
   "metadata": {},
   "outputs": [],
   "source": [
    "exclude_strains = []\n",
    "\n",
    "for clade in clade_data:\n",
    "    clade_metadata = clade_data[clade][\"clade_metadata\"]\n",
    "    exclude_df = clade_metadata[(clade_metadata[\"date_filter\"] == \"Fail\")]\n",
    "    exclude_strains = exclude_strains + list(exclude_df[\"strain\"].values)\n",
    "\n",
    "outpath = os.path.join(outdir, \"exclude.clock.txt\")\n",
    "with open(outpath,\"w\") as outfile:\n",
    "    outfile.write(\"\\n\".join(exclude_strains) + \"\\n\")"
   ]
  },
  {
   "cell_type": "markdown",
   "id": "3b7c4c46-ff21-4824-a12f-846fae1acc62",
   "metadata": {},
   "source": [
    "## Plot"
   ]
  },
  {
   "cell_type": "code",
   "execution_count": null,
   "id": "d42ddfcf-2e3c-493b-8a9a-36e9e78cfd4d",
   "metadata": {},
   "outputs": [],
   "source": [
    "figsize = [12,6]\n",
    "dpi = 200\n",
    "\n",
    "# For testing\n",
    "num_rows=1000000000\n",
    "\n",
    "for clade in clade_data:\n",
    "\n",
    "    print(\"Plotting clade:\", clade)\n",
    "    \n",
    "    # Setup up a joint plot (central scatter with marginal distributions)\n",
    "    plot = sns.JointGrid()\n",
    "\n",
    "    # Plot the scatter in the central axis\n",
    "    # This uses the minimal data, because we ignore scatter density\n",
    "    sns.scatterplot(\n",
    "        ax   = plot.ax_joint,\n",
    "        data = clade_data[clade][\"clade_metadata_minimal\"].head(num_rows),\n",
    "        x    = \"datetime\",\n",
    "        y    = \"totalSubstitutions\",\n",
    "        s    = 10,\n",
    "        ec   = \"none\",\n",
    "        hue  = \"date_filter\",\n",
    "        palette = {\"Pass\" : \"green\", \"Fail\" : \"red\", \"Undetermined\": \"grey\",},\n",
    "        alpha = 0.75,\n",
    "        zorder = 2,\n",
    "        rasterized = True,    \n",
    "    )\n",
    "    \n",
    "    # Collection Dates: Plot the marginal distribution\n",
    "    # This uses the full data, because duplicates are import\n",
    "    sns.kdeplot(\n",
    "        ax   = plot.ax_marg_x,\n",
    "        data = clade_data[clade][\"clade_metadata\"].head(num_rows),\n",
    "        x    = \"datetime\",\n",
    "        color = \"black\",\n",
    "        fill = True,\n",
    "        alpha = 0.5,\n",
    "    )\n",
    "    \n",
    "    # Substitutions: Plot the marginal distribution\n",
    "    # This uses the full data, because duplicates are import\n",
    "    sns.kdeplot(\n",
    "        ax   = plot.ax_marg_y,\n",
    "        data = clade_data[clade][\"clade_metadata\"].head(num_rows),\n",
    "        y    = \"totalSubstitutions\",\n",
    "        color = \"black\",\n",
    "        fill = True,\n",
    "        alpha = 0.5,\n",
    "    ) \n",
    "    \n",
    "    # MRCA Dates\n",
    "    if len(clade_data[clade][\"clade_mrca\"]) > 0:\n",
    "        plot.ax_joint.axvline(clade_data[clade][\"clade_mrca\"][\"inferred_date\"], color=\"black\", linewidth=1, label=\"MRCA\", zorder = 1)\n",
    "        plot.ax_joint.axvline(clade_data[clade][\"clade_mrca\"][\"ci_low\"], color=\"grey\", linestyle=\"--\", linewidth=1, label=\"MRCA (95% CI)\", zorder = 1)\n",
    "        plot.ax_joint.axvline(clade_data[clade][\"clade_mrca\"][\"ci_high\"], color=\"grey\", linestyle=\"--\", linewidth=1, zorder = 1)\n",
    "\n",
    "    # Axis Labels\n",
    "    plot.ax_joint.set_xlabel(\"Collection Date\", fontweight=\"bold\")\n",
    "    plot.ax_joint.set_ylabel(\"Total Substitutions\", fontweight=\"bold\")\n",
    "    \n",
    "    # Axis Ticks\n",
    "    plot.ax_joint.xaxis.set_major_locator(mdates.MonthLocator(bymonth=[1,3,5,7,9,11]))\n",
    "    for label in plot.ax_joint.get_xticklabels(which='major'):\n",
    "        label.set(rotation=90, horizontalalignment='center')\n",
    "\n",
    "    # Legend\n",
    "    legend = plot.ax_joint.legend(title=clade)\n",
    "    legend.get_frame().set_edgecolor(\"black\")\n",
    "    legend.get_title().set_fontweight(\"bold\")\n",
    "\n",
    "    # Dimensions and Resolution\n",
    "    plot.fig.set_figwidth(figsize[0])\n",
    "    plot.fig.set_figheight(figsize[1])\n",
    "    plot.fig.set_dpi(dpi)\n",
    "    plot.fig.tight_layout()\n",
    "\n",
    "    # Export\n",
    "    outpath = os.path.join(outdir, \"{clade}_clock_filter.png\".format(\n",
    "        clade=clade.replace(\" \",\"_\")\n",
    "    ))\n",
    "    plt.savefig(outpath)\n",
    "    \n",
    "    # Close figure, so we don't get memory warnings\n",
    "    plt.close(\"all\")"
   ]
  },
  {
   "cell_type": "code",
   "execution_count": null,
   "id": "4a8e3fc4-e6ef-4bde-a807-34e3e120c17c",
   "metadata": {},
   "outputs": [],
   "source": []
  }
 ],
 "metadata": {
  "kernelspec": {
   "display_name": "datashader",
   "language": "python",
   "name": "datashader"
  },
  "language_info": {
   "codemirror_mode": {
    "name": "ipython",
    "version": 3
   },
   "file_extension": ".py",
   "mimetype": "text/x-python",
   "name": "python",
   "nbconvert_exporter": "python",
   "pygments_lexer": "ipython3",
   "version": "3.10.5"
  }
 },
 "nbformat": 4,
 "nbformat_minor": 5
}
