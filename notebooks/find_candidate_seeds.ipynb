{
 "cells": [
  {
   "cell_type": "markdown",
   "metadata": {},
   "source": [
    "# Get a set of fixed-date samples to see VOCs\n",
    "\n",
    "Getting saltational variants started off in the presence of time travellers is a significant challenge. One way we can get some sequences of which we are confident are important to these outbreaks and have reasonably accurate dates is to look at the Pango designation data.\n",
    "\n",
    "We then merge data and figure out which of these are in the Viridian dataset by looking at the ENA data.\n",
    "\n",
    "See https://github.com/jeromekelleher/sc2ts-paper/issues/268\n"
   ]
  },
  {
   "cell_type": "markdown",
   "metadata": {},
   "source": [
    "#### Download files"
   ]
  },
  {
   "cell_type": "code",
   "execution_count": 3,
   "metadata": {},
   "outputs": [],
   "source": [
    "%%bash\n",
    "wget --quiet https://raw.githubusercontent.com/cov-lineages/pango-designation/16205e716c6a68ff1c3d0f26f0c77478682368ac/lineages.csv\n"
   ]
  },
  {
   "cell_type": "code",
   "execution_count": 4,
   "metadata": {},
   "outputs": [],
   "source": [
    "%%bash\n",
    "curl -s -X 'GET' \\\n",
    "  'https://www.ebi.ac.uk/ena/portal/api/filereport?result=read_run&accession=PRJEB37886&fields=sample_accession%2Csample_alias&limit=0&format=tsv&download=true' \\\n",
    "  -H 'accept: */*' > filereport_read_run_PRJEB37886_tsv.txt\n"
   ]
  },
  {
   "cell_type": "code",
   "execution_count": 5,
   "metadata": {},
   "outputs": [],
   "source": [
    "%%bash\n",
    "wget --quiet --content-disposition https://figshare.com/ndownloader/files/49694808\n"
   ]
  },
  {
   "cell_type": "code",
   "execution_count": 6,
   "metadata": {},
   "outputs": [],
   "source": [
    "%%bash\n",
    "wget --quiet --content-disposition https://figshare.com/ndownloader/files/49784541\n"
   ]
  },
  {
   "cell_type": "markdown",
   "metadata": {},
   "source": [
    "#### Parse files\n"
   ]
  },
  {
   "cell_type": "code",
   "execution_count": null,
   "metadata": {},
   "outputs": [],
   "source": [
    "import pandas as pd\n",
    "\n",
    "# lineage, sample name\n",
    "pango = pd.read_csv(\"lineages.csv\", sep=\",\")\n",
    "pango[\"sample_name\"] = [s.split(\"/\")[1] for s in pango[\"taxon\"]]\n",
    "pango"
   ]
  },
  {
   "cell_type": "code",
   "execution_count": 2,
   "metadata": {},
   "outputs": [],
   "source": [
    "pango = pango.set_index(\"sample_name\")"
   ]
  },
  {
   "cell_type": "code",
   "execution_count": null,
   "metadata": {
    "scrolled": true
   },
   "outputs": [],
   "source": [
    "# run accession, sample name\n",
    "ena = pd.read_csv(\"filereport_read_run_PRJEB37886_tsv.txt\", sep=\"\\t\")\n",
    "ena[\"sample_name\"] = [s.split(\"/\")[1] for s in ena[\"sample_alias\"]]\n",
    "ena"
   ]
  },
  {
   "cell_type": "code",
   "execution_count": 4,
   "metadata": {},
   "outputs": [],
   "source": [
    "ena = ena.set_index(\"sample_name\")"
   ]
  },
  {
   "cell_type": "code",
   "execution_count": null,
   "metadata": {
    "scrolled": true
   },
   "outputs": [],
   "source": [
    "pango_ena = pango.join(ena, how=\"inner\")\n",
    "pango_ena"
   ]
  },
  {
   "cell_type": "code",
   "execution_count": 6,
   "metadata": {},
   "outputs": [],
   "source": [
    "del pango, ena"
   ]
  },
  {
   "cell_type": "code",
   "execution_count": null,
   "metadata": {
    "scrolled": true
   },
   "outputs": [],
   "source": [
    "# Run (strain)\n",
    "viridian = pd.read_csv(\"run_metadata.v05.tsv.gz\", sep=\"\\t\").set_index(\"Run\")\n",
    "viridian"
   ]
  },
  {
   "cell_type": "code",
   "execution_count": null,
   "metadata": {},
   "outputs": [],
   "source": [
    "pango_ena = pango_ena.set_index(\"run_accession\")\n",
    "pango_ena"
   ]
  },
  {
   "cell_type": "code",
   "execution_count": 9,
   "metadata": {},
   "outputs": [],
   "source": [
    "joined = viridian.join(pango_ena, how=\"inner\")\n",
    "# Keep viridian, as it's needed later\n",
    "del pango_ena"
   ]
  },
  {
   "cell_type": "code",
   "execution_count": null,
   "metadata": {},
   "outputs": [],
   "source": [
    "joined"
   ]
  },
  {
   "cell_type": "markdown",
   "metadata": {},
   "source": [
    "These should all be COGUK samples now. Check on country, as a sanity check"
   ]
  },
  {
   "cell_type": "code",
   "execution_count": null,
   "metadata": {},
   "outputs": [],
   "source": [
    "joined.Country.unique()"
   ]
  },
  {
   "cell_type": "code",
   "execution_count": 12,
   "metadata": {},
   "outputs": [],
   "source": [
    "# Subset down to the columns that we're using here and chuck out 2020-12-31 and non full precision dates\n",
    "joined = joined[[\"Date_tree\", \"lineage\", \"Viridian_pangolin_1.29\"]]\n",
    "joined = joined[(joined[\"Date_tree\"] != \"2020-12-31\") & (joined[\"Date_tree\"].str.len() == 10)]"
   ]
  },
  {
   "cell_type": "markdown",
   "metadata": {},
   "source": [
    "#### Search for seed samples among COG-UK samples\n",
    "\n",
    "Use this joined dataframe now to extract some early sequences for each lineage of interest."
   ]
  },
  {
   "cell_type": "code",
   "execution_count": 13,
   "metadata": {},
   "outputs": [],
   "source": [
    "def extract_lineage(lineage, max_rows=10):\n",
    "    df = joined[joined.lineage == lineage].sort_values(\"Date_tree\")\n",
    "    print(\"Got\", df.shape[0], \" runs\")\n",
    "    return df.head(max_rows)"
   ]
  },
  {
   "cell_type": "code",
   "execution_count": null,
   "metadata": {},
   "outputs": [],
   "source": [
    "extract_lineage(\"B.1.617\")"
   ]
  },
  {
   "cell_type": "code",
   "execution_count": null,
   "metadata": {
    "scrolled": true
   },
   "outputs": [],
   "source": [
    "extract_lineage(\"B.1.617.1\")"
   ]
  },
  {
   "cell_type": "code",
   "execution_count": null,
   "metadata": {},
   "outputs": [],
   "source": [
    "extract_lineage(\"B.1.617.2\")"
   ]
  },
  {
   "cell_type": "code",
   "execution_count": null,
   "metadata": {},
   "outputs": [],
   "source": [
    "extract_lineage(\"BA.1\")"
   ]
  },
  {
   "cell_type": "code",
   "execution_count": null,
   "metadata": {},
   "outputs": [],
   "source": [
    "extract_lineage(\"BA.2\")"
   ]
  },
  {
   "cell_type": "code",
   "execution_count": null,
   "metadata": {},
   "outputs": [],
   "source": [
    "extract_lineage(\"BA.4\")"
   ]
  },
  {
   "cell_type": "markdown",
   "metadata": {},
   "source": [
    "#### Search for seed samples among the new Viridian African samples"
   ]
  },
  {
   "cell_type": "code",
   "execution_count": null,
   "metadata": {},
   "outputs": [],
   "source": [
    "africa = pd.read_excel(\"suppl_tables_S2-10.xlsx\", sheet_name=\"Table S7\").set_index(\"Run\")\n",
    "africa = africa[[]]\n",
    "africa"
   ]
  },
  {
   "cell_type": "code",
   "execution_count": null,
   "metadata": {},
   "outputs": [],
   "source": [
    "joined = viridian.join(africa, how=\"inner\")\n",
    "# Filter out probable contaminants, as done in the Viridian paper.\n",
    "# \"These were further filtered for quality, requiring no more than 3\n",
    "# “heterozygous” base calls (ie none of A,C,G,T,N) and no more than 5,000 Ns.\"\n",
    "joined[\"Viridian_cons_het\"] = joined[\"Viridian_cons_het\"].astype(int)\n",
    "joined = joined[joined[\"Viridian_cons_het\"] < 4]\n",
    "joined = joined[[\n",
    "    \"Country\", \"Region\",\n",
    "    \"Date_tree\", \"Collection_date\",\n",
    "    \"Viridian_cons_het\",\n",
    "    \"Viridian_pangolin_1.29\",\n",
    "]]\n",
    "joined"
   ]
  },
  {
   "cell_type": "code",
   "execution_count": 22,
   "metadata": {},
   "outputs": [],
   "source": [
    "del viridian, africa"
   ]
  },
  {
   "cell_type": "code",
   "execution_count": 23,
   "metadata": {},
   "outputs": [],
   "source": [
    "# Overwrite this function above\n",
    "def extract_lineage(lineage, max_rows=10):\n",
    "    df = joined[joined[\"Viridian_pangolin_1.29\"] == lineage].sort_values(\"Date_tree\")\n",
    "    print(\"Got\", df.shape[0], \" runs\")\n",
    "    return df.head(max_rows)"
   ]
  },
  {
   "cell_type": "code",
   "execution_count": null,
   "metadata": {},
   "outputs": [],
   "source": [
    "extract_lineage(\"BA.1\")"
   ]
  },
  {
   "cell_type": "code",
   "execution_count": null,
   "metadata": {},
   "outputs": [],
   "source": [
    "extract_lineage(\"BA.2\")"
   ]
  },
  {
   "cell_type": "code",
   "execution_count": null,
   "metadata": {},
   "outputs": [],
   "source": [
    "extract_lineage(\"BA.4\")"
   ]
  },
  {
   "cell_type": "code",
   "execution_count": null,
   "metadata": {},
   "outputs": [],
   "source": []
  }
 ],
 "metadata": {
  "kernelspec": {
   "display_name": "Python 3 (ipykernel)",
   "language": "python",
   "name": "python3"
  },
  "language_info": {
   "codemirror_mode": {
    "name": "ipython",
    "version": 3
   },
   "file_extension": ".py",
   "mimetype": "text/x-python",
   "name": "python",
   "nbconvert_exporter": "python",
   "pygments_lexer": "ipython3",
   "version": "3.10.14"
  }
 },
 "nbformat": 4,
 "nbformat_minor": 4
}
