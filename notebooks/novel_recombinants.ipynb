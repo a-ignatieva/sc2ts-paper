{
 "cells": [
  {
   "cell_type": "markdown",
   "id": "fbf147c3-8171-42e4-bf1b-5727566cd905",
   "metadata": {},
   "source": [
    "# Novel Recombinants"
   ]
  },
  {
   "cell_type": "markdown",
   "id": "e8c9a828-5849-484a-a0f1-4445dc45a059",
   "metadata": {},
   "source": [
    "This notebook contains supplementary analyses of the 929 novel recombinants identified in the `sc2ts` paper.\n",
    "\n",
    "This notebook has no pre-requisite tool dependencies. All python operations use packages from the standard library, and unix-based tools will be downloaded as pre-compiled, standalone binaries."
   ]
  },
  {
   "cell_type": "markdown",
   "id": "fbf95b4c-cb51-4fbb-b83b-8bce161c5356",
   "metadata": {},
   "source": [
    "## Data\n",
    "\n",
    "- Viridan metadata: `data/run_metadata.v04.tsv.gz`\n",
    "   - URL: https://figshare.com/articles/dataset/Supplementary_table_S1/25712982?file=45969195\n",
    "- Viridian sequences: `data/Viridian_tree_cons_seqs/<#>.cons.fa.xz`\n",
    "   - URL: https://doi.org/10.6084/m9.figshare.25713225\n",
    "- Viridian index: `data/Viridian_tree_cons_seqs/index.tsv.xz`\n",
    "\n",
    "> **Note**: Keep files in their compressed form (`gz`, `xz`), we will use tools that don't need decompression first."
   ]
  },
  {
   "cell_type": "markdown",
   "id": "9e776e19-1c46-4f15-b484-7be1856270ed",
   "metadata": {},
   "source": [
    "Change the working directory to the root of the `sc2ts-paper` project."
   ]
  },
  {
   "cell_type": "code",
   "execution_count": 4,
   "id": "41c2de93-2126-45c6-b4e6-8acc99e31f78",
   "metadata": {},
   "outputs": [],
   "source": [
    "import os\n",
    "curr_dir = os.path.basename(os.getcwd())\n",
    "\n",
    "# If we're still in the notebooks directory, move up to the project root.\n",
    "if curr_dir != \"sc2ts-paper\":\n",
    "  sc2ts_dir = os.path.join(os.getcwd(), \"..\")\n",
    "  _ = os.chdir(sc2ts_dir)"
   ]
  },
  {
   "cell_type": "markdown",
   "id": "0ed6fc1e-af3f-4a07-807f-f30562892b6d",
   "metadata": {},
   "source": [
    "Setup input/output files and directories."
   ]
  },
  {
   "cell_type": "code",
   "execution_count": null,
   "id": "bd3acbc5-1f2f-4be2-bcf6-7d2cd91d1e90",
   "metadata": {},
   "outputs": [],
   "source": [
    "metadata = os.path.join(\"data\", \"run_metadata.v04.tsv.gz\")\n",
    "sequences = os.path.join(\"data\", \"Viridian_tree_cons_seqs\")\n",
    "index = os.path.join(\"data\", \"Viridian_tree_cons_seqs\", \"index.tsv.xz\")\n",
    "recombinants = os.path.join(\"data\", \"recombinants.csv\")\n",
    "results = os.path.join(\"results\", \"novel_recombinants\")\n",
    "\n",
    "if not os.path.exists(\"bin\"):\n",
    "  os.makedirs(\"bin\")\n",
    "if not os.path.exists(results):\n",
    "  os.makedirs(results)\n",
    "if not os.path.exists(nextclade_dataset):\n",
    "  os.makedirs(nextclade_dataset)"
   ]
  },
  {
   "cell_type": "markdown",
   "id": "77ae0623-7fb0-42d3-bc62-ac03053b601f",
   "metadata": {},
   "source": [
    "## Dependencies"
   ]
  },
  {
   "cell_type": "markdown",
   "id": "1355f595-ddf3-44a8-8ce9-535722dd5293",
   "metadata": {},
   "source": [
    "### Install csvtk\n",
    "\n",
    "`csvtk` is used as a unix-based dataframe engine."
   ]
  },
  {
   "cell_type": "code",
   "execution_count": null,
   "id": "2b79ede9-d7fc-4bf2-951c-ef3a2035c636",
   "metadata": {},
   "outputs": [],
   "source": [
    "! wget -q -O csvtk.tar.gz https://github.com/shenwei356/csvtk/releases/download/v0.32.0/csvtk_linux_386.tar.gz\n",
    "! tar -xf csvtk.tar.gz\n",
    "! mv csvtk bin/\n",
    "! rm -f csvtk.tar.gz\n",
    "! bin/csvtk --help | head -n 5"
   ]
  },
  {
   "cell_type": "markdown",
   "id": "be2832ac-2d8b-4bb3-9843-3a9b10c0bf59",
   "metadata": {},
   "source": [
    "### Install seqkit\n",
    "\n",
    "`seqkit` is a unix-based tool for sequence queries and manipulation."
   ]
  },
  {
   "cell_type": "code",
   "execution_count": null,
   "id": "8ce11a03-cf83-450d-b5b7-16cf2c817fc5",
   "metadata": {},
   "outputs": [],
   "source": [
    "! wget -q -O seqkit.tar.gz https://github.com/shenwei356/seqkit/releases/download/v2.9.0/seqkit_linux_amd64.tar.gz\n",
    "! tar -xf seqkit.tar.gz\n",
    "! mv seqkit bin/\n",
    "! rm -f seqkit.tar.xz\n",
    "! bin/seqkit --help | head -n 5"
   ]
  },
  {
   "cell_type": "markdown",
   "id": "73c4d4cb-bf8a-4c3e-88b8-3bd9a7be743b",
   "metadata": {},
   "source": [
    "### Install nextclade\n",
    "\n",
    "`nextclade` is a unix-based tool for sequence alignment and lineage assignment."
   ]
  },
  {
   "cell_type": "code",
   "execution_count": null,
   "id": "4497dc52-6bd0-444b-989a-1089fcc6e185",
   "metadata": {},
   "outputs": [],
   "source": [
    "! wget -q -O bin/nextclade https://github.com/nextstrain/nextclade/releases/download/3.10.2/nextclade-x86_64-unknown-linux-musl\n",
    "! bin/nextclade --help | head -n 5"
   ]
  },
  {
   "cell_type": "markdown",
   "id": "4c3c8e44-f0a6-43c9-91d8-d55fbab1700a",
   "metadata": {},
   "source": [
    "### Install rebar\n",
    "\n",
    "`rebar` is a unix-based tool for recombinant sequence detection."
   ]
  },
  {
   "cell_type": "code",
   "execution_count": null,
   "id": "cc0855df-0405-4ae3-bb9a-9de3648a2f61",
   "metadata": {},
   "outputs": [],
   "source": [
    "! wget -q -O bin/rebar https://github.com/phac-nml/rebar/releases/download/v0.2.1/rebar-x86_64-unknown-linux-musl\n",
    "! bin/rebar --help | head -n 5"
   ]
  },
  {
   "cell_type": "markdown",
   "id": "1cb48dc9-d8d5-4f18-a023-d43794d30cee",
   "metadata": {},
   "source": [
    "## Metadata and Sequences\n",
    "\n",
    "Extract Viridian metadata for the novel recombinants."
   ]
  },
  {
   "cell_type": "code",
   "execution_count": null,
   "id": "8b8f4550-58f7-4215-ad69-a75d7746fefc",
   "metadata": {},
   "outputs": [],
   "source": [
    "! bin/csvtk cut -f sample_id {recombinants} \\\n",
    "  | tail -n+2 \\\n",
    "  | bin/csvtk grep -t -f Run -P - {metadata} \\\n",
    "  | bin/csvtk merge -t -f Run {index} - | \\\n",
    "  > {results}/metadata.tsv"
   ]
  },
  {
   "cell_type": "markdown",
   "id": "5b368f56-ef98-448e-8a5d-4d63a3540a39",
   "metadata": {},
   "source": [
    "Extract Viridian batch numbers for the novel recombinants."
   ]
  },
  {
   "cell_type": "code",
   "execution_count": 26,
   "id": "914099fa-e000-4122-935f-077135936910",
   "metadata": {},
   "outputs": [],
   "source": [
    "! bin/csvtk cut -t -f Batch {results}/metadata.tsv | tail -n+2 | sort -g | uniq > {results}/batches.txt"
   ]
  },
  {
   "cell_type": "markdown",
   "id": "ac70088e-698d-4860-ae8b-3c5f2eb17030",
   "metadata": {},
   "source": [
    "Extract Viridian consensus sequences for the novel recombinants."
   ]
  },
  {
   "cell_type": "code",
   "execution_count": null,
   "id": "737ca1ef-c1d6-4dda-b7e7-7153ed561625",
   "metadata": {},
   "outputs": [],
   "source": [
    "! cat results/novel_recombinants/batches.txt | while read batch; do \\\n",
    "  echo Batch: ${batch} 1>&2; \\\n",
    "  bin/csvtk grep -t -f Batch -p ${batch} results/novel_recombinants/metadata.tsv \\\n",
    "    | bin/csvtk cut -t -f Run \\\n",
    "    | tail -n+2 \\\n",
    "    | bin/seqkit grep -w 0 -f - data/Viridian_tree_cons_seqs/${batch}.cons.fa.xz; \\\n",
    "done > results/novel_recombinants/sequences.fasta"
   ]
  },
  {
   "cell_type": "markdown",
   "id": "ba18f4da-b56f-43c0-a85d-174911a9eae8",
   "metadata": {},
   "source": [
    "## Align"
   ]
  },
  {
   "cell_type": "markdown",
   "id": "98eeee60-44b6-4a55-a6d9-d69d009e3b7c",
   "metadata": {},
   "source": [
    "Download the sars-cov-2 lineage model."
   ]
  },
  {
   "cell_type": "code",
   "execution_count": 34,
   "id": "9a9b4e2f-fad8-467f-b92e-b8334d28928e",
   "metadata": {},
   "outputs": [],
   "source": [
    "! bin/nextclade dataset get \\\n",
    "  --name sars-cov-2 \\\n",
    "  --tag  2025-01-28--16-39-09Z \\\n",
    "  --output-dir dataset/nextclade"
   ]
  },
  {
   "cell_type": "markdown",
   "id": "f77701b0-ea13-41b8-a7ad-bbe5cec45acb",
   "metadata": {},
   "source": [
    "Align the sequences."
   ]
  },
  {
   "cell_type": "code",
   "execution_count": 36,
   "id": "a988993f-e037-4dbf-8c67-579eb275b25d",
   "metadata": {},
   "outputs": [],
   "source": [
    "! bin/nextclade run \\\n",
    "  --input-dataset dataset/nextclade \\\n",
    "  --jobs 2 \\\n",
    "  --output-tsv {results}/nextclade.tsv \\\n",
    "  --output-fasta {results}/nextclade.fasta \\\n",
    "  {results}/sequences.fasta"
   ]
  },
  {
   "cell_type": "markdown",
   "id": "dc0b8df8-6636-4755-a8e4-121c4f017103",
   "metadata": {},
   "source": [
    "### Detect Recombination"
   ]
  },
  {
   "cell_type": "markdown",
   "id": "7f6719a0-a400-4922-a82e-78e659d72eda",
   "metadata": {},
   "source": [
    "Download the sars-cov-2 lineage model."
   ]
  },
  {
   "cell_type": "code",
   "execution_count": 40,
   "id": "c64dab64-7556-4860-9f3a-669027893600",
   "metadata": {},
   "outputs": [],
   "source": [
    "! bin/rebar dataset download \\\n",
    "  --name sars-cov-2 \\\n",
    "  --tag 2025-01-28 \\\n",
    "  --verbosity error \\\n",
    "  --output-dir dataset/rebar"
   ]
  },
  {
   "cell_type": "markdown",
   "id": "dcaa86a0-038c-429d-8931-8775e83e564d",
   "metadata": {},
   "source": [
    "Detection recombination in the sequences."
   ]
  },
  {
   "cell_type": "code",
   "execution_count": 41,
   "id": "6c1bc68c-452d-4c40-97b9-14dac0eeb8e7",
   "metadata": {},
   "outputs": [
    {
     "name": "stdout",
     "output_type": "stream",
     "text": [
      "[INFO  rebar::run] Creating output directory: \"results/novel_recombinants/rebar\"\n",
      "[INFO  rebar::run] Number of threads available: 12\n",
      "[INFO  rebar::run] Using 2 thread(s).\n",
      "[INFO  rebar::dataset::load] Loading dataset: \"dataset/rebar\"\n",
      "[INFO  rebar::run] Loading query alignment: \"results/novel_recombinants/nextclade.fasta\"\n",
      "[INFO  rebar::run] Running recombination search.\n",
      "\u001b[2K\u001b[1A████████████████████████████████████████ 929/929 (100%) | Sequences / Second: 3.4466/s | Elapsed: 00:04:29 | ETA: 00:00:00[INFO  rebar::run] Exporting CLI Run Args: \"results/novel_recombinants/rebar/run_args.json\"\n",
      "[INFO  rebar::run] Exporting linelist: \"results/novel_recombinants/rebar/linelist.tsv\"\n",
      "[INFO  rebar::run] Exporting recombination barcodes: \"results/novel_recombinants/rebar/barcodes\"\n",
      "[INFO  rebar::run] Done.\n"
     ]
    }
   ],
   "source": [
    "! bin/rebar run \\\n",
    "  --dataset-dir dataset/rebar \\\n",
    "  --threads 2 \\\n",
    "  --alignment {results}/nextclade.fasta \\\n",
    "  --output-dir {results}/rebar"
   ]
  },
  {
   "cell_type": "markdown",
   "id": "08f3a1d3-9fb6-4e5e-a27b-41b6b05706fd",
   "metadata": {},
   "source": [
    "Plot parents and breakpoints."
   ]
  },
  {
   "cell_type": "code",
   "execution_count": 46,
   "id": "c6bf8447-a28e-4fec-af3e-c40562d069c9",
   "metadata": {},
   "outputs": [],
   "source": [
    "! bin/rebar plot \\\n",
    "  --run-dir {results}/rebar \\\n",
    "  --annotations dataset/rebar/annotations.tsv \\\n",
    "  --verbosity error"
   ]
  },
  {
   "cell_type": "markdown",
   "id": "e7ec4221-92f4-40c6-8af0-74874e1f0239",
   "metadata": {},
   "source": [
    "Example plot of a novel recombinant:\n",
    "\n",
    "<img src=../results/novel_recombinants/rebar/plots/novel_B.1.177_B.1.221_15325-20660.png width=480>"
   ]
  },
  {
   "cell_type": "markdown",
   "id": "423d5f86-c3da-48a8-99f0-7c142940152b",
   "metadata": {},
   "source": [
    "## Filter\n",
    "\n",
    "- `max_run_length` <= 2\n",
    "- Not Pango X\n",
    "- Not Delta or Omicron origin."
   ]
  },
  {
   "cell_type": "code",
   "execution_count": 62,
   "id": "ef138a63-7479-4b3c-abe2-83601f66dd37",
   "metadata": {},
   "outputs": [],
   "source": [
    "! bin/csvtk filter2 -f '$max_run_length<=2' data/recombinants.csv \\\n",
    "  | bin/csvtk cut -f sample_id \\\n",
    "  | tail -n+2 \\\n",
    "  | bin/csvtk grep -t -f seqName -P - {results}/nextclade.tsv \\\n",
    "  | bin/csvtk grep -t -f clade_who -r -p \"Delta|Omicron\" -v \\\n",
    "  | bin/csvtk grep -t -f Nextclade_pango -r -p \"^X\" -v \\\n",
    "  | bin/csvtk cut -t -f seqName \\\n",
    "  | tail -n+2 \\\n",
    "  | bin/csvtk grep -t -f strain -P - {results}/rebar/linelist.tsv \\\n",
    "  | bin/csvtk grep -t -f population -r -p \"^(X|BA|BQ|HR)\" -v \\\n",
    "  > {results}/rebar/linelist.filter.tsv"
   ]
  }
 ],
 "metadata": {
  "kernelspec": {
   "display_name": "Python 3 (ipykernel)",
   "language": "python",
   "name": "python3"
  },
  "language_info": {
   "codemirror_mode": {
    "name": "ipython",
    "version": 3
   },
   "file_extension": ".py",
   "mimetype": "text/x-python",
   "name": "python",
   "nbconvert_exporter": "python",
   "pygments_lexer": "ipython3",
   "version": "3.13.2"
  }
 },
 "nbformat": 4,
 "nbformat_minor": 5
}
