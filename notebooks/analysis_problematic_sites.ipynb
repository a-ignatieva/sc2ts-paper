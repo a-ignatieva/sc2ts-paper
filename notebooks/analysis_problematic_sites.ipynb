{
 "cells": [
  {
   "cell_type": "code",
   "execution_count": 10,
   "id": "1a605136-b07d-47ba-a339-b8c1110e4bc9",
   "metadata": {},
   "outputs": [],
   "source": [
    "import tszip\n",
    "import numpy as np"
   ]
  },
  {
   "cell_type": "markdown",
   "id": "a035891b-1065-41d5-84a9-b68de7e321ef",
   "metadata": {},
   "source": [
    "## Problematic sites and masking\n",
    "\n",
    "Choosing which set of sites to mask out is tricky. We look at the problematic sites list that was curated in the earlier days of the pandemic, and how that corresponds to the sites that are masked out of the sc2ts and UShER files.\n",
    "\n",
    "First, get the data"
   ]
  },
  {
   "cell_type": "code",
   "execution_count": null,
   "id": "4d0f85e9-b889-4d09-abcb-8e71265504c7",
   "metadata": {},
   "outputs": [],
   "source": [
    "!wget https://raw.githubusercontent.com/W-L/ProblematicSites_SARS-CoV2/master/problematic_sites_sarsCov2.vcf"
   ]
  },
  {
   "cell_type": "code",
   "execution_count": 11,
   "id": "2477bbbd-8ef1-49ae-8143-510fe8a83e23",
   "metadata": {
    "scrolled": true
   },
   "outputs": [
    {
     "data": {
      "text/plain": [
       "(481,)"
      ]
     },
     "execution_count": 11,
     "metadata": {},
     "output_type": "execute_result"
    }
   ],
   "source": [
    "problematic_sites = []\n",
    "with open(\"problematic_sites_sarsCov2.vcf\") as f:\n",
    "    for line in f:\n",
    "        if not line.startswith(\"#\"):\n",
    "            splits = line.split(\"\\t\")\n",
    "            problematic_sites.append(int(splits[1]))\n",
    "\n",
    "problematic_sites = np.array(problematic_sites)\n",
    "problematic_sites.shape"
   ]
  },
  {
   "cell_type": "code",
   "execution_count": 35,
   "id": "16d06141-0d27-4601-a2d9-bd4b3035e20f",
   "metadata": {
    "scrolled": true
   },
   "outputs": [
    {
     "data": {
      "text/plain": [
       "array([29894, 29895, 29896, 29897, 29898, 29899, 29900, 29901, 29902,\n",
       "       29903])"
      ]
     },
     "execution_count": 35,
     "metadata": {},
     "output_type": "execute_result"
    }
   ],
   "source": [
    "problematic_sites[-10:]"
   ]
  },
  {
   "cell_type": "markdown",
   "id": "a2ca2b54-6abd-4dd4-9426-be7deb52a0ac",
   "metadata": {},
   "source": [
    "## UShER tree\n",
    "\n",
    "The Usher tree masks out substantially more sites than is in the problematic sites list, and it's not clear what's going on. There's 2396 sites overall that are missing."
   ]
  },
  {
   "cell_type": "code",
   "execution_count": 24,
   "id": "36b131a3-d0ad-40d9-b070-5f7b0d15cf95",
   "metadata": {},
   "outputs": [
    {
     "data": {
      "text/plain": [
       "(27508,)"
      ]
     },
     "execution_count": 24,
     "metadata": {},
     "output_type": "execute_result"
    }
   ],
   "source": [
    "ts_usher = tszip.load(\"../data/usher_viridian_v1.0.trees.tsz\")\n",
    "usher_sites = ts_usher.sites_position.astype(int)\n",
    "usher_sites.shape"
   ]
  },
  {
   "cell_type": "code",
   "execution_count": 30,
   "id": "bf0b8244-312d-4f8e-b2bf-1c143e502b2e",
   "metadata": {},
   "outputs": [
    {
     "data": {
      "text/plain": [
       "2395.0"
      ]
     },
     "execution_count": 30,
     "metadata": {},
     "output_type": "execute_result"
    }
   ],
   "source": [
    "ts_usher.sequence_length - ts_usher.num_sites - 1"
   ]
  },
  {
   "cell_type": "code",
   "execution_count": 19,
   "id": "2fc0878b-c0a1-47b6-a6af-49235c01fd79",
   "metadata": {},
   "outputs": [
    {
     "data": {
      "text/plain": [
       "275"
      ]
     },
     "execution_count": 19,
     "metadata": {},
     "output_type": "execute_result"
    }
   ],
   "source": [
    "len(np.setdiff1d(problematic_sites, usher_sites))"
   ]
  },
  {
   "cell_type": "code",
   "execution_count": 16,
   "id": "d81e6778-8c6b-4d8c-b08d-e981e4132256",
   "metadata": {},
   "outputs": [
    {
     "data": {
      "text/plain": [
       "206"
      ]
     },
     "execution_count": 16,
     "metadata": {},
     "output_type": "execute_result"
    }
   ],
   "source": [
    "len(np.intersect1d(problematic_sites, usher_sites))"
   ]
  },
  {
   "cell_type": "markdown",
   "id": "017e8b64-60ce-4176-adde-17a139923c2d",
   "metadata": {},
   "source": [
    "## Sc2ts final\n",
    "\n",
    "The final sc2ts tree is missing only 10 sites, 7 of which are in this problematic sites list."
   ]
  },
  {
   "cell_type": "code",
   "execution_count": 26,
   "id": "3f14c06d-fbd3-445c-9fe9-3066e91e590e",
   "metadata": {
    "scrolled": true
   },
   "outputs": [
    {
     "data": {
      "text/plain": [
       "(29893,)"
      ]
     },
     "execution_count": 26,
     "metadata": {},
     "output_type": "execute_result"
    }
   ],
   "source": [
    "ts_sc2ts = tszip.load(\"../data/sc2ts_viridian_v1.2.trees.tsz\")\n",
    "sc2ts_sites = ts_sc2ts.sites_position.astype(int)\n",
    "sc2ts_sites.shape"
   ]
  },
  {
   "cell_type": "code",
   "execution_count": 31,
   "id": "e7d28b63-41e4-42ec-96a4-29bbcf1c671a",
   "metadata": {},
   "outputs": [
    {
     "data": {
      "text/plain": [
       "10.0"
      ]
     },
     "execution_count": 31,
     "metadata": {},
     "output_type": "execute_result"
    }
   ],
   "source": [
    "ts_sc2ts.sequence_length - ts_sc2ts.num_sites - 1"
   ]
  },
  {
   "cell_type": "code",
   "execution_count": 20,
   "id": "1f51d9f8-add7-4915-822b-b8088ad78bde",
   "metadata": {},
   "outputs": [
    {
     "data": {
      "text/plain": [
       "7"
      ]
     },
     "execution_count": 20,
     "metadata": {},
     "output_type": "execute_result"
    }
   ],
   "source": [
    "len(np.setdiff1d(problematic_sites, sc2ts_sites))"
   ]
  },
  {
   "cell_type": "code",
   "execution_count": 21,
   "id": "c7f25596-7532-468f-98bc-618b0c56cd6f",
   "metadata": {},
   "outputs": [
    {
     "data": {
      "text/plain": [
       "array([  635,  8835, 11074, 11083, 15521, 16887, 21575])"
      ]
     },
     "execution_count": 21,
     "metadata": {},
     "output_type": "execute_result"
    }
   ],
   "source": [
    "np.setdiff1d(problematic_sites, sc2ts_sites)"
   ]
  },
  {
   "cell_type": "code",
   "execution_count": 17,
   "id": "61922dc1-d633-4601-982c-899af2809b13",
   "metadata": {
    "scrolled": true
   },
   "outputs": [
    {
     "data": {
      "text/plain": [
       "474"
      ]
     },
     "execution_count": 17,
     "metadata": {},
     "output_type": "execute_result"
    }
   ],
   "source": [
    "len(np.intersect1d(problematic_sites, sc2ts_sites))"
   ]
  },
  {
   "cell_type": "markdown",
   "id": "798dd10d-d410-42f7-8383-d92e97f04cef",
   "metadata": {},
   "source": [
    "## Sc2ts inference\n",
    "\n",
    "The base ARG has 29803 sites, after we mask out the top 100 most mutating sites. We have an intersection of 11 sites with the problematic sites list.\n"
   ]
  },
  {
   "cell_type": "code",
   "execution_count": 28,
   "id": "ba39ee54-64cc-483b-892d-90ad35c8d21d",
   "metadata": {},
   "outputs": [
    {
     "data": {
      "text/plain": [
       "(29803,)"
      ]
     },
     "execution_count": 28,
     "metadata": {},
     "output_type": "execute_result"
    }
   ],
   "source": [
    "ts_sc2ts_base = tszip.load(\"../arg_postprocessing/sc2ts_v1_2023-02-21.trees\")\n",
    "sc2ts_base_sites = ts_sc2ts_base.sites_position.astype(int)\n",
    "sc2ts_base_sites.shape"
   ]
  },
  {
   "cell_type": "code",
   "execution_count": 32,
   "id": "de15e740-6c88-4929-a06f-a9568881598e",
   "metadata": {
    "scrolled": true
   },
   "outputs": [
    {
     "data": {
      "text/plain": [
       "100.0"
      ]
     },
     "execution_count": 32,
     "metadata": {},
     "output_type": "execute_result"
    }
   ],
   "source": [
    "ts_sc2ts.sequence_length - ts_sc2ts_base.num_sites - 1"
   ]
  },
  {
   "cell_type": "code",
   "execution_count": 33,
   "id": "e4a31206-fcf3-4c65-b2f6-732e51b22ece",
   "metadata": {},
   "outputs": [
    {
     "data": {
      "text/plain": [
       "11"
      ]
     },
     "execution_count": 33,
     "metadata": {},
     "output_type": "execute_result"
    }
   ],
   "source": [
    "len(np.setdiff1d(problematic_sites, sc2ts_base_sites))"
   ]
  },
  {
   "cell_type": "code",
   "execution_count": 36,
   "id": "02d78235-70a5-43f6-a17e-d18a025ce0c4",
   "metadata": {},
   "outputs": [
    {
     "data": {
      "text/plain": [
       "array([  635,  8835, 11074, 11083, 15521, 16887, 21304, 21305, 21575,\n",
       "       21987, 28253])"
      ]
     },
     "execution_count": 36,
     "metadata": {},
     "output_type": "execute_result"
    }
   ],
   "source": [
    "np.setdiff1d(problematic_sites, sc2ts_base_sites)"
   ]
  }
 ],
 "metadata": {
  "kernelspec": {
   "display_name": "Python 3 (ipykernel)",
   "language": "python",
   "name": "python3"
  },
  "language_info": {
   "codemirror_mode": {
    "name": "ipython",
    "version": 3
   },
   "file_extension": ".py",
   "mimetype": "text/x-python",
   "name": "python",
   "nbconvert_exporter": "python",
   "pygments_lexer": "ipython3",
   "version": "3.10.12"
  }
 },
 "nbformat": 4,
 "nbformat_minor": 5
}
