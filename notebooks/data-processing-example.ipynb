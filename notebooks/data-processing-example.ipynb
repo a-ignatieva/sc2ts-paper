{
 "cells": [
  {
   "cell_type": "markdown",
   "id": "ba93ba7f-1f30-4962-8884-242c4fc47ce4",
   "metadata": {},
   "source": [
    "# Example of data processing using sc2ts, tskit and VCZ\n",
    "\n",
    "This notebook provides the code for the section of the paper in which we lay out the advantages of the software ecosystem that we are using."
   ]
  },
  {
   "cell_type": "code",
   "execution_count": 1,
   "id": "ccd5006e-7af2-49ea-8abe-a87f970ddd71",
   "metadata": {},
   "outputs": [],
   "source": [
    "import pathlib\n",
    "import collections\n",
    "\n",
    "import sc2ts\n",
    "import tszip\n",
    "import numpy as np\n",
    "import pandas as pd\n",
    "from tqdm.notebook import tqdm"
   ]
  },
  {
   "cell_type": "code",
   "execution_count": 3,
   "id": "8251c87e-cf83-424f-8227-bde05549d025",
   "metadata": {},
   "outputs": [],
   "source": [
    "datadir = pathlib.Path(\"../data\")"
   ]
  },
  {
   "cell_type": "code",
   "execution_count": 4,
   "id": "7eec5aaf-51e5-4c8b-8eeb-776b833ac43d",
   "metadata": {},
   "outputs": [
    {
     "data": {
      "text/markdown": [
       "Dataset at ../data/viridian_mafft_2024-10-14_v1.vcz.zip with 4484157 samples, 29903 variants, and 30 metadata fields. See ds.metadata.field_descriptors() for a description of the fields."
      ],
      "text/plain": [
       "<sc2ts.dataset.Dataset at 0x7efe19d56da0>"
      ]
     },
     "execution_count": 4,
     "metadata": {},
     "output_type": "execute_result"
    }
   ],
   "source": [
    "ds = sc2ts.Dataset(datadir / \"viridian_mafft_2024-10-14_v1.vcz.zip\")\n",
    "ds"
   ]
  },
  {
   "cell_type": "code",
   "execution_count": 5,
   "id": "19beef3e-3bd4-4795-b305-a3e203bf1be6",
   "metadata": {
    "scrolled": true
   },
   "outputs": [],
   "source": [
    "ts_sc2ts = tszip.load(datadir / \"sc2ts_2023-02-21_intersection.trees.tsz\")"
   ]
  },
  {
   "cell_type": "code",
   "execution_count": 6,
   "id": "78127434-4deb-4616-b85e-4061fa86e5ef",
   "metadata": {
    "scrolled": true
   },
   "outputs": [],
   "source": [
    "ts_usher = tszip.load(datadir / \"usher_2023-02-21_intersection_ds_di.trees.tsz\")"
   ]
  },
  {
   "cell_type": "code",
   "execution_count": 7,
   "id": "5659c472-68dd-4dfb-a5b6-85eaffbb5498",
   "metadata": {
    "scrolled": true
   },
   "outputs": [
    {
     "name": "stdout",
     "output_type": "stream",
     "text": [
      "CPU times: user 2.32 s, sys: 72.5 ms, total: 2.39 s\n",
      "Wall time: 2.49 s\n"
     ]
    }
   ],
   "source": [
    "%%time \n",
    "dfn_sc2ts = sc2ts.node_data(ts_sc2ts)"
   ]
  },
  {
   "cell_type": "code",
   "execution_count": 8,
   "id": "fc9392e3-67be-4b50-a588-1a23ff929b77",
   "metadata": {
    "scrolled": true
   },
   "outputs": [
    {
     "name": "stdout",
     "output_type": "stream",
     "text": [
      "CPU times: user 526 ms, sys: 64.3 ms, total: 591 ms\n",
      "Wall time: 589 ms\n"
     ]
    }
   ],
   "source": [
    "%%time \n",
    "dfn_usher = sc2ts.node_data(ts_usher)"
   ]
  },
  {
   "cell_type": "markdown",
   "id": "317a7343-1e61-42cb-9f5e-dd4069a47583",
   "metadata": {},
   "source": [
    "Make sure that the two tree sequences we're comparing have the same set of samples and reflects the same set of sequences."
   ]
  },
  {
   "cell_type": "code",
   "execution_count": 9,
   "id": "49a0419a-c122-4360-b49b-3ce50bc26096",
   "metadata": {},
   "outputs": [],
   "source": [
    "assert np.array_equal(ts_sc2ts.samples(), ts_usher.samples())\n",
    "assert np.array_equal(dfn_sc2ts[dfn_sc2ts.is_sample].node_id.values, ts_sc2ts.samples())\n",
    "assert np.array_equal(dfn_usher[dfn_usher.is_sample].node_id.values, ts_usher.samples())\n",
    "assert np.array_equal(dfn_usher[dfn_usher.is_sample].sample_id.values, dfn_sc2ts[dfn_sc2ts.is_sample].sample_id.values)\n",
    "assert np.array_equal(ts_sc2ts.sites_position, ts_usher.sites_position)"
   ]
  },
  {
   "cell_type": "markdown",
   "id": "3a393e31-bd87-4727-a957-31af38a81632",
   "metadata": {},
   "source": [
    "A key element of processing data efficiently in tskit and VCZ is to use numpy arrays of integers to represent allelic states, instead of the classical approach of using strings, etc. In sc2ts, alleles are given fixed integer representations, such that A=0, C=1, G=2, and T=3. So, to represent the DNA string \"AACTG\" we would use the numpy array ``[0, 0, 1, 3, 2]`` instead. This has many advantages and makes it much easier to write efficient code. \n",
    "\n",
    "The drawback of this is that it's not as easy to inspect and debug, and we must always be aware of the translation required. \n",
    "\n",
    "In this analysis we're interested in how well the sc2ts and Usher do at imputing ambiguous bases, and want to count how many times the bases that they impute for samples are compatible with the ambiguity codes.\n",
    "\n",
    "According to https://www.bioinformatics.org/sms/iupac.html the IUPAC ambiguity codes are as follows:\n",
    "\n",
    "```\n",
    "R\tG or A\tpuRine\n",
    "Y\tT or C\tpYrimidine\n",
    "M\tA or C\taMino\n",
    "K\tG or T\tKeto\n",
    "S\tG or C\tStrong interaction (3 H bonds)\n",
    "W\tA or T\tWeak interaction (2 H bonds)\n",
    "H\tA or C or T\tnot-G, H follows G in the alphabet\n",
    "B\tG or T or C\tnot-A, B follows A\n",
    "V\tG or C or A\tnot-T (not-U), V follows U\n",
    "D\tG or A or T\tnot-C, D follows C\n",
    "```\n",
    "\n",
    "So, we build up a mapping of each ambiguity code to its compatible bases:"
   ]
  },
  {
   "cell_type": "code",
   "execution_count": 10,
   "id": "2f0b5658-1ac2-4798-95ed-2329dc7cd3a0",
   "metadata": {},
   "outputs": [],
   "source": [
    "compatible = {\n",
    "    \"R\": [\"G\", \"A\"],\n",
    "    \"Y\": [ \"T\", \"C\"], \n",
    "   \"M\": [\"A\", \"C\"],\n",
    "   \"K\": [\"G\", \"T\"],\n",
    "   \"S\": [\"G\", \"C\"],\n",
    "   \"W\": [\"A\", \"T\"],\n",
    "   \"H\": [\"A\", \"C\", \"T\"],\n",
    "   \"B\": [\"G\", \"T\", \"C\"],\n",
    "   \"V\": [\"G\", \"C\", \"A\"],\n",
    "   \"D\": [\"G\", \"A\", \"T\"],\n",
    "}"
   ]
  },
  {
   "cell_type": "markdown",
   "id": "737e2508-6ff4-4835-bcdb-ed6a03adf506",
   "metadata": {},
   "source": [
    "The mapping from alleles to integers is managed by the sc2ts.IUPAC_ALLELES value, and so we build up the corresponding mapping in integer space:"
   ]
  },
  {
   "cell_type": "code",
   "execution_count": 11,
   "id": "d1a05dbb-352e-4baf-aca5-b71f7f3c69b7",
   "metadata": {},
   "outputs": [
    {
     "data": {
      "text/plain": [
       "'ACGT-RYSWKMBDHV.'"
      ]
     },
     "execution_count": 11,
     "metadata": {},
     "output_type": "execute_result"
    }
   ],
   "source": [
    "sc2ts.IUPAC_ALLELES"
   ]
  },
  {
   "cell_type": "code",
   "execution_count": 12,
   "id": "6060ef80-fc76-4b74-8d89-3711f36fe19e",
   "metadata": {
    "scrolled": true
   },
   "outputs": [
    {
     "data": {
      "text/plain": [
       "{5: [2, 0],\n",
       " 6: [3, 1],\n",
       " 10: [0, 1],\n",
       " 9: [2, 3],\n",
       " 7: [2, 1],\n",
       " 8: [0, 3],\n",
       " 13: [0, 1, 3],\n",
       " 11: [2, 3, 1],\n",
       " 14: [2, 1, 0],\n",
       " 12: [2, 0, 3]}"
      ]
     },
     "execution_count": 12,
     "metadata": {},
     "output_type": "execute_result"
    }
   ],
   "source": [
    "compatible_encoded = {}\n",
    "for ambiguity_code, compatible_bases in compatible.items():\n",
    "    compatible_bases_encoded = [sc2ts.IUPAC_ALLELES.index(base) for base in compatible_bases]\n",
    "    compatible_encoded[sc2ts.IUPAC_ALLELES.index(ambiguity_code)] = compatible_bases_encoded\n",
    "compatible_encoded"
   ]
  },
  {
   "cell_type": "markdown",
   "id": "bf5dc255-e5ab-40c9-ba0e-a645de13a49d",
   "metadata": {},
   "source": [
    "A very important aspect of this data encoding is to understand how missing data is handled. In the tskit and VCF Zarr data encoding, the value -1 is reserved to mean \"missing data\" (for integer fields). Thus, while we can usually regard the integer endoded alleles as indexes into the list of alleles, we need to be careful with missing data as \"-1\" is treated as the \"last element list\" by Python. It is therefore important that we select out non-missing data *first* before we do any processing on the data that requires mapping back to the allelic state.\n",
    "\n",
    "The following code block is the core of our analyis. We perform three parallel iterations over the sites in the SARS-CoV-2 genome that are shared by the Usher and sc2ts tree sequences, being careful to ensure that the same integer allele coding is used in all three. We extract the IDs  (strains) for the sample sequences from the node data table computed from the metadata by sc2ts above, and use this to extract the variants from the dataset in the correct sample order. We've already verified that the samples are in the same order in the Usher and sc2ts tree sequences above.\n",
    "\n",
    "For each base we then extract the samples that have ambiguous base calls in the alignments, and then compute the number of these are imputed in a way that's consistent with the amibiguity code by Usher and sc2ts. We also compute the number of samples that are marked as Ns at each site, and the number of bases at which sc2ts and Usher differ.\n",
    "\n",
    "This computation required 30 lines of code and took 2m59s on an intel i7-9700 CPU, with a peak memory usage of about 4.5G."
   ]
  },
  {
   "cell_type": "code",
   "execution_count": 13,
   "id": "d6fcde16-6ec3-4739-9563-7bea3cb9cb4f",
   "metadata": {},
   "outputs": [
    {
     "data": {
      "application/vnd.jupyter.widget-view+json": {
       "model_id": "8df538a7e02d4849965a77a138f16cc3",
       "version_major": 2,
       "version_minor": 0
      },
      "text/plain": [
       "  0%|          | 0/27431 [00:00<?, ?it/s]"
      ]
     },
     "metadata": {},
     "output_type": "display_data"
    }
   ],
   "source": [
    "sample_id = dfn_usher[dfn_usher.is_sample].sample_id.values\n",
    "ds_variants = ds.variants(sample_id=sample_id, position=ts_sc2ts.sites_position.astype(int))\n",
    "usher_variants = ts_usher.variants(alleles=tuple(sc2ts.IUPAC_ALLELES))\n",
    "sc2ts_variants = ts_sc2ts.variants(alleles=tuple(sc2ts.IUPAC_ALLELES))\n",
    "\n",
    "iterator = tqdm(zip(ds_variants, usher_variants, sc2ts_variants), total=ts_usher.num_sites)\n",
    "data = []\n",
    "for var_ds, var_usher, var_sc2ts in iterator:\n",
    "    usher_correctly_imputed = 0\n",
    "    sc2ts_correctly_imputed = 0\n",
    "    total_ambiguous = 0\n",
    "    for ambiguity_code, compatible_bases in compatible_encoded.items():\n",
    "        samples = np.where(var_ds.genotypes == ambiguity_code)[0]\n",
    "        total_ambiguous += samples.shape[0]\n",
    "        imputed = collections.Counter(var_usher.genotypes[samples])\n",
    "        usher_correctly_imputed += sum(imputed[base] for base in compatible_bases)\n",
    "        imputed = collections.Counter(var_sc2ts.genotypes[samples])\n",
    "        sc2ts_correctly_imputed += sum(imputed[base] for base in compatible_bases)\n",
    "    # IMPORTANT: -1 means missing data (\"N\")\n",
    "    missing_samples = np.where(var_ds.genotypes == -1)[0]\n",
    "    imputed_differently = np.sum(\n",
    "        var_usher.genotypes[missing_samples] != var_sc2ts.genotypes[missing_samples])\n",
    "       \n",
    "    data.append({\"position\": int(var_ds.position), \n",
    "                 \"total_ambiguous\": total_ambiguous, \n",
    "                 \"usher_correctly_imputed\": usher_correctly_imputed,\n",
    "                 \"sc2ts_correctly_imputed\": sc2ts_correctly_imputed,\n",
    "                 \"total_missing\": missing_samples.shape[0],\n",
    "                 \"imputed_differently\": imputed_differently\n",
    "                })\n"
   ]
  },
  {
   "cell_type": "code",
   "execution_count": 14,
   "id": "de4e21d0-1ba8-4566-82ee-4fdedc93cf58",
   "metadata": {},
   "outputs": [
    {
     "data": {
      "text/html": [
       "<div>\n",
       "<style scoped>\n",
       "    .dataframe tbody tr th:only-of-type {\n",
       "        vertical-align: middle;\n",
       "    }\n",
       "\n",
       "    .dataframe tbody tr th {\n",
       "        vertical-align: top;\n",
       "    }\n",
       "\n",
       "    .dataframe thead th {\n",
       "        text-align: right;\n",
       "    }\n",
       "</style>\n",
       "<table border=\"1\" class=\"dataframe\">\n",
       "  <thead>\n",
       "    <tr style=\"text-align: right;\">\n",
       "      <th></th>\n",
       "      <th>position</th>\n",
       "      <th>total_ambiguous</th>\n",
       "      <th>usher_correctly_imputed</th>\n",
       "      <th>sc2ts_correctly_imputed</th>\n",
       "      <th>total_missing</th>\n",
       "      <th>imputed_differently</th>\n",
       "    </tr>\n",
       "  </thead>\n",
       "  <tbody>\n",
       "    <tr>\n",
       "      <th>0</th>\n",
       "      <td>267</td>\n",
       "      <td>1</td>\n",
       "      <td>1</td>\n",
       "      <td>1</td>\n",
       "      <td>10131</td>\n",
       "      <td>0</td>\n",
       "    </tr>\n",
       "    <tr>\n",
       "      <th>1</th>\n",
       "      <td>269</td>\n",
       "      <td>13</td>\n",
       "      <td>13</td>\n",
       "      <td>13</td>\n",
       "      <td>10099</td>\n",
       "      <td>0</td>\n",
       "    </tr>\n",
       "    <tr>\n",
       "      <th>2</th>\n",
       "      <td>270</td>\n",
       "      <td>9</td>\n",
       "      <td>9</td>\n",
       "      <td>9</td>\n",
       "      <td>10187</td>\n",
       "      <td>1</td>\n",
       "    </tr>\n",
       "    <tr>\n",
       "      <th>3</th>\n",
       "      <td>271</td>\n",
       "      <td>3</td>\n",
       "      <td>3</td>\n",
       "      <td>3</td>\n",
       "      <td>10184</td>\n",
       "      <td>0</td>\n",
       "    </tr>\n",
       "    <tr>\n",
       "      <th>4</th>\n",
       "      <td>272</td>\n",
       "      <td>5</td>\n",
       "      <td>5</td>\n",
       "      <td>5</td>\n",
       "      <td>10187</td>\n",
       "      <td>0</td>\n",
       "    </tr>\n",
       "    <tr>\n",
       "      <th>...</th>\n",
       "      <td>...</td>\n",
       "      <td>...</td>\n",
       "      <td>...</td>\n",
       "      <td>...</td>\n",
       "      <td>...</td>\n",
       "      <td>...</td>\n",
       "    </tr>\n",
       "    <tr>\n",
       "      <th>27426</th>\n",
       "      <td>29667</td>\n",
       "      <td>4</td>\n",
       "      <td>4</td>\n",
       "      <td>4</td>\n",
       "      <td>1122</td>\n",
       "      <td>0</td>\n",
       "    </tr>\n",
       "    <tr>\n",
       "      <th>27427</th>\n",
       "      <td>29668</td>\n",
       "      <td>22</td>\n",
       "      <td>22</td>\n",
       "      <td>22</td>\n",
       "      <td>993</td>\n",
       "      <td>0</td>\n",
       "    </tr>\n",
       "    <tr>\n",
       "      <th>27428</th>\n",
       "      <td>29669</td>\n",
       "      <td>8</td>\n",
       "      <td>8</td>\n",
       "      <td>8</td>\n",
       "      <td>997</td>\n",
       "      <td>0</td>\n",
       "    </tr>\n",
       "    <tr>\n",
       "      <th>27429</th>\n",
       "      <td>29670</td>\n",
       "      <td>28</td>\n",
       "      <td>28</td>\n",
       "      <td>28</td>\n",
       "      <td>1004</td>\n",
       "      <td>2</td>\n",
       "    </tr>\n",
       "    <tr>\n",
       "      <th>27430</th>\n",
       "      <td>29671</td>\n",
       "      <td>6</td>\n",
       "      <td>6</td>\n",
       "      <td>6</td>\n",
       "      <td>1022</td>\n",
       "      <td>0</td>\n",
       "    </tr>\n",
       "  </tbody>\n",
       "</table>\n",
       "<p>27431 rows × 6 columns</p>\n",
       "</div>"
      ],
      "text/plain": [
       "       position  total_ambiguous  usher_correctly_imputed  \\\n",
       "0           267                1                        1   \n",
       "1           269               13                       13   \n",
       "2           270                9                        9   \n",
       "3           271                3                        3   \n",
       "4           272                5                        5   \n",
       "...         ...              ...                      ...   \n",
       "27426     29667                4                        4   \n",
       "27427     29668               22                       22   \n",
       "27428     29669                8                        8   \n",
       "27429     29670               28                       28   \n",
       "27430     29671                6                        6   \n",
       "\n",
       "       sc2ts_correctly_imputed  total_missing  imputed_differently  \n",
       "0                            1          10131                    0  \n",
       "1                           13          10099                    0  \n",
       "2                            9          10187                    1  \n",
       "3                            3          10184                    0  \n",
       "4                            5          10187                    0  \n",
       "...                        ...            ...                  ...  \n",
       "27426                        4           1122                    0  \n",
       "27427                       22            993                    0  \n",
       "27428                        8            997                    0  \n",
       "27429                       28           1004                    2  \n",
       "27430                        6           1022                    0  \n",
       "\n",
       "[27431 rows x 6 columns]"
      ]
     },
     "execution_count": 14,
     "metadata": {},
     "output_type": "execute_result"
    }
   ],
   "source": [
    "df = pd.DataFrame(data)\n",
    "df"
   ]
  },
  {
   "cell_type": "code",
   "execution_count": 15,
   "id": "5a01d0ff-9869-427a-a978-f2d1f572aac0",
   "metadata": {
    "scrolled": true
   },
   "outputs": [
    {
     "data": {
      "text/plain": [
       "position                     407703842\n",
       "total_ambiguous                 413303\n",
       "usher_correctly_imputed         413299\n",
       "sc2ts_correctly_imputed         413226\n",
       "total_missing                 80574518\n",
       "imputed_differently              56782\n",
       "usher_incorrectly_imputed            4\n",
       "sc2ts_incorrectly_imputed           77\n",
       "dtype: int64"
      ]
     },
     "execution_count": 15,
     "metadata": {},
     "output_type": "execute_result"
    }
   ],
   "source": [
    "df[\"usher_incorrectly_imputed\"] = df[\"total_ambiguous\"] - df[\"usher_correctly_imputed\"]\n",
    "df[\"sc2ts_incorrectly_imputed\"] = df[\"total_ambiguous\"] - df[\"sc2ts_correctly_imputed\"]\n",
    "df.sum()"
   ]
  },
  {
   "cell_type": "code",
   "execution_count": 16,
   "id": "2746559f-cb8e-4612-8180-9b62515a4a0e",
   "metadata": {
    "scrolled": true
   },
   "outputs": [
    {
     "data": {
      "text/plain": [
       "0.018630579798160653"
      ]
     },
     "execution_count": 16,
     "metadata": {},
     "output_type": "execute_result"
    }
   ],
   "source": [
    "    77 / 413299 * 100"
   ]
  },
  {
   "cell_type": "code",
   "execution_count": 17,
   "id": "917c28a7-474a-4f16-bec1-9cc90e95d98c",
   "metadata": {},
   "outputs": [
    {
     "data": {
      "text/plain": [
       "0.07047141132138078"
      ]
     },
     "execution_count": 17,
     "metadata": {},
     "output_type": "execute_result"
    }
   ],
   "source": [
    "(df.imputed_differently.sum() / df.total_missing.sum()) * 100"
   ]
  },
  {
   "cell_type": "code",
   "execution_count": 18,
   "id": "05331352-f90b-43c9-aec6-2835ddb13cbe",
   "metadata": {},
   "outputs": [
    {
     "data": {
      "text/plain": [
       "31.335752454586327"
      ]
     },
     "execution_count": 18,
     "metadata": {},
     "output_type": "execute_result"
    }
   ],
   "source": [
    "(ts_sc2ts.num_samples * ts_sc2ts.num_sites) / 1024**3"
   ]
  },
  {
   "cell_type": "markdown",
   "id": "51eaa101-b306-4b06-a050-db9d8fcc77d8",
   "metadata": {},
   "source": [
    "The total aligned dataset for 1,226,587 samples and 27,431 sites shared by both the sc2ts and Usher tree sequences represents 31.34GiB of nucleotide calls. Of the 80,574,518 missing data calls (Ns) in the alignments, sc2ts and Usher disagreed in their imputed values for 56,782 (0.07%). Additionally, 413,303 calls made use of the IUPAC uncertainty codes. Of these sc2ts imputed 77 (0.02%) incorrectly (i.e., with a base that is not compatible with the ambiguity code). Remarkably, Usher imputed only 4 calls from this set incorrectly.\n"
   ]
  },
  {
   "cell_type": "code",
   "execution_count": 26,
   "id": "6a453323-febe-47f0-911e-f87f2fb50941",
   "metadata": {},
   "outputs": [
    {
     "name": "stdout",
     "output_type": "stream",
     "text": [
      "CPU times: user 113 ms, sys: 4.03 ms, total: 117 ms\n",
      "Wall time: 116 ms\n"
     ]
    },
    {
     "data": {
      "text/plain": [
       "(171148, 5918)"
      ]
     },
     "execution_count": 26,
     "metadata": {},
     "output_type": "execute_result"
    }
   ],
   "source": [
    "%%time\n",
    "tree_usher = ts_usher.first()\n",
    "num_polytomies = np.sum(tree_usher.num_children_array > 2)\n",
    "largest_polytomy = np.max(tree_usher.num_children_array)\n",
    "num_polytomies, largest_polytomy"
   ]
  },
  {
   "cell_type": "code",
   "execution_count": 39,
   "id": "eeb4e77f-c6d3-4722-a528-687bd0a6240f",
   "metadata": {},
   "outputs": [
    {
     "name": "stdout",
     "output_type": "stream",
     "text": [
      "CPU times: user 386 ms, sys: 113 µs, total: 386 ms\n",
      "Wall time: 385 ms\n"
     ]
    },
    {
     "data": {
      "text/plain": [
       "(137001, 7708)"
      ]
     },
     "execution_count": 39,
     "metadata": {},
     "output_type": "execute_result"
    }
   ],
   "source": [
    "%%time\n",
    "num_polytomies = np.zeros(ts_sc2ts.num_trees, dtype=int)\n",
    "largest_polytomy = np.zeros(ts_sc2ts.num_trees, dtype=int)\n",
    "for tree in ts_sc2ts.trees():\n",
    "    num_polytomies[tree.index] = np.sum(tree.num_children_array > 2)\n",
    "    largest_polytomy[tree.index] = np.max(tree.num_children_array)\n",
    "np.max(num_polytomies), np.max(largest_polytomy)"
   ]
  },
  {
   "cell_type": "code",
   "execution_count": 41,
   "id": "d321e962-0112-4442-aca9-f28c208004ab",
   "metadata": {},
   "outputs": [
    {
     "data": {
      "text/plain": [
       "348"
      ]
     },
     "execution_count": 41,
     "metadata": {},
     "output_type": "execute_result"
    }
   ],
   "source": [
    "ts_sc2ts.num_trees"
   ]
  },
  {
   "cell_type": "markdown",
   "id": "fad6064c-905e-43ce-b563-99844c570e45",
   "metadata": {},
   "source": [
    "To illustrate the efficient access to phylogenetic analysis that tskit provides, we also computed the number of polytomies and the maximum number of a children per node. In the Usher tree it took 116ms and 4 lines of code to count polytomies (171,148) and compute the maximum number of children (5918). In the sc2ts ARG, it tool 385ms and 6 lines of code to find the maximum number of polytomies (137,001) and maximum number of children (7708) across all 348 local trees."
   ]
  }
 ],
 "metadata": {
  "kernelspec": {
   "display_name": "Python 3 (ipykernel)",
   "language": "python",
   "name": "python3"
  },
  "language_info": {
   "codemirror_mode": {
    "name": "ipython",
    "version": 3
   },
   "file_extension": ".py",
   "mimetype": "text/x-python",
   "name": "python",
   "nbconvert_exporter": "python",
   "pygments_lexer": "ipython3",
   "version": "3.10.12"
  }
 },
 "nbformat": 4,
 "nbformat_minor": 5
}
