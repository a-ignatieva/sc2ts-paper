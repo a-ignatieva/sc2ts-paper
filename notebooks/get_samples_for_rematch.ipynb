{
 "cells": [
  {
   "cell_type": "code",
   "execution_count": 1,
   "metadata": {},
   "outputs": [],
   "source": [
    "from pathlib import Path\n",
    "import pandas as pd"
   ]
  },
  {
   "cell_type": "code",
   "execution_count": 2,
   "metadata": {},
   "outputs": [
    {
     "name": "stderr",
     "output_type": "stream",
     "text": [
      "/var/folders/4h/9ylb643n37d8jc7srjm7qzk00000gr/T/ipykernel_86510/2320968066.py:3: DtypeWarning: Columns (16,18,19,25,26) have mixed types. Specify dtype option on import or set low_memory=False.\n",
      "  metadata = pd.read_csv(metadata_file, sep=\"\\t\")\n"
     ]
    },
    {
     "data": {
      "application/vnd.microsoft.datawrangler.viewer.v0+json": {
       "columns": [
        {
         "name": "index",
         "rawType": "int64",
         "type": "integer"
        },
        {
         "name": "Study",
         "rawType": "object",
         "type": "string"
        },
        {
         "name": "Sample",
         "rawType": "object",
         "type": "string"
        },
        {
         "name": "Experiment",
         "rawType": "object",
         "type": "string"
        },
        {
         "name": "Run",
         "rawType": "object",
         "type": "string"
        },
        {
         "name": "Platform",
         "rawType": "object",
         "type": "string"
        },
        {
         "name": "Country",
         "rawType": "object",
         "type": "string"
        },
        {
         "name": "Region",
         "rawType": "object",
         "type": "string"
        },
        {
         "name": "Collection_date",
         "rawType": "object",
         "type": "string"
        },
        {
         "name": "First_created",
         "rawType": "object",
         "type": "string"
        },
        {
         "name": "Date_tree",
         "rawType": "object",
         "type": "string"
        },
        {
         "name": "Date_tree_order",
         "rawType": "object",
         "type": "string"
        },
        {
         "name": "Viridian_result",
         "rawType": "object",
         "type": "string"
        },
        {
         "name": "Genbank_accession",
         "rawType": "object",
         "type": "string"
        },
        {
         "name": "Genbank_other_runs",
         "rawType": "object",
         "type": "string"
        },
        {
         "name": "In_Viridian_tree",
         "rawType": "object",
         "type": "string"
        },
        {
         "name": "In_intersection",
         "rawType": "object",
         "type": "string"
        },
        {
         "name": "Artic_primer_version",
         "rawType": "object",
         "type": "string"
        },
        {
         "name": "Viridian_amplicon_scheme",
         "rawType": "object",
         "type": "string"
        },
        {
         "name": "Viridian_N",
         "rawType": "object",
         "type": "string"
        },
        {
         "name": "Genbank_N",
         "rawType": "object",
         "type": "string"
        },
        {
         "name": "Viridian_pangolin",
         "rawType": "object",
         "type": "string"
        },
        {
         "name": "Viridian_scorpio",
         "rawType": "object",
         "type": "string"
        },
        {
         "name": "Genbank_pangolin",
         "rawType": "object",
         "type": "string"
        },
        {
         "name": "Genbank_scorpio",
         "rawType": "object",
         "type": "string"
        },
        {
         "name": "Genbank_tree_name",
         "rawType": "object",
         "type": "string"
        },
        {
         "name": "Viridian_cons_len",
         "rawType": "object",
         "type": "string"
        },
        {
         "name": "Viridian_cons_het",
         "rawType": "object",
         "type": "string"
        }
       ],
       "ref": "4e7f8a3b-3e33-4946-a6ff-d61ac0f8d684",
       "rows": [
        [
         "0",
         "PRJEB47121",
         "SAMEA9781395",
         "ERX6172603",
         "ERR6546375",
         "ILLUMINA",
         "Estonia",
         "none",
         "2021-08-02",
         "2021-08-22",
         "2021-08-02",
         "Date",
         "PASS",
         ".",
         ".",
         "T",
         "F",
         ".",
         "COVID-ARTIC-V3",
         "306",
         ".",
         "AY.100",
         "Delta (B.1.617.2-like)",
         ".",
         ".",
         ".",
         "29810",
         "0"
        ]
       ],
       "shape": {
        "columns": 27,
        "rows": 1
       }
      },
      "text/html": [
       "<div>\n",
       "<style scoped>\n",
       "    .dataframe tbody tr th:only-of-type {\n",
       "        vertical-align: middle;\n",
       "    }\n",
       "\n",
       "    .dataframe tbody tr th {\n",
       "        vertical-align: top;\n",
       "    }\n",
       "\n",
       "    .dataframe thead th {\n",
       "        text-align: right;\n",
       "    }\n",
       "</style>\n",
       "<table border=\"1\" class=\"dataframe\">\n",
       "  <thead>\n",
       "    <tr style=\"text-align: right;\">\n",
       "      <th></th>\n",
       "      <th>Study</th>\n",
       "      <th>Sample</th>\n",
       "      <th>Experiment</th>\n",
       "      <th>Run</th>\n",
       "      <th>Platform</th>\n",
       "      <th>Country</th>\n",
       "      <th>Region</th>\n",
       "      <th>Collection_date</th>\n",
       "      <th>First_created</th>\n",
       "      <th>Date_tree</th>\n",
       "      <th>...</th>\n",
       "      <th>Viridian_amplicon_scheme</th>\n",
       "      <th>Viridian_N</th>\n",
       "      <th>Genbank_N</th>\n",
       "      <th>Viridian_pangolin</th>\n",
       "      <th>Viridian_scorpio</th>\n",
       "      <th>Genbank_pangolin</th>\n",
       "      <th>Genbank_scorpio</th>\n",
       "      <th>Genbank_tree_name</th>\n",
       "      <th>Viridian_cons_len</th>\n",
       "      <th>Viridian_cons_het</th>\n",
       "    </tr>\n",
       "  </thead>\n",
       "  <tbody>\n",
       "    <tr>\n",
       "      <th>0</th>\n",
       "      <td>PRJEB47121</td>\n",
       "      <td>SAMEA9781395</td>\n",
       "      <td>ERX6172603</td>\n",
       "      <td>ERR6546375</td>\n",
       "      <td>ILLUMINA</td>\n",
       "      <td>Estonia</td>\n",
       "      <td>none</td>\n",
       "      <td>2021-08-02</td>\n",
       "      <td>2021-08-22</td>\n",
       "      <td>2021-08-02</td>\n",
       "      <td>...</td>\n",
       "      <td>COVID-ARTIC-V3</td>\n",
       "      <td>306</td>\n",
       "      <td>.</td>\n",
       "      <td>AY.100</td>\n",
       "      <td>Delta (B.1.617.2-like)</td>\n",
       "      <td>.</td>\n",
       "      <td>.</td>\n",
       "      <td>.</td>\n",
       "      <td>29810</td>\n",
       "      <td>0</td>\n",
       "    </tr>\n",
       "  </tbody>\n",
       "</table>\n",
       "<p>1 rows × 27 columns</p>\n",
       "</div>"
      ],
      "text/plain": [
       "        Study        Sample  Experiment         Run  Platform  Country Region  \\\n",
       "0  PRJEB47121  SAMEA9781395  ERX6172603  ERR6546375  ILLUMINA  Estonia   none   \n",
       "\n",
       "  Collection_date First_created   Date_tree  ... Viridian_amplicon_scheme  \\\n",
       "0      2021-08-02    2021-08-22  2021-08-02  ...           COVID-ARTIC-V3   \n",
       "\n",
       "  Viridian_N Genbank_N Viridian_pangolin        Viridian_scorpio  \\\n",
       "0        306         .            AY.100  Delta (B.1.617.2-like)   \n",
       "\n",
       "  Genbank_pangolin Genbank_scorpio Genbank_tree_name Viridian_cons_len  \\\n",
       "0                .               .                 .             29810   \n",
       "\n",
       "  Viridian_cons_het  \n",
       "0                 0  \n",
       "\n",
       "[1 rows x 27 columns]"
      ]
     },
     "execution_count": 2,
     "metadata": {},
     "output_type": "execute_result"
    }
   ],
   "source": [
    "data_dir = Path(\"../data\")\n",
    "metadata_file = data_dir / \"run_metadata.v04.tsv.gz\"\n",
    "metadata = pd.read_csv(metadata_file, sep=\"\\t\")\n",
    "metadata.head(1)"
   ]
  },
  {
   "cell_type": "code",
   "execution_count": 3,
   "metadata": {},
   "outputs": [],
   "source": [
    "# Pango Xs absent in the ARG\n",
    "pangos = [\n",
    "    \"XBJ.2\", \"XBJ.4\",\n",
    "    \"XBP\",\n",
    "    \"XBS\",\n",
    "    \"XBW\",\n",
    "    \"XCA\",\n",
    "    \"XAK\",\n",
    "    \"XAY\", \"XAY.1\", \"XAY.3\",\n",
    "    \"XBC.1\", \"XBC.1.1\", \"XBC.1.1.1\", \"XBC.1.2\", \"XBC.1.2.1\", \"XBC.1.5\", \"XBC.2\",\n",
    "    \"XBL.3\",\n",
    "    \"XBT\",\n",
    "    # Failed missing site QC\n",
    "    \"XAB\",\n",
    "    \"XAH\",\n",
    "    \"XBN\",\n",
    "    \"XBZ\",\n",
    "    \"XCG\",\n",
    "]"
   ]
  },
  {
   "cell_type": "code",
   "execution_count": null,
   "metadata": {},
   "outputs": [],
   "source": [
    "pango_file = data_dir / \"samples_for_rematch.csv\"\n",
    "subset_metadata = metadata[metadata.Viridian_pangolin.isin(pangos)]\n",
    "subset_metadata[[\"Run\", \"Viridian_pangolin\"]].to_csv(pango_file, index=False)"
   ]
  },
  {
   "cell_type": "code",
   "execution_count": null,
   "metadata": {},
   "outputs": [],
   "source": []
  }
 ],
 "metadata": {
  "kernelspec": {
   "display_name": "sc2ts",
   "language": "python",
   "name": "python3"
  },
  "language_info": {
   "codemirror_mode": {
    "name": "ipython",
    "version": 3
   },
   "file_extension": ".py",
   "mimetype": "text/x-python",
   "name": "python",
   "nbconvert_exporter": "python",
   "pygments_lexer": "ipython3",
   "version": "3.12.9"
  }
 },
 "nbformat": 4,
 "nbformat_minor": 4
}
