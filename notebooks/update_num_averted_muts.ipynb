{
 "cells": [
  {
   "cell_type": "markdown",
   "metadata": {},
   "source": [
    "Update num_mutations_averted in recombinants.csv\n",
    "\n",
    "Need to fetch k4_num_mutations and k1000_num_mutations"
   ]
  },
  {
   "cell_type": "code",
   "execution_count": 1,
   "metadata": {},
   "outputs": [],
   "source": [
    "import json\n",
    "from pathlib import Path\n",
    "import pandas as pd"
   ]
  },
  {
   "cell_type": "code",
   "execution_count": 2,
   "metadata": {},
   "outputs": [],
   "source": [
    "data_dir = Path(\"../data\")"
   ]
  },
  {
   "cell_type": "code",
   "execution_count": 3,
   "metadata": {},
   "outputs": [
    {
     "data": {
      "text/html": [
       "<div>\n",
       "<style scoped>\n",
       "    .dataframe tbody tr th:only-of-type {\n",
       "        vertical-align: middle;\n",
       "    }\n",
       "\n",
       "    .dataframe tbody tr th {\n",
       "        vertical-align: top;\n",
       "    }\n",
       "\n",
       "    .dataframe thead th {\n",
       "        text-align: right;\n",
       "    }\n",
       "</style>\n",
       "<table border=\"1\" class=\"dataframe\">\n",
       "  <thead>\n",
       "    <tr style=\"text-align: right;\">\n",
       "      <th></th>\n",
       "      <th>recombinant</th>\n",
       "      <th>descendants</th>\n",
       "      <th>sample</th>\n",
       "      <th>sample_id</th>\n",
       "      <th>sample_pango</th>\n",
       "      <th>interval_left</th>\n",
       "      <th>interval_right</th>\n",
       "      <th>num_mutations</th>\n",
       "      <th>date_added</th>\n",
       "      <th>group_id</th>\n",
       "      <th>...</th>\n",
       "      <th>parent_right_pango</th>\n",
       "      <th>mrca</th>\n",
       "      <th>t_mrca</th>\n",
       "      <th>diffs</th>\n",
       "      <th>max_run_length</th>\n",
       "      <th>k2_num_mutations</th>\n",
       "      <th>k1000_num_mutations</th>\n",
       "      <th>num_mutations_averted</th>\n",
       "      <th>max_runlength_3sep</th>\n",
       "      <th>likely_artifactual</th>\n",
       "    </tr>\n",
       "  </thead>\n",
       "  <tbody>\n",
       "    <tr>\n",
       "      <th>113</th>\n",
       "      <td>414488</td>\n",
       "      <td>5</td>\n",
       "      <td>414486</td>\n",
       "      <td>DRR321268</td>\n",
       "      <td>XC</td>\n",
       "      <td>26768</td>\n",
       "      <td>27390</td>\n",
       "      <td>1</td>\n",
       "      <td>2021-08-13</td>\n",
       "      <td>c179e2745fee9355a686734447789a6e</td>\n",
       "      <td>...</td>\n",
       "      <td>B.1.1.7</td>\n",
       "      <td>59</td>\n",
       "      <td>1114.000001</td>\n",
       "      <td>80</td>\n",
       "      <td>8</td>\n",
       "      <td>1</td>\n",
       "      <td>15</td>\n",
       "      <td>14</td>\n",
       "      <td>3</td>\n",
       "      <td>False</td>\n",
       "    </tr>\n",
       "  </tbody>\n",
       "</table>\n",
       "<p>1 rows × 23 columns</p>\n",
       "</div>"
      ],
      "text/plain": [
       "     recombinant  descendants  sample  sample_id sample_pango  interval_left  \\\n",
       "113       414488            5  414486  DRR321268           XC          26768   \n",
       "\n",
       "     interval_right  num_mutations  date_added  \\\n",
       "113           27390              1  2021-08-13   \n",
       "\n",
       "                             group_id  ...  parent_right_pango mrca  \\\n",
       "113  c179e2745fee9355a686734447789a6e  ...             B.1.1.7   59   \n",
       "\n",
       "          t_mrca diffs  max_run_length  k2_num_mutations  k1000_num_mutations  \\\n",
       "113  1114.000001    80               8                 1                   15   \n",
       "\n",
       "     num_mutations_averted  max_runlength_3sep  likely_artifactual  \n",
       "113                     14                   3               False  \n",
       "\n",
       "[1 rows x 23 columns]"
      ]
     },
     "execution_count": 3,
     "metadata": {},
     "output_type": "execute_result"
    }
   ],
   "source": [
    "# Old file\n",
    "# recombinant, sample_id\n",
    "recomb_file = data_dir / \"recombinants.csv\"\n",
    "recomb_df = pd.read_csv(recomb_file).sort_values(by=\"sample_id\")\n",
    "recomb_df.head(1)"
   ]
  },
  {
   "cell_type": "code",
   "execution_count": 4,
   "metadata": {},
   "outputs": [
    {
     "data": {
      "text/html": [
       "<div>\n",
       "<style scoped>\n",
       "    .dataframe tbody tr th:only-of-type {\n",
       "        vertical-align: middle;\n",
       "    }\n",
       "\n",
       "    .dataframe tbody tr th {\n",
       "        vertical-align: top;\n",
       "    }\n",
       "\n",
       "    .dataframe thead th {\n",
       "        text-align: right;\n",
       "    }\n",
       "</style>\n",
       "<table border=\"1\" class=\"dataframe\">\n",
       "  <thead>\n",
       "    <tr style=\"text-align: right;\">\n",
       "      <th></th>\n",
       "      <th>strain</th>\n",
       "      <th>n_parents</th>\n",
       "      <th>n_mutations</th>\n",
       "      <th>parents</th>\n",
       "      <th>mutations</th>\n",
       "    </tr>\n",
       "  </thead>\n",
       "  <tbody>\n",
       "    <tr>\n",
       "      <th>0</th>\n",
       "      <td>SRR14631544</td>\n",
       "      <td>1</td>\n",
       "      <td>24</td>\n",
       "      <td>(0:29904, 1)</td>\n",
       "      <td>[C241T, C3037T, C3267T, C4683T, C5986T, C6471T...</td>\n",
       "    </tr>\n",
       "  </tbody>\n",
       "</table>\n",
       "</div>"
      ],
      "text/plain": [
       "        strain  n_parents  n_mutations       parents  \\\n",
       "0  SRR14631544          1           24  (0:29904, 1)   \n",
       "\n",
       "                                           mutations  \n",
       "0  [C241T, C3037T, C3267T, C4683T, C5986T, C6471T...  "
      ]
     },
     "execution_count": 4,
     "metadata": {},
     "output_type": "execute_result"
    }
   ],
   "source": [
    "# k=4\n",
    "# n_mutations\n",
    "match_file = data_dir / \"v1-beta1.matches.tsv\"\n",
    "match_df = pd.read_csv(match_file, sep=\"\\t\")\n",
    "match_df.head(1)"
   ]
  },
  {
   "cell_type": "code",
   "execution_count": 5,
   "metadata": {},
   "outputs": [
    {
     "data": {
      "text/html": [
       "<div>\n",
       "<style scoped>\n",
       "    .dataframe tbody tr th:only-of-type {\n",
       "        vertical-align: middle;\n",
       "    }\n",
       "\n",
       "    .dataframe tbody tr th {\n",
       "        vertical-align: top;\n",
       "    }\n",
       "\n",
       "    .dataframe thead th {\n",
       "        text-align: right;\n",
       "    }\n",
       "</style>\n",
       "<table border=\"1\" class=\"dataframe\">\n",
       "  <thead>\n",
       "    <tr style=\"text-align: right;\">\n",
       "      <th></th>\n",
       "      <th>strain</th>\n",
       "      <th>num_mutations</th>\n",
       "    </tr>\n",
       "  </thead>\n",
       "  <tbody>\n",
       "    <tr>\n",
       "      <th>0</th>\n",
       "      <td>SRR20259474</td>\n",
       "      <td>5</td>\n",
       "    </tr>\n",
       "  </tbody>\n",
       "</table>\n",
       "</div>"
      ],
      "text/plain": [
       "        strain  num_mutations\n",
       "0  SRR20259474              5"
      ]
     },
     "execution_count": 5,
     "metadata": {},
     "output_type": "execute_result"
    }
   ],
   "source": [
    "# k=1000\n",
    "# here, cost = num mutations\n",
    "rerun_file = data_dir / \"recombinant_reruns.json\"\n",
    "data = []\n",
    "with open(rerun_file, 'r') as f:\n",
    "    for line in f:\n",
    "        d = json.loads(line.strip())\n",
    "        strain = d[\"strain\"]\n",
    "        # Skip k=2\n",
    "        if d[\"num_mismatches\"] != 1000:\n",
    "            continue\n",
    "        num_mutations = d[\"match\"][\"cost\"]\n",
    "        d = {\n",
    "            \"strain\": strain,\n",
    "            \"num_mutations\": num_mutations,\n",
    "        }\n",
    "        data.append(d)\n",
    "rerun_df = pd.DataFrame(data)\n",
    "rerun_df.head(1)"
   ]
  },
  {
   "cell_type": "code",
   "execution_count": 6,
   "metadata": {},
   "outputs": [
    {
     "data": {
      "text/html": [
       "<div>\n",
       "<style scoped>\n",
       "    .dataframe tbody tr th:only-of-type {\n",
       "        vertical-align: middle;\n",
       "    }\n",
       "\n",
       "    .dataframe tbody tr th {\n",
       "        vertical-align: top;\n",
       "    }\n",
       "\n",
       "    .dataframe thead th {\n",
       "        text-align: right;\n",
       "    }\n",
       "</style>\n",
       "<table border=\"1\" class=\"dataframe\">\n",
       "  <thead>\n",
       "    <tr style=\"text-align: right;\">\n",
       "      <th></th>\n",
       "      <th>strain</th>\n",
       "      <th>k4_num_mutations</th>\n",
       "      <th>k1000_num_mutations</th>\n",
       "      <th>num_mutations_averted</th>\n",
       "    </tr>\n",
       "  </thead>\n",
       "  <tbody>\n",
       "    <tr>\n",
       "      <th>824</th>\n",
       "      <td>DRR321268</td>\n",
       "      <td>1</td>\n",
       "      <td>15</td>\n",
       "      <td>14</td>\n",
       "    </tr>\n",
       "  </tbody>\n",
       "</table>\n",
       "</div>"
      ],
      "text/plain": [
       "        strain  k4_num_mutations  k1000_num_mutations  num_mutations_averted\n",
       "824  DRR321268                 1                   15                     14"
      ]
     },
     "execution_count": 6,
     "metadata": {},
     "output_type": "execute_result"
    }
   ],
   "source": [
    "data = []\n",
    "for i, row in rerun_df.iterrows():\n",
    "    strain = row.loc[\"strain\"]\n",
    "    # k=4 result from matches file\n",
    "    k4_num_mutations = match_df[\n",
    "        match_df[\"strain\"] == strain\n",
    "    ][\"n_mutations\"].iloc[0]\n",
    "    # k=1000 result from rerun file\n",
    "    k1000_num_mutations = row.loc[\"num_mutations\"]\n",
    "    num_mutations_averted = k1000_num_mutations - k4_num_mutations\n",
    "    data.append(\n",
    "        {\n",
    "            \"strain\": strain,\n",
    "            \"k4_num_mutations\": k4_num_mutations,\n",
    "            \"k1000_num_mutations\": k1000_num_mutations,\n",
    "            \"num_mutations_averted\": num_mutations_averted,\n",
    "        }\n",
    "    )\n",
    "res_df = pd.DataFrame(data).sort_values(by=\"strain\")\n",
    "res_df.head(1)"
   ]
  },
  {
   "cell_type": "code",
   "execution_count": 7,
   "metadata": {},
   "outputs": [
    {
     "data": {
      "text/plain": [
       "True"
      ]
     },
     "execution_count": 7,
     "metadata": {},
     "output_type": "execute_result"
    }
   ],
   "source": [
    "all([\n",
    "    a == b for a, b in zip(\n",
    "        recomb_df[\"sample_id\"].to_list(),\n",
    "        res_df[\"strain\"].to_list(),\n",
    "    )\n",
    "])"
   ]
  },
  {
   "cell_type": "code",
   "execution_count": 8,
   "metadata": {},
   "outputs": [
    {
     "data": {
      "text/plain": [
       "True"
      ]
     },
     "execution_count": 8,
     "metadata": {},
     "output_type": "execute_result"
    }
   ],
   "source": [
    "all([\n",
    "    a == b for a, b in zip(\n",
    "        recomb_df[\"k1000_num_mutations\"].to_list(),\n",
    "        res_df[\"k1000_num_mutations\"].to_list(),\n",
    "    )\n",
    "])"
   ]
  },
  {
   "cell_type": "code",
   "execution_count": 9,
   "metadata": {},
   "outputs": [
    {
     "data": {
      "text/plain": [
       "Index(['recombinant', 'descendants', 'sample', 'sample_id', 'sample_pango',\n",
       "       'interval_left', 'interval_right', 'num_mutations', 'date_added',\n",
       "       'group_id', 'parent_left', 'parent_left_pango', 'parent_right',\n",
       "       'parent_right_pango', 'mrca', 't_mrca', 'diffs', 'max_run_length',\n",
       "       'max_runlength_3sep', 'likely_artifactual', 'k4_num_mutations',\n",
       "       'k1000_num_mutations', 'num_mutations_averted'],\n",
       "      dtype='object')"
      ]
     },
     "execution_count": 9,
     "metadata": {},
     "output_type": "execute_result"
    }
   ],
   "source": [
    "new_recomb_df = recomb_df\\\n",
    "    .drop(\"k2_num_mutations\", axis=1)\\\n",
    "    .drop(\"k1000_num_mutations\", axis=1)\\\n",
    "    .drop(\"num_mutations_averted\", axis=1)\\\n",
    "    .assign(k4_num_mutations=res_df[\"k4_num_mutations\"].to_list())\\\n",
    "    .assign(k1000_num_mutations=res_df[\"k1000_num_mutations\"].to_list())\\\n",
    "    .assign(num_mutations_averted=res_df[\"num_mutations_averted\"].to_list())\n",
    "new_recomb_df.columns"
   ]
  },
  {
   "cell_type": "code",
   "execution_count": 10,
   "metadata": {},
   "outputs": [],
   "source": [
    "for c in recomb_df.columns:\n",
    "    if c == \"k2_num_mutations\" or c == \"num_mutations_averted\":\n",
    "        continue\n",
    "    assert all(\n",
    "        [\n",
    "            a == b for a, b in\n",
    "            zip(\n",
    "                recomb_df[c].to_list(),\n",
    "                new_recomb_df[c].to_list(),\n",
    "            )\n",
    "        ]), f\"{c}\""
   ]
  },
  {
   "cell_type": "code",
   "execution_count": 11,
   "metadata": {},
   "outputs": [],
   "source": [
    "new_recomb_file = data_dir / \"recombinants.csv\"\n",
    "new_recomb_df\\\n",
    "    .sort_values(by=\"recombinant\")\\\n",
    "    .to_csv(new_recomb_file, index=False)"
   ]
  },
  {
   "cell_type": "code",
   "execution_count": null,
   "metadata": {},
   "outputs": [],
   "source": []
  }
 ],
 "metadata": {
  "kernelspec": {
   "display_name": "Python 3",
   "language": "python",
   "name": "python3"
  },
  "language_info": {
   "codemirror_mode": {
    "name": "ipython",
    "version": 3
   },
   "file_extension": ".py",
   "mimetype": "text/x-python",
   "name": "python",
   "nbconvert_exporter": "python",
   "pygments_lexer": "ipython3",
   "version": "3.12.9"
  }
 },
 "nbformat": 4,
 "nbformat_minor": 4
}
