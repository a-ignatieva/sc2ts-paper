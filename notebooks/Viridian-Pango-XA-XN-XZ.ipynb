{
 "cells": [
  {
   "cell_type": "code",
   "execution_count": null,
   "id": "94049c5a-f47d-4d78-941a-390bc5c37e78",
   "metadata": {},
   "outputs": [],
   "source": [
    "import sc2ts\n",
    "import nb_utils\n",
    "import numpy as np\n",
    "from IPython.display import HTML\n",
    "\n",
    "ts = nb_utils.load()\n",
    "df = sc2ts.node_data(ts).set_index(\"sample_id\")\n",
    "arg = nb_utils.D3ARG_viz(ts, df, pangolin_field=\"pango\")\n",
    "arg.set_sc2ts_node_labels()\n",
    "arg.set_sc2ts_node_styles()\n",
    "display(HTML(\"<style>@media print {.d3arg {zoom: 0.8}}</style>\"));\n",
    "\n",
    "# Export to the `figures` directory (after executing the entire notebook) using \n",
    "#   python src/makepdf.py notebooks/Viridian-Pango-XA-XN-XZ.ipynb figures"
   ]
  },
  {
   "cell_type": "code",
   "execution_count": null,
   "id": "e328cae2-6ba8-465b-b388-26ccd6bbe6a3",
   "metadata": {},
   "outputs": [],
   "source": [
    "# Exclude all XAs apart from a select few\n",
    "dfXA = df[np.logical_and(df.pango == \"XA\", df.is_sample)]\n",
    "exclude = dfXA.node_id[np.isin(dfXA.index, [\"ERR5308556\", \"ERR5414941\", \"ERR5651144\"]) == False].values\n",
    "\n",
    "arg.plot_pango_subgraph(\n",
    "    \"XA\",\n",
    "    height=500,\n",
    "    exclude=exclude,\n",
    "    y_axis_scale=\"rank\",\n",
    "    oldest_y_label=\"2020-12\",\n",
    "    child_levels=0,\n",
    "    parent_levels=2,\n",
    "    positions_file=\"subgraph_layouts/XA-min.json\",\n",
    "    highlight_nodes={'yellow': dfXA.node_id},\n",
    ")"
   ]
  },
  {
   "cell_type": "code",
   "execution_count": null,
   "id": "83d5f1ca-25cc-464d-b710-9a1c6f0ea884",
   "metadata": {},
   "outputs": [],
   "source": [
    "dfXN = df[np.logical_and(df.pango == \"XN\", df.is_sample)]\n",
    "dfXAU = df[np.logical_and(df.pango == \"XAU\", df.is_sample)]\n",
    "\n",
    "keepXN_XAU = [\"SRR20786472\", \"ERR9626571\", \"ERR9627436\", \"ERR9827586\"]\n",
    "inclBA2 = df.loc[[\"ERR9502469\", \"ERR9794107\", \"SRR20777279\", \"ERR9794253\", \"ERR9969775\"], 'node_id']\n",
    "\n",
    "exclude = list(dfXN.node_id[np.isin(dfXN.index, keepXN_XAU) == False])\n",
    "exclude += list(dfXAU.node_id[np.isin(dfXAU.index, keepXN_XAU) == False])\n",
    "\n",
    "arg.plot_pango_subgraph(\n",
    "    [\"XN\", \"XAU\"],\n",
    "    height=500,\n",
    "    exclude=exclude,\n",
    "    include=inclBA2,\n",
    "    y_axis_scale=\"time\",\n",
    "    oldest_y_label=\"2021-12\",\n",
    "    child_levels=0,\n",
    "    parent_levels=2,\n",
    "    positions_file=\"subgraph_layouts/XN-XAU-min.json\",\n",
    "    highlight_nodes={'purple': dfXN.node_id, 'cyan': dfXAU.node_id},\n",
    ")"
   ]
  },
  {
   "cell_type": "code",
   "execution_count": null,
   "id": "eaa9f997-2865-4684-9f15-8e538e042aad",
   "metadata": {},
   "outputs": [],
   "source": [
    "colours = ['#332288', '#88CCEE', '#44AA99', '#999933', '#DDCC77']  # from https://personal.sron.nl/~pault/\n",
    "pangoX = [\"XZ\", \"XAC\", \"XAD\", \"XAE\", \"XAP\"]\n",
    "\n",
    "keep = [\n",
    "    \"SRR19523737\", \"SRR20775418\", \"SRR20505514\",\n",
    "    \"ERR9216823\", \"SRR19560135\", \"SRR19710932\", \"SRR20019588\",\n",
    "    \"SRR19710932\", \"SRR18434609\", \"SRR21342521\", \"ERR9762269\", \"SRR20572879\", \"SRR20568702\",\n",
    "    \"SRR19495684\", \"ERR9761341\", \"SRR19672153\",\n",
    "]\n",
    "\n",
    "keep_ids = list(df.loc[[\"SRR19689888\", \"ERR8146303\", \"ERR8163061\", \"SRR19689888\"], 'node_id'])\n",
    "\n",
    "exclude = []\n",
    "cmap = {}\n",
    "for c, pX in zip(colours, pangoX):\n",
    "    df_tmp = df[np.logical_and(df.pango == pX, df.is_sample)]\n",
    "    exclude += list(df_tmp.node_id[np.isin(df_tmp.index, keep) == False])\n",
    "    cmap[c] = list(df_tmp.node_id)\n",
    "\n",
    "arg.plot_pango_subgraph(\n",
    "    pangoX,\n",
    "    exclude=exclude,\n",
    "    y_axis_scale=\"rank\",\n",
    "    height=600,\n",
    "    include=keep_ids,\n",
    "    parent_levels=4,\n",
    "    child_levels=0,\n",
    "    highlight_nodes=cmap,\n",
    "    oldest_y_label=\"2021-12\",\n",
    "    positions_file=\"subgraph_layouts/XZ-XAC-XAD-XAE-XAP-min.json\",\n",
    ")"
   ]
  },
  {
   "cell_type": "code",
   "execution_count": null,
   "id": "ca94ae25-3d55-4a35-a6bc-449c4c36c495",
   "metadata": {},
   "outputs": [],
   "source": [
    "# Example of finding XZ descendants of a node such as the most recent displayed XZ node (ID 1228738)\n",
    "# You can get the node IDs by switching to displaying '#ID' in the visualizer toolbar above the subgraph plot\n",
    "from collections import Counter\n",
    "\n",
    "# look at all XZs\n",
    "for local_root in (1228738, 1225255, 1163537):\n",
    "    c = Counter(ts.node(u).metadata['pango'] for u in ts.first().samples(local_root) if u != local_root)\n",
    "    print(f\"Sample descendants of {local_root} = {dict(c)}\")"
   ]
  },
  {
   "cell_type": "markdown",
   "id": "a9c911a3-237d-4d1e-961c-6a551618278b",
   "metadata": {},
   "source": [
    "So SRR19523737 (#1228738) has 6/6 XZ descendant samples, SRR20775418 (#1225255) has 4, and the origin of the XZ node (the dots leading to the number 29) represent 48 - 3 - 6 - 4 = 35 XZ descendant samples.\n",
    "\n",
    "You sould be able to check on this by counting up all the XZ samples: they should come to 6 + 4 + 35, plus the 3 that are shown = 48"
   ]
  },
  {
   "cell_type": "code",
   "execution_count": null,
   "id": "603ea6f2-57ff-4648-bedf-cd1fc55dd686",
   "metadata": {},
   "outputs": [],
   "source": [
    "sum(np.logical_and(df.pango == \"XZ\", df.is_sample))"
   ]
  }
 ],
 "metadata": {
  "kernelspec": {
   "display_name": "Python 3 (ipykernel)",
   "language": "python",
   "name": "python3"
  },
  "language_info": {
   "codemirror_mode": {
    "name": "ipython",
    "version": 3
   },
   "file_extension": ".py",
   "mimetype": "text/x-python",
   "name": "python",
   "nbconvert_exporter": "python",
   "pygments_lexer": "ipython3",
   "version": "3.12.10"
  }
 },
 "nbformat": 4,
 "nbformat_minor": 5
}
