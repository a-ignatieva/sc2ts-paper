{
 "cells": [
  {
   "cell_type": "code",
   "execution_count": 1,
   "id": "6ec150d0-e6cf-4c8e-923d-7aff91309923",
   "metadata": {},
   "outputs": [],
   "source": [
    "from pathlib import Path\n",
    "import pandas as pd\n",
    "import numpy as np\n",
    "import matplotlib.pyplot as plt\n",
    "from matplotlib import collections as mc\n",
    "import matplotlib.patches as mpatches\n",
    "from mpl_toolkits.axes_grid1.inset_locator import inset_axes\n",
    "import matplotlib.ticker as mticker\n",
    "\n",
    "import matplotlib\n",
    "import sc2ts\n",
    "import nb_utils"
   ]
  },
  {
   "cell_type": "code",
   "execution_count": 2,
   "id": "401eefdc",
   "metadata": {},
   "outputs": [
    {
     "data": {
      "text/plain": [
       "855"
      ]
     },
     "execution_count": 2,
     "metadata": {},
     "output_type": "execute_result"
    }
   ],
   "source": [
    "data_dir = Path(\"../data\")\n",
    "recomb_file = data_dir / \"recombinants.csv\"\n",
    "recomb_df = pd.read_csv(recomb_file)\n",
    "recomb_df = pd.read_csv(recomb_file, parse_dates=[k for k in recomb_df if \"date\" in k])\n",
    "len(recomb_df)"
   ]
  },
  {
   "cell_type": "code",
   "execution_count": 3,
   "id": "3d9c9f4c",
   "metadata": {},
   "outputs": [
    {
     "data": {
      "text/plain": [
       "354"
      ]
     },
     "execution_count": 3,
     "metadata": {},
     "output_type": "execute_result"
    }
   ],
   "source": [
    "df_hq = recomb_df[recomb_df.net_min_supporting_loci_lft_rgt_ge_4].reset_index(drop=True)\n",
    "len(df_hq)"
   ]
  },
  {
   "cell_type": "code",
   "execution_count": 4,
   "id": "04aa869c",
   "metadata": {
    "scrolled": true
   },
   "outputs": [
    {
     "name": "stdout",
     "output_type": "stream",
     "text": [
      "Median: 2.207 kb\n"
     ]
    }
   ],
   "source": [
    "int_size = (df_hq.interval_right - df_hq.interval_left) / 1000  # Convert to kb\n",
    "print(f\"Median: {np.median(int_size)} kb\")"
   ]
  },
  {
   "cell_type": "code",
   "execution_count": 5,
   "id": "225ede80-634a-4f5e-a629-698bb02f9186",
   "metadata": {},
   "outputs": [
    {
     "name": "stdout",
     "output_type": "stream",
     "text": [
      "Median: 254.9133244071105 days\n"
     ]
    }
   ],
   "source": [
    "time_re_mrca = df_hq[\"parent_mrca_time\"]- df_hq[\"recombinant_time\"]\n",
    "print(f\"Median: {np.median(time_re_mrca)} days\")"
   ]
  },
  {
   "cell_type": "code",
   "execution_count": 6,
   "id": "7b445f8e-5ae4-4456-84b5-3fd5cfba81ce",
   "metadata": {},
   "outputs": [
    {
     "name": "stdout",
     "output_type": "stream",
     "text": [
      "Median: 30.797238881865383 days\n"
     ]
    }
   ],
   "source": [
    "youngest_parent = np.minimum(df_hq[\"parent_left_time\"], df_hq[\"parent_right_time\"])\n",
    "time_diffs = youngest_parent - df_hq[\"oldest_child_time\"]\n",
    "print(f\"Median: {np.median(time_diffs)} days\")"
   ]
  },
  {
   "cell_type": "code",
   "execution_count": 7,
   "id": "58932540",
   "metadata": {},
   "outputs": [],
   "source": [
    "import matplotlib.colors as mcolors\n",
    "\n",
    "\n",
    "label_map = {\n",
    "    # BA.5\n",
    "    frozenset(['Omicron (BA.5-like)', 'Omicron (BA.5-like)']): {\n",
    "        \"color\": mcolors.TABLEAU_COLORS[\"tab:blue\"],\n",
    "        \"abbrev\": \"(BA.5-like, BA.5-like)\",\n",
    "    },\n",
    "    # B.1.617.2\n",
    "    frozenset(['Delta (B.1.617.2-like)', 'Delta (B.1.617.2-like)']): {\n",
    "        \"color\": mcolors.TABLEAU_COLORS[\"tab:orange\"],\n",
    "        \"abbrev\": \"(Delta-like, Delta-like)\",\n",
    "    },\n",
    "    # BA.2 and BA.5\n",
    "    frozenset(['Omicron (BA.2-like)', 'Omicron (BA.5-like)']): {\n",
    "        \"color\": mcolors.TABLEAU_COLORS[\"tab:green\"],\n",
    "        \"abbrev\": \"(BA.2-like, BA.5-like)\",\n",
    "    },\n",
    "    # BA.1 and BA.2\n",
    "    frozenset(['Omicron (BA.1-like)', 'Omicron (BA.2-like)']): {\n",
    "        \"color\": mcolors.TABLEAU_COLORS[\"tab:red\"],\n",
    "        \"abbrev\": \"(BA.1-like, BA.2-like)\",\n",
    "    },\n",
    "    # BA.4 and BA.5\n",
    "    frozenset(['Omicron (BA.4-like)', 'Omicron (BA.5-like)']): {\n",
    "        \"color\": mcolors.TABLEAU_COLORS[\"tab:purple\"],\n",
    "        \"abbrev\": \"(BA.4-like, BA.5-like)\",\n",
    "    },\n",
    "    # AY.4 and B.1.617.2\n",
    "    frozenset(['Delta (B.1.617.2-like)', 'Delta (AY.4-like)']): {\n",
    "        \"color\": mcolors.TABLEAU_COLORS[\"tab:brown\"],\n",
    "        \"abbrev\": \"Delta-like, AY.4-like\",\n",
    "    },\n",
    "    # BA.1\n",
    "    frozenset(['Omicron (BA.1-like)', 'Omicron (BA.1-like)']): {\n",
    "        \"color\": mcolors.TABLEAU_COLORS[\"tab:pink\"],\n",
    "        \"abbrev\": \"(BA.1-like, BA.1-like)\",\n",
    "    },\n",
    "    # BA.2\n",
    "    frozenset(['Omicron (BA.2-like)', 'Omicron (BA.2-like)']): {\n",
    "        \"color\": mcolors.TABLEAU_COLORS[\"tab:olive\"],\n",
    "        \"abbrev\": \"(BA.2-like, BA.2-like)\",\n",
    "    },\n",
    "    # AY.4\n",
    "    frozenset(['Delta (AY.4-like)', 'Delta (AY.4-like)']): {\n",
    "        \"color\": mcolors.TABLEAU_COLORS[\"tab:cyan\"],\n",
    "        \"abbrev\": \"(AY.4-like, AY.4-like)\",\n",
    "    },\n",
    "}"
   ]
  },
  {
   "cell_type": "code",
   "execution_count": 8,
   "id": "8cbb65df",
   "metadata": {},
   "outputs": [],
   "source": [
    "import scipy.special as sc\n",
    "\n",
    "\n",
    "def fn(x, mu):\n",
    "    \"\"\"\n",
    "    In Mathematica, Gamma[x, y] evaluates the upper incomplete gamma.\n",
    "    To evaluate that in SciPy, we use gammaincc (regularised upper incomplete gamma) and gamma.\n",
    "    \"\"\"\n",
    "    T = x\n",
    "    P = 0.5\n",
    "    n = 4\n",
    "    L = 29903\n",
    "    y = np.zeros(len(T), dtype=np.float32)\n",
    "    for i in range(len(T)):\n",
    "        z = L / (n * T[i] * mu)\n",
    "        # Compute expected interval size to left of breakpoint.\n",
    "        x_l = P * T[i] * mu\n",
    "        a_l = sc.gamma(1 + n) * (1 - sc.gammaincc(1 + n, x_l))\n",
    "        b_l = sc.gamma(n) * (1 - sc.gammaincc(n, x_l))\n",
    "        int_l = z * a_l / b_l\n",
    "        # Compute expected interval size to right of breakpoint.\n",
    "        x_r = (1 - P) * T[i] * mu\n",
    "        a_r = sc.gamma(1 + n) * (1 - sc.gammaincc(1 + n, x_r))\n",
    "        b_r = sc.gamma(n) * (1 - sc.gammaincc(n, x_r))\n",
    "        int_r = z * a_r / b_r\n",
    "        y[i] = int_l + int_r\n",
    "    return y"
   ]
  },
  {
   "cell_type": "code",
   "execution_count": 9,
   "id": "e8a6e7c0",
   "metadata": {},
   "outputs": [
    {
     "data": {
      "text/plain": [
       "array([[  50.  ,  100.  ,  150.  ,  200.  ,  250.  ,  300.  ,  350.  ,\n",
       "         400.  ,  450.  ,  500.  ,  550.  ,  600.  ,  650.  ,  700.  ,\n",
       "         750.  ,  800.  ],\n",
       "       [5585.49, 5055.57, 4440.8 , 3810.86, 3239.38, 2765.62, 2390.89,\n",
       "        2097.72, 1866.12, 1679.87, 1527.24, 1399.99, 1292.31, 1200.  ,\n",
       "        1120.  , 1050.  ]])"
      ]
     },
     "execution_count": 9,
     "metadata": {},
     "output_type": "execute_result"
    }
   ],
   "source": [
    "# Data from Sally to check against.\n",
    "data = np.array([\n",
    "    [50, 5585.49],\n",
    "    [100, 5055.57],\n",
    "    [150, 4440.8],\n",
    "    [200, 3810.86],\n",
    "    [250, 3239.38],\n",
    "    [300, 2765.62],\n",
    "    [350, 2390.89],\n",
    "    [400, 2097.72],\n",
    "    [450, 1866.12],\n",
    "    [500, 1679.87],\n",
    "    [550, 1527.24],\n",
    "    [600, 1399.99],\n",
    "    [650, 1292.31],\n",
    "    [700, 1200.00],\n",
    "    [750, 1120.00],\n",
    "    [800, 1050.00],\n",
    "]).T\n",
    "data"
   ]
  },
  {
   "cell_type": "code",
   "execution_count": 10,
   "id": "06cc10ad",
   "metadata": {},
   "outputs": [],
   "source": [
    "x = np.arange(1, 802, 10)\n",
    "# Sally used L=30_000, so slightly different results.\n",
    "y_1 = fn(x, mu=1/14)\n",
    "# Just to see\n",
    "y_1_5 = fn(x, mu=1.5/27)\n",
    "y_2 = fn(x, mu=1/27)"
   ]
  },
  {
   "cell_type": "code",
   "execution_count": 11,
   "id": "2ba3a906",
   "metadata": {},
   "outputs": [
    {
     "data": {
      "image/png": "[encoded data removed]",
      "text/plain": [
       "<Figure size 640x480 with 1 Axes>"
      ]
     },
     "metadata": {},
     "output_type": "display_data"
    }
   ],
   "source": [
    "from scipy.optimize import curve_fit\n",
    "\n",
    "\n",
    "# Successfully replicated results.\n",
    "plt.ylim(1000, 6100)\n",
    "plt.xlim(-5, 805)\n",
    "plt.ylabel(\"Size of breakpoint interval (kb)\")\n",
    "plt.xlabel(\"Time from recombination node to parents' MRCA (days)\")\n",
    "plt.scatter(y=y_1, x=x, c=\"black\", s=1)\n",
    "plt.scatter(y=y_1_5, x=x, c=\"darkgray\", s=1)\n",
    "plt.scatter(y=y_2, x=x, c=\"darkgray\", s=1)\n",
    "plt.scatter(y=data[1, :], x=data[0, :], c=\"red\");\n",
    "\n",
    "# Fit curve.\n",
    "#popt, pcov = curve_fit(fn, time_re_mrca, int_size)\n",
    "#plt.scatter(y=fn(x, *popt), x=x, c=\"green\");"
   ]
  },
  {
   "cell_type": "code",
   "execution_count": 12,
   "id": "2e2cbbcf-75a1-41dc-9ffc-74b81f335941",
   "metadata": {},
   "outputs": [],
   "source": [
    "def get_gene_coordinates():\n",
    "    return {\n",
    "        \"ORF1ab\": (266, 21555),\n",
    "        \"S\": (21563, 25384),\n",
    "        \"ORF3a\": (25393, 26220),\n",
    "        \"E\": (26245, 26472),\n",
    "        \"M\": (26523, 27191),\n",
    "        \"ORF6\": (27202, 27387),\n",
    "        \"ORF7a\": (27394, 27759),\n",
    "        \"ORF7b\": (27756, 27887),\n",
    "        \"ORF8\": (27894, 28259),\n",
    "        \"N\": (28274, 29533),\n",
    "        \"ORF10\": (29558, 29674),\n",
    "    }\n"
   ]
  },
  {
   "cell_type": "code",
   "execution_count": 13,
   "id": "ed445928-4224-43fe-a1f9-0857b8d7c055",
   "metadata": {},
   "outputs": [
    {
     "ename": "NameError",
     "evalue": "name 'ax1' is not defined",
     "output_type": "error",
     "traceback": [
      "\u001b[0;31m---------------------------------------------------------------------------\u001b[0m",
      "\u001b[0;31mNameError\u001b[0m                                 Traceback (most recent call last)",
      "Cell \u001b[0;32mIn[13], line 73\u001b[0m\n\u001b[1;32m     70\u001b[0m ax3 \u001b[38;5;241m=\u001b[39m fig\u001b[38;5;241m.\u001b[39madd_subplot(gs[\u001b[38;5;241m0\u001b[39m, :])\n\u001b[1;32m     71\u001b[0m ax4 \u001b[38;5;241m=\u001b[39m fig\u001b[38;5;241m.\u001b[39madd_subplot(gs[\u001b[38;5;241m1\u001b[39m, :])\n\u001b[0;32m---> 73\u001b[0m \u001b[43max1\u001b[49m\u001b[38;5;241m.\u001b[39mtext(x\u001b[38;5;241m=\u001b[39m\u001b[38;5;241m-\u001b[39m\u001b[38;5;241m0.02\u001b[39m, y\u001b[38;5;241m=\u001b[39m\u001b[38;5;241m1.1\u001b[39m, s\u001b[38;5;241m=\u001b[39m\u001b[38;5;124m\"\u001b[39m\u001b[38;5;124mD\u001b[39m\u001b[38;5;124m\"\u001b[39m, size\u001b[38;5;241m=\u001b[39m\u001b[38;5;241m20\u001b[39m, transform\u001b[38;5;241m=\u001b[39max1\u001b[38;5;241m.\u001b[39mtransAxes)\n\u001b[1;32m     74\u001b[0m ax2\u001b[38;5;241m.\u001b[39mtext(x\u001b[38;5;241m=\u001b[39m\u001b[38;5;241m-\u001b[39m\u001b[38;5;241m0.02\u001b[39m, y\u001b[38;5;241m=\u001b[39m\u001b[38;5;241m1.1\u001b[39m, s\u001b[38;5;241m=\u001b[39m\u001b[38;5;124m\"\u001b[39m\u001b[38;5;124mE\u001b[39m\u001b[38;5;124m\"\u001b[39m, size\u001b[38;5;241m=\u001b[39m\u001b[38;5;241m20\u001b[39m, transform\u001b[38;5;241m=\u001b[39max2\u001b[38;5;241m.\u001b[39mtransAxes)\n\u001b[1;32m     76\u001b[0m plot_breakpoints(df_hq, fig, ax3, ax4)\n",
      "\u001b[0;31mNameError\u001b[0m: name 'ax1' is not defined"
     ]
    },
    {
     "data": {
      "image/png": "[encoded data removed]",
      "text/plain": [
       "<Figure size 1200x900 with 2 Axes>"
      ]
     },
     "metadata": {},
     "output_type": "display_data"
    }
   ],
   "source": [
    "\n",
    "\n",
    "def plot_breakpoints(df, fig, ax1, ax2, xlim=None):\n",
    "    dfs = df.sort_values(\"interval_left\")\n",
    "    dfs[\"length\"] = df.interval_right - df.interval_left\n",
    "\n",
    "    intervals = [(row.interval_left, row.interval_right) for (_, row) in dfs.iterrows()]\n",
    "\n",
    "    norm = matplotlib.colors.Normalize(vmin=dfs.length.min(), vmax=dfs.length.max())\n",
    "    cmap = matplotlib.colormaps[\"viridis\"]\n",
    "\n",
    "    lines = []\n",
    "    colours = []\n",
    "    for j, (left, right) in enumerate(intervals):\n",
    "        assert left <= right\n",
    "        lines.append(((left, j), (right, j)))\n",
    "        colours.append(cmap(norm(right - left)))\n",
    "    lc = mc.LineCollection(lines, colors=colours)\n",
    "\n",
    "    ax1.add_collection(lc)\n",
    "    ax1.autoscale()\n",
    "\n",
    "    #im1 = ax1.imshow([[1, 2], [2, 3]])\n",
    "    axins1 = inset_axes(\n",
    "        ax1,\n",
    "        width=\"2.5%\", \n",
    "        height=\"50%\",  \n",
    "        loc=\"upper left\",\n",
    "    )\n",
    "    #axins1.xaxis.set_ticks_position(\"bottom\")\n",
    "    fig.colorbar(\n",
    "        matplotlib.cm.ScalarMappable(norm=norm, cmap=cmap), \n",
    "        cax=axins1, \n",
    "        orientation=\"vertical\",\n",
    "        format=mticker.FuncFormatter(lambda x, pos: f\"{int(x/1000)}kb\")\n",
    "    )\n",
    "\n",
    "\n",
    "\n",
    "    covers = np.zeros(L)\n",
    "    for left, right in intervals:\n",
    "        covers[left:right] += 1\n",
    "\n",
    "    ax2.set_ylabel(\"Number of intersecting intervals\")\n",
    "    ax2.plot(covers)\n",
    "\n",
    "    if xlim is not None:\n",
    "        for ax in [ax1, ax2]:\n",
    "            ax.set_xlim(xlim)\n",
    "\n",
    "    genes = get_gene_coordinates()\n",
    "    j = 0\n",
    "    mids = []\n",
    "    for gene, (left, right) in genes.items():\n",
    "        mids.append(left + (right - left) / 2)\n",
    "        j += 1\n",
    "        for ax in [ax1, ax2]:\n",
    "            if j % 2 == 1:\n",
    "                ax.axvspan(left, right, color=\"black\", alpha=0.1, zorder=0)\n",
    "            else:\n",
    "                ax.axvspan(left, right, color=\"green\", alpha=0.1, zorder=0)\n",
    "\n",
    "    for ax in reversed([ax1, ax2]):\n",
    "        axs = ax.secondary_xaxis(\"top\")\n",
    "        axs.tick_params(axis=\"x\")\n",
    "        axs.set_xticks(mids, minor=False)\n",
    "        axs.set_xticklabels([\"\" for _ in genes.keys()], rotation=\"vertical\")\n",
    "    axs.set_xticklabels(list(genes.keys()), rotation=\"vertical\")\n",
    "\n",
    "fig = plt.figure(figsize=(12, 9), constrained_layout=True)\n",
    "gs = fig.add_gridspec(nrows=3, ncols=3, wspace=0.05)\n",
    "ax3 = fig.add_subplot(gs[0, :])\n",
    "ax4 = fig.add_subplot(gs[1, :])\n",
    "\n",
    "ax1.text(x=-0.02, y=1.1, s=\"D\", size=20, transform=ax1.transAxes)\n",
    "ax2.text(x=-0.02, y=1.1, s=\"E\", size=20, transform=ax2.transAxes)\n",
    "\n",
    "plot_breakpoints(df_hq, fig, ax3, ax4)"
   ]
  },
  {
   "cell_type": "code",
   "execution_count": null,
   "id": "f8a07236-51d6-4bea-999f-814428f9ef34",
   "metadata": {},
   "outputs": [],
   "source": []
  },
  {
   "cell_type": "code",
   "execution_count": null,
   "id": "037c2ead",
   "metadata": {},
   "outputs": [],
   "source": [
    "\n",
    "\n",
    "L = 29904\n",
    "\n",
    "fig = plt.figure(figsize=(12, 9), constrained_layout=True)\n",
    "gs = fig.add_gridspec(nrows=3, ncols=3, wspace=0.05)\n",
    "ax0 = fig.add_subplot(gs[2, 0])\n",
    "ax1 = fig.add_subplot(gs[2, 1])\n",
    "ax2 = fig.add_subplot(gs[2, 2])\n",
    "\n",
    "# Distribution of size of breakpoint interval.\n",
    "\n",
    "ax0.set_ylabel(\"Number of recombination events\")\n",
    "ax0.set_xlabel(\"Size of breakpoint interval (kb)\")\n",
    "ax0.set_xlim(-1, 17)\n",
    "ax0.set_xticks(np.arange(0, 18, 2), labels=np.arange(0, 18, 2))\n",
    "ax0.hist(int_size, bins=50)\n",
    "quartiles = [1/4, 1/2, 3/4]\n",
    "texts = [\"Q1\", \"median\", \"Q3\"]\n",
    "for q, t in zip(quartiles, texts):\n",
    "    ls = \"solid\" if q == 1/2 else \"--\"\n",
    "    v = np.quantile(int_size, q)\n",
    "    ax0.axvline(v, linestyle=ls, color=\"orange\")\n",
    "    ax0.text(x=v, y=ax0.get_ylim()[1] + 1, s=t, ha=\"left\", rotation=20)\n",
    "\n",
    "# Trade-off between breakpoint interval size and RE-parent MRCA time.\n",
    "ax1.set_ylabel(\"Size of breakpoint interval (kb)\")\n",
    "ax1.set_xlabel(\"Time from recombination node to parents' MRCA (days)\")\n",
    "other_pairs = {\"color\": \"gray\", \"abbrev\": \"other\"}\n",
    "for i, row in enumerate(df_hq.itertuples()):\n",
    "    scorpio_pair = frozenset([row.parent_left_scorpio, row.parent_right_scorpio])\n",
    "    color = label_map.get(scorpio_pair, other_pairs)[\"color\"]\n",
    "    alpha = 0.6 if color != other_pairs[\"color\"] else 0.7\n",
    "    ax1.scatter(\n",
    "        y=int_size[i],\n",
    "        x=time_re_mrca[i],\n",
    "        s=14,\n",
    "        linewidths=0,\n",
    "        color=color,\n",
    "        alpha=alpha,\n",
    "    )\n",
    "\n",
    "#assert ts.sequence_length - 1 == 29903\n",
    "x = np.arange(1, 802, 10)\n",
    "# https://www.nature.com/articles/s41579-023-00878-2\n",
    "# No significant difference between non-VoCs and inside VoCs.\n",
    "# ~2 × 10–6 per site per day\n",
    "mu = (2 * 1e-6) * (L - 1)\n",
    "y = fn(x, mu=mu)\n",
    "ax1.plot(x, y/1000, color=\"black\")\n",
    "\n",
    "#empty_patch = mpatches.Patch(color='none', label='')\n",
    "lab_texts = [label_map[k][\"abbrev\"] for k in label_map.keys()] + [\"other\"]\n",
    "lab_cols = [label_map[k][\"color\"] for k in label_map.keys()] + [other_pairs[\"color\"]]\n",
    "ax1.legend(\n",
    "    handles=[\n",
    "        mpatches.Patch(label=t, color=c, alpha=0.6)\n",
    "        for t, c in zip(lab_texts, lab_cols)\n",
    "    ],\n",
    "    fontsize=7,\n",
    "    frameon=False,\n",
    ")\n",
    "\n",
    "# Distribution of size of time interval.\n",
    "\n",
    "ax2.set_ylabel(\"Number of recombination events\")\n",
    "ax2.set_xlabel(\"Size of time interval (months)\")\n",
    "label_days = np.arange(1, 265, 27)\n",
    "ax2.set_xticks(label_days, labels=np.arange(len(label_days)))\n",
    "ax2.set_xlim(-10, 253)\n",
    "ax2.hist(time_diffs, bins=50)\n",
    "quartiles = [1/4, 1/2, 3/4]\n",
    "texts = [\"Q1\", \"median\", \"Q3\"]\n",
    "for q, t in zip(quartiles, texts):\n",
    "    ls = \"solid\" if q == 1/2 else \"--\"\n",
    "    v = np.quantile(time_diffs, q)\n",
    "    ax2.axvline(v, linestyle=ls, color=\"orange\")\n",
    "    ax2.text(x=v, y=ax2.get_ylim()[1] + 1, s=t, ha=\"left\", rotation=20);\n",
    "\n",
    "\n",
    "ax3 = fig.add_subplot(gs[0, :])\n",
    "ax4 = fig.add_subplot(gs[1, :])\n",
    "\n",
    "ax3.text(x=-0.02, y=1.1, s=\"A\", size=20, transform=ax3.transAxes)\n",
    "ax4.text(x=-0.02, y=1.1, s=\"B\", size=20, transform=ax4.transAxes)\n",
    "ax0.text(x=-0.02, y=1.1, s=\"C\", size=20, transform=ax0.transAxes)\n",
    "ax1.text(x=-0.02, y=1.1, s=\"D\", size=20, transform=ax1.transAxes)\n",
    "ax2.text(x=-0.02, y=1.1, s=\"E\", size=20, transform=ax2.transAxes)\n",
    "\n",
    "plot_breakpoints(df_hq, fig, ax3, ax4)\n",
    "plt.savefig(\"../figures/recombinant_intervals.pdf\")"
   ]
  }
 ],
 "metadata": {
  "kernelspec": {
   "display_name": "Python 3 (ipykernel)",
   "language": "python",
   "name": "python3"
  },
  "language_info": {
   "codemirror_mode": {
    "name": "ipython",
    "version": 3
   },
   "file_extension": ".py",
   "mimetype": "text/x-python",
   "name": "python",
   "nbconvert_exporter": "python",
   "pygments_lexer": "ipython3",
   "version": "3.10.12"
  }
 },
 "nbformat": 4,
 "nbformat_minor": 5
}
