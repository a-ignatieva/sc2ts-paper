{
 "cells": [
  {
   "cell_type": "code",
   "execution_count": 1,
   "metadata": {},
   "outputs": [],
   "source": [
    "from pathlib import Path\n",
    "import matplotlib.pyplot as plt\n",
    "from collections import Counter, OrderedDict\n",
    "from itertools import permutations\n",
    "import numpy as np\n",
    "import pandas as pd\n",
    "import tszip\n",
    "import tskit\n",
    "import sc2ts"
   ]
  },
  {
   "cell_type": "code",
   "execution_count": 2,
   "metadata": {},
   "outputs": [],
   "source": [
    "def plot_mutational_spectra(\n",
    "    ax,\n",
    "    spectrum_alpha,\n",
    "    spectrum_delta,\n",
    "    spectrum_ba1,\n",
    "    spectrum_ba2,\n",
    "    spectrum_ba4,\n",
    "    spectrum_ba5,\n",
    "    title_text=\"\",\n",
    "    hide_xaxis=False,\n",
    "    show_legend=True,\n",
    "):\n",
    "    mut_types = spectrum_alpha.keys()\n",
    "    assert mut_types == spectrum_delta.keys()\n",
    "    assert mut_types == spectrum_ba1.keys()\n",
    "    assert mut_types == spectrum_ba2.keys()\n",
    "    assert mut_types == spectrum_ba4.keys()\n",
    "    assert mut_types == spectrum_ba5.keys()\n",
    "\n",
    "    values_alpha = spectrum_alpha.values()\n",
    "    values_delta = spectrum_delta.values()\n",
    "    values_ba1 = spectrum_ba1.values()\n",
    "    values_ba2 = spectrum_ba2.values()\n",
    "    values_ba4 = spectrum_ba4.values()\n",
    "    values_ba5 = spectrum_ba5.values()\n",
    "\n",
    "    bar_width = 0.1\n",
    "    x = np.arange(len(mut_types))\n",
    "\n",
    "    ax.bar(x - 5/2 * bar_width, values_alpha, width=bar_width, label=\"Alpha-like\")\n",
    "    ax.bar(x - 3/2 * bar_width, values_delta, width=bar_width, label=\"Delta-like\")\n",
    "    ax.bar(x - 1/2 * bar_width, values_ba1, width=bar_width, label=\"Omicron BA.1-like\")\n",
    "    ax.bar(x + 1/2 * bar_width, values_ba2, width=bar_width, label=\"Omicron BA.2-like\")\n",
    "    ax.bar(x + 3/2 * bar_width, values_ba4, width=bar_width, label=\"Omicron BA.4-like\")\n",
    "    ax.bar(x + 5/2 * bar_width, values_ba5, width=bar_width, label=\"Omicron BA.5-like\")\n",
    "\n",
    "    ax.grid(axis='y', linestyle='--', alpha=0.7)\n",
    "\n",
    "    ax.set_title(title_text, loc=\"left\")\n",
    "    ax.set_ylabel(\"Proportion of mutations\")\n",
    "    ax.set_xlabel(\"Mutation type\")\n",
    "    ax.set_xticks(x, mut_types)\n",
    "\n",
    "    if hide_xaxis:\n",
    "        ax.get_xaxis().set_visible(False)\n",
    "\n",
    "    if show_legend:\n",
    "        ax.legend(frameon=False)"
   ]
  },
  {
   "cell_type": "code",
   "execution_count": 3,
   "metadata": {},
   "outputs": [],
   "source": [
    "data_dir = Path(\"../data\")"
   ]
  },
  {
   "cell_type": "markdown",
   "metadata": {},
   "source": [
    "Examine the mutational spectra from the ARG"
   ]
  },
  {
   "cell_type": "code",
   "execution_count": 4,
   "metadata": {},
   "outputs": [
    {
     "data": {
      "application/vnd.jupyter.widget-view+json": {
       "model_id": "97a3b2309c714fc793a77227211db8ab",
       "version_major": 2,
       "version_minor": 0
      },
      "text/plain": [
       "Counting descendants :   0%|          | 0/2689054 [00:00<?, ?it/s]"
      ]
     },
     "metadata": {},
     "output_type": "display_data"
    },
    {
     "data": {
      "application/vnd.jupyter.widget-view+json": {
       "model_id": "5c87dff6b3af4407b7442b4bcd31176f",
       "version_major": 2,
       "version_minor": 0
      },
      "text/plain": [
       "Indexing metadata    :   0%|          | 0/2689054 [00:00<?, ?it/s]"
      ]
     },
     "metadata": {},
     "output_type": "display_data"
    },
    {
     "data": {
      "application/vnd.jupyter.widget-view+json": {
       "model_id": "7c9150cd78e44f0bb61949e874c4a91f",
       "version_major": 2,
       "version_minor": 0
      },
      "text/plain": [
       "Classifying mutations:   0%|          | 0/1922947 [00:00<?, ?it/s]"
      ]
     },
     "metadata": {},
     "output_type": "display_data"
    }
   ],
   "source": [
    "ts_file = data_dir / \"v1-beta1_2023-02-21.pp.md.bpshift.ts.dated.il.tsz\"\n",
    "ts = tszip.decompress(ts_file)\n",
    "ti = sc2ts.TreeInfo(ts)"
   ]
  },
  {
   "cell_type": "code",
   "execution_count": 5,
   "metadata": {},
   "outputs": [
    {
     "name": "stderr",
     "output_type": "stream",
     "text": [
      "/var/folders/4h/9ylb643n37d8jc7srjm7qzk00000gr/T/ipykernel_73483/2252330650.py:2: DtypeWarning: Columns (4,7) have mixed types. Specify dtype option on import or set low_memory=False.\n",
      "  report_df = pd.read_csv(report_file)\n"
     ]
    },
    {
     "data": {
      "application/vnd.microsoft.datawrangler.viewer.v0+json": {
       "columns": [
        {
         "name": "index",
         "rawType": "int64",
         "type": "integer"
        },
        {
         "name": "taxon",
         "rawType": "object",
         "type": "string"
        },
        {
         "name": "lineage",
         "rawType": "object",
         "type": "string"
        },
        {
         "name": "conflict",
         "rawType": "float64",
         "type": "float"
        },
        {
         "name": "ambiguity_score",
         "rawType": "float64",
         "type": "float"
        },
        {
         "name": "scorpio_call",
         "rawType": "object",
         "type": "unknown"
        },
        {
         "name": "scorpio_support",
         "rawType": "float64",
         "type": "float"
        },
        {
         "name": "scorpio_conflict",
         "rawType": "float64",
         "type": "float"
        },
        {
         "name": "scorpio_notes",
         "rawType": "object",
         "type": "unknown"
        },
        {
         "name": "version",
         "rawType": "object",
         "type": "string"
        },
        {
         "name": "pangolin_version",
         "rawType": "object",
         "type": "string"
        },
        {
         "name": "scorpio_version",
         "rawType": "object",
         "type": "string"
        },
        {
         "name": "constellation_version",
         "rawType": "object",
         "type": "string"
        },
        {
         "name": "is_designated",
         "rawType": "bool",
         "type": "boolean"
        },
        {
         "name": "qc_status",
         "rawType": "object",
         "type": "string"
        },
        {
         "name": "qc_notes",
         "rawType": "object",
         "type": "string"
        },
        {
         "name": "note",
         "rawType": "object",
         "type": "string"
        }
       ],
       "conversionMethod": "pd.DataFrame",
       "ref": "a2f3e179-7c23-47d6-892e-14849d1325e1",
       "rows": [
        [
         "0",
         "n0",
         "B",
         "0.0",
         null,
         null,
         null,
         null,
         null,
         "PANGO-v1.33",
         "4.3.1",
         "0.3.19",
         "v0.1.12",
         "True",
         "pass",
         "Ambiguous_content:0.02",
         "Assigned from designation hash."
        ],
        [
         "1",
         "n1",
         "B",
         "0.0",
         null,
         null,
         null,
         null,
         null,
         "PANGO-v1.33",
         "4.3.1",
         "0.3.19",
         "v0.1.12",
         "True",
         "pass",
         "Ambiguous_content:0.02",
         "Assigned from designation hash."
        ],
        [
         "2",
         "n2",
         "A",
         "0.0",
         null,
         null,
         null,
         null,
         null,
         "PANGO-v1.33",
         "4.3.1",
         "0.3.19",
         "v0.1.12",
         "True",
         "pass",
         "Ambiguous_content:0.02",
         "Assigned from designation hash."
        ],
        [
         "3",
         "n3",
         "B",
         "0.0",
         null,
         null,
         null,
         null,
         null,
         "PANGO-v1.33",
         "4.3.1",
         "0.3.19",
         "v0.1.12",
         "True",
         "pass",
         "Ambiguous_content:0.02",
         "Assigned from designation hash."
        ],
        [
         "4",
         "n4",
         "B",
         "0.0",
         null,
         null,
         null,
         null,
         null,
         "PANGO-v1.33",
         "4.3.1",
         "0.3.19",
         "v0.1.12",
         "True",
         "pass",
         "Ambiguous_content:0.02",
         "Assigned from designation hash."
        ]
       ],
       "shape": {
        "columns": 16,
        "rows": 5
       }
      },
      "text/html": [
       "<div>\n",
       "<style scoped>\n",
       "    .dataframe tbody tr th:only-of-type {\n",
       "        vertical-align: middle;\n",
       "    }\n",
       "\n",
       "    .dataframe tbody tr th {\n",
       "        vertical-align: top;\n",
       "    }\n",
       "\n",
       "    .dataframe thead th {\n",
       "        text-align: right;\n",
       "    }\n",
       "</style>\n",
       "<table border=\"1\" class=\"dataframe\">\n",
       "  <thead>\n",
       "    <tr style=\"text-align: right;\">\n",
       "      <th></th>\n",
       "      <th>taxon</th>\n",
       "      <th>lineage</th>\n",
       "      <th>conflict</th>\n",
       "      <th>ambiguity_score</th>\n",
       "      <th>scorpio_call</th>\n",
       "      <th>scorpio_support</th>\n",
       "      <th>scorpio_conflict</th>\n",
       "      <th>scorpio_notes</th>\n",
       "      <th>version</th>\n",
       "      <th>pangolin_version</th>\n",
       "      <th>scorpio_version</th>\n",
       "      <th>constellation_version</th>\n",
       "      <th>is_designated</th>\n",
       "      <th>qc_status</th>\n",
       "      <th>qc_notes</th>\n",
       "      <th>note</th>\n",
       "    </tr>\n",
       "  </thead>\n",
       "  <tbody>\n",
       "    <tr>\n",
       "      <th>0</th>\n",
       "      <td>n0</td>\n",
       "      <td>B</td>\n",
       "      <td>0.0</td>\n",
       "      <td>NaN</td>\n",
       "      <td>NaN</td>\n",
       "      <td>NaN</td>\n",
       "      <td>NaN</td>\n",
       "      <td>NaN</td>\n",
       "      <td>PANGO-v1.33</td>\n",
       "      <td>4.3.1</td>\n",
       "      <td>0.3.19</td>\n",
       "      <td>v0.1.12</td>\n",
       "      <td>True</td>\n",
       "      <td>pass</td>\n",
       "      <td>Ambiguous_content:0.02</td>\n",
       "      <td>Assigned from designation hash.</td>\n",
       "    </tr>\n",
       "    <tr>\n",
       "      <th>1</th>\n",
       "      <td>n1</td>\n",
       "      <td>B</td>\n",
       "      <td>0.0</td>\n",
       "      <td>NaN</td>\n",
       "      <td>NaN</td>\n",
       "      <td>NaN</td>\n",
       "      <td>NaN</td>\n",
       "      <td>NaN</td>\n",
       "      <td>PANGO-v1.33</td>\n",
       "      <td>4.3.1</td>\n",
       "      <td>0.3.19</td>\n",
       "      <td>v0.1.12</td>\n",
       "      <td>True</td>\n",
       "      <td>pass</td>\n",
       "      <td>Ambiguous_content:0.02</td>\n",
       "      <td>Assigned from designation hash.</td>\n",
       "    </tr>\n",
       "    <tr>\n",
       "      <th>2</th>\n",
       "      <td>n2</td>\n",
       "      <td>A</td>\n",
       "      <td>0.0</td>\n",
       "      <td>NaN</td>\n",
       "      <td>NaN</td>\n",
       "      <td>NaN</td>\n",
       "      <td>NaN</td>\n",
       "      <td>NaN</td>\n",
       "      <td>PANGO-v1.33</td>\n",
       "      <td>4.3.1</td>\n",
       "      <td>0.3.19</td>\n",
       "      <td>v0.1.12</td>\n",
       "      <td>True</td>\n",
       "      <td>pass</td>\n",
       "      <td>Ambiguous_content:0.02</td>\n",
       "      <td>Assigned from designation hash.</td>\n",
       "    </tr>\n",
       "    <tr>\n",
       "      <th>3</th>\n",
       "      <td>n3</td>\n",
       "      <td>B</td>\n",
       "      <td>0.0</td>\n",
       "      <td>NaN</td>\n",
       "      <td>NaN</td>\n",
       "      <td>NaN</td>\n",
       "      <td>NaN</td>\n",
       "      <td>NaN</td>\n",
       "      <td>PANGO-v1.33</td>\n",
       "      <td>4.3.1</td>\n",
       "      <td>0.3.19</td>\n",
       "      <td>v0.1.12</td>\n",
       "      <td>True</td>\n",
       "      <td>pass</td>\n",
       "      <td>Ambiguous_content:0.02</td>\n",
       "      <td>Assigned from designation hash.</td>\n",
       "    </tr>\n",
       "    <tr>\n",
       "      <th>4</th>\n",
       "      <td>n4</td>\n",
       "      <td>B</td>\n",
       "      <td>0.0</td>\n",
       "      <td>NaN</td>\n",
       "      <td>NaN</td>\n",
       "      <td>NaN</td>\n",
       "      <td>NaN</td>\n",
       "      <td>NaN</td>\n",
       "      <td>PANGO-v1.33</td>\n",
       "      <td>4.3.1</td>\n",
       "      <td>0.3.19</td>\n",
       "      <td>v0.1.12</td>\n",
       "      <td>True</td>\n",
       "      <td>pass</td>\n",
       "      <td>Ambiguous_content:0.02</td>\n",
       "      <td>Assigned from designation hash.</td>\n",
       "    </tr>\n",
       "  </tbody>\n",
       "</table>\n",
       "</div>"
      ],
      "text/plain": [
       "  taxon lineage  conflict  ambiguity_score scorpio_call  scorpio_support  \\\n",
       "0    n0       B       0.0              NaN          NaN              NaN   \n",
       "1    n1       B       0.0              NaN          NaN              NaN   \n",
       "2    n2       A       0.0              NaN          NaN              NaN   \n",
       "3    n3       B       0.0              NaN          NaN              NaN   \n",
       "4    n4       B       0.0              NaN          NaN              NaN   \n",
       "\n",
       "   scorpio_conflict scorpio_notes      version pangolin_version  \\\n",
       "0               NaN           NaN  PANGO-v1.33            4.3.1   \n",
       "1               NaN           NaN  PANGO-v1.33            4.3.1   \n",
       "2               NaN           NaN  PANGO-v1.33            4.3.1   \n",
       "3               NaN           NaN  PANGO-v1.33            4.3.1   \n",
       "4               NaN           NaN  PANGO-v1.33            4.3.1   \n",
       "\n",
       "  scorpio_version constellation_version  is_designated qc_status  \\\n",
       "0          0.3.19               v0.1.12           True      pass   \n",
       "1          0.3.19               v0.1.12           True      pass   \n",
       "2          0.3.19               v0.1.12           True      pass   \n",
       "3          0.3.19               v0.1.12           True      pass   \n",
       "4          0.3.19               v0.1.12           True      pass   \n",
       "\n",
       "                 qc_notes                             note  \n",
       "0  Ambiguous_content:0.02  Assigned from designation hash.  \n",
       "1  Ambiguous_content:0.02  Assigned from designation hash.  \n",
       "2  Ambiguous_content:0.02  Assigned from designation hash.  \n",
       "3  Ambiguous_content:0.02  Assigned from designation hash.  \n",
       "4  Ambiguous_content:0.02  Assigned from designation hash.  "
      ]
     },
     "execution_count": 5,
     "metadata": {},
     "output_type": "execute_result"
    }
   ],
   "source": [
    "report_file = data_dir / \"combined.lineage_report.csv.xz\"\n",
    "report_df = pd.read_csv(report_file)\n",
    "report_df.head(5)"
   ]
  },
  {
   "cell_type": "code",
   "execution_count": 6,
   "metadata": {},
   "outputs": [
    {
     "data": {
      "text/plain": [
       "Counter({'Delta (B.1.617.2-like)': 567464,\n",
       "         'Delta (AY.4-like)': 548624,\n",
       "         'Omicron (BA.1-like)': 361880,\n",
       "         'Omicron (BA.2-like)': 355515,\n",
       "         'Alpha (B.1.1.7-like)': 312583,\n",
       "         'Omicron (BA.5-like)': 187226,\n",
       "         'Delta (AY.4.2-like)': 91744,\n",
       "         'Omicron (BA.4-like)': 26722,\n",
       "         'Iota (B.1.526-like)': 10845,\n",
       "         'Epsilon (B.1.429-like)': 8393,\n",
       "         'Omicron (XBB-like)': 7608,\n",
       "         'Gamma (P.1-like)': 4907,\n",
       "         'Epsilon (B.1.427-like)': 4442,\n",
       "         'Beta (B.1.351-like)': 2868,\n",
       "         'Mu (B.1.621-like)': 1462,\n",
       "         'Delta (B.1.617.2-like) +K417N': 1400,\n",
       "         'Omicron (XE-like)': 1158,\n",
       "         'Eta (B.1.525-like)': 880,\n",
       "         'B.1.617.1-like': 491,\n",
       "         'Omicron (Unassigned)': 381,\n",
       "         'B.1.1.7-like+E484K': 316,\n",
       "         'Lambda (C.37-like)': 227,\n",
       "         'A.23.1-like': 186,\n",
       "         'Probable Omicron (Unassigned)': 168,\n",
       "         'AV.1-like': 143,\n",
       "         'A.23.1-like+E484K': 50,\n",
       "         'Omicron (XBB.1.5-like)': 2})"
      ]
     },
     "execution_count": 6,
     "metadata": {},
     "output_type": "execute_result"
    }
   ],
   "source": [
    "scorpio_counts = Counter(report_df.scorpio_call[~report_df.scorpio_call.isna()])\n",
    "scorpio_counts"
   ]
  },
  {
   "cell_type": "code",
   "execution_count": 7,
   "metadata": {},
   "outputs": [],
   "source": [
    "scorpio_groups = {\n",
    "    \"Alpha\": [\n",
    "        'Alpha (B.1.1.7-like)', # 312583\n",
    "        'B.1.1.7-like+E484K',    # 316\n",
    "    ],\n",
    "    \"Delta\": [\n",
    "        'Delta (B.1.617.2-like)',   # 567464\n",
    "        'Delta (AY.4-like)',    # 548624\n",
    "        'Delta (AY.4.2-like)',  # 91744\n",
    "        'Delta (B.1.617.2-like) +K417N',    # 1400\n",
    "    ],\n",
    "    \"Omicron BA.1\": [\n",
    "        'Omicron (BA.1-like)',  # 361880\n",
    "    ],\n",
    "    \"Omicron BA.2\": [\n",
    "        'Omicron (BA.2-like)',  # 355515\n",
    "    ],\n",
    "    \"Omicron BA.4\": [\n",
    "        'Omicron (BA.4-like)',  # 26722\n",
    "    ],\n",
    "    \"Omicron BA.5\": [\n",
    "        'Omicron (BA.5-like)',  # 187226\n",
    "    ]\n",
    "}"
   ]
  },
  {
   "cell_type": "code",
   "execution_count": 8,
   "metadata": {},
   "outputs": [
    {
     "name": "stdout",
     "output_type": "stream",
     "text": [
      "Total: 2497685\n",
      "VoC: 2453474 (98.0%)\n"
     ]
    }
   ],
   "source": [
    "total_count = sum(scorpio_counts.values())  # Excluding unassigned\n",
    "voc_count = 0\n",
    "for group in scorpio_groups:\n",
    "    for label in scorpio_groups[group]:\n",
    "        voc_count += scorpio_counts[label]\n",
    "print(f\"Total: {total_count}\")\n",
    "print(f\"VoC: {voc_count} ({round(voc_count / total_count, 2) * 100}%)\")"
   ]
  },
  {
   "cell_type": "code",
   "execution_count": 9,
   "metadata": {},
   "outputs": [],
   "source": [
    "def get_mutational_spectrum_arg(ts, ti, df, scorpio_labels):\n",
    "    # Format: nXXXX, where XXXX is the node ID.\n",
    "    node_ids = [int(x[1:]) for x in df.taxon[df.scorpio_call.isin(scorpio_labels)]]\n",
    "    is_focal_mut = np.isin(ts.mutations_node, node_ids)\n",
    "    spectrum = OrderedDict()\n",
    "    for p in permutations(tskit.ALLELES_ACGT, 2):\n",
    "        spectrum[p[0] + \">\" + p[1]] = 0\n",
    "    for a, b in zip(\n",
    "        ti.mutations_inherited_state[is_focal_mut],\n",
    "        ti.mutations_derived_state[is_focal_mut],\n",
    "    ):\n",
    "        if a == \"-\" or b == \"-\":\n",
    "            continue\n",
    "        spectrum[a + \">\" + b] += 1\n",
    "    tot_muts = sum(spectrum.values())\n",
    "    for x in spectrum:\n",
    "        spectrum[x] /= tot_muts\n",
    "    print(f\"Sum: {sum(spectrum.values())}\")\n",
    "    return spectrum"
   ]
  },
  {
   "cell_type": "code",
   "execution_count": 10,
   "metadata": {},
   "outputs": [
    {
     "name": "stdout",
     "output_type": "stream",
     "text": [
      "Sum: 1.0\n",
      "Sum: 1.0\n",
      "Sum: 1.0\n",
      "Sum: 1.0\n",
      "Sum: 1.0\n",
      "Sum: 1.0\n"
     ]
    }
   ],
   "source": [
    "spectrum_alpha_arg = get_mutational_spectrum_arg(ts, ti, report_df, scorpio_groups[\"Alpha\"])\n",
    "spectrum_delta_arg = get_mutational_spectrum_arg(ts, ti, report_df, scorpio_groups[\"Delta\"])\n",
    "spectrum_ba1_arg = get_mutational_spectrum_arg(ts, ti, report_df, scorpio_groups[\"Omicron BA.1\"])\n",
    "spectrum_ba2_arg = get_mutational_spectrum_arg(ts, ti, report_df, scorpio_groups[\"Omicron BA.2\"])\n",
    "spectrum_ba4_arg = get_mutational_spectrum_arg(ts, ti, report_df, scorpio_groups[\"Omicron BA.4\"])\n",
    "spectrum_ba5_arg = get_mutational_spectrum_arg(ts, ti, report_df, scorpio_groups[\"Omicron BA.5\"])"
   ]
  },
  {
   "cell_type": "markdown",
   "metadata": {},
   "source": [
    "Examine the mutational spectra from Bloom et al. (2023)\n",
    "https://pmc.ncbi.nlm.nih.gov/articles/PMC10124870/"
   ]
  },
  {
   "cell_type": "code",
   "execution_count": 11,
   "metadata": {},
   "outputs": [
    {
     "data": {
      "application/vnd.microsoft.datawrangler.viewer.v0+json": {
       "columns": [
        {
         "name": "index",
         "rawType": "int64",
         "type": "integer"
        },
        {
         "name": "protein",
         "rawType": "object",
         "type": "string"
        },
        {
         "name": "aa_mutation",
         "rawType": "object",
         "type": "string"
        },
        {
         "name": "nt_mutation",
         "rawType": "object",
         "type": "string"
        },
        {
         "name": "codon_change",
         "rawType": "object",
         "type": "string"
        },
        {
         "name": "synonymous",
         "rawType": "bool",
         "type": "boolean"
        },
        {
         "name": "count",
         "rawType": "int64",
         "type": "integer"
        },
        {
         "name": "nt_site",
         "rawType": "int64",
         "type": "integer"
        },
        {
         "name": "reference_nt",
         "rawType": "object",
         "type": "string"
        },
        {
         "name": "clade_founder_nt",
         "rawType": "object",
         "type": "string"
        },
        {
         "name": "exclude",
         "rawType": "bool",
         "type": "boolean"
        },
        {
         "name": "exclude_reason",
         "rawType": "object",
         "type": "unknown"
        },
        {
         "name": "clade",
         "rawType": "object",
         "type": "string"
        },
        {
         "name": "subset",
         "rawType": "object",
         "type": "string"
        },
        {
         "name": "codon_position",
         "rawType": "object",
         "type": "string"
        },
        {
         "name": "four_fold_degenerate",
         "rawType": "bool",
         "type": "boolean"
        }
       ],
       "conversionMethod": "pd.DataFrame",
       "ref": "333fae37-d6f5-410c-a104-ea494807c28f",
       "rows": [
        [
         "0",
         "ORF1ab",
         "P5401L",
         "C16466T",
         "CCA>CTA",
         "False",
         "62",
         "16466",
         "C",
         "C",
         "False",
         null,
         "19A",
         "all",
         "2",
         "False"
        ],
        [
         "1",
         "M",
         "I82T",
         "T26767C",
         "ATC>ACC",
         "False",
         "54",
         "26767",
         "T",
         "T",
         "False",
         null,
         "19A",
         "all",
         "2",
         "False"
        ],
        [
         "2",
         "ORF1a;ORF1ab",
         "F924F;F924F",
         "C3037T",
         "TTC>TTT;TTC>TTT",
         "True",
         "49",
         "3037",
         "C",
         "C",
         "False",
         null,
         "19A",
         "all",
         "3",
         "False"
        ],
        [
         "3",
         "ORF1ab",
         "A6319V",
         "C19220T",
         "GCT>GTT",
         "False",
         "46",
         "19220",
         "C",
         "C",
         "False",
         null,
         "19A",
         "all",
         "2",
         "False"
        ],
        [
         "4",
         "ORF1ab",
         "I5658V",
         "A17236G",
         "ATA>GTA",
         "False",
         "45",
         "17236",
         "A",
         "A",
         "False",
         null,
         "19A",
         "all",
         "1",
         "False"
        ]
       ],
       "shape": {
        "columns": 15,
        "rows": 5
       }
      },
      "text/html": [
       "<div>\n",
       "<style scoped>\n",
       "    .dataframe tbody tr th:only-of-type {\n",
       "        vertical-align: middle;\n",
       "    }\n",
       "\n",
       "    .dataframe tbody tr th {\n",
       "        vertical-align: top;\n",
       "    }\n",
       "\n",
       "    .dataframe thead th {\n",
       "        text-align: right;\n",
       "    }\n",
       "</style>\n",
       "<table border=\"1\" class=\"dataframe\">\n",
       "  <thead>\n",
       "    <tr style=\"text-align: right;\">\n",
       "      <th></th>\n",
       "      <th>protein</th>\n",
       "      <th>aa_mutation</th>\n",
       "      <th>nt_mutation</th>\n",
       "      <th>codon_change</th>\n",
       "      <th>synonymous</th>\n",
       "      <th>count</th>\n",
       "      <th>nt_site</th>\n",
       "      <th>reference_nt</th>\n",
       "      <th>clade_founder_nt</th>\n",
       "      <th>exclude</th>\n",
       "      <th>exclude_reason</th>\n",
       "      <th>clade</th>\n",
       "      <th>subset</th>\n",
       "      <th>codon_position</th>\n",
       "      <th>four_fold_degenerate</th>\n",
       "    </tr>\n",
       "  </thead>\n",
       "  <tbody>\n",
       "    <tr>\n",
       "      <th>0</th>\n",
       "      <td>ORF1ab</td>\n",
       "      <td>P5401L</td>\n",
       "      <td>C16466T</td>\n",
       "      <td>CCA&gt;CTA</td>\n",
       "      <td>False</td>\n",
       "      <td>62</td>\n",
       "      <td>16466</td>\n",
       "      <td>C</td>\n",
       "      <td>C</td>\n",
       "      <td>False</td>\n",
       "      <td>NaN</td>\n",
       "      <td>19A</td>\n",
       "      <td>all</td>\n",
       "      <td>2</td>\n",
       "      <td>False</td>\n",
       "    </tr>\n",
       "    <tr>\n",
       "      <th>1</th>\n",
       "      <td>M</td>\n",
       "      <td>I82T</td>\n",
       "      <td>T26767C</td>\n",
       "      <td>ATC&gt;ACC</td>\n",
       "      <td>False</td>\n",
       "      <td>54</td>\n",
       "      <td>26767</td>\n",
       "      <td>T</td>\n",
       "      <td>T</td>\n",
       "      <td>False</td>\n",
       "      <td>NaN</td>\n",
       "      <td>19A</td>\n",
       "      <td>all</td>\n",
       "      <td>2</td>\n",
       "      <td>False</td>\n",
       "    </tr>\n",
       "    <tr>\n",
       "      <th>2</th>\n",
       "      <td>ORF1a;ORF1ab</td>\n",
       "      <td>F924F;F924F</td>\n",
       "      <td>C3037T</td>\n",
       "      <td>TTC&gt;TTT;TTC&gt;TTT</td>\n",
       "      <td>True</td>\n",
       "      <td>49</td>\n",
       "      <td>3037</td>\n",
       "      <td>C</td>\n",
       "      <td>C</td>\n",
       "      <td>False</td>\n",
       "      <td>NaN</td>\n",
       "      <td>19A</td>\n",
       "      <td>all</td>\n",
       "      <td>3</td>\n",
       "      <td>False</td>\n",
       "    </tr>\n",
       "    <tr>\n",
       "      <th>3</th>\n",
       "      <td>ORF1ab</td>\n",
       "      <td>A6319V</td>\n",
       "      <td>C19220T</td>\n",
       "      <td>GCT&gt;GTT</td>\n",
       "      <td>False</td>\n",
       "      <td>46</td>\n",
       "      <td>19220</td>\n",
       "      <td>C</td>\n",
       "      <td>C</td>\n",
       "      <td>False</td>\n",
       "      <td>NaN</td>\n",
       "      <td>19A</td>\n",
       "      <td>all</td>\n",
       "      <td>2</td>\n",
       "      <td>False</td>\n",
       "    </tr>\n",
       "    <tr>\n",
       "      <th>4</th>\n",
       "      <td>ORF1ab</td>\n",
       "      <td>I5658V</td>\n",
       "      <td>A17236G</td>\n",
       "      <td>ATA&gt;GTA</td>\n",
       "      <td>False</td>\n",
       "      <td>45</td>\n",
       "      <td>17236</td>\n",
       "      <td>A</td>\n",
       "      <td>A</td>\n",
       "      <td>False</td>\n",
       "      <td>NaN</td>\n",
       "      <td>19A</td>\n",
       "      <td>all</td>\n",
       "      <td>1</td>\n",
       "      <td>False</td>\n",
       "    </tr>\n",
       "  </tbody>\n",
       "</table>\n",
       "</div>"
      ],
      "text/plain": [
       "        protein  aa_mutation nt_mutation     codon_change  synonymous  count  \\\n",
       "0        ORF1ab       P5401L     C16466T          CCA>CTA       False     62   \n",
       "1             M         I82T     T26767C          ATC>ACC       False     54   \n",
       "2  ORF1a;ORF1ab  F924F;F924F      C3037T  TTC>TTT;TTC>TTT        True     49   \n",
       "3        ORF1ab       A6319V     C19220T          GCT>GTT       False     46   \n",
       "4        ORF1ab       I5658V     A17236G          ATA>GTA       False     45   \n",
       "\n",
       "   nt_site reference_nt clade_founder_nt  exclude exclude_reason clade subset  \\\n",
       "0    16466            C                C    False            NaN   19A    all   \n",
       "1    26767            T                T    False            NaN   19A    all   \n",
       "2     3037            C                C    False            NaN   19A    all   \n",
       "3    19220            C                C    False            NaN   19A    all   \n",
       "4    17236            A                A    False            NaN   19A    all   \n",
       "\n",
       "  codon_position  four_fold_degenerate  \n",
       "0              2                 False  \n",
       "1              2                 False  \n",
       "2              3                 False  \n",
       "3              2                 False  \n",
       "4              1                 False  "
      ]
     },
     "execution_count": 11,
     "metadata": {},
     "output_type": "execute_result"
    }
   ],
   "source": [
    "bloom_url = \"https://media.githubusercontent.com/media/jbloomlab/SARS2-mut-spectrum/refs/heads/main/results/mutation_counts/aggregated.csv\"\n",
    "bloom_df = pd.read_csv(bloom_url)\n",
    "bloom_df = bloom_df[~bloom_df.exclude].reset_index(drop=True)\n",
    "bloom_df.head(5)"
   ]
  },
  {
   "cell_type": "code",
   "execution_count": 12,
   "metadata": {},
   "outputs": [],
   "source": [
    "def get_mutational_spectrum_bloom(df, nextclade_labels, only_degenerate=False):\n",
    "    df_tmp = df[df.clade.isin(nextclade_labels)].reset_index(drop=True)\n",
    "    if only_degenerate:\n",
    "        df_tmp = df_tmp[df_tmp.four_fold_degenerate].reset_index(drop=True)\n",
    "    spectrum = OrderedDict()\n",
    "    for p in permutations(tskit.ALLELES_ACGT, 2):\n",
    "        spectrum[p[0] + \">\" + p[1]] = 0\n",
    "    for row in df_tmp.itertuples():\n",
    "        a = row.nt_mutation[0]\n",
    "        b = row.nt_mutation[-1]\n",
    "        spectrum[a + \">\" + b] += row.count  # NOTE: Important\n",
    "    tot_muts = sum(spectrum.values())\n",
    "    for x in spectrum:\n",
    "        spectrum[x] /= tot_muts\n",
    "    print(f\"Sum: {sum(spectrum.values())}\")\n",
    "    return spectrum"
   ]
  },
  {
   "cell_type": "code",
   "execution_count": 13,
   "metadata": {},
   "outputs": [
    {
     "name": "stdout",
     "output_type": "stream",
     "text": [
      "Sum: 0.9999999999999999\n",
      "Sum: 1.0\n",
      "Sum: 1.0\n",
      "Sum: 1.0\n",
      "Sum: 1.0\n",
      "Sum: 1.0\n"
     ]
    }
   ],
   "source": [
    "# Including non-degenerate sites\n",
    "spectrum_alpha_bloom = get_mutational_spectrum_bloom(bloom_df, nextclade_labels=[\"20I\"])\n",
    "spectrum_delta_bloom = get_mutational_spectrum_bloom(bloom_df, nextclade_labels=[\"21I\", \"21J\"])\n",
    "spectrum_ba1_bloom = get_mutational_spectrum_bloom(bloom_df, nextclade_labels=[\"21K\"])\n",
    "spectrum_ba2_bloom = get_mutational_spectrum_bloom(bloom_df, nextclade_labels=[\"21L\"])\n",
    "spectrum_ba4_bloom = get_mutational_spectrum_bloom(bloom_df, nextclade_labels=[\"22A\"])\n",
    "spectrum_ba5_bloom = get_mutational_spectrum_bloom(bloom_df, nextclade_labels=[\"22B\"])"
   ]
  },
  {
   "cell_type": "code",
   "execution_count": 14,
   "metadata": {},
   "outputs": [
    {
     "name": "stdout",
     "output_type": "stream",
     "text": [
      "Sum: 1.0\n",
      "Sum: 1.0\n",
      "Sum: 1.0\n",
      "Sum: 1.0\n",
      "Sum: 1.0\n",
      "Sum: 1.0\n"
     ]
    }
   ],
   "source": [
    "# Excluding non-degenerate sites\n",
    "spectrum_alpha_bloom_deg = get_mutational_spectrum_bloom(bloom_df, nextclade_labels=[\"20I\"], only_degenerate=True)\n",
    "spectrum_delta_bloom_deg = get_mutational_spectrum_bloom(bloom_df, nextclade_labels=[\"21I\", \"21J\"], only_degenerate=True)\n",
    "spectrum_ba1_bloom_deg = get_mutational_spectrum_bloom(bloom_df, nextclade_labels=[\"21K\"], only_degenerate=True)\n",
    "spectrum_ba2_bloom_deg = get_mutational_spectrum_bloom(bloom_df, nextclade_labels=[\"21L\"], only_degenerate=True)\n",
    "spectrum_ba4_bloom_deg = get_mutational_spectrum_bloom(bloom_df, nextclade_labels=[\"22A\"], only_degenerate=True)\n",
    "spectrum_ba5_bloom_deg = get_mutational_spectrum_bloom(bloom_df, nextclade_labels=[\"22B\"],only_degenerate=True)"
   ]
  },
  {
   "cell_type": "code",
   "execution_count": 15,
   "metadata": {},
   "outputs": [
    {
     "data": {
      "image/png": "[encoded data removed]",
      "text/plain": [
       "<Figure size 800x500 with 2 Axes>"
      ]
     },
     "metadata": {},
     "output_type": "display_data"
    }
   ],
   "source": [
    "# The mutational spectra including and excluding non-degenerate sites are different.\n",
    "_, ax = plt.subplots(nrows=2, ncols=1, sharex=True, sharey=True, figsize=(8, 5))\n",
    "\n",
    "plot_mutational_spectra(\n",
    "    ax=ax[0],\n",
    "    spectrum_alpha=spectrum_alpha_bloom,\n",
    "    spectrum_delta=spectrum_delta_bloom,\n",
    "    spectrum_ba1=spectrum_ba1_bloom,\n",
    "    spectrum_ba2=spectrum_ba2_bloom,\n",
    "    spectrum_ba4=spectrum_ba4_bloom,\n",
    "    spectrum_ba5=spectrum_ba5_bloom,\n",
    "    title_text=\"All sites\",\n",
    "    hide_xaxis=True,\n",
    ")\n",
    "\n",
    "# This is shown in Figure 1 of Bloom et al.\n",
    "plot_mutational_spectra(\n",
    "    ax=ax[1],\n",
    "    spectrum_alpha=spectrum_alpha_bloom_deg,\n",
    "    spectrum_delta=spectrum_delta_bloom_deg,\n",
    "    spectrum_ba1=spectrum_ba1_bloom_deg,\n",
    "    spectrum_ba2=spectrum_ba2_bloom_deg,\n",
    "    spectrum_ba4=spectrum_ba4_bloom_deg,\n",
    "    spectrum_ba5=spectrum_ba5_bloom_deg,\n",
    "    title_text=\"Only degenerate sites\",\n",
    "    show_legend=False,\n",
    ")"
   ]
  },
  {
   "cell_type": "markdown",
   "metadata": {},
   "source": [
    "Compare the all-site mutational spectra from the ARG and Bloom et al."
   ]
  },
  {
   "cell_type": "code",
   "execution_count": 16,
   "metadata": {},
   "outputs": [
    {
     "data": {
      "image/png": "[encoded data removed]",
      "text/plain": [
       "<Figure size 800x500 with 2 Axes>"
      ]
     },
     "metadata": {},
     "output_type": "display_data"
    }
   ],
   "source": [
    "_, ax = plt.subplots(nrows=2, ncols=1, sharex=True, sharey=True, figsize=(8, 5))\n",
    "\n",
    "plot_mutational_spectra(\n",
    "    ax=ax[0],\n",
    "    spectrum_alpha=spectrum_alpha_arg,\n",
    "    spectrum_delta=spectrum_delta_arg,\n",
    "    spectrum_ba1=spectrum_ba1_arg,\n",
    "    spectrum_ba2=spectrum_ba2_arg,\n",
    "    spectrum_ba4=spectrum_ba4_arg,\n",
    "    spectrum_ba5=spectrum_ba5_arg,\n",
    "    title_text=\"A) ARG\",\n",
    "    hide_xaxis=True,\n",
    ")\n",
    "\n",
    "# This is shown in Figure 1 of Bloom et al.\n",
    "plot_mutational_spectra(\n",
    "    ax=ax[1],\n",
    "    spectrum_alpha=spectrum_alpha_bloom,\n",
    "    spectrum_delta=spectrum_delta_bloom,\n",
    "    spectrum_ba1=spectrum_ba1_bloom,\n",
    "    spectrum_ba2=spectrum_ba2_bloom,\n",
    "    spectrum_ba4=spectrum_ba4_bloom,\n",
    "    spectrum_ba5=spectrum_ba5_bloom,\n",
    "    title_text=\"B) Bloom et al. (2023)\",\n",
    "    show_legend=False,\n",
    ")"
   ]
  },
  {
   "cell_type": "code",
   "execution_count": null,
   "metadata": {},
   "outputs": [],
   "source": []
  }
 ],
 "metadata": {
  "kernelspec": {
   "display_name": "sc2ts",
   "language": "python",
   "name": "python3"
  },
  "language_info": {
   "codemirror_mode": {
    "name": "ipython",
    "version": 3
   },
   "file_extension": ".py",
   "mimetype": "text/x-python",
   "name": "python",
   "nbconvert_exporter": "python",
   "pygments_lexer": "ipython3",
   "version": "3.12.9"
  }
 },
 "nbformat": 4,
 "nbformat_minor": 2
}
