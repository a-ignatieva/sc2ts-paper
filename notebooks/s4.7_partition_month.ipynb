{
 "cells": [
  {
   "cell_type": "code",
   "execution_count": null,
   "id": "c74a2332-8ead-4852-8cf2-2488036e88ce",
   "metadata": {},
   "outputs": [],
   "source": [
    "import pandas as pd\n",
    "from datetime import datetime\n",
    "import os"
   ]
  },
  {
   "cell_type": "code",
   "execution_count": null,
   "id": "e0e70e81-2c11-47b5-bfd6-8f2e6e7aa7e8",
   "metadata": {},
   "outputs": [],
   "source": [
    "analysis_dir=\"../\"\n",
    "input_metadata = os.path.join(analysis_dir, \"results\", \"minimal.filtered.tsv\")\n",
    "output_dir = os.path.join(analysis_dir, \"results\", \"partition\")"
   ]
  },
  {
   "cell_type": "code",
   "execution_count": null,
   "id": "554a25b1-e986-42f9-a582-e4af64b27222",
   "metadata": {},
   "outputs": [],
   "source": [
    "if not os.path.exists(output_dir):\n",
    "    os.mkdir(output_dir)"
   ]
  },
  {
   "cell_type": "code",
   "execution_count": null,
   "id": "c7e97556-8ecd-4187-95f8-1a7ea3241fb0",
   "metadata": {},
   "outputs": [],
   "source": [
    "metadata_df = pd.read_csv(input_metadata, sep=\"\\t\")"
   ]
  },
  {
   "cell_type": "code",
   "execution_count": null,
   "id": "5d21e046-c575-4ee4-b417-a2eabf67eb36",
   "metadata": {},
   "outputs": [],
   "source": [
    "metadata_df[\"year_month\"] = [\"{}-{}\".format(d.split(\"-\")[0], d.split(\"-\")[1]) for d in metadata_df[\"date\"]]"
   ]
  },
  {
   "cell_type": "code",
   "execution_count": null,
   "id": "df027eb7-9b9f-4aac-bf31-b4589c44dd8d",
   "metadata": {},
   "outputs": [],
   "source": [
    "for year_month in sorted(set(metadata_df[\"year_month\"])):\n",
    "    print(year_month)\n",
    "    year_month_df = metadata_df[metadata_df[\"year_month\"] == year_month]\n",
    "    year_month_strains = list(year_month_df[\"strain\"])\n",
    "    \n",
    "    # Export\n",
    "    outdir_year_month = os.path.join(output_dir, year_month)\n",
    "    if not os.path.exists(outdir_year_month):\n",
    "        os.mkdir(outdir_year_month)\n",
    "\n",
    "    outpath_strains = os.path.join(outdir_year_month, \"strains.txt\")\n",
    "    with open(outpath_strains, \"w\") as outfile:\n",
    "        outfile.write(\"\\n\".join(year_month_strains) + \"\\n\")"
   ]
  }
 ],
 "metadata": {
  "kernelspec": {
   "display_name": "Python 3 (ipykernel)",
   "language": "python",
   "name": "python3"
  },
  "language_info": {
   "codemirror_mode": {
    "name": "ipython",
    "version": 3
   },
   "file_extension": ".py",
   "mimetype": "text/x-python",
   "name": "python",
   "nbconvert_exporter": "python",
   "pygments_lexer": "ipython3",
   "version": "3.10.6"
  }
 },
 "nbformat": 4,
 "nbformat_minor": 5
}
