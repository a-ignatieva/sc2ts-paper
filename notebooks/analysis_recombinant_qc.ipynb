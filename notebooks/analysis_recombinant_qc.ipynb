{
 "cells": [
  {
   "cell_type": "code",
   "execution_count": 1,
   "metadata": {},
   "outputs": [],
   "source": [
    "from pathlib import Path\n",
    "import numpy as np\n",
    "import pandas as pd\n",
    "\n",
    "import tszip\n",
    "import sc2ts"
   ]
  },
  {
   "cell_type": "code",
   "execution_count": 2,
   "metadata": {},
   "outputs": [],
   "source": [
    "data_dir = Path(\"../data\")"
   ]
  },
  {
   "cell_type": "code",
   "execution_count": 3,
   "metadata": {},
   "outputs": [
    {
     "data": {
      "text/html": [
       "<div>\n",
       "<style scoped>\n",
       "    .dataframe tbody tr th:only-of-type {\n",
       "        vertical-align: middle;\n",
       "    }\n",
       "\n",
       "    .dataframe tbody tr th {\n",
       "        vertical-align: top;\n",
       "    }\n",
       "\n",
       "    .dataframe thead th {\n",
       "        text-align: right;\n",
       "    }\n",
       "</style>\n",
       "<table border=\"1\" class=\"dataframe\">\n",
       "  <thead>\n",
       "    <tr style=\"text-align: right;\">\n",
       "      <th></th>\n",
       "      <th>recombinant</th>\n",
       "      <th>sample_id</th>\n",
       "      <th>num_descendant_samples</th>\n",
       "      <th>num_samples</th>\n",
       "      <th>distinct_sample_pango</th>\n",
       "      <th>interval_left</th>\n",
       "      <th>interval_right</th>\n",
       "      <th>num_mutations</th>\n",
       "      <th>Viridian_amplicon_scheme</th>\n",
       "      <th>Artic_primer_version</th>\n",
       "      <th>...</th>\n",
       "      <th>parent_mrca_pango</th>\n",
       "      <th>parent_mrca_scorpio</th>\n",
       "      <th>parent_mrca_time</th>\n",
       "      <th>parent_mrca_date</th>\n",
       "      <th>is_rebar_recombinant</th>\n",
       "      <th>parent_pangonet_distance</th>\n",
       "      <th>net_min_supporting_loci_lft</th>\n",
       "      <th>net_min_supporting_loci_rgt</th>\n",
       "      <th>net_min_supporting_loci_lft_rgt_ge_4</th>\n",
       "      <th>k1000_muts</th>\n",
       "    </tr>\n",
       "  </thead>\n",
       "  <tbody>\n",
       "    <tr>\n",
       "      <th>0</th>\n",
       "      <td>1280342</td>\n",
       "      <td>ERR9939974</td>\n",
       "      <td>1</td>\n",
       "      <td>1</td>\n",
       "      <td>1</td>\n",
       "      <td>695</td>\n",
       "      <td>958</td>\n",
       "      <td>1</td>\n",
       "      <td>COVID-ARTIC-V4.1</td>\n",
       "      <td>.</td>\n",
       "      <td>...</td>\n",
       "      <td>B.1.1.529</td>\n",
       "      <td>Probable Omicron (Unassigned)</td>\n",
       "      <td>970.041636</td>\n",
       "      <td>2020-06-26</td>\n",
       "      <td>False</td>\n",
       "      <td>5</td>\n",
       "      <td>2</td>\n",
       "      <td>16</td>\n",
       "      <td>False</td>\n",
       "      <td>8</td>\n",
       "    </tr>\n",
       "  </tbody>\n",
       "</table>\n",
       "<p>1 rows × 48 columns</p>\n",
       "</div>"
      ],
      "text/plain": [
       "   recombinant   sample_id  num_descendant_samples  num_samples  \\\n",
       "0      1280342  ERR9939974                       1            1   \n",
       "\n",
       "   distinct_sample_pango  interval_left  interval_right  num_mutations  \\\n",
       "0                      1            695             958              1   \n",
       "\n",
       "  Viridian_amplicon_scheme Artic_primer_version  ... parent_mrca_pango  \\\n",
       "0         COVID-ARTIC-V4.1                    .  ...         B.1.1.529   \n",
       "\n",
       "             parent_mrca_scorpio  parent_mrca_time parent_mrca_date  \\\n",
       "0  Probable Omicron (Unassigned)        970.041636       2020-06-26   \n",
       "\n",
       "  is_rebar_recombinant  parent_pangonet_distance net_min_supporting_loci_lft  \\\n",
       "0                False                         5                           2   \n",
       "\n",
       "   net_min_supporting_loci_rgt net_min_supporting_loci_lft_rgt_ge_4 k1000_muts  \n",
       "0                           16                                False          8  \n",
       "\n",
       "[1 rows x 48 columns]"
      ]
     },
     "execution_count": 3,
     "metadata": {},
     "output_type": "execute_result"
    }
   ],
   "source": [
    "recomb_df = pd.read_csv(data_dir / \"recombinants.csv\")\n",
    "recomb_df.head(1)"
   ]
  },
  {
   "cell_type": "code",
   "execution_count": 4,
   "metadata": {},
   "outputs": [],
   "source": [
    "ts = tszip.decompress(data_dir / \"sc2ts_viridian_v1.2.trees.tsz\")"
   ]
  },
  {
   "cell_type": "code",
   "execution_count": 5,
   "metadata": {},
   "outputs": [],
   "source": [
    "samples = recomb_df.sample_id.to_list()\n",
    "#samples"
   ]
  },
  {
   "cell_type": "code",
   "execution_count": 6,
   "metadata": {},
   "outputs": [],
   "source": [
    "node_df = sc2ts.node_data(ts)\n",
    "sample_nodes = node_df[node_df.sample_id.isin(samples)].node_id.to_list()\n",
    "#sample_nodes"
   ]
  },
  {
   "cell_type": "markdown",
   "metadata": {},
   "source": [
    "### MNS (A507T-T508C-G509A)"
   ]
  },
  {
   "cell_type": "code",
   "execution_count": 7,
   "metadata": {},
   "outputs": [
    {
     "name": "stdout",
     "output_type": "stream",
     "text": [
      "507.0 ('A', 'G', 'T', 'C')\n",
      "508.0 ('T', 'A', 'C', 'G')\n",
      "509.0 ('G', 'A', 'T', 'C')\n"
     ]
    }
   ],
   "source": [
    "coords = [507, 510]\n",
    "\n",
    "len_region = coords[1] - coords[0]\n",
    "gt = np.zeros((len_region, len(recomb_df)), dtype=np.int32)\n",
    "\n",
    "i = 0\n",
    "for var in ts.variants(samples=sample_nodes, left=coords[0], right=coords[1]):\n",
    "    print(var.position, var.alleles)\n",
    "    gt[i, :] = var.genotypes\n",
    "    i += 1"
   ]
  },
  {
   "cell_type": "code",
   "execution_count": 8,
   "metadata": {},
   "outputs": [],
   "source": [
    "bases = [2, 2, 1]\n",
    "is_mns = np.logical_and.reduce([gt[i, :] == bases[i] for i in range(len_region)])"
   ]
  },
  {
   "cell_type": "code",
   "execution_count": 9,
   "metadata": {},
   "outputs": [
    {
     "name": "stdout",
     "output_type": "stream",
     "text": [
      "9\n"
     ]
    }
   ],
   "source": [
    "# How many recombination events are associated with this MNS?\n",
    "print(sum(is_mns))"
   ]
  },
  {
   "cell_type": "code",
   "execution_count": 10,
   "metadata": {},
   "outputs": [
    {
     "name": "stdout",
     "output_type": "stream",
     "text": [
      "6\n"
     ]
    }
   ],
   "source": [
    "# How many with this MNS failed QC?\n",
    "print(sum(np.logical_and(is_mns, ~recomb_df.net_min_supporting_loci_lft_rgt_ge_4)))"
   ]
  },
  {
   "cell_type": "markdown",
   "metadata": {},
   "source": [
    "### Delta lineage-defining deletion"
   ]
  },
  {
   "cell_type": "code",
   "execution_count": 11,
   "metadata": {},
   "outputs": [
    {
     "name": "stdout",
     "output_type": "stream",
     "text": [
      "22029.0 ('A', '-', 'G', 'C', 'T')\n",
      "22030.0 ('G', '-', 'T', 'A', 'C')\n",
      "22031.0 ('T', 'G', '-', 'C', 'A')\n",
      "22032.0 ('T', 'C', '-', 'G', 'A')\n",
      "22033.0 ('C', '-', 'A', 'T', 'G')\n",
      "22034.0 ('A', '-', 'G', 'C')\n"
     ]
    },
    {
     "data": {
      "text/plain": [
       "array([1, 1, 2, 2, 1, 1], dtype=int32)"
      ]
     },
     "execution_count": 11,
     "metadata": {},
     "output_type": "execute_result"
    }
   ],
   "source": [
    "coords = [22029, 22035]\n",
    "\n",
    "len_region = coords[1] - coords[0]\n",
    "gt = np.zeros((len_region, len(recomb_df)), dtype=np.int32)\n",
    "index_del = np.zeros(len_region, dtype=np.int32)\n",
    "\n",
    "i = 0\n",
    "for var in ts.variants(samples=sample_nodes, left=coords[0], right=coords[1]):\n",
    "    print(var.position, var.alleles)\n",
    "    index_del[i] = var.alleles.index('-')\n",
    "    gt[i, :] = var.genotypes\n",
    "    i += 1\n",
    "\n",
    "index_del"
   ]
  },
  {
   "cell_type": "code",
   "execution_count": 12,
   "metadata": {},
   "outputs": [],
   "source": [
    "has_del = np.logical_and.reduce([gt[i, :] == index_del[i] for i in range(len_region)])"
   ]
  },
  {
   "cell_type": "code",
   "execution_count": 13,
   "metadata": {},
   "outputs": [
    {
     "name": "stdout",
     "output_type": "stream",
     "text": [
      "151\n"
     ]
    }
   ],
   "source": [
    "# How many recombination events are associated with this deletion?\n",
    "print(sum(has_del))"
   ]
  },
  {
   "cell_type": "code",
   "execution_count": 14,
   "metadata": {},
   "outputs": [
    {
     "data": {
      "text/plain": [
       "71"
      ]
     },
     "execution_count": 14,
     "metadata": {},
     "output_type": "execute_result"
    }
   ],
   "source": [
    "# How many with this deletion failed QC?\n",
    "num_events_qc_fail_del = sum(has_del & ~recomb_df.net_min_supporting_loci_lft_rgt_ge_4)\n",
    "num_events_qc_fail_del"
   ]
  },
  {
   "cell_type": "code",
   "execution_count": 15,
   "metadata": {},
   "outputs": [
    {
     "data": {
      "text/plain": [
       "501"
      ]
     },
     "execution_count": 15,
     "metadata": {},
     "output_type": "execute_result"
    }
   ],
   "source": [
    "# How many recombination events failed QC?\n",
    "num_events_qc_fail = sum(~recomb_df.net_min_supporting_loci_lft_rgt_ge_4)\n",
    "num_events_qc_fail"
   ]
  },
  {
   "cell_type": "code",
   "execution_count": 16,
   "metadata": {},
   "outputs": [
    {
     "data": {
      "text/plain": [
       "0.14171656686626746"
      ]
     },
     "execution_count": 16,
     "metadata": {},
     "output_type": "execute_result"
    }
   ],
   "source": [
    "num_events_qc_fail_del / num_events_qc_fail"
   ]
  },
  {
   "cell_type": "markdown",
   "metadata": {},
   "source": [
    "### AmpliSeq"
   ]
  },
  {
   "cell_type": "code",
   "execution_count": 17,
   "metadata": {},
   "outputs": [
    {
     "data": {
      "text/plain": [
       "335"
      ]
     },
     "execution_count": 17,
     "metadata": {},
     "output_type": "execute_result"
    }
   ],
   "source": [
    "# How many QC-failing recombination events are associated with AmpliSeq?\n",
    "num_events_qc_fail_ampliseq = sum(np.logical_and(\n",
    "    recomb_df.Viridian_amplicon_scheme == \"COVID-AMPLISEQ-V1\",\n",
    "    ~recomb_df.net_min_supporting_loci_lft_rgt_ge_4,\n",
    "))\n",
    "num_events_qc_fail_ampliseq"
   ]
  },
  {
   "cell_type": "code",
   "execution_count": 18,
   "metadata": {},
   "outputs": [
    {
     "data": {
      "text/plain": [
       "0.6686626746506986"
      ]
     },
     "execution_count": 18,
     "metadata": {},
     "output_type": "execute_result"
    }
   ],
   "source": [
    "num_events_qc_fail_ampliseq / num_events_qc_fail"
   ]
  },
  {
   "cell_type": "code",
   "execution_count": null,
   "metadata": {},
   "outputs": [],
   "source": []
  }
 ],
 "metadata": {
  "kernelspec": {
   "display_name": "Python 3",
   "language": "python",
   "name": "python3"
  },
  "language_info": {
   "codemirror_mode": {
    "name": "ipython",
    "version": 3
   },
   "file_extension": ".py",
   "mimetype": "text/x-python",
   "name": "python",
   "nbconvert_exporter": "python",
   "pygments_lexer": "ipython3",
   "version": "3.12.9"
  }
 },
 "nbformat": 4,
 "nbformat_minor": 4
}
