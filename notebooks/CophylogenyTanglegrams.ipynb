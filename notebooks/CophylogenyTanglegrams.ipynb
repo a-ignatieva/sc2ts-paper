{
 "cells": [
  {
   "cell_type": "markdown",
   "id": "66c10901-3c7c-4eb3-8d02-d2dda4400cd1",
   "metadata": {
    "editable": true,
    "slideshow": {
     "slide_type": ""
    },
    "tags": []
   },
   "source": [
    "# Sc2ts vs Usher cophylogenies\n",
    "\n",
    "## \"Pango-representative\" samples\n",
    "\n",
    "To plot cophylogenies, we aim to find identical \"representative samples\" for Pango lineages that exist in both the Usher tree and the sc2ts tree, and have the same Pango assignment in both. \n",
    "\n",
    "However, the earliest sample of each Pango type could be an erroneous classication. To avoid this, this notebook identifies \"originating nodes\" for each pango. An originating node of (say) B.1.1.7 is the earliest node that has > 50% of the B.1.1.7 samples as descendants, and which itself is labelled B.1.1.7. As this is an ARG, there are many trees: we count the maximum number of samples in any tree. To find a representative sample, we pick the oldest descendant sample node of the origination node which has entirely B.1.1.7 samples as descendants in a tree.\n",
    "\n",
    "To reduce the number of tips to compare, we also remove samples which are known Pango-X recombinants (and descendants of them)."
   ]
  },
  {
   "cell_type": "code",
   "execution_count": null,
   "id": "48f5cd94-4fa4-492a-84b7-c9bfe3d82dca",
   "metadata": {
    "editable": true,
    "slideshow": {
     "slide_type": ""
    },
    "tags": []
   },
   "outputs": [],
   "source": [
    "import collections\n",
    "import heapq\n",
    "import json\n",
    "import os\n",
    "\n",
    "import numpy as np\n",
    "from tqdm.auto import tqdm\n",
    "import tskit\n",
    "import tszip\n",
    "\n",
    "import sc2ts\n",
    "\n",
    "ts = tszip.load(\"../data/sc2ts_v1_2023-02-21_pp_dels_bps_pango_dated_mmps.trees.tsz\")\n",
    "df = sc2ts.node_data(ts)\n",
    "df.set_index(\"sample_id\", inplace=True)\n",
    "\n",
    "# Get the associated data and join, so that we can use either \"pango\" or \"Viridian_pangolin\" defintions\n",
    "ds = sc2ts.Dataset(\"../data/viridian_mafft_2024-10-14_v1.vcz\")\n",
    "df = df.join(ds.metadata.as_dataframe([\"Viridian_pangolin\"]))\n",
    "\n",
    "# Set which pango designation to use:\n",
    "# Use \"pango\" to get the pango designations for all nodes computed by postprocessing the ARG.\n",
    "# Use \"Viridian_pangolin\" to use the sample designations provided by Viridian.\n",
    "Pango = \"pango\"\n",
    "\n",
    "pango_lineage_samples = df[df.is_sample].groupby(Pango)['node_id'].apply(list).to_dict()\n",
    "print(f\"ARG has {len(pango_lineage_samples)} pango designations\")"
   ]
  },
  {
   "cell_type": "code",
   "execution_count": null,
   "id": "c1d31be7-8487-4462-897a-afbd0183b2a7",
   "metadata": {
    "editable": true,
    "slideshow": {
     "slide_type": ""
    },
    "tags": [
     "remove_cell"
    ]
   },
   "outputs": [],
   "source": [
    "cutoff = 0.50\n",
    "\n",
    "pango_representative_sample = {}\n",
    "\n",
    "def find_first_fully_tracked_sample_by_time(tree, root):\n",
    "    # Efficiently traverse nodes in time order using a priority queue\n",
    "    # and return the oldest sample where all descendants are tracked.\n",
    "    # Takes advantage of the fact that parents have older times than children.\n",
    "    node_times = tree.tree_sequence.nodes_time\n",
    "    if root == tskit.NULL:\n",
    "        root = tree.virtual_root\n",
    "    \n",
    "    # Priority queue: (time, node)\n",
    "    pq = [(-node_times[root], root)]\n",
    "    while pq:\n",
    "        time, u = heapq.heappop(pq)\n",
    "        # Skip nodes with no tracked samples\n",
    "        if tree.num_tracked_samples(u) == 0:\n",
    "            continue\n",
    "        # Check if this node is fully tracked and also in the reduced Usher tree\n",
    "        if tree.num_samples(u) == tree.num_tracked_samples(u) and tree.is_sample(u):\n",
    "            return u\n",
    "        # Add children to priority queue (they have younger times)\n",
    "        for child in tree.children(u):\n",
    "            heapq.heappush(pq, (-node_times[child], child))\n",
    "    return None  # No fully tracked node found\n",
    "\n",
    "\n",
    "def origination_node(simp_ts, df, pango):\n",
    "    nodes_time = simp_ts.nodes_time\n",
    "    valid = {}\n",
    "    samples = pango_lineage_samples[pango]\n",
    "    if len(samples) == 0:\n",
    "        return None\n",
    "    # Find valid nodes: have same Pango type and > cutoff descendant samples in any tree\n",
    "\n",
    "    tmp_df = df[df[Pango] == pango]  # Only look at the ones designated pango\n",
    "    for tree in simp_ts.trees(tracked_samples=samples):\n",
    "        for row in tmp_df.itertuples():\n",
    "            u = row.Index\n",
    "            tnts = tree.num_tracked_samples(u)\n",
    "            if tnts > valid.get(u, 0):\n",
    "                if tnts > len(samples) * cutoff:\n",
    "                    valid[u] = tnts\n",
    "    # Check through valid nodes for the best origination node: return a single element array if good\n",
    "    if len(valid) == 0:\n",
    "        return None\n",
    "    else:\n",
    "        return max(valid, key=valid.get)\n",
    "\n",
    "        \n",
    "def representative_node(ts, pango, pango_root):\n",
    "    # descend from the root pango in each tree, but avoid any subtree that has no\n",
    "    # tracked_samples\n",
    "    for tree in ts.trees(tracked_samples=pango_lineage_samples[pango]):\n",
    "        nd = find_first_fully_tracked_sample_by_time(tree, pango_root)\n",
    "        if nd is not None:\n",
    "            return nd\n",
    "\n",
    "# For speed, simplify the ARG down to a set of subgroups of pango samples\n",
    "# before looking for the sample descendants\n",
    "pangos = list(pango_lineage_samples.keys())\n",
    "n_batches = int(np.sqrt(len(pangos)))\n",
    "poor_orig_nd_pct = {}\n",
    "no_valid_orig_nd = []\n",
    "\n",
    "pango_origin = {}\n",
    "for i in tqdm(np.arange(n_batches)):\n",
    "    batch = pangos[i::n_batches]\n",
    "    tmp_df = df.set_index(\"node_id\")\n",
    "    tmp_df = tmp_df.loc[np.isin(df[Pango], batch)]\n",
    "    samples = np.array([u for b in batch for u in pango_lineage_samples[b]])\n",
    "    simp_ts = ts.simplify(samples, keep_unary=True, filter_nodes=False)\n",
    "    for pango in tqdm(batch, leave=False):\n",
    "        orig_nd = origination_node(simp_ts, tmp_df, pango)\n",
    "        if orig_nd is None:\n",
    "            no_valid_orig_nd.append(pango)\n",
    "        else:\n",
    "            best_nd = representative_node(ts, pango, orig_nd)\n",
    "            if best_nd is not None:\n",
    "                vv = df.loc[df.node_id == best_nd, Pango].values\n",
    "                assert len(vv) == 1 and vv[0] == pango\n",
    "                pango_representative_sample[pango] = best_nd\n",
    "                \n",
    "\n",
    "print(f\"Found {len(pango_representative_sample)} pango sample nodes / {len(pango_lineage_samples)} pango groups\")\n",
    "print(f\"{len(no_valid_orig_nd)} pangos rejected as no pango origination node with > {cutoff*100:.1f}% pango descendants:\")\n",
    "print(\" \" + \", \".join(no_valid_orig_nd))\n",
    "sts = ts.simplify(\n",
    "    [v for k, v in pango_representative_sample.items()\n",
    "     if not k.startswith(\"X\")\n",
    "    ], keep_unary=True, filter_nodes=False)\n",
    "\n",
    "print(f\"Simplified ARG to representative non-pangoX samples: {sts.num_trees} trees and {sts.num_samples} samples\")"
   ]
  },
  {
   "cell_type": "code",
   "execution_count": null,
   "id": "7a6a8b63-ec79-41ce-9c34-32ded1b98e1c",
   "metadata": {
    "editable": true,
    "slideshow": {
     "slide_type": ""
    },
    "tags": []
   },
   "outputs": [],
   "source": [
    "# Are there any samples with a recombination node immediately above\n",
    "\n",
    "sts = ts.simplify(\n",
    "    [v for k, v in pango_representative_sample.items()\n",
    "     if not k.startswith(\"X\")\n",
    "    ], keep_unary=True, filter_nodes=False)\n",
    "\n",
    "recombinants = np.where(sts.nodes_flags & sc2ts.NODE_IS_RECOMBINANT)[0]\n",
    "## Make a dictionary, `sample_desc`, with the descendants of each sample node\n",
    "sample_desc = collections.defaultdict(set)\n",
    "for tree in sts.trees():\n",
    "    for u in recombinants:\n",
    "        if tree.num_samples(u) > 0:\n",
    "            sample_desc[u] |= set(tree.samples(u))\n",
    "\n",
    "for k, v in sample_desc.items():\n",
    "    print(f\"Node {k} ({ts.node(k).metadata['pango']}): {len(v)} descendant pangos\")\n",
    "\n",
    "one_sample_re = {list(v)[0] for v in sample_desc.values() if len(v) <= 1}\n",
    "\n",
    "internal_nodes = set(sts.edges_parent)\n",
    "\n",
    "sts = ts.simplify([\n",
    "    v for k, v in pango_representative_sample.items()\n",
    "    if (\n",
    "        v not in one_sample_re and\n",
    "        v not in internal_nodes and\n",
    "        not k.startswith(\"X\") and\n",
    "        v not in sample_desc[1396207]  # Exclude descendants of XBB (some of these do not start with an X)\n",
    "    )\n",
    "], keep_unary=True, filter_nodes=False)\n",
    "\n",
    "print(\n",
    "    \"After removing 3 singleton Pangos below a RE node, and further PangoX descendants \"\n",
    "    f\" the ARG has {sts.num_trees} trees and {sts.num_samples} pangos\")\n",
    "\n",
    "sample_desc = collections.defaultdict(set)\n",
    "for tree in sts.trees():\n",
    "    for u in recombinants:\n",
    "        if tree.num_samples(u) > 0:\n",
    "            sample_desc[u] |= set(tree.samples(u))\n",
    "for k, v in sample_desc.items():\n",
    "    print(f\"Node {k} ({ts.node(k).metadata['pango']}): {len(v)} descendant samples\")\n",
    "\n",
    "sample_desc[None] = set(sts.samples()) - set().union(*list(sample_desc.values()))\n",
    "print(len(sample_desc[None]), \"samples not under a RE node\")"
   ]
  },
  {
   "cell_type": "markdown",
   "id": "32f82e00-4864-4138-958f-6fc05648c600",
   "metadata": {
    "editable": true,
    "slideshow": {
     "slide_type": ""
    },
    "tags": []
   },
   "source": [
    "The 5 trees correspond to 4 recombination nodes.\n",
    "* 200039 is the Delta recombinant, and is tree-like under that\n",
    "* 822854 is the BA.2 recombinant. The BA.5 recombinant lies under this\n",
    "* 1189192 is the BA.5 recombinant.\n",
    "* 1030562 is probably wrong: the recombination node is on the far RHS @ 27382, and includes only 4 sites that differ between parents there\n",
    "\n",
    "This can be seen in the copying pattern below"
   ]
  },
  {
   "cell_type": "code",
   "execution_count": null,
   "id": "49c6595a-8339-4b81-a966-902f646d2469",
   "metadata": {
    "editable": true,
    "slideshow": {
     "slide_type": ""
    },
    "tags": []
   },
   "outputs": [],
   "source": [
    "from IPython.display import HTML\n",
    "HTML(\n",
    "    \"<style>table.copying-table {font-size: 8px} table.copying-table .pattern td {font-size: 0.5em; width:0.2em}</style>\" +\n",
    "    sc2ts.info.CopyingTable(ts, 1030562).html(child_label=\"1030562\", show_bases=None)\n",
    ")"
   ]
  },
  {
   "cell_type": "code",
   "execution_count": null,
   "id": "5a725791-538d-4dcb-96b3-41d2ca2441b1",
   "metadata": {
    "editable": true,
    "slideshow": {
     "slide_type": ""
    },
    "tags": [
     "remove_cell"
    ]
   },
   "outputs": [],
   "source": [
    "tables = sts.dump_tables()\n",
    "tables.reference_sequence.clear()\n",
    "bp_1030562 = (sts.edges_right[sts.edges_child == 1030562]).min()\n",
    "print(\" We treat descendants of the 1030562 fake 'recombinant' as non-recombining, \"\n",
    "      f\"by trimming away the RHS from {bp_1030562} onwards\"\n",
    "     )\n",
    "tables.keep_intervals([[0, bp_1030562]], simplify=False)\n",
    "tables.trim()\n",
    "core_sc2ts = tables.tree_sequence()\n",
    "core_df = sc2ts.node_data(core_sc2ts)\n",
    "core_df_samples = core_df[core_df.is_sample]\n",
    "core_df_samples.set_index(\"sample_id\", inplace=True)\n",
    "core_df_samples = core_df_samples.join(ds.metadata.as_dataframe([\"Date_tree\", \"Viridian_pangolin\"]))\n",
    "\n",
    "core_sc2ts_map = {}\n",
    "core_sc2ts_pango_map = {}\n",
    "for row in core_df_samples.itertuples():\n",
    "    core_sc2ts_map[row.Index] = row.node_id\n",
    "    core_sc2ts_pango_map[getattr(row, Pango)] = row.Index\n",
    "    \n",
    "assert core_sc2ts.num_trees == 4  # 3 breakpoints"
   ]
  },
  {
   "cell_type": "code",
   "execution_count": null,
   "id": "a8731306-6574-40f6-9863-dee0e946a8de",
   "metadata": {
    "editable": true,
    "slideshow": {
     "slide_type": ""
    },
    "tags": []
   },
   "outputs": [],
   "source": [
    "uts = tszip.load(\"../arg_postprocessing/usher_v1_2024-06-06-di.trees\")\n",
    "print(f\"Using Usher tree with {uts.num_samples} samples\")"
   ]
  },
  {
   "cell_type": "code",
   "execution_count": null,
   "id": "cc966d31-c978-4200-8f3d-303202fff40c",
   "metadata": {
    "editable": true,
    "slideshow": {
     "slide_type": ""
    },
    "tags": [
     "remove_cell"
    ]
   },
   "outputs": [],
   "source": [
    "usher_map = {}\n",
    "usher_pango = collections.defaultdict(list)\n",
    "for u in tqdm(uts.samples()):\n",
    "    nd = uts.node(u)\n",
    "    usher_map[nd.metadata['strain']] = u"
   ]
  },
  {
   "cell_type": "code",
   "execution_count": null,
   "id": "5723452b-f778-452f-bd04-f15e803d1d51",
   "metadata": {
    "editable": true,
    "slideshow": {
     "slide_type": ""
    },
    "tags": []
   },
   "outputs": [],
   "source": [
    "joint_keys = core_sc2ts_map.keys() & usher_map.keys()\n",
    "print(\"Found\", len(joint_keys), \"sample ids shared between the sc2ts ARG and the Usher tree\")\n",
    "pangos = {}  # Map the key (e.g. ERR10001879) to a pango\n",
    "for k in joint_keys:\n",
    "    try:\n",
    "        pangos[k] = df.loc[k, Pango]\n",
    "    except IndexError:\n",
    "        print(k, \"not found\")\n",
    "reverse_pangos = {v: k for k, v in pangos.items()}\n",
    "pango_numbers = {k: len(pango_lineage_samples[pangos[k]]) for k in joint_keys}\n"
   ]
  },
  {
   "cell_type": "code",
   "execution_count": null,
   "id": "bb6b8033-c510-4ee4-b980-c3c527c26bc0",
   "metadata": {
    "editable": true,
    "slideshow": {
     "slide_type": ""
    },
    "tags": []
   },
   "outputs": [],
   "source": [
    "print(\"Aligning times between the Usher tree and the sc2ts tree\")\n",
    "core_sc2ts_nodes = np.array([core_sc2ts_map[k] for k in joint_keys])\n",
    "usher_nodes = np.array([usher_map[k] for k in joint_keys])\n",
    "time_diff = np.round((uts.nodes_time[usher_nodes]- core_sc2ts.nodes_time[core_sc2ts_nodes]).mean(), 5)\n",
    "tables = uts.dump_tables()\n",
    "tables.nodes.time = tables.nodes.time - time_diff\n",
    "tables.mutations.time = tables.mutations.time - time_diff\n",
    "usher_ts = tables.tree_sequence()"
   ]
  },
  {
   "cell_type": "code",
   "execution_count": null,
   "id": "dff91304-b029-405b-b64d-00e2db945b59",
   "metadata": {
    "editable": true,
    "slideshow": {
     "slide_type": ""
    },
    "tags": []
   },
   "outputs": [],
   "source": [
    "def sc2ts_tanglegram(\n",
    "    ts,\n",
    "    size=(800, 800),\n",
    "    time_scale=\"rank\",\n",
    "    x_ticks=None,\n",
    "    line_gap=40,\n",
    "    separation=100,\n",
    "    style=\"\",\n",
    "    label=\"\",\n",
    "    omit_sites=None,\n",
    "    sample_fontsize=\"8px\",\n",
    "    **kwargs\n",
    "):\n",
    "    if omit_sites is None:\n",
    "        omit_sites = True\n",
    "    if x_ticks is not None:\n",
    "        if time_scale==\"rank\": \n",
    "            # rescale the X ticks on each side\n",
    "            node_ids = np.array(list(ts.first().nodes()))\n",
    "            times = {t : i for i, t in enumerate(np.unique(ts.nodes_time[node_ids]))}\n",
    "            # slight hack - just find the nearest time\n",
    "            x_ticks_lft = {}\n",
    "            for key, lab in x_ticks.items():\n",
    "                closest_time = min(times.keys(), key=lambda x: abs(x - key))\n",
    "                x_ticks_lft[times[closest_time]] = lab\n",
    "            node_ids = np.array(list(ts.last().nodes()))\n",
    "            times = {t : i for i, t in enumerate(np.unique(ts.nodes_time[node_ids]))}\n",
    "            # slight hack - just find the nearest time\n",
    "            x_ticks_rgt = {}\n",
    "            for key, lab in x_ticks.items():\n",
    "                closest_time = min(times.keys(), key=lambda x: abs(x - key))\n",
    "                x_ticks_rgt[times[closest_time]] = lab\n",
    "            x_ticks = (x_ticks_lft, x_ticks_rgt)\n",
    "            \n",
    "        else:\n",
    "            x_ticks = (x_ticks, x_ticks)\n",
    "    return nb_utils.tanglegram(\n",
    "        ts, size=size, omit_sites=omit_sites, time_scale=time_scale, line_gap=line_gap,\n",
    "        titles=(f\"Sc2ts {label}\", f\"Usher {label}\"),\n",
    "        style=\"g.tangle_lines line {stroke: lightgrey} .sample .lab {font-size: %s}\" % sample_fontsize + style,\n",
    "        node_labels={u: pangos[ts.node(u).metadata['sample_id']] for u in ts.samples()},\n",
    "        separation=separation,\n",
    "        x_ticks=x_ticks,\n",
    "        **kwargs\n",
    "    )"
   ]
  },
  {
   "cell_type": "code",
   "execution_count": null,
   "id": "abae081b-71ab-4797-87a8-73cdd2e253ac",
   "metadata": {
    "editable": true,
    "slideshow": {
     "slide_type": ""
    },
    "tags": []
   },
   "outputs": [],
   "source": [
    "# Find the recombinant parents in the recombinant backbone\n",
    "\n",
    "edges = core_sc2ts.edges_child == 200039\n",
    "delta_parents = {k: v for k, v in zip(core_sc2ts.edges_right[edges], core_sc2ts.edges_parent[edges])}\n",
    "delta_parents = [delta_parents[k] for k in sorted(delta_parents.keys())]\n",
    "delta_parents = {reverse_pangos[p]: p for p in df.loc[np.isin(df.node_id, delta_parents), \"pango\"]}\n",
    "\n",
    "edges = core_sc2ts.edges_child == 822854\n",
    "ba2_parents = {k: v for k, v in zip(core_sc2ts.edges_right[edges], core_sc2ts.edges_parent[edges])}\n",
    "ba2_parents = [ba2_parents[k] for k in sorted(ba2_parents.keys())]\n",
    "ba2_parents = {reverse_pangos[p]: p for p in df.loc[np.isin(df.node_id, ba2_parents), \"pango\"]}\n",
    "\n",
    "try:\n",
    "    edges = core_sc2ts.edges_child == 1189192\n",
    "    ba5_parents = {k: v for k, v in zip(core_sc2ts.edges_right[edges], core_sc2ts.edges_parent[edges])}\n",
    "    ba5_parents = [ba5_parents[k] for k in sorted(ba5_parents.keys())]\n",
    "    ba5_parents = {reverse_pangos[p]: p for p in df.loc[np.isin(df.node_id, ba5_parents), \"pango\"]}\n",
    "except KeyError:\n",
    "    #print(f\"Could not find samples representing {df.loc[np.isin(df.node_id, ba5_parents), \"pango\"].values}\")\n",
    "    ba5_parents = {}\n",
    "\n"
   ]
  },
  {
   "cell_type": "markdown",
   "id": "45de0f4e-1e77-4384-88bc-4b2335450777",
   "metadata": {
    "editable": true,
    "slideshow": {
     "slide_type": ""
    },
    "tags": []
   },
   "source": [
    "## Restricting to important pangos\n"
   ]
  },
  {
   "cell_type": "code",
   "execution_count": null,
   "id": "653f6307-5b6d-4f83-b411-5f0eb1340a3b",
   "metadata": {
    "editable": true,
    "slideshow": {
     "slide_type": ""
    },
    "tags": []
   },
   "outputs": [],
   "source": [
    "import nb_utils\n",
    "min_samples = 10\n",
    "use = [k for k in joint_keys if pango_numbers[k] > min_samples]\n",
    "print(f\"Plotting Pango lineages that have over {min_samples} sequenced samples\")\n",
    "\n",
    "subtree_samples = {\n",
    "    \"base tree\": (\n",
    "        list({k for k in use if core_sc2ts_map[k] in sample_desc[None]} | delta_parents.keys() | ba2_parents.keys())\n",
    "    ),\n",
    "    \"Delta subtree\": [k for k in use if core_sc2ts_map[k] in sample_desc[200039]],\n",
    "    \"BA.2 subtree\": [k for k in use if (core_sc2ts_map[k] in sample_desc[822854] and core_sc2ts_map[k] not in sample_desc[1189192])],\n",
    "    \"BA.5 subtree\": [k for k in use if core_sc2ts_map[k] in sample_desc[1189192]],\n",
    "}    \n",
    "\n",
    "two_tree_ts = {}\n",
    "total = 0\n",
    "for subtree, sample_names in subtree_samples.items():\n",
    "    jts = nb_utils.make_joint_ts(\n",
    "        core_sc2ts.simplify([core_sc2ts_map[k] for k in sample_names], keep_input_roots=True),\n",
    "        usher_ts.simplify([usher_map[k] for k in sample_names], keep_input_roots=True),\n",
    "        \"sample_id\", \"strain\"\n",
    "    )\n",
    "    print(f\"Joint tree sequence of {subtree} has {jts.num_samples} samples, classified as:\")\n",
    "    scorpio_counts = collections.Counter(\n",
    "        [jts.node(u).metadata['scorpio'] for u in jts.samples()]\n",
    "    )\n",
    "    print(\"\\n\".join([f\"\\t{'unclassified' if k == \"nan\" else k}: {v} samples\" for k, v in scorpio_counts.items()]))\n",
    "    two_tree_ts[subtree] = jts\n",
    "    total += jts.num_samples\n",
    "\n",
    "print(f\"Total number of plotted Pangos={total}\")\n",
    "    "
   ]
  },
  {
   "cell_type": "code",
   "execution_count": null,
   "id": "ba7d2ec1-b735-4c1d-8051-7972d19a421f",
   "metadata": {
    "editable": true,
    "slideshow": {
     "slide_type": ""
    },
    "tags": []
   },
   "outputs": [],
   "source": [
    "import datetime\n",
    "\n",
    "x_ticks = {}\n",
    "zero = datetime.date.fromisoformat(core_sc2ts.metadata[\"time_zero_date\"])\n",
    "months = list(range(1, 13))  # 1 to 12\n",
    "\n",
    "target_dates = (\n",
    "    [datetime.date(2023, 2, 1)] + [datetime.date(2023, 1, 1)] + # 2023: Jan, Feb only\n",
    "    [datetime.date(year, month, 1) for year in [2022, 2021, 2020, 2019] for month in reversed(months)]\n",
    ")\n",
    "for target_date in target_dates:\n",
    "    days_difference = (zero - target_date).days\n",
    "    x_ticks[days_difference] = target_date.strftime(\"%Y-%m\")"
   ]
  },
  {
   "cell_type": "markdown",
   "id": "c2421338-0ac4-4ffd-af69-b045e9d11053",
   "metadata": {
    "editable": true,
    "slideshow": {
     "slide_type": ""
    },
    "tags": []
   },
   "source": [
    "## Untangling algorithm\n",
    "\n",
    "We use _dendroscope_ (Huson and Scornavacca, DOI:10.1093/sysbio/sys062) to untangle the trees. This is still the most effective software for untangling trees with polytomies."
   ]
  },
  {
   "cell_type": "code",
   "execution_count": null,
   "id": "d0853cde-7a58-4589-aa3d-6d2eeae1fe67",
   "metadata": {
    "editable": true,
    "slideshow": {
     "slide_type": ""
    },
    "tags": []
   },
   "outputs": [],
   "source": [
    "dendroscope_binary = \"/Applications/Dendroscope/Dendroscope.app/Contents/MacOS/JavaApplicationStub\"\n",
    "\n",
    "import tempfile\n",
    "import subprocess\n",
    "import re\n",
    "\n",
    "def run_dendroscope_untangle(ts_2_trees):\n",
    "    # Uses the Neighbor-net heuristic algorithm, which works well with polytomies\n",
    "    assert ts_2_trees.num_trees == 2\n",
    "    with tempfile.TemporaryDirectory() as tmpdirname:\n",
    "        newick_path = os.path.join(tmpdirname, \"cophylo.nwk\")\n",
    "        command_path = os.path.join(tmpdirname, \"commands.txt\")\n",
    "        with open(newick_path, \"wt\") as file:\n",
    "            for tree in ts_2_trees.trees():\n",
    "                print(tree.as_newick(), file=file)\n",
    "        with open(command_path, \"wt\") as file:\n",
    "            print(f\"open file='{newick_path}';\", file=file)\n",
    "            print(\"compute tanglegram method=nnet\", file=file)\n",
    "            print(\n",
    "                f\"save format=newick file='{newick_path}'\", file=file\n",
    "            )  # overwrite\n",
    "            print(\"quit;\", file=file)\n",
    "        subprocess.run([dendroscope_binary, \"-g\", \"-c\", command_path])\n",
    "        order = []\n",
    "        with open(newick_path, \"rt\") as newicks:\n",
    "            for line in newicks:\n",
    "                # hack: use the order of `nX encoded in the string\n",
    "                order.append([int(n[1:]) for n in re.findall(r\"n\\d+\", line)])\n",
    "    return order"
   ]
  },
  {
   "cell_type": "code",
   "execution_count": null,
   "id": "01f95f40-29d4-40bc-b936-8fac61e60141",
   "metadata": {
    "editable": true,
    "slideshow": {
     "slide_type": ""
    },
    "tags": [
     "remove_cell"
    ]
   },
   "outputs": [],
   "source": [
    "# Use the run_dendroscope_untangle above: this can take hours, so we save the results\n",
    "\n",
    "orders = {}\n",
    "for subtree, ts2 in two_tree_ts.items():\n",
    "    path = subtree + \" order-\" + Pango + str(min_samples) + \".json\"\n",
    "    if not os.path.exists(path):\n",
    "        orders[subtree] = run_dendroscope_untangle(ts2)\n",
    "        with open(path, \"wt\") as f:\n",
    "            f.write(json.dumps(orders[subtree]))\n",
    "    else:\n",
    "        with open(path, \"rt\") as f:\n",
    "            orders[subtree] = json.loads(f.read())\n"
   ]
  },
  {
   "cell_type": "code",
   "execution_count": null,
   "id": "65efac4f-3b9c-4b06-9faf-fab6f093eea0",
   "metadata": {
    "editable": true,
    "slideshow": {
     "slide_type": ""
    },
    "tags": []
   },
   "outputs": [],
   "source": [
    "from hashlib import blake2b\n",
    "\n",
    "def plot_tanglegram(ts, name, orders, delta_parents=None, ba2_parents=None, legend_func=None, **kwargs):\n",
    "    \n",
    "    def hash_samples_under_node(tree, u):\n",
    "        return blake2b(\" \".join(str(u) for u in sorted(tree.samples(u))).encode(), digest_size=20).digest()\n",
    "\n",
    "    scorpios = collections.defaultdict(list)\n",
    "    sample_id_to_node_id = {}\n",
    "    for u in ts.samples():\n",
    "        nd = ts.node(u)\n",
    "        s = nd.metadata['scorpio']\n",
    "        s = \"unclassified\" if s==\"nan\" else s\n",
    "        scorpios[s].append(u)\n",
    "        sample_id_to_node_id[nd.metadata[\"sample_id\"]] = u\n",
    "\n",
    "\n",
    "    ltree, rtree = ts.first(), ts.last()\n",
    "    l_hashes = {hash_samples_under_node(ltree, u): u for u in ltree.nodes() if not ltree.is_sample(u)}\n",
    "    r_hashes = {hash_samples_under_node(rtree, u): u for u in rtree.nodes() if not rtree.is_sample(u)}\n",
    "\n",
    "    joint_hashes = l_hashes.keys() & r_hashes.keys()\n",
    "\n",
    "    colours = [\"#77AADD\", \"#EE8866\", \"#EEDD88\", \"#FFAABB\", \"#44BB99\", \"#BBCC33\", \"#AAAA00\", \"#99DDFF\",]\n",
    "\n",
    "    tg, lft_map, rgt_map = sc2ts_tanglegram(ts, label=name, order=orders, symbol_size=3, x_axis=True, **kwargs)\n",
    "    styles = ['.y-axis .ticks .lab {font-size: 10px; font-family: \"Arial Narrow\"}']\n",
    "    # Add styles for edges and shared nodes\n",
    "    for nd_map, cls, hashes in zip([lft_map, rgt_map], [\"lft_tree\", \"rgt_tree\"], [l_hashes, r_hashes]):\n",
    "        styles += [\n",
    "            (\n",
    "                \",\".join([f\".{cls} > .tree .n{nd_map[u]} .edge\" for u in v]) + f\"{{stroke: {c}}}\" +\n",
    "                \",\".join([f\".{cls} > .tree .n{nd_map[u]}.sample .sym\" for u in v]) + f\"{{fill: {c}}}\"\n",
    "            )\n",
    "            for c, (k, v) in zip(colours, scorpios.items())\n",
    "        ]\n",
    "        styles += [\n",
    "            \",\".join([f\".{cls} > .tree .n{nd_map[hashes[hsh]]} > .sym\" for hsh in joint_hashes]) +\n",
    "            \"{r: 2px; fill: magenta; stroke: black;}\"\n",
    "        ]\n",
    "\n",
    "    legend = \"\" if legend_func is None else legend_func(colours, scorpios.keys())\n",
    "\n",
    "    if delta_parents:\n",
    "        delta_node_ids = [sample_id_to_node_id[k] for k in delta_parents.keys()]\n",
    "        styles += [\n",
    "            (\n",
    "                f\".lft_tree > .tree .node.n{lft_map[u]} .sym \" +\n",
    "                f\"{{transform: translate(0px, 3px) scale(2.5); stroke: black; stroke-width: 0.5px; fill: {c};}}\" +\n",
    "                f\".lft_tree > .tree .node.n{lft_map[u]} .lab \" +\n",
    "                \"{text-anchor: start; transform: rotate(90deg) translate(10px);}\"\n",
    "            )\n",
    "            for u, c in zip(delta_node_ids, (\"#9CDB90\", \"#76A8D8\"))]\n",
    "    if ba2_parents:\n",
    "        ba2_node_ids = [sample_id_to_node_id[k] for k in ba2_parents.keys()]\n",
    "        styles += [\n",
    "            (\n",
    "                f\".lft_tree > .tree .node.n{lft_map[u]} .sym \" +\n",
    "                f\"{{transform: translate(0px, 3px) scale(2.5) rotate(45deg); stroke: black; stroke-width: 0.5px; fill: {c};}}\" +\n",
    "                f\".lft_tree > .tree .node.n{lft_map[u]} .lab \" +\n",
    "                \"{text-anchor: start; transform: rotate(90deg) translate(10px);}\"\n",
    "            )\n",
    "            for u, c in zip(ba2_node_ids, (\"#9CDB90\", \"#76A8D8\"))\n",
    "        ]\n",
    "    \n",
    "    tg.preamble = \"<style>\" + \"\".join(styles) + \"</style>\" + tg.preamble + legend  \n",
    "    return tg.draw()"
   ]
  },
  {
   "cell_type": "code",
   "execution_count": null,
   "id": "3ccfaa04-a5c3-4a7f-bee0-cfacbec3a059",
   "metadata": {
    "editable": true,
    "slideshow": {
     "slide_type": ""
    },
    "tags": []
   },
   "outputs": [],
   "source": [
    "def base_legend(colours, labels):\n",
    "    return (\n",
    "        '<g transform=\"translate(447 20)\">' +\n",
    "        '<rect x=\"0\" y=\"0\" width=\"140\" height=\"145\" fill=\"white\" stroke=\"black\" />' +\n",
    "        '<text x=\"10\" y=\"17\" font-style=\"italic\" font-size=\"14px\">Scorpio classification</text>' +\n",
    "        \"\".join([\n",
    "            (f'<line x1=\"5\" x2=\"25\" y1=\"{30 + 15*i}\" y2=\"{30 + 15*i}\" stroke=\"{c}\" stroke-width=\"2\" />'\n",
    "             f'<text x=\"30\" y=\"{34 + 15 * i}\" font-size=\"12px\">{label}</text>'\n",
    "            )\n",
    "            for i, (c, label) in enumerate(zip(colours, labels))\n",
    "        ]) +\n",
    "        '</g>' +\n",
    "            \n",
    "        '<g transform=\"translate(467 200)\">' +\n",
    "        '<rect x=\"0\" y=\"0\" width=\"100\" height=\"130\" fill=\"white\" stroke=\"black\" />' +\n",
    "        '<text x=\"20\" y=\"17\" font-style=\"italic\" font-size=\"14px\">Node types</text>' +\n",
    "        '<rect x=\"10\" height=\"8\" y=\"30\" width=\"8\" stroke=\"black\" stroke-width=\"1.5\" fill=\"#9CDB90\"/>' +\n",
    "        '<text x=\"25\" y=\"38\" font-size=\"12px\">Delta (left)</text>' +\n",
    "        '<rect x=\"10\" height=\"8\" y=\"45\" width=\"8\" stroke=\"black\" stroke-width=\"1.5\" fill=\"#76A8D8\" />' +\n",
    "        '<text x=\"25\" y=\"53\" font-size=\"12px\">Delta (right)</text>' +\n",
    "        '<rect height=\"8\" width=\"8\" stroke=\"black\" stroke-width=\"1.5\" transform=\"translate(14, 65) rotate(45)\" fill=\"#9CDB90\" />' +\n",
    "        '<text x=\"25\" y=\"75\" font-size=\"12px\">BA.2 (left)</text>' +\n",
    "        '<rect height=\"8\" width=\"8\" stroke=\"black\" stroke-width=\"1.5\" transform=\"translate(14, 80) rotate(45)\" fill=\"#76A8D8\" />' +\n",
    "        '<text x=\"25\" y=\"90\" font-size=\"12px\">BA.2 (right)</text>' +\n",
    "        '<circle cx=\"14\" cy=\"115\" r=\"3\" stroke=\"black\" stroke-width=\"1.5\" fill=\"magenta\" />' +\n",
    "        '<text x=\"25\" y=\"120\" font-size=\"12px\">Identical clade</text>' +\n",
    "        '</g>'\n",
    "    )\n",
    "\n",
    "name = \"base tree\"\n",
    "\n",
    "plot_tanglegram(\n",
    "    two_tree_ts[name], name, orders[name],\n",
    "    size=(1000, 1450),\n",
    "    x_ticks={k: v for k, v, in x_ticks.items() if 400 < k < 1200},\n",
    "    delta_parents=delta_parents,\n",
    "    ba2_parents=ba2_parents,\n",
    "    legend_func=base_legend,\n",
    "    x_label=\"\",\n",
    "    sample_fontsize=\"6px\",\n",
    "    line_gap=25, \n",
    "    \n",
    ")"
   ]
  },
  {
   "cell_type": "code",
   "execution_count": null,
   "id": "764be282-cede-43e8-b1c7-53aae9c437b0",
   "metadata": {
    "editable": true,
    "slideshow": {
     "slide_type": ""
    },
    "tags": []
   },
   "outputs": [],
   "source": [
    "def delta_legend(colours, labels):\n",
    "    elems = {}\n",
    "    i = 0\n",
    "    # Hack to get a narrower legend by wrapping legend labels on \"+\"\n",
    "    for c, label in zip(colours, labels):\n",
    "        svgline = '<line x1=\"5\" x2=\"25\" y1=\"{y}\" y2=\"{y}\" stroke=\"{c}\" stroke-width=\"2\" />'\n",
    "        if \"+\" not in label:\n",
    "            elems[i] = (svgline.format(c=c, y=30 + 15*i), label)\n",
    "            i += 1\n",
    "        else:\n",
    "            label = label.split(\"+\")\n",
    "            label[1] = \"   +\" +  label[1]\n",
    "            for l in label:\n",
    "                elems[i] = (\"\" if \"+\" in l else svgline.format(c=c, y=30 + 15*(i+0.5)), l)\n",
    "                i += 1\n",
    "    return (\n",
    "        '<g transform=\"translate(450 370)\">' +\n",
    "        '<rect x=\"0\" y=\"0\" width=\"140\" height=\"100\" fill=\"white\" stroke=\"black\" />' +\n",
    "        '<text x=\"10\" y=\"17\" font-style=\"italic\" font-size=\"14px\">Scorpio classification</text>' +\n",
    "        \"\".join([\n",
    "            f'{svgline}<text xml:space=\"preserve\" x=\"30\" dy=\"{34 + 15 * i}\" font-size=\"12px\">{label}</text>'\n",
    "            for i, (svgline, label) in elems.items()\n",
    "        ]) +\n",
    "        '</g>' +\n",
    "        '<g transform=\"translate(455 500)\">' +\n",
    "        '<rect x=\"0\" y=\"0\" width=\"120\" height=\"40\" fill=\"white\" stroke=\"black\" />' +\n",
    "        '<text x=\"20\" y=\"17\" font-style=\"italic\">Node types</text>' +\n",
    "        '<circle cx=\"14\" cy=\"30\" r=\"3\" stroke=\"black\" stroke-width=\"1\" fill=\"magenta\" />' +\n",
    "        '<text x=\"30\" y=\"35\" font-size=\"14px\">Identical clade</text>' +\n",
    "        '</g>'\n",
    "   \n",
    "    )\n",
    "\n",
    "name = \"Delta subtree\"\n",
    "\n",
    "plot_tanglegram(\n",
    "    two_tree_ts[name],\n",
    "    name, orders[name],\n",
    "    size=(1000, 600),\n",
    "    x_ticks={k: v for k, v, in x_ticks.items() if 450 < k < 1200},\n",
    "    time_scale=\"rank\",\n",
    "    line_gap=30,\n",
    "    tweak_rh_lab=-2.5,\n",
    "    legend_func=delta_legend,\n",
    "    x_label=\"\",\n",
    ")"
   ]
  },
  {
   "cell_type": "code",
   "execution_count": null,
   "id": "fc52a62d-c7b4-401d-8867-8971f4e3f376",
   "metadata": {
    "editable": true,
    "slideshow": {
     "slide_type": ""
    },
    "tags": []
   },
   "outputs": [],
   "source": [
    "def ba2_legend(colours, labels):\n",
    "    return (\n",
    "        '<g transform=\"translate(430 20)\">' +\n",
    "        '<rect x=\"0\" y=\"0\" width=\"170\" height=\"60\" fill=\"white\" stroke=\"black\" />' +\n",
    "        '<text x=\"20\" y=\"17\" font-style=\"italic\" font-size=\"14px\">Scorpio classification</text>' +\n",
    "        \"\".join([\n",
    "            (f'<line x1=\"5\" x2=\"25\" y1=\"{30 + 15*i}\" y2=\"{30 + 15*i}\" stroke=\"{c}\" stroke-width=\"2\" />'\n",
    "             f'<text x=\"30\" y=\"{34 + 15 * i}\" font-size=\"12px\">{label}</text>'\n",
    "            )\n",
    "            for i, (c, label) in enumerate(zip(colours, labels))\n",
    "        ]) +\n",
    "        '</g>' +\n",
    "    \n",
    "        '<g transform=\"translate(455 85)\">' +\n",
    "        '<rect x=\"0\" y=\"0\" width=\"120\" height=\"40\" fill=\"white\" stroke=\"black\" />' +\n",
    "        '<text x=\"22\" y=\"17\" font-style=\"italic\" font-size=\"14px\">Node types</text>' +\n",
    "        '<circle cx=\"14\" cy=\"30\" r=\"4\" stroke=\"black\" stroke-width=\"1\" fill=\"magenta\" />' +\n",
    "        '<text x=\"30\" y=\"35\" font-size=\"12px\">Identical clade</text>' +\n",
    "        '</g>'\n",
    "    )\n",
    "\n",
    "name = \"BA.2 subtree\"\n",
    "\n",
    "plot_tanglegram(\n",
    "    two_tree_ts[name],\n",
    "    name, orders[name],\n",
    "    size=(1000, 650),\n",
    "    x_ticks={k: v for k, v, in x_ticks.items() if 40 < k < 450},\n",
    "    time_scale=\"rank\", \n",
    "    line_gap=30,\n",
    "    legend_func=ba2_legend,\n",
    ")\n"
   ]
  },
  {
   "cell_type": "code",
   "execution_count": null,
   "id": "53b25a1d-632f-4fdb-9300-fced72499ae8",
   "metadata": {
    "editable": true,
    "slideshow": {
     "slide_type": ""
    },
    "tags": []
   },
   "outputs": [],
   "source": [
    "name = \"BA.5 subtree\"\n",
    "\n",
    "def ba5_legend(colours, labels):\n",
    "    return (\n",
    "        '<g transform=\"translate(455 485)\">' +\n",
    "        '<rect x=\"0\" y=\"0\" width=\"120\" height=\"40\" fill=\"white\" stroke=\"black\" />' +\n",
    "        '<text x=\"22\" y=\"17\" font-style=\"italic\" font-size=\"14px\">Node types</text>' +\n",
    "        '<circle cx=\"14\" cy=\"30\" r=\"4\" stroke=\"black\" stroke-width=\"1\" fill=\"magenta\" />' +\n",
    "        '<text x=\"30\" y=\"35\" font-size=\"12px\">Identical clade</text>' +\n",
    "        '</g>'\n",
    "    )\n",
    "\n",
    "plot_tanglegram(\n",
    "    two_tree_ts[name], name, orders[name],\n",
    "    size=(1000, 1000),\n",
    "    x_ticks={k: v for k, v, in x_ticks.items() if 0 < k < 1100}, time_scale=\"rank\", \n",
    "    legend_func=ba5_legend,\n",
    "    line_gap=30,\n",
    ")"
   ]
  },
  {
   "cell_type": "code",
   "execution_count": null,
   "id": "3139981f-3197-4f45-8f9e-81b4a85015c6",
   "metadata": {
    "editable": true,
    "slideshow": {
     "slide_type": ""
    },
    "tags": []
   },
   "outputs": [],
   "source": []
  }
 ],
 "metadata": {
  "kernelspec": {
   "display_name": "Python 3 (ipykernel)",
   "language": "python",
   "name": "python3"
  },
  "language_info": {
   "codemirror_mode": {
    "name": "ipython",
    "version": 3
   },
   "file_extension": ".py",
   "mimetype": "text/x-python",
   "name": "python",
   "nbconvert_exporter": "python",
   "pygments_lexer": "ipython3",
   "version": "3.12.10"
  }
 },
 "nbformat": 4,
 "nbformat_minor": 5
}
