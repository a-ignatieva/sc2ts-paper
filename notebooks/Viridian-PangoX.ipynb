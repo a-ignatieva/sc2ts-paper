{
 "cells": [
  {
   "cell_type": "code",
   "execution_count": null,
   "id": "69d69070-4eb2-45ad-b52d-5ffc81fe3c9c",
   "metadata": {
    "editable": true,
    "slideshow": {
     "slide_type": ""
    },
    "tags": []
   },
   "outputs": [],
   "source": [
    "import collections\n",
    "\n",
    "import sc2ts\n",
    "import numpy as np\n",
    "import tskit\n",
    "import tszip\n",
    "import numpy as np\n",
    "from IPython.display import HTML\n",
    "import warnings\n",
    "\n",
    "import nb_utils\n",
    "\n",
    "# NB - tag the cells with progressbars with `remove_cell`, and export only the output cells to PDF via:\n",
    "# jupyter nbconvert --to webpdf --no-prompt --no-input --PDFExporter.scale_factor=0.8  --TagRemovePreprocessor.remove_cell_tags='{\"remove_cell\"}' --PDFExporter.margin_left=0.2cm --PDFExporter.margin_right=0.2cm Viridian-PangoX.ipynb\n",
    "# A fancier option is to use the src/makepdf.py script, which creates hover-over labels.\n",
    "# Here's how to use that to save Viridian-PangoX.pdf to the `figures` directory:\n",
    "#  python src/makepdf.py notebooks/Viridian-PangoX.ipynb figures \n",
    "\n",
    "from IPython.display import HTML\n",
    "HTML(\"\"\"<style>@page {margin: 0.5cm;}</style>\"\"\")  # Allow space for copying patterns in the pdf"
   ]
  },
  {
   "cell_type": "code",
   "execution_count": null,
   "id": "5d8691ff-5336-48ac-af8a-1d6475d9cbf9",
   "metadata": {
    "editable": true,
    "slideshow": {
     "slide_type": ""
    },
    "tags": []
   },
   "outputs": [],
   "source": [
    "# Get the Viridian ARG\n",
    "ts = nb_utils.load()\n",
    "\n",
    "# Join with the associated data\n",
    "df = sc2ts.node_data(ts)\n",
    "ds = nb_utils.load_dataset()\n",
    "df.set_index(\"sample_id\", inplace=True)\n",
    "df = df.join(ds.metadata.as_dataframe([\"Viridian_pangolin\"]))\n",
    "\n",
    "hide_progress = True  # Set to `True` and rerun the nodebook to get a nicer version for PDF output"
   ]
  },
  {
   "cell_type": "code",
   "execution_count": null,
   "id": "acb18edc-5e11-44be-8d3a-fa8a77822f8f",
   "metadata": {
    "editable": true,
    "slideshow": {
     "slide_type": ""
    },
    "tags": []
   },
   "outputs": [],
   "source": [
    "# Set which pango designation to use:\n",
    "# Use \"pango\" to get the pango designations for all nodes computed by postprocessing the ARG.\n",
    "# Use \"Viridian_pangolin\" to use the sample designations provided by Viridian.\n",
    "Pango = \"pango\""
   ]
  },
  {
   "cell_type": "code",
   "execution_count": null,
   "id": "782e3924-4e00-4922-aa91-f0a5fc91ae4f",
   "metadata": {
    "editable": true,
    "slideshow": {
     "slide_type": ""
    },
    "tags": []
   },
   "outputs": [],
   "source": [
    "dfX = df[np.logical_and(df.is_sample, df[Pango].str.startswith(\"X\"))]\n",
    "pango_lineage_samples = df[df.is_sample].groupby(Pango)['node_id'].apply(list).to_dict()\n",
    "pangoFullX = np.unique(dfX[Pango])\n",
    "pangoX = [p for p in pangoFullX if \".\" not in p]\n",
    "pangoSubX = [p for p in pangoFullX if \".\" in p]\n",
    "display(HTML(\n",
    "    f'<table><tr><th>{len(pangoX)} main pango-X lineages</th><th>{len(pangoSubX)} sub pango-X lineages</th></tr>'\n",
    "    f'<tr><td>{\", \".join(pangoX)}</td><td>{\", \".join(pangoSubX)}</td></tr></table>'\n",
    "))"
   ]
  },
  {
   "cell_type": "code",
   "execution_count": null,
   "id": "b6107f94-98ce-4dc6-b8e9-045efd5cef71",
   "metadata": {
    "editable": true,
    "slideshow": {
     "slide_type": ""
    },
    "tags": []
   },
   "outputs": [],
   "source": [
    "print(\"Consensus mutations for each lineage taken from https://covidcg.org\")\n",
    "lineage_consensus_muts = nb_utils.read_in_mutations(\"../data/consensus_mutations.json.bz2\")"
   ]
  },
  {
   "cell_type": "code",
   "execution_count": null,
   "id": "ade1465a-dcab-49dd-a617-f0537f870044",
   "metadata": {
    "editable": true,
    "scrolled": true,
    "slideshow": {
     "slide_type": ""
    },
    "tags": [
     "remove_cell"
    ]
   },
   "outputs": [],
   "source": [
    "# Find most recent RE node above all samples of each type\n",
    "from tqdm.auto import tqdm\n",
    "MRC_RE = {pango: (None, np.inf) for pango in pangoX}\n",
    "recombination_nodes = set(np.where(ts.nodes_flags & sc2ts.NODE_IS_RECOMBINANT)[0])\n",
    "nodes_time = ts.nodes_time\n",
    "for tree in ts.trees():\n",
    "    for x in pangoX:\n",
    "        samples = pango_lineage_samples[x]\n",
    "        if len(samples) == 0:\n",
    "            continue\n",
    "        u = samples[0] if len(samples) == 1 else tree.mrca(*samples)\n",
    "        while u not in recombination_nodes:\n",
    "            u = tree.parent(u)\n",
    "            if u == tskit.NULL:\n",
    "                break\n",
    "        if u != tskit.NULL and nodes_time[u] < MRC_RE[x][1]:\n",
    "            MRC_RE[x] = (u, nodes_time[u])"
   ]
  },
  {
   "cell_type": "code",
   "execution_count": null,
   "id": "68cf18f3-85ba-4ac2-8d13-269f5f4a6944",
   "metadata": {
    "editable": true,
    "slideshow": {
     "slide_type": ""
    },
    "tags": [
     "remove_cell"
    ]
   },
   "outputs": [],
   "source": [
    "# This is a bit tedious, as we have to look at all samples in all trees\n",
    "samples = {pango: set() for pango in pangoX}\n",
    "for tree in tqdm(ts.trees(), disable=hide_progress):\n",
    "    for pango, (potential_re, _) in MRC_RE.items():\n",
    "        if potential_re is not None:\n",
    "            samples[pango].update(tree.samples(potential_re))"
   ]
  },
  {
   "cell_type": "code",
   "execution_count": null,
   "id": "77dc21e6-c048-4ddb-8a83-f61052e1bf3d",
   "metadata": {
    "editable": true,
    "slideshow": {
     "slide_type": ""
    },
    "tags": []
   },
   "outputs": [],
   "source": [
    "pango_counts = {pango: collections.Counter() for pango in pangoX}\n",
    "sample_to_pango = {}\n",
    "for p, sample_ids in pango_lineage_samples.items():\n",
    "    for s in sample_ids:\n",
    "        sample_to_pango[s] = p\n",
    "for pango, sample_set in samples.items():\n",
    "    for s in sample_set:\n",
    "        pango_counts[pango][sample_to_pango[s]] += 1\n",
    "\n",
    "# Seemingly missing from Viridian QCed data\n",
    "pango_counts[\"XD\"] = None\n",
    "pango_counts[\"XK\"] = None\n",
    "pango_counts[\"XT\"] = None\n",
    "pango_counts[\"XV\"] = None\n",
    "pango_counts[\"XAB\"] = None\n",
    "pango_counts[\"XAH\"] = None\n",
    "pango_counts[\"XAK\"] = None\n",
    "pango_counts[\"XAQ\"] = None\n",
    "pango_counts[\"XAR\"] = None\n",
    "pango_counts[\"XAT\"] = None\n",
    "pango_counts[\"XAW\"] = None\n",
    "pango_counts[\"XAY\"] = None\n",
    "pango_counts[\"XBA\"] = None\n",
    "pango_counts[\"XBC\"] = None\n",
    "# Others past XBH not added here"
   ]
  },
  {
   "cell_type": "code",
   "execution_count": null,
   "id": "d70c9aa3-493f-4aef-8eb9-7220be64903b",
   "metadata": {
    "editable": true,
    "scrolled": true,
    "slideshow": {
     "slide_type": ""
    },
    "tags": []
   },
   "outputs": [],
   "source": [
    "tot_pango_x_re = []\n",
    "pango_x_nodes = collections.defaultdict(set)\n",
    "td = '<td style=\"padding: 0.5px 2px\">'\n",
    "th = '<th style=\"padding: 0.5px 2px; font-style: italic\">'\n",
    "html =f'<table style=\"font-size: 8pt; margin-left: auto; margin-right: auto;\"><tr><td colspan=\"2\" style=\"padding: 0.5px 0px; font-size: smallest\">Bold = main pango</td></tr>'\n",
    "html += f'<tr>{th}RE node</th>{th}{Pango}</th>{th}parents</th>{th}break@</th>{th}# descendants</th>{th}Most common</th></tr>'\n",
    "for pango in sorted(pango_counts, key=lambda x: (len(x), x)):\n",
    "    if len(pango_lineage_samples.get(pango, [])) == 0:\n",
    "        html += f'<tr>{td}</td>{td}<i>{pango}</i></td><td style=\"padding: 1px\" colspan=\"2\" style=\"text-align: center\">not in dataset</td></tr>'\n",
    "    else:\n",
    "        counts = pango_counts[pango]\n",
    "        tot = counts.total()\n",
    "        p = counts[pango]\n",
    "        most_common_X = None\n",
    "        is_recomb = (p > 0 and p/tot > 0.001)\n",
    "        re_nd = \"\"\n",
    "        pg = f'<s>{pango}</s>'\n",
    "        par = ''\n",
    "        breakpnts=''\n",
    "        if is_recomb:\n",
    "            pango_x_nodes[MRC_RE[pango][0]].add(pango)\n",
    "            most_common_X = max([x for x in counts if x.startswith(\"X\")], key=lambda x: counts[x])\n",
    "            re_nd = str(MRC_RE[pango][0])\n",
    "            pg = f'{pango}'\n",
    "            edges = ts.edges_child == MRC_RE[pango][0]\n",
    "            par = {ts.edges_parent[e]: ts.edges_left[e] for e in np.where(edges)[0]}\n",
    "            breakpnts = \", \".join({str(int(v)) for v in par.values()} - {'0', str(int(ts.sequence_length))})\n",
    "            par = sorted(par.keys(), key=par.get)\n",
    "            par = \"/\".join([pang for p_id in par for pang in df.loc[df.node_id == p_id, Pango]])\n",
    "            if most_common_X == pango:\n",
    "                tot_pango_x_re.append(MRC_RE[pango][0])\n",
    "                re_nd = f'<b>{re_nd}</b>'\n",
    "                pg = f'<b>{pango}</b>'\n",
    "        html += (\n",
    "            f'<tr>{td}{re_nd}</td>{td}{pg}</td>{td}{par}</td>{td}{breakpnts}</td>{td}{tot} of which {p} {pango}</td>'\n",
    "            f'{td}{\", \".join([p + \": \" + str(c) for p, c in counts.most_common(3)])}</td></tr>'\n",
    "        )\n",
    "html += \"</table>\"\n",
    "display(HTML(html))\n",
    "print(len(pango_x_nodes),\n",
    "      \"total pango X recombinant origins of which\",\n",
    "      len(tot_pango_x_re),\n",
    "      \"include all descendants of the dominant group (exceptions: XM and XBB)\")\n",
    "#print(\"Exceptions = RE nodes:\", set(pango_x_nodes.keys()) - set(tot_pango_x_re))\n",
    "#print(\"RE node for Pangos\", pango_x_nodes)"
   ]
  },
  {
   "cell_type": "code",
   "execution_count": null,
   "id": "ae12c07d-3b9c-4bad-a94e-d4a6c7c581e6",
   "metadata": {
    "editable": true,
    "scrolled": true,
    "slideshow": {
     "slide_type": ""
    },
    "tags": [
     "remove_cell"
    ]
   },
   "outputs": [],
   "source": [
    "# Load in the ARG to the visualizer\n",
    "arg = nb_utils.D3ARG_viz(ts, df, lineage_consensus_muts, pangolin_field=Pango, progress=not hide_progress)"
   ]
  },
  {
   "cell_type": "code",
   "execution_count": null,
   "id": "4d5e1de3-90db-4db4-b4ef-c76ea1797bb1",
   "metadata": {
    "editable": true,
    "scrolled": true,
    "slideshow": {
     "slide_type": ""
    },
    "tags": [
     "remove_cell"
    ]
   },
   "outputs": [],
   "source": [
    "arg.set_sc2ts_node_labels(progress=not hide_progress)\n",
    "arg.d3arg.nodes.loc[arg.d3arg.nodes.id == 200039, 'label'] = \"DELTA-origin\"\n",
    "arg.d3arg.nodes.loc[arg.d3arg.nodes.id == 822854, 'label'] = \"BA.2-origin\"\n",
    "arg.d3arg.nodes.loc[arg.d3arg.nodes.id == 1189192, 'label'] = \"BA.5-origin\"\n",
    "arg.set_sc2ts_node_styles()"
   ]
  },
  {
   "cell_type": "markdown",
   "id": "374b77ca-4ecd-4eba-aa68-bc3e94dd79fc",
   "metadata": {
    "editable": true,
    "slideshow": {
     "slide_type": ""
    },
    "tags": []
   },
   "source": [
    "# Pango-X Subgraphs\n",
    "\n",
    "Below we display subgraphs for all the main PangoX lineages that have samples present in the _sc2ts_ ARG. Pango designations for both samples and internal nodes were assigned using XX TODO: fill out details XXX. For nodes with large numbers of descendants, only a selected sample of (say) 20-50 Pango X samples are shown. Extra descendants of a node are shown with dotted lines indicating additional immediate children of a node. In some cases, additional descendant nodes of different Pango designations (e.g. BA.2) are shown for context.\n",
    "\n",
    "Recombination nodes are presented as larger circular nodes, with a Pango designation followed by the breakpoint position(s) surrounded by slashes, e.g. a breakpoint at position 1234 bp is indicated as **/1234/** (but note that PangoX lineages that are not of recombinant origin in sc2ts will not have a clear recombination node). Mutations within each subgraph (tickmarks along edges) are coloured pink if they are flagged as consensus mutations for those lineages: often such mutations occur in lineages above the PangoX origination node. Alternatively, if there are multiple mutations at the same site within a subgraph (indicating reversions or recurrent mutations) they plotted in a unique colour. For example, two green mutation tickmarks will represent mutations at the same site. If one is a reversion of a previous mutation (often indicating an unparsimonious reconstruction of topology), then the mutation is emphasised with a solid black outline. Deletion mutations are filled in black, and reversions of deletions (expected not to happen spontaneously) are magenta with a black outline.\n",
    "\n",
    "In the PDF version of this document, hovering over node names will reveal the sample_id of a node, and hovering over a mutation will reveal the position of the mutation and the inherited vs derived state. E.g. a mouseover label of <code>mut:A1234T</code> denotes a mutation from an A to a T at position 1234 in the genome. Technially this is implemented by faking a URL (this leads to the slightly annoying behaviour that actually clicking on the hover-over text will attempt to open a non-existent URL)."
   ]
  },
  {
   "cell_type": "code",
   "execution_count": null,
   "id": "36046fd3-16a7-408e-85fd-b5e13e63aeda",
   "metadata": {
    "editable": true,
    "slideshow": {
     "slide_type": ""
    },
    "tags": []
   },
   "outputs": [],
   "source": [
    "# Scale all the viz versions for print, so that a standard 750 x 1000 subgraph fits onto one size of A4\n",
    "display(HTML(\"<style>@media print {.d3arg {zoom: 0.8}}</style>\"));\n",
    "def txt(html, right=\"15em\", top=\"15em\", width=\"275px\"):\n",
    "    return (\n",
    "        f'<div style=\"position: absolute; z-index:1; right:{right}; top:{top}; width:{width};'\n",
    "        f'border:1px solid black; padding: 0.5em;\">{html}</div>'\n",
    "    )\n",
    "def issue(issue_number):\n",
    "    return f'See GitHub sc2ts-paper <a href=\"https://github.com/jeromekelleher/sc2ts-paper/issues/{issue_number}\">issue #{issue_number}</a>'\n",
    "class RecordPango:\n",
    "    # Simply record all the calls to cls.pango()\n",
    "    pangos = []\n",
    "    def pango(self, pango_string):\n",
    "        if type(pango_string) == str:\n",
    "            self.pangos.append(pango_string)\n",
    "        else:\n",
    "            self.pangos += pango_string\n",
    "        return pango_string\n",
    "rec = RecordPango()"
   ]
  },
  {
   "cell_type": "code",
   "execution_count": null,
   "id": "ad877fbf-2d46-4e6d-baaf-1a10b2787e0e",
   "metadata": {
    "editable": true,
    "scrolled": true,
    "slideshow": {
     "slide_type": ""
    },
    "tags": []
   },
   "outputs": [],
   "source": [
    "html = '''<p>XA traces to a very clean recombination node, with no important reversions etc.\n",
    "Note that the causal sample (which triggers the initial recombination) is very close to the recombination\n",
    "event, and therefore lacks C8090T which is one of the \"XA consensus\" mutations (identified as those shared by\n",
    "over 90% of XA samples).</p>'''\n",
    "\n",
    "arg.plot_pango_subgraph(\n",
    "    rec.pango(\"XA\"),\n",
    "    txt(html, right=\"15em\", top=\"27.5em\"),\n",
    "    y_axis_scale=\"rank\",\n",
    "    parent_pangos=(\"B.1.1.7\", \"B.1.177.18\")\n",
    ")"
   ]
  },
  {
   "cell_type": "code",
   "execution_count": null,
   "id": "e11819b9-6a27-4c42-b9a1-0e67b5b78c9b",
   "metadata": {
    "editable": true,
    "scrolled": true,
    "slideshow": {
     "slide_type": ""
    },
    "tags": []
   },
   "outputs": [],
   "source": [
    "# XB has too many samples so we remove the immediate children of the XB root\n",
    "exclude = np.unique(ts.edges_child[ts.edges_parent==223239])\n",
    "exclude = exclude[exclude != 223230]\n",
    "\n",
    "html = '''<p>XB is seemingly not a recombinant in the sc2ts ARG. Here we display only a few of the 192 XB samples</p>'''\n",
    "\n",
    "arg.plot_pango_subgraph(\n",
    "    rec.pango(\"XB\"),\n",
    "    txt(html, right=\"24em\", top=\"10em\"),\n",
    "    child_levels=0,\n",
    "    restrict_to_first=30,\n",
    "    exclude=exclude,\n",
    "    parent_pangos=[\"B.1.243\"])"
   ]
  },
  {
   "cell_type": "code",
   "execution_count": null,
   "id": "571d8c8c-233e-4e5b-95a9-43202faf1d48",
   "metadata": {
    "editable": true,
    "slideshow": {
     "slide_type": ""
    },
    "tags": []
   },
   "outputs": [],
   "source": [
    "arg.plot_pango_subgraph(\n",
    "    rec.pango(\"XC\"),\n",
    "    parent_levels=5,\n",
    "    y_axis_scale=\"rank\",\n",
    "    parent_pangos=[\"AY.29\", \"B.1.1.7\"],\n",
    "    oldest_y_label=\"2020-05\",\n",
    ")"
   ]
  },
  {
   "cell_type": "code",
   "execution_count": null,
   "id": "637b02f4-c37f-4162-862d-193a389d1697",
   "metadata": {
    "editable": true,
    "slideshow": {
     "slide_type": ""
    },
    "tags": []
   },
   "outputs": [],
   "source": [
    "html = '''<p>Some repeat sequences involving deletions just on the RHS of the breakpoint (see copying table below).\n",
    "    Could these be misaligned?</p>\n",
    "    <p>The 2 recombination nodes to the bottom right may be spurious.\n",
    "    Possible alignment problems with the deletion here?</p>''' +  issue(337)\n",
    "with warnings.catch_warnings():\n",
    "    warnings.simplefilter(\"ignore\")\n",
    "    arg.plot_pango_subgraph(\n",
    "        rec.pango([\"XE\", \"XH\"]),\n",
    "        txt(html, right=\"23em\", width=\"32em\", top=\"10em\"),\n",
    "        include=[1212052, 1177107],\n",
    "        restrict_to_first=20,\n",
    "        parent_pangos=[\"BA.1.17.2\", \"BA.2\"],\n",
    "        child_levels=0,\n",
    "        parent_levels=5,\n",
    "        height=700,  # make room for the copying pattern\n",
    "        y_axis_scale=\"rank\",\n",
    "    )\n",
    "HTML(\n",
    "    \"<style>table.copying-table {font-size: 8px; @media print {zoom: 0.6}} table.copying-table .pattern td {font-size: 0.5em; width:0.3em}</style>\" +\n",
    "    sc2ts.info.CopyingTable(ts, 965353).html(show_bases=None)\n",
    ")"
   ]
  },
  {
   "cell_type": "code",
   "execution_count": null,
   "id": "b4d39c1c-21ee-4409-9b08-b3bb55f07e57",
   "metadata": {},
   "outputs": [],
   "source": [
    "arg.plot_pango_subgraph(\n",
    "    rec.pango(\"XF\"),\n",
    "    txt(\"Looks a clean recombinant\", right=\"30em\"),\n",
    "    parent_pangos=[\"BA.1\", \"AY.4\"],\n",
    "    y_axis_scale=\"rank\"\n",
    ")"
   ]
  },
  {
   "cell_type": "code",
   "execution_count": null,
   "id": "4f2f7c3b-ee7a-4ad5-97fd-fde6e2026243",
   "metadata": {
    "editable": true,
    "slideshow": {
     "slide_type": ""
    },
    "tags": []
   },
   "outputs": [],
   "source": [
    "html = (\n",
    "    \"<p>Fairly clean</p>\"\n",
    ")\n",
    "\n",
    "arg.plot_pango_subgraph(\n",
    "    rec.pango(\"XG\"),\n",
    "    txt(html, \"25em\"),\n",
    "    parent_pangos=[\"BA.1.17\", \"BA.2.9\"],\n",
    "    y_axis_scale=\"rank\"\n",
    ")"
   ]
  },
  {
   "cell_type": "code",
   "execution_count": null,
   "id": "3b7e3df2-67db-4faa-ac36-ed0b09961446",
   "metadata": {
    "editable": true,
    "slideshow": {
     "slide_type": ""
    },
    "tags": []
   },
   "outputs": [],
   "source": [
    "arg.plot_pango_subgraph(\n",
    "    rec.pango(\"XJ\"),\n",
    "    include=[1090786],\n",
    "    y_axis_scale=\"rank\",\n",
    "    parent_pangos=[\"BA.1.17.2\", \"BA.2\"],\n",
    ")"
   ]
  },
  {
   "cell_type": "code",
   "execution_count": null,
   "id": "25459db2-f1fe-4485-a67e-d1965c880c89",
   "metadata": {
    "editable": true,
    "slideshow": {
     "slide_type": ""
    },
    "tags": []
   },
   "outputs": [],
   "source": [
    "arg.plot_pango_subgraph(\n",
    "    rec.pango(\"XL\"),\n",
    "    y_axis_scale=\"rank\",\n",
    "    parent_pangos=[\"BA.1.17.2\", \"BA.2\"]\n",
    ")"
   ]
  },
  {
   "cell_type": "code",
   "execution_count": null,
   "id": "cd660ee0-f482-4e6a-99b7-cca7d58afd67",
   "metadata": {
    "editable": true,
    "scrolled": true,
    "slideshow": {
     "slide_type": ""
    },
    "tags": []
   },
   "outputs": [],
   "source": [
    "html = \"Multiple origins of XM, but one dominant one (node 1003220 at position 𝟐𝟏𝟓𝟗𝟓), which also contains XAL\"\n",
    "\n",
    "pangos = rec.pango([\"XM\", \"XAL\"])\n",
    "colours = ['#332288', '#88CCEE', '#44AA99', '#117733', '#999933', '#DDCC77']  # from https://personal.sron.nl/~pault/\n",
    "arg.plot_pango_subgraph(\n",
    "    pangos, txt(html, right=\"30em\", top=\"20.5em\", width=\"25em\"),\n",
    "    parent_pangos=[\"BA.1.1\", \"BA.2\"],\n",
    "    child_levels=0,\n",
    "    parent_levels=7,\n",
    "    highlight_nodes={c: pango_lineage_samples[pX] for c, pX in zip(colours, pangos)},\n",
    "    y_axis_scale=\"rank\",\n",
    "    height=700,\n",
    ")\n",
    "\n",
    "HTML(\n",
    "    \"<style>table.copying-table {font-size: 8px; @media print {zoom: 0.6}} table.copying-table .pattern td {font-size: 0.5em; width:0.3em}</style>\" +\n",
    "    sc2ts.info.CopyingTable(ts, 1003220).html(child_label=\"1003220\", show_bases=None)\n",
    ")"
   ]
  },
  {
   "cell_type": "code",
   "execution_count": null,
   "id": "5ed09b05-1f22-4a7f-86cd-3c6a0d98db83",
   "metadata": {
    "editable": true,
    "slideshow": {
     "slide_type": ""
    },
    "tags": []
   },
   "outputs": [],
   "source": [
    "html = (\n",
    "    \"Clearly non-recombinant in sc2ts: the most basal XN is only one mutation different from an inferred BA.2 node. \" +\n",
    "    \"The XAU lineage is a non-recombinant sister to XN, so also shown here \" +\n",
    "    issue(358)\n",
    ")\n",
    "\n",
    "pangoX = rec.pango([\"XN\", \"XAU\"])\n",
    "cmap = {c: pango_lineage_samples[pX] for c, pX in zip(colours, [\"XAU\", \"XN\"])}\n",
    "\n",
    "arg.plot_pango_subgraph(\n",
    "    pangoX,\n",
    "    txt(html),\n",
    "    include=[1230542, 1235915, 1250403],\n",
    "    parent_levels=7, child_levels=0,\n",
    "    parent_pangos=[\"BA.2\"],\n",
    "    highlight_nodes=cmap,\n",
    "    y_axis_scale=\"rank\",\n",
    ")"
   ]
  },
  {
   "cell_type": "code",
   "execution_count": null,
   "id": "9725cebb-b9e6-48e3-80f4-9771234f36cd",
   "metadata": {
    "editable": true,
    "slideshow": {
     "slide_type": ""
    },
    "tags": []
   },
   "outputs": [],
   "source": [
    "\n",
    "with warnings.catch_warnings():\n",
    "    warnings.simplefilter(\"ignore\")\n",
    "    arg.plot_pango_subgraph(\n",
    "        rec.pango(\"XP\"),\n",
    "        txt(\n",
    "            \"This is a known case where the PangoX recombinant is defined on the basis of a deletion \" +\n",
    "            \"which is not common enough to map in sc2ts (and hence not shown here). If this deletion \" +\n",
    "            \"is potentially recurrent, evidence from sc2ts indicates XP may not be a recombinant, \" + \n",
    "            \"as it is only one mutation different from BA.2 sample ERR8628084, and that mutation is \" +\n",
    "            \"at position 29510, at the end of the genome and hence error-prone. \" + issue(345),\n",
    "            right=\"35em\", top=\"25em\"),\n",
    "        parent_levels=12,\n",
    "        parent_pangos=[\"BA.1.1\"],\n",
    "        y_axis_scale=\"rank\",\n",
    "    )"
   ]
  },
  {
   "cell_type": "code",
   "execution_count": null,
   "id": "9c25e098-5cc0-46ad-b1e6-86ae316bd85b",
   "metadata": {
    "editable": true,
    "scrolled": true,
    "slideshow": {
     "slide_type": ""
    },
    "tags": []
   },
   "outputs": [],
   "source": [
    "pangoX = rec.pango([\"XQ\", \"XR\", \"XU\", \"XAA\", \"XAG\", \"XAM\"])\n",
    "html = (\n",
    "    \"The RH parent is clearly misidentified, and should be 1028784 (higher up the BA.2 branch), which would prevent 3 reversions. Presumably this inferred node was not available at the time of matching, or the .are a maximum of 10 samples from each group to display, plus some extra BA.2 samples that appear nested. \" +\n",
    "    issue(338)\n",
    ")\n",
    "extras1 = [1216524, 1240312, 1105611, 2534291, 2534290, 1202063, 1158324, 1080162]\n",
    "extras2 = [1094287, 1058654]\n",
    "#extras3 = [1126313, 2534274, 2534275, 1141965, 2508149, 1105611, 1142202, 1111753]\n",
    "\n",
    "colours = ['#332288', '#88CCEE', '#44AA99', '#117733', '#999933', '#DDCC77']  # from https://personal.sron.nl/~pault/\n",
    "\n",
    "arg.plot_pango_subgraph(\n",
    "    pangoX,\n",
    "    txt(html, right=\"14em\", width=\"30em\", top=\"10em\"),\n",
    "    include=extras1, # + extras2, # + extras3 + [1200258, 1158324],\n",
    "    height=700,\n",
    "    restrict_to_first=10,\n",
    "    parent_levels=10,\n",
    "    child_levels=0,\n",
    "    parent_pangos=[\"BA.1.1.15\", \"BA.2.9\"],\n",
    "    highlight_nodes={c: pango_lineage_samples[pX] for c, pX in zip(colours, pangoX)},\n",
    "    y_axis_scale=\"rank\",\n",
    "    oldest_y_label=\"2021-08\",\n",
    ")\n",
    "\n",
    "HTML(\n",
    "    \"<style>table.copying-table {font-size: 7px; @media print {zoom: 0.4}} table.copying-table .pattern td {font-size: 0.4em; width:0.3em}</style>\" +\n",
    "    sc2ts.info.CopyingTable(ts, 1058654).html(child_label=\"XQ\", show_bases=None)\n",
    ")"
   ]
  },
  {
   "cell_type": "code",
   "execution_count": null,
   "id": "1e9b286f-12d8-4848-b934-cdacd7167f7c",
   "metadata": {
    "editable": true,
    "slideshow": {
     "slide_type": ""
    },
    "tags": []
   },
   "outputs": [],
   "source": [
    "html = (\n",
    "    \"Although there are two recombination nodes adjacent to each other. \" +\n",
    "    \"The second node is likely to be an artifact  \" +\n",
    "    issue(287)\n",
    ")\n",
    "with warnings.catch_warnings():\n",
    "    warnings.simplefilter(\"ignore\")\n",
    "    arg.plot_pango_subgraph(\n",
    "        rec.pango(\"XS\"),\n",
    "        txt(html, top=\"9em\"),\n",
    "        parent_levels=6,\n",
    "        parent_pangos=[\"AY.103\", \"BA.1.1\"],\n",
    "        y_axis_scale=\"rank\",\n",
    "        oldest_y_label=\"2021-06\",\n",
    "        height=600,\n",
    "    )"
   ]
  },
  {
   "cell_type": "code",
   "execution_count": null,
   "id": "f871da6f-57e5-4569-8f80-322b1e7c0c65",
   "metadata": {},
   "outputs": [],
   "source": [
    "arg.plot_pango_subgraph(\n",
    "    rec.pango(\"XW\"),\n",
    "    parent_levels=6,\n",
    "    parent_pangos=[\"BA.1.1.15\", \"BA.2\"],\n",
    "    oldest_y_label=\"2021-10\",\n",
    "    y_axis_scale=\"rank\",\n",
    ")"
   ]
  },
  {
   "cell_type": "code",
   "execution_count": null,
   "id": "06aac740-b06a-44ca-8edb-5bbd3da3f674",
   "metadata": {},
   "outputs": [],
   "source": [
    "arg.plot_pango_subgraph(\n",
    "    rec.pango(\"XY\"),\n",
    "    parent_levels=6,\n",
    "    parent_pangos=[\"BA.1.1\", \"BA.2\"],\n",
    "    oldest_y_label=\"2021-10\",\n",
    "    y_axis_scale=\"rank\",\n",
    ")"
   ]
  },
  {
   "cell_type": "code",
   "execution_count": null,
   "id": "12807198-be19-43ea-a064-7efb73add45b",
   "metadata": {},
   "outputs": [],
   "source": [
    "colours = ['#332288', '#88CCEE', '#44AA99', '#999933', '#DDCC77']  # from https://personal.sron.nl/~pault/\n",
    "pangoX = rec.pango([\"XZ\", \"XAC\", \"XAD\", \"XAE\", \"XAP\"])\n",
    "html = \"<p>A good example of a nested set of Pango X designations. However, the two XAD samples are probably wrongly separated here: it would be more parsimonious to group them which could remove 4 recurrent mutations.</p>\" + issue(339)\n",
    "\n",
    "cmap = {c: pango_lineage_samples[pX] for c, pX in zip(colours, pangoX)}\n",
    "\n",
    "keep_ids = list(df.loc[[\"SRR19689888\", \"ERR8146303\", \"ERR8163061\", \"SRR19689888\"], 'node_id'])\n",
    "\n",
    "cmap.update({'lightgrey': keep_ids})\n",
    "\n",
    "arg.plot_pango_subgraph(\n",
    "    pangoX,\n",
    "    txt(html, right=\"35em\"),\n",
    "    include=keep_ids,\n",
    "    parent_levels=4,\n",
    "    highlight_nodes=cmap,\n",
    "    height=700,\n",
    "    oldest_y_label=\"2021-10\",    \n",
    ")\n",
    "\n",
    "HTML(\n",
    "    \"<style>table.copying-table {font-size: 8px; @media print {zoom: 0.6}} table.copying-table .pattern td {font-size: 0.5em; width:0.3em}</style>\" +\n",
    "    sc2ts.info.CopyingTable(ts, 964555).html(show_bases=None)\n",
    ")"
   ]
  },
  {
   "cell_type": "code",
   "execution_count": null,
   "id": "21052cc7-1cb5-4580-9653-cf850cc98a31",
   "metadata": {},
   "outputs": [],
   "source": [
    "html = \"This looks complicated because it is entagled with the two upper RE nodes which are those created by the XE/XH recombinant. \" + issue(360)\n",
    "arg.plot_pango_subgraph(\n",
    "    rec.pango(\"XAF\"),\n",
    "    txt(html),\n",
    "    include=[1177107],\n",
    "    parent_levels=5,\n",
    "    child_levels=10,\n",
    "    parent_pangos=[\"BA.2\", \"BA.1\"],\n",
    "    height=700,\n",
    "    y_axis_scale=\"rank\",\n",
    ")\n",
    "\n",
    "HTML(\n",
    "    \"<style>table.copying-table {font-size: 8px; @media print {zoom: 0.6}} table.copying-table .pattern td {font-size: 0.5em; width:0.3em}</style>\" +\n",
    "    sc2ts.info.CopyingTable(ts, 1177107).html(show_bases=None)\n",
    ")"
   ]
  },
  {
   "cell_type": "code",
   "execution_count": null,
   "id": "fedae7bc-9807-4752-a3b4-956444876b27",
   "metadata": {},
   "outputs": [],
   "source": [
    "html = issue(352)\n",
    "\n",
    "with warnings.catch_warnings():\n",
    "    warnings.simplefilter(\"ignore\")\n",
    "    arg.plot_pango_subgraph(\n",
    "        rec.pango(\"XAJ\"),\n",
    "        txt(\"Not a recombinant. \" + html, right=\"30em\", top=\"20em\"),\n",
    "        parent_levels=9,\n",
    "        parent_pangos=[\"BA.2.12\"],\n",
    "        y_axis_scale=\"rank\",\n",
    "        oldest_y_label=\"2021-09\",    \n",
    "    )"
   ]
  },
  {
   "cell_type": "code",
   "execution_count": null,
   "id": "2cf00ed6-c3d9-4156-a4dc-28760e162512",
   "metadata": {},
   "outputs": [],
   "source": [
    "pangoX = rec.pango([\"XAN\", \"XAV\"])\n",
    "cmap = {c: pango_lineage_samples[pX] for c, pX in zip(colours, pangos)}\n",
    "\n",
    "arg.plot_pango_subgraph(\n",
    "    pangoX,\n",
    "    txt(\"Here, XAV is also included for context, as it shares some mutations with XAN. \" + issue(353)),\n",
    "    parent_levels=5,\n",
    "    parent_pangos=[\"BA.5.1\", \"BA.5.1.24\"],\n",
    "    highlight_nodes=cmap,\n",
    "    oldest_y_label=\"2022-02\",\n",
    ")"
   ]
  },
  {
   "cell_type": "code",
   "execution_count": null,
   "id": "c818556a-368e-44fd-b639-468eae3b5f8f",
   "metadata": {},
   "outputs": [],
   "source": [
    "html = (\n",
    "    \"The proposed evidence to designate XAS is a single (likely functionally important) protein-truncating mutation in some BA.2 samples. So, it clearly falls behind our threshold of detection. This case also highlights some subjectivity when weighing evidence for recombination.\" + issue(340))\n",
    "\n",
    "with warnings.catch_warnings():\n",
    "    warnings.simplefilter(\"ignore\")\n",
    "    arg.plot_pango_subgraph(\n",
    "        rec.pango(\"XAS\"),\n",
    "        parent_levels=5,\n",
    "        parent_pangos=[\"BA.4\"],\n",
    "        oldest_y_label=\"2021-11\",\n",
    "        y_axis_scale=\"rank\",\n",
    "    )"
   ]
  },
  {
   "cell_type": "code",
   "execution_count": null,
   "id": "866edb7f-5be7-420c-ae85-3c0380dd595e",
   "metadata": {},
   "outputs": [],
   "source": [
    "arg.plot_pango_subgraph(\n",
    "    rec.pango(\"XAV\"),\n",
    "    txt(issue(354)),\n",
    "    parent_levels=7, child_levels=1,\n",
    "    parent_pangos=[\"BA.2\"],\n",
    "    oldest_y_label=\"2022-02\",\n",
    ")"
   ]
  },
  {
   "cell_type": "code",
   "execution_count": null,
   "id": "6d8bbab1-d57e-4ee6-9b5d-13169d2eb489",
   "metadata": {},
   "outputs": [],
   "source": [
    "html = (\n",
    "    \"There are a lot of XAZ samples, but they all form a clade, so just pick the first 20 for viz. \" +\n",
    "    issue(356)\n",
    ")\n",
    "with warnings.catch_warnings():\n",
    "    warnings.simplefilter(\"ignore\")\n",
    "    arg.plot_pango_subgraph(\n",
    "        rec.pango(\"XAZ\"),\n",
    "        txt(html, right=\"30em\", top=\"30em\"),\n",
    "        restrict_to_first=20,\n",
    "        parent_levels=4, child_levels=0,\n",
    "        parent_pangos=[\"BA.2\"],\n",
    "        oldest_y_label=\"2022-01\",\n",
    "    )"
   ]
  },
  {
   "cell_type": "code",
   "execution_count": null,
   "id": "4728058e-436a-4400-9502-970e2e17a981",
   "metadata": {},
   "outputs": [],
   "source": [
    "with warnings.catch_warnings():\n",
    "    warnings.simplefilter(\"ignore\")\n",
    "    arg.plot_pango_subgraph(\n",
    "        rec.pango(\"XBB\"),\n",
    "        restrict_to_first=20,\n",
    "        #include=[1408964, 1396838, 1404568, 1423196, 1398292, 2681617, 1409763],\n",
    "        include=[1429711, 1436032],\n",
    "        parent_levels=8,\n",
    "        parent_pangos=[\"BA.2.10\", \"BM.1.1.1\"],\n",
    "        oldest_y_label=\"2021-11\",\n",
    "        y_axis_scale=\"rank\",\n",
    "    )"
   ]
  },
  {
   "cell_type": "code",
   "execution_count": null,
   "id": "1e1b2a9d-a780-413d-b41d-204941ad0667",
   "metadata": {},
   "outputs": [],
   "source": [
    "arg.plot_pango_subgraph(\n",
    "    rec.pango(\"XBD\"),\n",
    "    y_axis_scale=\"rank\",\n",
    "    parent_levels=7,\n",
    "    parent_pangos=[\"BA.5.2\"],\n",
    "    oldest_y_label=\"2022-02\",\n",
    ")"
   ]
  },
  {
   "cell_type": "code",
   "execution_count": null,
   "id": "544aaea1-7fcf-4bfa-a41d-775efb660553",
   "metadata": {},
   "outputs": [],
   "source": [
    "arg.plot_pango_subgraph(\n",
    "    rec.pango(\"XBE\"),\n",
    "    txt(issue(351), right=\"5em\", top=\"20em\"),\n",
    "    parent_levels=7,\n",
    "    parent_pangos=[\"BA.5.2\"],\n",
    "    oldest_y_label=\"2022-03\",\n",
    ")"
   ]
  },
  {
   "cell_type": "code",
   "execution_count": null,
   "id": "61b55a51-bb88-47d9-840b-c65b98b9676d",
   "metadata": {},
   "outputs": [],
   "source": [
    "arg.plot_pango_subgraph(\n",
    "    rec.pango(\"XBF\"),\n",
    "    parent_levels=7,\n",
    "    parent_pangos=[\"BA.5.2.1\", \"CJ.1\"],\n",
    "    oldest_y_label=\"2022-03\",\n",
    ")"
   ]
  },
  {
   "cell_type": "code",
   "execution_count": null,
   "id": "e657b37f-6507-41c8-a3b6-bc8ad425ed1c",
   "metadata": {},
   "outputs": [],
   "source": [
    "arg.plot_pango_subgraph(\n",
    "    rec.pango(\"XBG\"),\n",
    "    parent_levels=7,\n",
    "    parent_pangos=[\"BA.2.76\", \"BA.5.2\"],\n",
    "    oldest_y_label=\"2022-03\",\n",
    ")"
   ]
  },
  {
   "cell_type": "code",
   "execution_count": null,
   "id": "d74292ea-7908-4d5c-8e30-e77cea6e6a67",
   "metadata": {},
   "outputs": [],
   "source": [
    "arg.plot_pango_subgraph(\n",
    "    rec.pango(\"XBH\"),\n",
    "    parent_levels=4,\n",
    "    child_levels=3,\n",
    "    include=[1379419],\n",
    "    height=700,\n",
    "    y_axis_scale=\"rank\",\n",
    "    parent_pangos=[\"BA.2.1\", \"BA.2.75.2\"],\n",
    "    oldest_y_label=\"2021-09\",\n",
    ")"
   ]
  },
  {
   "cell_type": "code",
   "execution_count": null,
   "id": "7a0b0261-dc20-4ded-91d6-b642424239a0",
   "metadata": {
    "scrolled": true
   },
   "outputs": [],
   "source": [
    "colours = ['#332288', '#88CCEE', '#44AA99', '#999933', '#DDCC77']  # from https://personal.sron.nl/~pault/\n",
    "pangoX = rec.pango([\"XBK\", \"XBK.1\", \"XBQ\", \"CJ.1.3\"])\n",
    "with warnings.catch_warnings():\n",
    "    warnings.simplefilter(\"ignore\")\n",
    "    arg.plot_pango_subgraph(\n",
    "        pangoX,\n",
    "        txt(issue(349), right=\"25em\"),\n",
    "        include = [1363939, 1342796],\n",
    "        parent_levels=10,\n",
    "        parent_pangos=[\"BM.1.1.1\", \"BM.1.1\", \"BA.2\", \"BA.2.75\", \"BA.2.75.3\"],\n",
    "        highlight_nodes={c: pango_lineage_samples[pX] for c, pX in zip(colours, pangoX)},\n",
    "        oldest_y_label=\"2021-10\",\n",
    "    )"
   ]
  },
  {
   "cell_type": "code",
   "execution_count": null,
   "id": "a6ac6b96-652b-4838-9788-ca1dc0875a68",
   "metadata": {},
   "outputs": [],
   "source": [
    "keep_ids = list(df.loc[[\"SRR21672613\", \"ERR10770184\"], 'node_id'])\n",
    "\n",
    "\n",
    "arg.plot_pango_subgraph(\n",
    "    rec.pango(\"XBM\"),\n",
    "    parent_levels=6,\n",
    "    child_levels=3,\n",
    "    include=keep_ids,\n",
    "    y_axis_scale=\"rank\",\n",
    "    parent_pangos=[\"BA.2.76\", \"BF.3\"],\n",
    "    oldest_y_label=\"2022-04\",\n",
    ")"
   ]
  },
  {
   "cell_type": "code",
   "execution_count": null,
   "id": "229ebf1c-94b2-4868-9c7c-105177aae185",
   "metadata": {},
   "outputs": [],
   "source": [
    "arg.plot_pango_subgraph(\n",
    "    rec.pango(\"XBR\"),\n",
    "    parent_levels=4,\n",
    "    child_levels=0,\n",
    "    height=500,\n",
    "    parent_pangos=[\"BA.5.2\"],\n",
    "    oldest_y_label=\"2022-07\",\n",
    ")"
   ]
  },
  {
   "cell_type": "code",
   "execution_count": null,
   "id": "e2a63248-a8ba-4cf6-b194-da2c25b3c791",
   "metadata": {},
   "outputs": [],
   "source": [
    "# Check we have plotted all the not-None pangos in pango_counts\n",
    "assert len({k for k, v in pango_counts.items() if v is not None} - set(rec.pangos)) == 0"
   ]
  },
  {
   "cell_type": "code",
   "execution_count": null,
   "id": "afde8711-905b-4fe4-825b-a0dbe2a8ce0a",
   "metadata": {},
   "outputs": [],
   "source": []
  }
 ],
 "metadata": {
  "kernelspec": {
   "display_name": "Python 3 (ipykernel)",
   "language": "python",
   "name": "python3"
  },
  "language_info": {
   "codemirror_mode": {
    "name": "ipython",
    "version": 3
   },
   "file_extension": ".py",
   "mimetype": "text/x-python",
   "name": "python",
   "nbconvert_exporter": "python",
   "pygments_lexer": "ipython3",
   "version": "3.12.10"
  }
 },
 "nbformat": 4,
 "nbformat_minor": 5
}
