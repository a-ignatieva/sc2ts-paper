{
 "cells": [
  {
   "cell_type": "markdown",
   "id": "13f8a0c8-da74-4ffd-b7af-3cb34ad6cf04",
   "metadata": {},
   "source": [
    "# Investigating Pango recombinant (X-) origins in the sc2ts ARG"
   ]
  },
  {
   "cell_type": "code",
   "execution_count": null,
   "id": "69d69070-4eb2-45ad-b52d-5ffc81fe3c9c",
   "metadata": {},
   "outputs": [],
   "source": [
    "import collections\n",
    "\n",
    "import sc2ts\n",
    "import numpy as np\n",
    "import tskit\n",
    "import numpy as np\n",
    "import tskit_arg_visualizer as argviz\n",
    "\n",
    "import nb_utils\n",
    "\n",
    "from IPython.display import HTML\n",
    "HTML('<style type=\"text/css\">.progress .progress-bar::after{content:\"🦠\";display:block;text-align:right;margin-top:-2px;}'\n",
    "     '.progress .progress-bar {background-color: #BBBBFF}</style>')"
   ]
  },
  {
   "cell_type": "code",
   "execution_count": null,
   "id": "5d8691ff-5336-48ac-af8a-1d6475d9cbf9",
   "metadata": {},
   "outputs": [],
   "source": [
    "# Get the Viridian ARG\n",
    "ts = nb_utils.load()\n",
    "ti = sc2ts.TreeInfo(ts)\n",
    "print(f\"{ts.num_nodes} nodes, {ts.num_edges} edges, {ts.num_mutations} mutations, {np.sum(ts.nodes_flags & sc2ts.NODE_IS_RECOMBINANT != 0)} recombination events\")"
   ]
  },
  {
   "cell_type": "markdown",
   "id": "e8af5be8-c2f5-4d07-87e7-5a3570a3d353",
   "metadata": {},
   "source": [
    "### List out the pango-X nodes"
   ]
  },
  {
   "cell_type": "code",
   "execution_count": null,
   "id": "782e3924-4e00-4922-aa91-f0a5fc91ae4f",
   "metadata": {},
   "outputs": [],
   "source": [
    "pangoFullX = [p for p, s in ti.pango_lineage_samples.items() if p.startswith(\"X\")]\n",
    "print(f\"{len(pangoFullX)} full pango-X lineages=\", pangoFullX)\n",
    "pangoX = [p for p in pangoFullX if \".\" not in p]\n",
    "print(f\"\\n{len(pangoX)} main pango-X lineages=\", pangoX)"
   ]
  },
  {
   "cell_type": "code",
   "execution_count": null,
   "id": "b6107f94-98ce-4dc6-b8e9-045efd5cef71",
   "metadata": {},
   "outputs": [],
   "source": [
    "lineage_defining_muts = nb_utils.read_in_mutations(\"../data/consensus_mutations.json.bz2\")"
   ]
  },
  {
   "cell_type": "code",
   "execution_count": null,
   "id": "ade1465a-dcab-49dd-a617-f0537f870044",
   "metadata": {
    "scrolled": true
   },
   "outputs": [],
   "source": [
    "# Find most recent RE node above all samples of each type\n",
    "from tqdm.auto import tqdm\n",
    "MRC_RE = {pango: (None, np.inf) for pango in pangoX}\n",
    "recombination_nodes = set(np.where(ts.nodes_flags & sc2ts.NODE_IS_RECOMBINANT)[0])\n",
    "nodes_time = ts.nodes_time\n",
    "for tree in tqdm(ts.trees()):\n",
    "    for x in pangoX:\n",
    "        samples = ti.pango_lineage_samples[x]\n",
    "        if len(samples) == 0:\n",
    "            continue\n",
    "        u = samples[0] if len(samples) == 1 else tree.mrca(*samples)\n",
    "        while u not in recombination_nodes:\n",
    "            u = tree.parent(u)\n",
    "            if u == tskit.NULL:\n",
    "                break\n",
    "        if u != tskit.NULL and nodes_time[u] < MRC_RE[x][1]:\n",
    "            MRC_RE[x] = (u, nodes_time[u])"
   ]
  },
  {
   "cell_type": "code",
   "execution_count": null,
   "id": "68cf18f3-85ba-4ac2-8d13-269f5f4a6944",
   "metadata": {},
   "outputs": [],
   "source": [
    "# This is a bit tedious, as we have to look at all samples in all trees\n",
    "samples = {pango: set() for pango in pangoX}\n",
    "for tree in tqdm(ts.trees()):\n",
    "    for pango, (potential_re, _) in MRC_RE.items():\n",
    "        if potential_re is not None:\n",
    "            samples[pango].update(tree.samples(potential_re))\n",
    "        "
   ]
  },
  {
   "cell_type": "code",
   "execution_count": null,
   "id": "77dc21e6-c048-4ddb-8a83-f61052e1bf3d",
   "metadata": {},
   "outputs": [],
   "source": [
    "pango_counts = {pango: collections.Counter() for pango in pangoX}\n",
    "sample_to_pango = {}\n",
    "for p, sample_ids in ti.pango_lineage_samples.items():\n",
    "    for s in sample_ids:\n",
    "        sample_to_pango[s] = p\n",
    "for pango, sample_set in samples.items():\n",
    "    for s in sample_set:\n",
    "        pango_counts[pango][sample_to_pango[s]] += 1\n",
    "\n",
    "# Seemingly missing from Viridian QCed data\n",
    "pango_counts[\"XD\"] = None\n",
    "pango_counts[\"XK\"] = None\n",
    "pango_counts[\"XT\"] = None\n",
    "pango_counts[\"XV\"] = None\n",
    "pango_counts[\"XAB\"] = None\n",
    "pango_counts[\"XAH\"] = None\n",
    "pango_counts[\"XAK\"] = None\n",
    "pango_counts[\"XAQ\"] = None\n",
    "pango_counts[\"XAR\"] = None\n",
    "pango_counts[\"XAT\"] = None\n",
    "pango_counts[\"XAW\"] = None\n",
    "pango_counts[\"XAY\"] = None\n",
    "pango_counts[\"XBA\"] = None\n",
    "pango_counts[\"XBC\"] = None\n",
    "# Others past XBH not added here"
   ]
  },
  {
   "cell_type": "code",
   "execution_count": null,
   "id": "d70c9aa3-493f-4aef-8eb9-7220be64903b",
   "metadata": {},
   "outputs": [],
   "source": [
    "print(\n",
    "    f\"In the following {len(pango_counts)} pangoX lineages,\",\n",
    "    \"ones with an identified RE node are marked with '*'\", \n",
    "    \"('**' where they are the dominant descendant X lineage)\"\n",
    ")\n",
    "\n",
    "tot_pango_x_re = []\n",
    "pango_x_nodes = collections.defaultdict(set)\n",
    "for pango in sorted(pango_counts, key=lambda x: (len(x), x)):\n",
    "    if len(ti.pango_lineage_samples[pango]) == 0:\n",
    "        print(\"  \", pango, \"not in dataset\")\n",
    "    else:\n",
    "        counts = pango_counts[pango]\n",
    "        tot = counts.total()\n",
    "        p = counts[pango]\n",
    "        most_common_X = None\n",
    "        is_recomb = (p > 0 and p/tot > 0.001)\n",
    "        mark = \"  \"\n",
    "        if is_recomb:\n",
    "            pango_x_nodes[MRC_RE[pango][0]].add(pango)\n",
    "            most_common_X = max([x for x in counts if x.startswith(\"X\")], key=lambda x: counts[x])\n",
    "            mark = \"* \"\n",
    "            if most_common_X == pango:\n",
    "                tot_pango_x_re.append(MRC_RE[pango][0])\n",
    "                mark = \"**\"\n",
    "        print(mark, f\"{pango} ({tot} descendants of RE node {MRC_RE[pango][0]}, {p} {pango})\", counts.most_common(3))\n",
    "print(len(pango_x_nodes),\n",
    "      \"total pango X recombinant origins of which\",\n",
    "      len(tot_pango_x_re),\n",
    "      \"include all descendants of the dominant group (excpetions: XM and XBB)\")\n",
    "print(\n",
    "    set(pango_x_nodes.keys()) - set(tot_pango_x_re), pango_x_nodes)"
   ]
  },
  {
   "cell_type": "markdown",
   "id": "ff4a1e86-f546-4c31-a12d-bbf7c24ddaf2",
   "metadata": {},
   "source": [
    "# Analysis of each pango recombinant"
   ]
  },
  {
   "cell_type": "code",
   "execution_count": null,
   "id": "f1e93b04-28a5-429b-bc3a-bb434205e428",
   "metadata": {},
   "outputs": [],
   "source": [
    "NodeReport = collections.namedtuple(\"NodeReport\", nb_utils.NODE_REPORT_KEYS)\n",
    "\n",
    "d3arg = argviz.D3ARG.from_ts(ts, progress=True)"
   ]
  },
  {
   "cell_type": "code",
   "execution_count": null,
   "id": "ae12c07d-3b9c-4bad-a94e-d4a6c7c581e6",
   "metadata": {},
   "outputs": [],
   "source": [
    "# Label all recombination nodes with \"*\"\n",
    "nb_utils.set_sc2ts_labels_and_styles(d3arg, ts, add_strain_names=False)\n",
    "d3arg.nodes.loc[(d3arg.nodes.flag & sc2ts.NODE_IS_RECOMBINANT) > 0, 'label'] = \"*\"\n",
    "d3arg.nodes.loc[d3arg.nodes.id == 200039, 'label'] = \"*DELTA*\"\n",
    "d3arg.nodes.loc[d3arg.nodes.id == 822854, 'label'] = \"*BA.2*\"\n",
    "d3arg.nodes.loc[d3arg.nodes.id == 1189192, 'label'] = \"*BA.5*\"\n",
    "d3arg.nodes.loc[d3arg.nodes.id == 1, 'label'] = \"Wuhan\""
   ]
  },
  {
   "cell_type": "code",
   "execution_count": null,
   "id": "4d5e1de3-90db-4db4-b4ef-c76ea1797bb1",
   "metadata": {},
   "outputs": [],
   "source": [
    "def load_pango_position(d3arg, pangos, issue_number=None):\n",
    "    pangos = [pangos] if isinstance(pangos, str) else pangos\n",
    "    display(HTML(f\"<h3>{' / '.join(pangos)}</h3>\"))\n",
    "    info = f\"{' + '.join([str(len(ti.pango_lineage_samples[pX])) for pX in pangos])} samples\"\n",
    "    if issue_number is not None:\n",
    "        info += f': sc2ts-paper <a href=\"https://github.com/jeromekelleher/sc2ts-paper/issues/{issue_number}\">issue #{issue_number}</a>'\n",
    "    display(HTML(info))\n",
    "    try:\n",
    "        d = nb_utils.set_x_01_from_json(d3arg, f\"Viridian-{'-'.join(pangos)}.json\")\n",
    "    except FileNotFoundError:\n",
    "        nb_utils.clear_x_01(d3arg)\n",
    "    return pangos"
   ]
  },
  {
   "cell_type": "code",
   "execution_count": null,
   "id": "7469b423-8e2f-49bb-873b-749692271708",
   "metadata": {},
   "outputs": [],
   "source": [
    "pangos = load_pango_position(d3arg, \"XA\")\n",
    "    \n",
    "nb_utils.plot_sc2ts_subgraph(\n",
    "    d3arg,\n",
    "    [u for pX in pangos for u in ti.pango_lineage_samples[pX]],\n",
    "    highlight_mutations=lineage_defining_muts.get_unique_mutations(pangos[0], parent_pangos=(\"B.1.1.7\", \"B.1.177.18\")),\n",
    "    highlight_nodes=True, height=800)"
   ]
  },
  {
   "cell_type": "code",
   "execution_count": null,
   "id": "e11819b9-6a27-4c42-b9a1-0e67b5b78c9b",
   "metadata": {},
   "outputs": [],
   "source": [
    "pangos = load_pango_position(d3arg, [\"XB\"], 332)\n",
    "\n",
    "# this has too many samples so we collapse some\n",
    "exclude = np.array(list(ts.first().samples(223239)))\n",
    "exclude = exclude[exclude != 223230]\n",
    "\n",
    "nb_utils.plot_sc2ts_subgraph(\n",
    "    d3arg,\n",
    "    list(np.setdiff1d([u for pX in pangos for u in ti.pango_lineage_samples[pX]], exclude)),\n",
    "    highlight_mutations=lineage_defining_muts.get_unique_mutations(pangos[0], parent_pangos=[\"B.1.243\"]),\n",
    "    highlight_nodes=True, height=800, width=1000)"
   ]
  },
  {
   "cell_type": "code",
   "execution_count": null,
   "id": "571d8c8c-233e-4e5b-95a9-43202faf1d48",
   "metadata": {},
   "outputs": [],
   "source": [
    "pangos = load_pango_position(d3arg, \"XC\")\n",
    "nb_utils.plot_sc2ts_subgraph(\n",
    "    d3arg,\n",
    "    [u for pX in pangos for u in ti.pango_lineage_samples[pX]],\n",
    "    highlight_mutations=lineage_defining_muts.get_unique_mutations(\"XC\", parent_pangos=[\"AY.29\", \"B.1.1.7\"]),\n",
    "    highlight_nodes=True, height=800, width=1000)"
   ]
  },
  {
   "cell_type": "code",
   "execution_count": null,
   "id": "637b02f4-c37f-4162-862d-193a389d1697",
   "metadata": {},
   "outputs": [],
   "source": [
    "pangos = load_pango_position(d3arg, [\"XE\", \"XH\"], 337)\n",
    "\n",
    "print(\"Some weirdness going on with deletions just on the LHS of the breakpoint\")\n",
    "print(\"The 2 recombination nodes to the bottom right may be spurious\")\n",
    "\n",
    "nb_utils.plot_sc2ts_subgraph(\n",
    "    d3arg,\n",
    "    [u for pX in pangos for u in ti.pango_lineage_samples[pX][:20]] + [1212052, 1177107],\n",
    "    child_levels=0,\n",
    "    parent_levels=5,\n",
    "    highlight_mutations=lineage_defining_muts.get_unique_mutations(pangos[0], parent_pangos=[\"BA.1.17.2\", \"BA.2\"]),\n",
    "    highlight_nodes=True, height=800, width=1000)\n",
    "\n",
    "print(\"Possible alignment problems with the deletion here?\")\n",
    "\n",
    "NodeReport(*ti.node_report(965353)).copying_pattern"
   ]
  },
  {
   "cell_type": "code",
   "execution_count": null,
   "id": "4d83763d-8eeb-4c8c-9537-cca24c0d2561",
   "metadata": {},
   "outputs": [],
   "source": [
    "pangos = load_pango_position(d3arg, [\"XF\"])\n",
    "print(\"Looks clean\")\n",
    "nb_utils.plot_sc2ts_subgraph(\n",
    "    d3arg,\n",
    "    [u for pX in pangos for u in ti.pango_lineage_samples[pX]],\n",
    "    highlight_mutations=lineage_defining_muts.get_unique_mutations(\"XF\", parent_pangos=[\"AY.4\", \"BA.1\"]),\n",
    "    highlight_nodes=True, height=800, width=1000)"
   ]
  },
  {
   "cell_type": "code",
   "execution_count": null,
   "id": "4f2f7c3b-ee7a-4ad5-97fd-fde6e2026243",
   "metadata": {},
   "outputs": [],
   "source": [
    "pangos = load_pango_position(d3arg, \"XG\")\n",
    "print(\"Some dodgy reverted deletions on the LHS branch. We probably got the breakpoint wrong, and it should be to the LHS of 6513\")\n",
    "\n",
    "nb_utils.plot_sc2ts_subgraph(\n",
    "    d3arg,\n",
    "    [u for pX in pangos for u in ti.pango_lineage_samples[pX]],\n",
    "    highlight_mutations=lineage_defining_muts.get_unique_mutations(\"XG\", parent_pangos=[\"BA.1.17\", \"BA.2.9\"]),\n",
    "    highlight_nodes=True, height=800, width=1000)\n",
    "\n",
    "print(\"Moving the breakpoint actually costs no extra mutations:\")\n",
    "NodeReport(*ti.node_report(1083412)).copying_pattern"
   ]
  },
  {
   "cell_type": "code",
   "execution_count": null,
   "id": "3b7e3df2-67db-4faa-ac36-ed0b09961446",
   "metadata": {},
   "outputs": [],
   "source": [
    "pangos = load_pango_position(d3arg, \"XJ\")\n",
    "\n",
    "nb_utils.plot_sc2ts_subgraph(\n",
    "    d3arg,\n",
    "   [u for pX in pangos for u in ti.pango_lineage_samples[pX]] + [1090786],\n",
    "    highlight_mutations=lineage_defining_muts.get_unique_mutations(\"XJ\", parent_pangos=[\"BA.1.17.2\", \"BA.2\"]),\n",
    "    highlight_nodes=True, height=800, width=1000)"
   ]
  },
  {
   "cell_type": "code",
   "execution_count": null,
   "id": "25459db2-f1fe-4485-a67e-d1965c880c89",
   "metadata": {},
   "outputs": [],
   "source": [
    "pangos = load_pango_position(d3arg, \"XL\", )\n",
    "\n",
    "nb_utils.plot_sc2ts_subgraph(\n",
    "    d3arg,\n",
    "    [u for pX in pangos for u in ti.pango_lineage_samples[pX]],\n",
    "    highlight_mutations=lineage_defining_muts.get_unique_mutations(\"XL\", parent_pangos=[\"BA.1.17.2\", \"BA.2\"]),\n",
    "    highlight_nodes=True, height=800, width=1000)"
   ]
  },
  {
   "cell_type": "code",
   "execution_count": null,
   "id": "cd660ee0-f482-4e6a-99b7-cca7d58afd67",
   "metadata": {},
   "outputs": [],
   "source": [
    "pangos = load_pango_position(d3arg, [\"XM\", \"XAL\"], 284)\n",
    "print(\"Multiple origins of XM, but one dominant one (node 1003220)\")\n",
    "colours = ['#332288', '#88CCEE', '#44AA99', '#117733', '#999933', '#DDCC77']  # from https://personal.sron.nl/~pault/\n",
    "\n",
    "nb_utils.plot_sc2ts_subgraph(\n",
    "    d3arg,\n",
    "    [u for pX in pangos for u in ti.pango_lineage_samples[pX]],\n",
    "    child_levels=0,\n",
    "    highlight_mutations=lineage_defining_muts.get_unique_mutations(\"XM\", parent_pangos=[\"BA.1.1\", \"BA.2\"]),\n",
    "    highlight_nodes={c: ti.pango_lineage_samples[pX] for c, pX in zip(colours, pangos)},\n",
    "    height=800, width=1000)\n",
    "\n",
    "\n",
    "NodeReport(*ti.node_report(1003220)).copying_pattern"
   ]
  },
  {
   "cell_type": "code",
   "execution_count": null,
   "id": "5ed09b05-1f22-4a7f-86cd-3c6a0d98db83",
   "metadata": {},
   "outputs": [],
   "source": [
    "pangos = load_pango_position(d3arg, \"XN\", 358)\n",
    "print(\"No recombination node\")\n",
    "\n",
    "nb_utils.plot_sc2ts_subgraph(\n",
    "    d3arg,\n",
    "    [u for pX in pangos for u in ti.pango_lineage_samples[pX]],\n",
    "    parent_levels=6,\n",
    "    highlight_mutations=lineage_defining_muts.get_unique_mutations(\"XN\", parent_pangos=[\"BA.2.23\"]),\n",
    "    highlight_nodes=True, height=800, width=1000, include_mutation_labels=True)"
   ]
  },
  {
   "cell_type": "code",
   "execution_count": null,
   "id": "9725cebb-b9e6-48e3-80f4-9771234f36cd",
   "metadata": {},
   "outputs": [],
   "source": [
    "pangos = load_pango_position(d3arg, \"XP\", 345)\n",
    "print(\"Apparently some missing deletion, but I can't see it\")\n",
    "nb_utils.plot_sc2ts_subgraph(\n",
    "    d3arg,\n",
    "    [u for pX in pangos for u in ti.pango_lineage_samples[pX]],\n",
    "    parent_levels=12,\n",
    "    highlight_mutations=lineage_defining_muts.get_unique_mutations(\"XP\", parent_pangos=[\"BA.1.1\"]),\n",
    "    highlight_nodes=True, height=800, width=1000, include_mutation_labels=True)"
   ]
  },
  {
   "cell_type": "code",
   "execution_count": null,
   "id": "9c25e098-5cc0-46ad-b1e6-86ae316bd85b",
   "metadata": {},
   "outputs": [],
   "source": [
    "pangoX = [\"XQ\", \"XR\", \"XU\", \"XAA\", \"XAG\", \"XAM\"]\n",
    "pangos = load_pango_position(d3arg, pangoX, 338)\n",
    "print(\"We pick a maximum of 10 samples from each group to display, plus some extra BA.2 samples that appear nested\")\n",
    "extras1 = [1249828, 1228294, 1219946, 1197469, 1182958, 1182957, 1161394, 1146404, 1146405]\n",
    "extras2 = [2521553, 1152676, 1150120, 2513694, 2477211, 2466117, 2448160, 2449100]\n",
    "extras3 = [1126313, 2534274, 2534275, 1141965, 2508149, 1105611, 1142202, 1111753]\n",
    "\n",
    "colours = ['#4477AA', '#EE6677', '#228833', '#CCBB44', '#66CCEE', '#AA3377']  # from https://personal.sron.nl/~pault/\n",
    "colours = ['#332288', '#88CCEE', '#44AA99', '#117733', '#999933', '#DDCC77']  # from https://personal.sron.nl/~pault/\n",
    "\n",
    "\n",
    "nb_utils.plot_sc2ts_subgraph(\n",
    "    d3arg, \n",
    "    [u for pX in pangos for u in ti.pango_lineage_samples[pX][:10]] + extras1 + extras2 + extras3 + [1200258, 1158324],\n",
    "    parent_levels=7,\n",
    "    child_levels=0,\n",
    "    highlight_mutations=lineage_defining_muts.get_unique_mutations(\"XQ\", parent_pangos=[\"BA.1.1.15\", \"BA.2.9\"]),\n",
    "    highlight_nodes={c: ti.pango_lineage_samples[pX] for c, pX in zip(colours, pangoX)},\n",
    "    height=800, width=1000)"
   ]
  },
  {
   "cell_type": "code",
   "execution_count": null,
   "id": "1e9b286f-12d8-4848-b934-cdacd7167f7c",
   "metadata": {},
   "outputs": [],
   "source": [
    "pangos = load_pango_position(d3arg, \"XS\", 287)\n",
    "print(\"Something weird here, as there are two recombination nodes only separated by a deletion\")\n",
    "print(\"Apparently some XS samples have the deletion, and some don't?\")\n",
    "nb_utils.plot_sc2ts_subgraph(\n",
    "    d3arg,\n",
    "    [u for pX in pangos for u in ti.pango_lineage_samples[pX]],\n",
    "    parent_levels=6,\n",
    "    highlight_mutations=lineage_defining_muts.get_unique_mutations(\"XS\", parent_pangos=[\"AY.103\", \"BA.1.1\"]),\n",
    "    include_mutation_labels=True,\n",
    "    highlight_nodes=True, height=500, width=800)"
   ]
  },
  {
   "cell_type": "code",
   "execution_count": null,
   "id": "f871da6f-57e5-4569-8f80-322b1e7c0c65",
   "metadata": {},
   "outputs": [],
   "source": [
    "pangos = load_pango_position(d3arg, \"XW\")\n",
    "nb_utils.plot_sc2ts_subgraph(\n",
    "    d3arg,\n",
    "    [u for pX in pangos for u in ti.pango_lineage_samples[pX]],\n",
    "    parent_levels=6,\n",
    "    highlight_mutations=lineage_defining_muts.get_unique_mutations(\"XW\", parent_pangos=[\"BA.1.1.15\", \"BA.2\"]),\n",
    "    highlight_nodes=True, height=800, width=1000)"
   ]
  },
  {
   "cell_type": "code",
   "execution_count": null,
   "id": "06aac740-b06a-44ca-8edb-5bbd3da3f674",
   "metadata": {},
   "outputs": [],
   "source": [
    "pangos = load_pango_position(d3arg, \"XY\")\n",
    "nb_utils.plot_sc2ts_subgraph(\n",
    "    d3arg,\n",
    "    [u for pX in pangos for u in ti.pango_lineage_samples[pX]],\n",
    "    parent_levels=6,\n",
    "    highlight_mutations=lineage_defining_muts.get_unique_mutations(\"XY\", parent_pangos=[\"BA.1.1\", \"BA.2\"]),\n",
    "    highlight_nodes=True, height=800, width=1000)"
   ]
  },
  {
   "cell_type": "code",
   "execution_count": null,
   "id": "12807198-be19-43ea-a064-7efb73add45b",
   "metadata": {},
   "outputs": [],
   "source": [
    "colours = ['#332288', '#88CCEE', '#44AA99', '#999933', '#DDCC77']  # from https://personal.sron.nl/~pault/\n",
    "\n",
    "pangoX = [\"XZ\", \"XAC\", \"XAD\", \"XAE\", \"XAP\"]\n",
    "pangos = load_pango_position(d3arg, pangoX, 339)\n",
    "cmap = {c: ti.pango_lineage_samples[pX] for c, pX in zip(colours, pangoX)}\n",
    "extra_BA_2 = [964554, 2340545, 2372712, 1056883] #, 1192387, 1112147, 1145629]\n",
    "cmap.update({'lightgrey':extra_BA_2})\n",
    "nb_utils.plot_sc2ts_subgraph(\n",
    "    d3arg,\n",
    "    [u for pX in pangos for u in ti.pango_lineage_samples[pX]] + extra_BA_2,\n",
    "    parent_levels=9,\n",
    "    highlight_nodes=cmap,\n",
    "    height=800, width=1000)\n",
    "\n",
    "NodeReport(*ti.node_report(964555)).copying_pattern"
   ]
  },
  {
   "cell_type": "code",
   "execution_count": null,
   "id": "21052cc7-1cb5-4580-9653-cf850cc98a31",
   "metadata": {},
   "outputs": [],
   "source": [
    "pangos = load_pango_position(d3arg, [\"XAF\"], 360)\n",
    "nb_utils.plot_sc2ts_subgraph(\n",
    "    d3arg,\n",
    "    [u for pX in pangos for u in ti.pango_lineage_samples[pX]] + [1177107],\n",
    "    parent_levels=10,\n",
    "    child_levels=10,\n",
    "    highlight_mutations=lineage_defining_muts.get_unique_mutations(\"XAF\", parent_pangos=[\"BA.2\"]),\n",
    "    highlight_nodes=True, height=800, width=1000\n",
    ")\n",
    "\n",
    "NodeReport(*ti.node_report(1177107)).copying_pattern"
   ]
  },
  {
   "cell_type": "code",
   "execution_count": null,
   "id": "fedae7bc-9807-4752-a3b4-956444876b27",
   "metadata": {},
   "outputs": [],
   "source": [
    "pangos = load_pango_position(d3arg, [\"XAJ\"], 352)\n",
    "nb_utils.plot_sc2ts_subgraph(\n",
    "    d3arg,\n",
    "    [u for pX in pangos for u in ti.pango_lineage_samples[pX]],\n",
    "    parent_levels=16,\n",
    "    highlight_mutations=lineage_defining_muts.get_unique_mutations(\"XAJ\", parent_pangos=[\"BA.2.12\"]),\n",
    "    highlight_nodes=True, height=800, width=1000)"
   ]
  },
  {
   "cell_type": "code",
   "execution_count": null,
   "id": "2cf00ed6-c3d9-4156-a4dc-28760e162512",
   "metadata": {},
   "outputs": [],
   "source": [
    "pangos = load_pango_position(d3arg, [\"XAN\", \"XAV\"], 353)\n",
    "cmap = {c: ti.pango_lineage_samples[pX] for c, pX in zip(colours, pangos)}\n",
    "\n",
    "nb_utils.plot_sc2ts_subgraph(\n",
    "    d3arg,\n",
    "    [u for pX in pangos for u in ti.pango_lineage_samples[pX]],\n",
    "    parent_levels=10,\n",
    "    #highlight_mutations=lineage_defining_muts.get_unique_mutations(\"XAN\", parent_pangos=[\"BA.5.1\"]),\n",
    "    highlight_nodes=cmap,\n",
    "    #include_mutation_labels=True,\n",
    "    height=600, width=600)"
   ]
  },
  {
   "cell_type": "code",
   "execution_count": null,
   "id": "c818556a-368e-44fd-b639-468eae3b5f8f",
   "metadata": {},
   "outputs": [],
   "source": [
    "pangos = load_pango_position(d3arg, [\"XAS\"], 340)\n",
    "print(\"Complex: multiple origins, but main clade does not seem to be a recombinant. 2 single-sample clades are, however\")\n",
    "nb_utils.plot_sc2ts_subgraph(\n",
    "    d3arg,\n",
    "    [u for pX in pangos for u in ti.pango_lineage_samples[pX]],\n",
    "    parent_levels=4,\n",
    "    highlight_mutations=lineage_defining_muts.get_unique_mutations(\"XAS\", parent_pangos=[\"BA.4\"]),\n",
    "    highlight_nodes=True, height=800, width=1000)"
   ]
  },
  {
   "cell_type": "code",
   "execution_count": null,
   "id": "d33a0596-e51a-473d-ae20-7e6464547d50",
   "metadata": {},
   "outputs": [],
   "source": [
    "cmap = {c: ti.pango_lineage_samples[pX] for c, pX in zip(colours, [\"XAU\", \"XN\"])}\n",
    "\n",
    "pangos = load_pango_position(d3arg, [\"XAU\", \"XN\"], 348)\n",
    "nb_utils.plot_sc2ts_subgraph(\n",
    "    d3arg,\n",
    "    [u for pX in pangos for u in ti.pango_lineage_samples[pX]] + [1137492, 887654],\n",
    "    parent_levels=20, child_levels=0,\n",
    "    highlight_mutations=lineage_defining_muts.get_unique_mutations(\"XAU\", parent_pangos=[\"BA.2\"]),\n",
    "    highlight_nodes=cmap, height=1000, width=1000)"
   ]
  },
  {
   "cell_type": "code",
   "execution_count": null,
   "id": "866edb7f-5be7-420c-ae85-3c0380dd595e",
   "metadata": {},
   "outputs": [],
   "source": [
    "pangos = load_pango_position(d3arg, [\"XAV\"], 354)\n",
    "nb_utils.plot_sc2ts_subgraph(\n",
    "    d3arg,\n",
    "    [u for pX in pangos for u in ti.pango_lineage_samples[pX]],\n",
    "    parent_levels=10, child_levels=1,\n",
    "    highlight_mutations=lineage_defining_muts.get_unique_mutations(\"XAJ\", parent_pangos=[\"BA.2\"]),\n",
    "    highlight_nodes=True, height=600, width=1000,\n",
    "    include_mutation_labels=True,\n",
    ")"
   ]
  },
  {
   "cell_type": "code",
   "execution_count": null,
   "id": "6d8bbab1-d57e-4ee6-9b5d-13169d2eb489",
   "metadata": {},
   "outputs": [],
   "source": [
    "pangos = load_pango_position(d3arg, [\"XAZ\"], 356)\n",
    "print(\"There are a lot of XAZ samples, but they all form a clade, so just pick the first 20 for viz\")\n",
    "nb_utils.plot_sc2ts_subgraph(\n",
    "    d3arg,\n",
    "    [u for pX in pangos for u in ti.pango_lineage_samples[pX][:20]],\n",
    "    parent_levels=10, child_levels=0,\n",
    "    highlight_mutations=lineage_defining_muts.get_unique_mutations(\"XAZ\", parent_pangos=[\"BA.2\"]),\n",
    "    highlight_nodes=True, height=800, width=1000,\n",
    "    include_mutation_labels=True\n",
    ")"
   ]
  },
  {
   "cell_type": "code",
   "execution_count": null,
   "id": "4728058e-436a-4400-9502-970e2e17a981",
   "metadata": {},
   "outputs": [],
   "source": [
    "#nb_utils.set_sc2ts_labels_and_styles(d3arg, ts, add_strain_names=True)\n",
    "pangos = load_pango_position(d3arg, [\"XBB\"])\n",
    "nb_utils.plot_sc2ts_subgraph(\n",
    "    d3arg,\n",
    "    [1408964, 1396838, 1404568, 1423196, 1398292, 2681617, 1409763],\n",
    "    parent_levels=8,\n",
    "    highlight_mutations=lineage_defining_muts.get_unique_mutations(\"XBB\", parent_pangos=[\"BA.2.10\", \"BM.1.1.1\"]),\n",
    "    highlight_nodes=True, height=600, width=800)"
   ]
  },
  {
   "cell_type": "code",
   "execution_count": null,
   "id": "544aaea1-7fcf-4bfa-a41d-775efb660553",
   "metadata": {},
   "outputs": [],
   "source": [
    "#nb_utils.set_sc2ts_labels_and_styles(d3arg, ts, add_strain_names=True)\n",
    "\n",
    "pangos = load_pango_position(d3arg, [\"XBE\"], 351)\n",
    "nb_utils.plot_sc2ts_subgraph(\n",
    "    d3arg,\n",
    "    [u for pX in pangos for u in ti.pango_lineage_samples[pX]] + [2661358],\n",
    "    parent_levels=15,\n",
    "    highlight_mutations=lineage_defining_muts.get_unique_mutations(\"XBE\", parent_pangos=[\"BA.5.2\"]),\n",
    "    highlight_nodes=True, height=800, width=1000)"
   ]
  },
  {
   "cell_type": "code",
   "execution_count": null,
   "id": "7a0b0261-dc20-4ded-91d6-b642424239a0",
   "metadata": {},
   "outputs": [],
   "source": [
    "colours = ['#332288', '#88CCEE', '#44AA99', '#999933', '#DDCC77']  # from https://personal.sron.nl/~pault/\n",
    "pangoX = [\"XBQ\", \"XBK\", \"XBK.1\", \"CJ.1.3\"]\n",
    "pangos = load_pango_position(d3arg, pangoX, 349)\n",
    "nb_utils.plot_sc2ts_subgraph(\n",
    "    d3arg,\n",
    "    [u for pX in pangos for u in ti.pango_lineage_samples[pX]] + [1363939, 1342796],\n",
    "    parent_levels=10,\n",
    "    highlight_mutations=lineage_defining_muts.get_unique_mutations(\n",
    "        \"XBQ\", parent_pangos=[\"BM.1.1.1\", \"BM.1.1\", \"BA.2\", \"BA.2.75\", \"BA.2.75.3\"]\n",
    "    ),\n",
    "    highlight_nodes={c: ti.pango_lineage_samples[pX] for c, pX in zip(colours, pangoX)},\n",
    "    height=800, width=1000)"
   ]
  },
  {
   "cell_type": "markdown",
   "id": "8b607b9c-e632-4aae-a56d-21840886aa10",
   "metadata": {},
   "source": [
    "## Extra notes below"
   ]
  },
  {
   "cell_type": "code",
   "execution_count": null,
   "id": "2133b42d-70f2-4f41-8e83-d94cccc173d6",
   "metadata": {
    "scrolled": true
   },
   "outputs": [],
   "source": [
    "#df = ti.recombinants_summary()\n",
    "#df.set_index(\"recombinant\", inplace=True)\n",
    "\n",
    "\n",
    "# Here we document some investigations into Pango X assignments that appear not to have re nodes\n",
    "reasons_for_no_re = dict(\n",
    "    XP=\"Dependent on a deletion which sc2ts does not use\",\n",
    "    XN=\"Definitely not a recombinant according to sc2ts. See https://github.com/jeromekelleher/sc2ts-paper/issues/285\",\n",
    "    XAU=\"Definitely not a recombinant according to sc2ts. See https://github.com/jeromekelleher/sc2ts-paper/issues/285\",\n",
    "    XAZ=\"Not a recombinant. Nearest RE node is #1189192 which is a BA.5 with 112911 descendants\",\n",
    "    XAJ=\"Probably not a recombinant. See https://github.com/jeromekelleher/sc2ts-paper/issues/285\",\n",
    "    XAS=\"Complex: multiple origins, but main clade does not seem to be a recombinant. 2 single-sample clades are, however\",\n",
    "    XAV=\"Possibly not a recombinant: see https://github.com/jeromekelleher/sc2ts-paper/issues/285\",\n",
    "    XBQ=\"Probably not a recombinant. See https://github.com/jeromekelleher/sc2ts-paper/issues/285\",\n",
    "    XBK=\"Probably not a recombinant. See https://github.com/jeromekelleher/sc2ts-paper/issues/285\",\n",
    ")\n",
    "\n",
    "display(HTML(\"<h3>SUMMARY</h3>\"))\n",
    "display(HTML(\"<h4>PangoX with a valid RE node</h4>\"))\n",
    "display(HTML(\"<dl>\"))\n",
    "\n",
    "for pango in sorted(pango_counts, key=lambda x: (len(x), x)):\n",
    "    if pango_counts[pango] is None:\n",
    "        display(HTML(f\"&nbsp;&nbsp;&nbsp;{pango}: No samples in Viridian which passed QC\"))\n",
    "        continue\n",
    "    try:\n",
    "        node = pango_x_to_node[pango]\n",
    "        others = pango_x_nodes[node]\n",
    "        #row = df[node]\n",
    "        display(HTML(\n",
    "            f\"* {pango}: re_node {node}\" +\n",
    "            (f\" ({others.index(pango) + 1}/{len(others)})\" if len(others) > 1 else \"\") +\n",
    "            f\", {int(row.interval_left)}-{int(row.interval_right)}bp\" +\n",
    "            f\", {row.parent_left_pango} + {row.parent_right_pango}\"\n",
    "        ))\n",
    "    except KeyError:            \n",
    "        display(HTML(f\"&nbsp;&nbsp;&nbsp;{pango}: {reasons_for_no_re.get(pango, 'No clear associated re node')}\"))\n",
    "        \n"
   ]
  }
 ],
 "metadata": {
  "kernelspec": {
   "display_name": "Python 3 (ipykernel)",
   "language": "python",
   "name": "python3"
  },
  "language_info": {
   "codemirror_mode": {
    "name": "ipython",
    "version": 3
   },
   "file_extension": ".py",
   "mimetype": "text/x-python",
   "name": "python",
   "nbconvert_exporter": "python",
   "pygments_lexer": "ipython3",
   "version": "3.10.14"
  }
 },
 "nbformat": 4,
 "nbformat_minor": 5
}
