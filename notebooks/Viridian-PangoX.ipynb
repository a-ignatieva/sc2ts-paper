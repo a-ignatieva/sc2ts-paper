{
 "cells": [
  {
   "cell_type": "markdown",
   "id": "13f8a0c8-da74-4ffd-b7af-3cb34ad6cf04",
   "metadata": {
    "editable": true,
    "slideshow": {
     "slide_type": ""
    },
    "tags": []
   },
   "source": [
    "# Pango-X recombinant origins in the sc2ts ARG"
   ]
  },
  {
   "cell_type": "code",
   "execution_count": null,
   "id": "69d69070-4eb2-45ad-b52d-5ffc81fe3c9c",
   "metadata": {
    "editable": true,
    "slideshow": {
     "slide_type": ""
    },
    "tags": []
   },
   "outputs": [],
   "source": [
    "import collections\n",
    "\n",
    "import sc2ts\n",
    "import numpy as np\n",
    "import tskit\n",
    "import tszip\n",
    "import numpy as np\n",
    "from IPython.display import HTML\n",
    "import warnings\n",
    "\n",
    "import nb_utils\n",
    "\n",
    "# NB - tag the cells with progressbars with `remove_cell`, and export only the output cells to PDF via:\n",
    "# jupyter nbconvert --to webpdf --no-prompt --no-input --PDFExporter.scale_factor=0.8  --TagRemovePreprocessor.remove_cell_tags='{\"remove_cell\"}' --PDFExporter.margin_left=0.2cm --PDFExporter.margin_right=0.2cm Viridian-PangoX.ipynb"
   ]
  },
  {
   "cell_type": "code",
   "execution_count": null,
   "id": "5d8691ff-5336-48ac-af8a-1d6475d9cbf9",
   "metadata": {
    "editable": true,
    "slideshow": {
     "slide_type": ""
    },
    "tags": []
   },
   "outputs": [],
   "source": [
    "# Get the Viridian ARG\n",
    "ts = tszip.load(\"../data/sc2ts_v1_2023-02-21_pp_dels_bps_pango_dated_mmps.trees.tsz\")\n",
    "\n",
    "# Join with the associated data\n",
    "df = sc2ts.node_data(ts)\n",
    "ds = sc2ts.Dataset(\"../data/viridian_mafft_2024-10-14_v1.vcz\")\n",
    "df.set_index(\"sample_id\", inplace=True)\n",
    "df = df.join(ds.metadata.as_dataframe([\"Date_tree\", \"Viridian_pangolin\"]))\n",
    "\n",
    "print(f\"Loaded ARG has {ts.num_nodes} nodes, {ts.num_edges} edges, {ts.num_mutations} mutations, {np.sum(ts.nodes_flags & sc2ts.NODE_IS_RECOMBINANT != 0)} recomb. events\")"
   ]
  },
  {
   "cell_type": "code",
   "execution_count": null,
   "id": "acb18edc-5e11-44be-8d3a-fa8a77822f8f",
   "metadata": {
    "editable": true,
    "slideshow": {
     "slide_type": ""
    },
    "tags": []
   },
   "outputs": [],
   "source": [
    "# Set which pango designation to use: try \"pangolin\" (native sc2ts) or \"Viridian_pangolin\" (assigned by viridian)\n",
    "Pango = \"pango\""
   ]
  },
  {
   "cell_type": "markdown",
   "id": "e8af5be8-c2f5-4d07-87e7-5a3570a3d353",
   "metadata": {
    "editable": true,
    "slideshow": {
     "slide_type": ""
    },
    "tags": []
   },
   "source": [
    "### List out the pango-X nodes"
   ]
  },
  {
   "cell_type": "code",
   "execution_count": null,
   "id": "782e3924-4e00-4922-aa91-f0a5fc91ae4f",
   "metadata": {
    "editable": true,
    "slideshow": {
     "slide_type": ""
    },
    "tags": []
   },
   "outputs": [],
   "source": [
    "dfX = df[np.logical_and(df.is_sample, df[Pango].str.startswith(\"X\"))]\n",
    "pango_lineage_samples = df[df.is_sample].groupby(Pango)['node_id'].apply(list).to_dict()\n",
    "pangoFullX = np.unique(dfX[Pango])\n",
    "pangoX = [p for p in pangoFullX if \".\" not in p]\n",
    "pangoSubX = [p for p in pangoFullX if \".\" in p]\n",
    "display(HTML(\n",
    "    f'<table><tr><th>{len(pangoX)} main pango-X lineages</th><th>{len(pangoSubX)} sub pango-X lineages</th></tr>'\n",
    "    f'<tr><td>{\", \".join(pangoX)}</td><td>{\", \".join(pangoSubX)}</td></tr></table>'\n",
    "))"
   ]
  },
  {
   "cell_type": "code",
   "execution_count": null,
   "id": "b6107f94-98ce-4dc6-b8e9-045efd5cef71",
   "metadata": {
    "editable": true,
    "slideshow": {
     "slide_type": ""
    },
    "tags": []
   },
   "outputs": [],
   "source": [
    "print(\"Consensus mutations for each lineage taken from https://covidcg.org\")\n",
    "lineage_defining_muts = nb_utils.read_in_mutations(\"../data/consensus_mutations.json.bz2\")"
   ]
  },
  {
   "cell_type": "code",
   "execution_count": null,
   "id": "ade1465a-dcab-49dd-a617-f0537f870044",
   "metadata": {
    "editable": true,
    "scrolled": true,
    "slideshow": {
     "slide_type": ""
    },
    "tags": [
     "remove_cell"
    ]
   },
   "outputs": [],
   "source": [
    "# Find most recent RE node above all samples of each type\n",
    "from tqdm.auto import tqdm\n",
    "MRC_RE = {pango: (None, np.inf) for pango in pangoX}\n",
    "recombination_nodes = set(np.where(ts.nodes_flags & sc2ts.NODE_IS_RECOMBINANT)[0])\n",
    "nodes_time = ts.nodes_time\n",
    "for tree in ts.trees():\n",
    "    for x in pangoX:\n",
    "        samples = pango_lineage_samples[x]\n",
    "        if len(samples) == 0:\n",
    "            continue\n",
    "        u = samples[0] if len(samples) == 1 else tree.mrca(*samples)\n",
    "        while u not in recombination_nodes:\n",
    "            u = tree.parent(u)\n",
    "            if u == tskit.NULL:\n",
    "                break\n",
    "        if u != tskit.NULL and nodes_time[u] < MRC_RE[x][1]:\n",
    "            MRC_RE[x] = (u, nodes_time[u])"
   ]
  },
  {
   "cell_type": "code",
   "execution_count": null,
   "id": "68cf18f3-85ba-4ac2-8d13-269f5f4a6944",
   "metadata": {
    "editable": true,
    "slideshow": {
     "slide_type": ""
    },
    "tags": [
     "remove_cell"
    ]
   },
   "outputs": [],
   "source": [
    "# This is a bit tedious, as we have to look at all samples in all trees\n",
    "samples = {pango: set() for pango in pangoX}\n",
    "for tree in tqdm(ts.trees()):\n",
    "    for pango, (potential_re, _) in MRC_RE.items():\n",
    "        if potential_re is not None:\n",
    "            samples[pango].update(tree.samples(potential_re))"
   ]
  },
  {
   "cell_type": "code",
   "execution_count": null,
   "id": "77dc21e6-c048-4ddb-8a83-f61052e1bf3d",
   "metadata": {
    "editable": true,
    "slideshow": {
     "slide_type": ""
    },
    "tags": []
   },
   "outputs": [],
   "source": [
    "pango_counts = {pango: collections.Counter() for pango in pangoX}\n",
    "sample_to_pango = {}\n",
    "for p, sample_ids in pango_lineage_samples.items():\n",
    "    for s in sample_ids:\n",
    "        sample_to_pango[s] = p\n",
    "for pango, sample_set in samples.items():\n",
    "    for s in sample_set:\n",
    "        pango_counts[pango][sample_to_pango[s]] += 1\n",
    "\n",
    "# Seemingly missing from Viridian QCed data\n",
    "pango_counts[\"XD\"] = None\n",
    "pango_counts[\"XK\"] = None\n",
    "pango_counts[\"XT\"] = None\n",
    "pango_counts[\"XV\"] = None\n",
    "pango_counts[\"XAB\"] = None\n",
    "pango_counts[\"XAH\"] = None\n",
    "pango_counts[\"XAK\"] = None\n",
    "pango_counts[\"XAQ\"] = None\n",
    "pango_counts[\"XAR\"] = None\n",
    "pango_counts[\"XAT\"] = None\n",
    "pango_counts[\"XAW\"] = None\n",
    "pango_counts[\"XAY\"] = None\n",
    "pango_counts[\"XBA\"] = None\n",
    "pango_counts[\"XBC\"] = None\n",
    "# Others past XBH not added here"
   ]
  },
  {
   "cell_type": "code",
   "execution_count": null,
   "id": "d70c9aa3-493f-4aef-8eb9-7220be64903b",
   "metadata": {
    "editable": true,
    "slideshow": {
     "slide_type": ""
    },
    "tags": []
   },
   "outputs": [],
   "source": [
    "tot_pango_x_re = []\n",
    "pango_x_nodes = collections.defaultdict(set)\n",
    "td = '<td style=\"padding: 0.5px 10px\">'\n",
    "th = '<th style=\"padding: 0.5px 10px; font-style: italic\">'\n",
    "html =f'<table style=\"font-size: 8pt\"><tr><td colspan=\"2\" style=\"font-size: smaller\">Bold if the dominant pango</td></tr>'\n",
    "html += f'<tr>{th}RE node</th>{th}PangoX</th>{th}# descendants</th>{th}Most common</th></tr>'\n",
    "for pango in sorted(pango_counts, key=lambda x: (len(x), x)):\n",
    "    if len(pango_lineage_samples.get(pango, [])) == 0:\n",
    "        html += f'<tr>{td}</td>{td}<i>{pango}</i></td><td style=\"padding: 1px\" colspan=\"2\" style=\"text-align: center\">not in dataset</td></tr>'\n",
    "    else:\n",
    "        counts = pango_counts[pango]\n",
    "        tot = counts.total()\n",
    "        p = counts[pango]\n",
    "        most_common_X = None\n",
    "        is_recomb = (p > 0 and p/tot > 0.001)\n",
    "        re_nd = \"\"\n",
    "        pg = f'<s>{pango}</s>'\n",
    "        if is_recomb:\n",
    "            pango_x_nodes[MRC_RE[pango][0]].add(pango)\n",
    "            most_common_X = max([x for x in counts if x.startswith(\"X\")], key=lambda x: counts[x])\n",
    "            re_nd = str(MRC_RE[pango][0])\n",
    "            pg = f'{pango}'\n",
    "            if most_common_X == pango:\n",
    "                tot_pango_x_re.append(MRC_RE[pango][0])\n",
    "                re_nd = f'<b>{re_nd}</b>'\n",
    "                pg = f'<b>{pango}</b>'\n",
    "        html += f'<tr>{td}{re_nd}</td>{td}{pg}</td>{td}{tot} of which {p} {pango}</td>{td}{counts.most_common(3)}</td></tr>'\n",
    "html += \"</table>\"\n",
    "display(HTML(html))\n",
    "print(len(pango_x_nodes),\n",
    "      \"total pango X recombinant origins of which\",\n",
    "      len(tot_pango_x_re),\n",
    "      \"include all descendants of the dominant group (exceptions: XM and XBB)\")\n",
    "print(\"Exceptions = RE nodes:\", set(pango_x_nodes.keys()) - set(tot_pango_x_re))\n",
    "print(\"RE node for Pangos\", pango_x_nodes)"
   ]
  },
  {
   "cell_type": "markdown",
   "id": "ff4a1e86-f546-4c31-a12d-bbf7c24ddaf2",
   "metadata": {
    "editable": true,
    "slideshow": {
     "slide_type": ""
    },
    "tags": []
   },
   "source": [
    "# Setup"
   ]
  },
  {
   "cell_type": "code",
   "execution_count": null,
   "id": "fd806e1a-1071-417f-92f5-6b64b90ce7f8",
   "metadata": {
    "editable": true,
    "slideshow": {
     "slide_type": ""
    },
    "tags": [
     "remove_cell"
    ]
   },
   "outputs": [],
   "source": [
    "import json\n",
    "from tqdm.auto import tqdm\n",
    "from pathlib import Path\n",
    "import msprime\n",
    "\n",
    "def issue(issue_number):\n",
    "    return f'See GitHub sc2ts-paper <a href=\"https://github.com/jeromekelleher/sc2ts-paper/issues/{issue_number}\">issue #{issue_number}</a>'\n"
   ]
  },
  {
   "cell_type": "code",
   "execution_count": null,
   "id": "ae12c07d-3b9c-4bad-a94e-d4a6c7c581e6",
   "metadata": {
    "editable": true,
    "scrolled": true,
    "slideshow": {
     "slide_type": ""
    },
    "tags": [
     "remove_cell"
    ]
   },
   "outputs": [],
   "source": [
    "arg = nb_utils.D3ARG_viz(ts, df, lineage_defining_muts, pangolin_field=Pango)"
   ]
  },
  {
   "cell_type": "code",
   "execution_count": null,
   "id": "4d5e1de3-90db-4db4-b4ef-c76ea1797bb1",
   "metadata": {
    "editable": true,
    "scrolled": true,
    "slideshow": {
     "slide_type": ""
    },
    "tags": [
     "remove_cell"
    ]
   },
   "outputs": [],
   "source": [
    "arg.set_sc2ts_node_labels()\n",
    "arg.d3arg.nodes.loc[arg.d3arg.nodes.id == 200039, 'label'] = \"*DELTA*\"\n",
    "arg.d3arg.nodes.loc[arg.d3arg.nodes.id == 822854, 'label'] = \"*BA.2*\"\n",
    "arg.d3arg.nodes.loc[arg.d3arg.nodes.id == 1189192, 'label'] = \"*BA.5*\"\n",
    "arg.set_sc2ts_node_styles()"
   ]
  },
  {
   "cell_type": "markdown",
   "id": "374b77ca-4ecd-4eba-aa68-bc3e94dd79fc",
   "metadata": {
    "editable": true,
    "slideshow": {
     "slide_type": ""
    },
    "tags": []
   },
   "source": [
    "# Pango-X Subgraphs"
   ]
  },
  {
   "cell_type": "code",
   "execution_count": null,
   "id": "36046fd3-16a7-408e-85fd-b5e13e63aeda",
   "metadata": {
    "editable": true,
    "slideshow": {
     "slide_type": ""
    },
    "tags": []
   },
   "outputs": [],
   "source": [
    "# Scale all the viz versions for print, so that a standard 750 x 1000 subgraph fits onto one size of A4\n",
    "display(HTML(\"<style>@media print {.d3arg {zoom: 0.8}}</style>\"));\n",
    "def txt(html, right=\"15em\", top=\"15em\", width=\"300px\"):\n",
    "    return f'<div style=\"position: absolute; z-index:1;  right: {right}; top: {top}; width: {width}\">{html}</div>'"
   ]
  },
  {
   "cell_type": "code",
   "execution_count": null,
   "id": "ad877fbf-2d46-4e6d-baaf-1a10b2787e0e",
   "metadata": {
    "editable": true,
    "scrolled": true,
    "slideshow": {
     "slide_type": ""
    },
    "tags": []
   },
   "outputs": [],
   "source": [
    "arg.plot_pango_subgraph(\"XA\", width=750, height=1000, parent_pangos=(\"B.1.1.7\", \"B.1.177.18\"))"
   ]
  },
  {
   "cell_type": "code",
   "execution_count": null,
   "id": "e11819b9-6a27-4c42-b9a1-0e67b5b78c9b",
   "metadata": {
    "editable": true,
    "scrolled": true,
    "slideshow": {
     "slide_type": ""
    },
    "tags": []
   },
   "outputs": [],
   "source": [
    "# XB has too many samples so we collapse some\n",
    "exclude = np.array(list(ts.first().samples(223239)))\n",
    "exclude = exclude[exclude != 223230]\n",
    "\n",
    "arg.plot_pango_subgraph(\"XB\", exclude=exclude, parent_pangos=[\"B.1.243\"])"
   ]
  },
  {
   "cell_type": "code",
   "execution_count": null,
   "id": "571d8c8c-233e-4e5b-95a9-43202faf1d48",
   "metadata": {
    "editable": true,
    "scrolled": true,
    "slideshow": {
     "slide_type": ""
    },
    "tags": []
   },
   "outputs": [],
   "source": [
    "arg.plot_pango_subgraph(\"XC\", parent_pangos=[\"AY.29\", \"B.1.1.7\"])"
   ]
  },
  {
   "cell_type": "code",
   "execution_count": null,
   "id": "637b02f4-c37f-4162-862d-193a389d1697",
   "metadata": {
    "editable": true,
    "slideshow": {
     "slide_type": ""
    },
    "tags": []
   },
   "outputs": [],
   "source": [
    "html = '''<p>Some weirdness going on with deletions just on the RHS of the breakpoint (see copying table below).\n",
    "    Could these be misaligned?</p>\n",
    "    <p>The 2 recombination nodes to the bottom right may be spurious.\n",
    "    Possible alignment problems with the deletion here?</p>''' +  issue(337)\n",
    "\n",
    "with warnings.catch_warnings():\n",
    "    warnings.simplefilter(\"ignore\")\n",
    "    arg.plot_pango_subgraph(\n",
    "        [\"XE\", \"XH\"],\n",
    "        txt(html),\n",
    "        include=[1212052, 1177107],\n",
    "        restrict_to_first=20,\n",
    "        parent_pangos=[\"BA.1.17.2\", \"BA.2\"],\n",
    "        child_levels=0,\n",
    "        parent_levels=5,\n",
    "        height=700,  # make room for the copying pattern\n",
    "        y_axis_scale=\"rank\",\n",
    "    )\n",
    "HTML(\n",
    "    \"<style>table.copying-table {font-size: 8px; @media print {zoom: 0.6}} table.copying-table .pattern td {font-size: 0.5em; width:0.3em}</style>\" +\n",
    "    sc2ts.info.CopyingTable(ts, 965353).html(show_bases=None)\n",
    ")"
   ]
  },
  {
   "cell_type": "code",
   "execution_count": null,
   "id": "4d83763d-8eeb-4c8c-9537-cca24c0d2561",
   "metadata": {
    "editable": true,
    "slideshow": {
     "slide_type": ""
    },
    "tags": []
   },
   "outputs": [],
   "source": [
    "arg.plot_pango_subgraph(\"XF\", txt(\"<p>Looks clean</p>\"), y_axis_scale=\"rank\", height=800, parent_pangos=[\"AY.4\", \"BA.1\"])"
   ]
  },
  {
   "cell_type": "code",
   "execution_count": null,
   "id": "4f2f7c3b-ee7a-4ad5-97fd-fde6e2026243",
   "metadata": {
    "editable": true,
    "slideshow": {
     "slide_type": ""
    },
    "tags": []
   },
   "outputs": [],
   "source": [
    "html = (\n",
    "    \"<p>Some dodgy reverted deletions on the LHS branch. We probably got the breakpoint wrong, and it should be to the LHS of 6513</p>\"\n",
    ")\n",
    "\n",
    "arg.plot_pango_subgraph(\"XG\", txt(html, \"25em\"), parent_pangos=[\"BA.1.17\", \"BA.2.9\"], y_axis_scale=\"rank\")"
   ]
  },
  {
   "cell_type": "code",
   "execution_count": null,
   "id": "3b7e3df2-67db-4faa-ac36-ed0b09961446",
   "metadata": {
    "editable": true,
    "slideshow": {
     "slide_type": ""
    },
    "tags": []
   },
   "outputs": [],
   "source": [
    "arg.plot_pango_subgraph(\"XJ\",include=[1090786], parent_pangos=[\"BA.1.17.2\", \"BA.2\"])"
   ]
  },
  {
   "cell_type": "code",
   "execution_count": null,
   "id": "25459db2-f1fe-4485-a67e-d1965c880c89",
   "metadata": {
    "editable": true,
    "slideshow": {
     "slide_type": ""
    },
    "tags": []
   },
   "outputs": [],
   "source": [
    "arg.plot_pango_subgraph([\"XL\"], parent_pangos=[\"BA.1.17.2\", \"BA.2\"])"
   ]
  },
  {
   "cell_type": "code",
   "execution_count": null,
   "id": "cd660ee0-f482-4e6a-99b7-cca7d58afd67",
   "metadata": {
    "editable": true,
    "slideshow": {
     "slide_type": ""
    },
    "tags": []
   },
   "outputs": [],
   "source": [
    "html = \"Multiple origins of XM, but one dominant one (node 1003220)\"\n",
    "\n",
    "pangos = [\"XM\", \"XAL\"]\n",
    "colours = ['#332288', '#88CCEE', '#44AA99', '#117733', '#999933', '#DDCC77']  # from https://personal.sron.nl/~pault/\n",
    "arg.plot_pango_subgraph(\n",
    "    pangos, txt(html),\n",
    "    parent_pangos=[\"BA.1.1\", \"BA.2\"],\n",
    "    child_levels=0,\n",
    "    highlight_nodes={c: pango_lineage_samples[pX] for c, pX in zip(colours, pangos)},\n",
    "    y_axis_scale=\"rank\",\n",
    "    height=700,\n",
    ")\n",
    "\n",
    "HTML(\n",
    "    \"<style>table.copying-table {font-size: 8px; @media print {zoom: 0.6}} table.copying-table .pattern td {font-size: 0.5em; width:0.3em}</style>\" +\n",
    "    sc2ts.info.CopyingTable(ts, 1003220).html(child_label=\"1003219\", show_bases=None)\n",
    ")"
   ]
  },
  {
   "cell_type": "code",
   "execution_count": null,
   "id": "5ed09b05-1f22-4a7f-86cd-3c6a0d98db83",
   "metadata": {
    "editable": true,
    "slideshow": {
     "slide_type": ""
    },
    "tags": []
   },
   "outputs": [],
   "source": [
    "html = \"No recombination node.\" + issue(358)\n",
    "\n",
    "arg.plot_pango_subgraph(\"XN\",\n",
    "    txt(html, right=\"25em\"),\n",
    "    parent_levels=6,\n",
    "    parent_pangos=[\"BA.2.23\"],\n",
    "    y_axis_scale=\"rank\", oldest_y_label=\"2021-10\"\n",
    "    \n",
    ")"
   ]
  },
  {
   "cell_type": "code",
   "execution_count": null,
   "id": "9725cebb-b9e6-48e3-80f4-9771234f36cd",
   "metadata": {
    "editable": true,
    "slideshow": {
     "slide_type": ""
    },
    "tags": []
   },
   "outputs": [],
   "source": [
    "html = \"Apparently some missing deletion, but I can't see it. \" + issue(345)\n",
    "\n",
    "with warnings.catch_warnings():\n",
    "    warnings.simplefilter(\"ignore\")\n",
    "    arg.plot_pango_subgraph(\n",
    "        \"XP\",\n",
    "        txt(html),\n",
    "        parent_levels=12,\n",
    "        parent_pangos=[\"BA.1.1\"],\n",
    "        y_axis_scale=\"rank\",\n",
    "    )"
   ]
  },
  {
   "cell_type": "code",
   "execution_count": null,
   "id": "9c25e098-5cc0-46ad-b1e6-86ae316bd85b",
   "metadata": {
    "editable": true,
    "slideshow": {
     "slide_type": ""
    },
    "tags": []
   },
   "outputs": [],
   "source": [
    "pangoX = [\"XQ\", \"XR\", \"XU\", \"XAA\", \"XAG\", \"XAM\"]\n",
    "html = (\n",
    "    \"Displayed are a maximum of 10 samples from each group to display, plus some extra BA.2 samples that appear nested. \" +\n",
    "    issue(338)\n",
    ")\n",
    "extras1 = [1249828, 1228294, 1219946, 1197469, 1182958, 1182957, 1161394, 1146404, 1146405]\n",
    "extras2 = [2521553, 1152676, 1150120, 2513694, 2477211, 2466117, 2448160, 2449100]\n",
    "extras3 = [1126313, 2534274, 2534275, 1141965, 2508149, 1105611, 1142202, 1111753]\n",
    "\n",
    "colours = ['#332288', '#88CCEE', '#44AA99', '#117733', '#999933', '#DDCC77']  # from https://personal.sron.nl/~pault/\n",
    "\n",
    "\n",
    "arg.plot_pango_subgraph(\n",
    "    pangoX,\n",
    "    txt(html, right=\"20em\"),\n",
    "    include=extras1 + extras2 + extras3 + [1200258, 1158324],\n",
    "    restrict_to_first=10,\n",
    "    parent_levels=7,\n",
    "    child_levels=0,\n",
    "    parent_pangos=[\"BA.1.1.15\", \"BA.2.9\"],\n",
    "    highlight_nodes={c: pango_lineage_samples[pX] for c, pX in zip(colours, pangoX)},\n",
    "    y_axis_scale=\"rank\",\n",
    ")"
   ]
  },
  {
   "cell_type": "code",
   "execution_count": null,
   "id": "1e9b286f-12d8-4848-b934-cdacd7167f7c",
   "metadata": {
    "editable": true,
    "slideshow": {
     "slide_type": ""
    },
    "tags": []
   },
   "outputs": [],
   "source": [
    "html = (\n",
    "    \"Something weird here, as there are two recombination nodes only separated by a deletion. \" +\n",
    "    \"Apparently some XS samples have the deletion, and some don't? \" +\n",
    "    issue(287)\n",
    ")\n",
    "with warnings.catch_warnings():\n",
    "    warnings.simplefilter(\"ignore\")\n",
    "    arg.plot_pango_subgraph(\n",
    "        \"XS\",\n",
    "        txt(html, top=\"9em\"),\n",
    "        parent_levels=6,\n",
    "        parent_pangos=[\"AY.103\", \"BA.1.1\"],\n",
    "        y_axis_scale=\"rank\",\n",
    "        oldest_y_label=\"2021-06\",\n",
    "        height=600,\n",
    "    )"
   ]
  },
  {
   "cell_type": "code",
   "execution_count": null,
   "id": "f871da6f-57e5-4569-8f80-322b1e7c0c65",
   "metadata": {},
   "outputs": [],
   "source": [
    "arg.plot_pango_subgraph(\n",
    "    \"XW\",\n",
    "    parent_levels=6,\n",
    "    parent_pangos=[\"BA.1.1.15\", \"BA.2\"],\n",
    "    oldest_y_label=\"2021-10\",\n",
    "    y_axis_scale=\"rank\",\n",
    ")"
   ]
  },
  {
   "cell_type": "code",
   "execution_count": null,
   "id": "06aac740-b06a-44ca-8edb-5bbd3da3f674",
   "metadata": {},
   "outputs": [],
   "source": [
    "arg.plot_pango_subgraph(\"XY\",\n",
    "    parent_levels=6,\n",
    "    parent_pangos=[\"BA.1.1\", \"BA.2\"],\n",
    "    oldest_y_label=\"2021-10\",\n",
    "    y_axis_scale=\"rank\",\n",
    ")"
   ]
  },
  {
   "cell_type": "code",
   "execution_count": null,
   "id": "745d3d4c-410c-4d98-aff3-5c1f59616877",
   "metadata": {},
   "outputs": [],
   "source": []
  },
  {
   "cell_type": "code",
   "execution_count": null,
   "id": "12807198-be19-43ea-a064-7efb73add45b",
   "metadata": {},
   "outputs": [],
   "source": [
    "colours = ['#332288', '#88CCEE', '#44AA99', '#999933', '#DDCC77']  # from https://personal.sron.nl/~pault/\n",
    "pangoX = [\"XZ\", \"XAC\", \"XAD\", \"XAE\", \"XAP\"]\n",
    "html = issue(339)\n",
    "\n",
    "cmap = {c: pango_lineage_samples[pX] for c, pX in zip(colours, pangoX)}\n",
    "extra_BA_2 = [964554, 2340545, 2372712, 1056883] #, 1192387, 1112147, 1145629]\n",
    "cmap.update({'lightgrey': extra_BA_2})\n",
    "\n",
    "arg.plot_pango_subgraph(\n",
    "    pangoX,\n",
    "    txt(html),\n",
    "    include=extra_BA_2,\n",
    "    parent_levels=9,\n",
    "    highlight_nodes=cmap,\n",
    "    height=700,\n",
    ")\n",
    "\n",
    "HTML(\n",
    "    \"<style>table.copying-table {font-size: 8px; @media print {zoom: 0.6}} table.copying-table .pattern td {font-size: 0.5em; width:0.3em}</style>\" +\n",
    "    sc2ts.info.CopyingTable(ts, 964555).html(show_bases=None)\n",
    ")"
   ]
  },
  {
   "cell_type": "code",
   "execution_count": null,
   "id": "60942725-e323-4f1b-a74f-cf0e622cb397",
   "metadata": {},
   "outputs": [],
   "source": []
  },
  {
   "cell_type": "code",
   "execution_count": null,
   "id": "21052cc7-1cb5-4580-9653-cf850cc98a31",
   "metadata": {},
   "outputs": [],
   "source": [
    "html = issue(360)\n",
    "arg.plot_pango_subgraph(\n",
    "    \"XAF\",\n",
    "    txt(html),\n",
    "    include=[1177107],\n",
    "    parent_levels=10,\n",
    "    child_levels=10,\n",
    "    parent_pangos=[\"BA.2\", \"BA.1\"],\n",
    "    height=700,\n",
    "    y_axis_scale=\"rank\",\n",
    ")\n",
    "\n",
    "HTML(\n",
    "    \"<style>table.copying-table {font-size: 8px; @media print {zoom: 0.6}} table.copying-table .pattern td {font-size: 0.5em; width:0.3em}</style>\" +\n",
    "    sc2ts.info.CopyingTable(ts, 1177107).html(show_bases=None)\n",
    ")"
   ]
  },
  {
   "cell_type": "code",
   "execution_count": null,
   "id": "fedae7bc-9807-4752-a3b4-956444876b27",
   "metadata": {},
   "outputs": [],
   "source": [
    "html = issue(352)\n",
    "\n",
    "with warnings.catch_warnings():\n",
    "    warnings.simplefilter(\"ignore\")\n",
    "    arg.plot_pango_subgraph(\n",
    "        \"XAJ\",\n",
    "        txt(html),\n",
    "        parent_levels=16,\n",
    "        parent_pangos=[\"BA.2.12\"],\n",
    "        y_axis_scale=\"rank\",\n",
    "    )"
   ]
  },
  {
   "cell_type": "code",
   "execution_count": null,
   "id": "2cf00ed6-c3d9-4156-a4dc-28760e162512",
   "metadata": {},
   "outputs": [],
   "source": [
    "pangoX = [\"XAN\", \"XAV\"]\n",
    "cmap = {c: pango_lineage_samples[pX] for c, pX in zip(colours, pangos)}\n",
    "\n",
    "arg.plot_pango_subgraph(\n",
    "    [\"XAN\", \"XAV\"],\n",
    "    txt(issue(353)),\n",
    "    parent_levels=10,\n",
    "    parent_pangos=[\"BA.5.1\", \"BA.5.1.24\"],\n",
    "    highlight_nodes=cmap,\n",
    "    oldest_y_label=\"2021-10\",\n",
    ")"
   ]
  },
  {
   "cell_type": "code",
   "execution_count": null,
   "id": "c818556a-368e-44fd-b639-468eae3b5f8f",
   "metadata": {},
   "outputs": [],
   "source": [
    "html = (\n",
    "    \"Complex: multiple origins, but main clade does not seem to be a recombinant. \"\n",
    "    \"2 single-sample clades are, however. \" + issue(340))\n",
    "\n",
    "with warnings.catch_warnings():\n",
    "    warnings.simplefilter(\"ignore\")\n",
    "    arg.plot_pango_subgraph(\n",
    "        \"XAS\",\n",
    "        parent_levels=4,\n",
    "        parent_pangos=[\"BA.4\"],\n",
    "        oldest_y_label=\"2021-11\",\n",
    "        y_axis_scale=\"rank\",\n",
    "    )"
   ]
  },
  {
   "cell_type": "code",
   "execution_count": null,
   "id": "d33a0596-e51a-473d-ae20-7e6464547d50",
   "metadata": {},
   "outputs": [],
   "source": [
    "pangoX = [\"XAU\", \"XN\"]\n",
    "cmap = {c: pango_lineage_samples[pX] for c, pX in zip(colours, [\"XAU\", \"XN\"])}\n",
    "\n",
    "arg.plot_pango_subgraph(\n",
    "    pangoX,\n",
    "    txt(issue(348)),\n",
    "    include=[1137492, 887654],\n",
    "    parent_levels=20, child_levels=0,\n",
    "    parent_pangos=[\"BA.2\"],\n",
    "    highlight_nodes=cmap,\n",
    "    y_axis_scale=\"rank\",\n",
    ")"
   ]
  },
  {
   "cell_type": "code",
   "execution_count": null,
   "id": "866edb7f-5be7-420c-ae85-3c0380dd595e",
   "metadata": {},
   "outputs": [],
   "source": [
    "arg.plot_pango_subgraph(\n",
    "    \"XAV\",\n",
    "    txt(issue(354)),\n",
    "    parent_levels=10, child_levels=1,\n",
    "    parent_pangos=[\"BA.2\"],\n",
    "    oldest_y_label=\"2021-11\",\n",
    ")"
   ]
  },
  {
   "cell_type": "code",
   "execution_count": null,
   "id": "6d8bbab1-d57e-4ee6-9b5d-13169d2eb489",
   "metadata": {},
   "outputs": [],
   "source": [
    "html = (\n",
    "    \"There are a lot of XAZ samples, but they all form a clade, so just pick the first 20 for viz. \" +\n",
    "    issue(356)\n",
    ")\n",
    "with warnings.catch_warnings():\n",
    "    warnings.simplefilter(\"ignore\")\n",
    "    arg.plot_pango_subgraph(\n",
    "        \"XAZ\",\n",
    "        txt(html),\n",
    "        restrict_to_first=20,\n",
    "        parent_levels=10, child_levels=0,\n",
    "        parent_pangos=[\"BA.2\"],\n",
    "        oldest_y_label=\"2021-10\",\n",
    "    )"
   ]
  },
  {
   "cell_type": "code",
   "execution_count": null,
   "id": "4728058e-436a-4400-9502-970e2e17a981",
   "metadata": {},
   "outputs": [],
   "source": [
    "with warnings.catch_warnings():\n",
    "    warnings.simplefilter(\"ignore\")\n",
    "    arg.plot_pango_subgraph(\n",
    "        \"XBB\",\n",
    "        restrict_to_first=5,\n",
    "        include=[1408964, 1396838, 1404568, 1423196, 1398292, 2681617, 1409763],\n",
    "        parent_levels=8,\n",
    "        parent_pangos=[\"BA.2.10\", \"BM.1.1.1\"],\n",
    "        oldest_y_label=\"2021-11\",\n",
    "        y_axis_scale=\"rank\",\n",
    "    )"
   ]
  },
  {
   "cell_type": "code",
   "execution_count": null,
   "id": "544aaea1-7fcf-4bfa-a41d-775efb660553",
   "metadata": {},
   "outputs": [],
   "source": [
    "arg.plot_pango_subgraph(\n",
    "    \"XBE\",\n",
    "    txt(issue(351)),\n",
    "    include = [2661358],\n",
    "    parent_levels=15,\n",
    "    parent_pangos=[\"BA.5.2\"],\n",
    "    oldest_y_label=\"2021-10\",\n",
    ")"
   ]
  },
  {
   "cell_type": "code",
   "execution_count": null,
   "id": "7a0b0261-dc20-4ded-91d6-b642424239a0",
   "metadata": {},
   "outputs": [],
   "source": [
    "colours = ['#332288', '#88CCEE', '#44AA99', '#999933', '#DDCC77']  # from https://personal.sron.nl/~pault/\n",
    "pangoX = [\"XBQ\", \"XBK\", \"XBK.1\", \"CJ.1.3\"]\n",
    "with warnings.catch_warnings():\n",
    "    warnings.simplefilter(\"ignore\")\n",
    "    arg.plot_pango_subgraph(\n",
    "        pangoX,\n",
    "        txt(issue(349)),\n",
    "        include = [1363939, 1342796],\n",
    "        parent_levels=10,\n",
    "        parent_pangos=[\"BM.1.1.1\", \"BM.1.1\", \"BA.2\", \"BA.2.75\", \"BA.2.75.3\"],\n",
    "        highlight_nodes={c: pango_lineage_samples[pX] for c, pX in zip(colours, pangoX)},\n",
    "        oldest_y_label=\"2021-10\",\n",
    "    )"
   ]
  },
  {
   "cell_type": "markdown",
   "id": "8b607b9c-e632-4aae-a56d-21840886aa10",
   "metadata": {},
   "source": [
    "## Extra notes below"
   ]
  },
  {
   "cell_type": "code",
   "execution_count": null,
   "id": "2133b42d-70f2-4f41-8e83-d94cccc173d6",
   "metadata": {
    "scrolled": true
   },
   "outputs": [],
   "source": [
    "#df = ti.recombinants_summary()\n",
    "#df.set_index(\"recombinant\", inplace=True)\n",
    "\n",
    "\n",
    "# Here we document some investigations into Pango X assignments that appear not to have re nodes\n",
    "reasons_for_no_re = dict(\n",
    "    XP=\"Dependent on a deletion which sc2ts does not use\",\n",
    "    XN=\"Definitely not a recombinant according to sc2ts. See https://github.com/jeromekelleher/sc2ts-paper/issues/285\",\n",
    "    XAU=\"Definitely not a recombinant according to sc2ts. See https://github.com/jeromekelleher/sc2ts-paper/issues/285\",\n",
    "    XAZ=\"Not a recombinant. Nearest RE node is #1189192 which is a BA.5 with 112911 descendants\",\n",
    "    XAJ=\"Probably not a recombinant. See https://github.com/jeromekelleher/sc2ts-paper/issues/285\",\n",
    "    XAS=\"Complex: multiple origins, but main clade does not seem to be a recombinant. 2 single-sample clades are, however\",\n",
    "    XAV=\"Possibly not a recombinant: see https://github.com/jeromekelleher/sc2ts-paper/issues/285\",\n",
    "    XBQ=\"Probably not a recombinant. See https://github.com/jeromekelleher/sc2ts-paper/issues/285\",\n",
    "    XBK=\"Probably not a recombinant. See https://github.com/jeromekelleher/sc2ts-paper/issues/285\",\n",
    ")\n",
    "\n",
    "display(HTML(\"<h3>SUMMARY</h3>\"))\n",
    "display(HTML(\"<h4>PangoX with a valid RE node</h4>\"))\n",
    "display(HTML(\"<dl>\"))\n",
    "\n",
    "for pango in sorted(pango_counts, key=lambda x: (len(x), x)):\n",
    "    if pango_counts[pango] is None:\n",
    "        display(HTML(f\"&nbsp;&nbsp;&nbsp;{pango}: No samples in Viridian which passed QC\"))\n",
    "        continue\n",
    "    try:\n",
    "        node = pango_x_to_node[pango]\n",
    "        others = pango_x_nodes[node]\n",
    "        #row = df[node]\n",
    "        display(HTML(\n",
    "            f\"* {pango}: re_node {node}\" +\n",
    "            (f\" ({others.index(pango) + 1}/{len(others)})\" if len(others) > 1 else \"\") +\n",
    "            f\", {int(row.interval_left)}-{int(row.interval_right)}bp\" +\n",
    "            f\", {row.parent_left_pango} + {row.parent_right_pango}\"\n",
    "        ))\n",
    "    except KeyError:            \n",
    "        display(HTML(f\"&nbsp;&nbsp;&nbsp;{pango}: {reasons_for_no_re.get(pango, 'No clear associated re node')}\"))\n",
    "        \n"
   ]
  }
 ],
 "metadata": {
  "kernelspec": {
   "display_name": "Python 3 (ipykernel)",
   "language": "python",
   "name": "python3"
  },
  "language_info": {
   "codemirror_mode": {
    "name": "ipython",
    "version": 3
   },
   "file_extension": ".py",
   "mimetype": "text/x-python",
   "name": "python",
   "nbconvert_exporter": "python",
   "pygments_lexer": "ipython3",
   "version": "3.12.10"
  }
 },
 "nbformat": 4,
 "nbformat_minor": 5
}
