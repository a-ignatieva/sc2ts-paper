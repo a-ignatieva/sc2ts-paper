{
 "cells": [
  {
   "cell_type": "markdown",
   "id": "75d06b69-6b45-4105-83b9-6bc768d44598",
   "metadata": {},
   "source": [
    "# Pango X lineage subgraphs\n",
    "\n",
    "In this document we display subgraphs for all the main Pango X lineages that have samples present in the _sc2ts_ ARG. Pango designations for both samples and internal nodes were assigned using <a href=\"https://cov-lineages.org/resources/pangolin/\">Pangolin 4.3.1</a> (see main text). For nodes with large numbers of descendants, only a selected sample of roughly 20-50 Pango X samples are shown in these subgraphs. Extra descendants of a node are shown with dotted lines indicating additional immediate children of a node (note that this is not the same as the number of descendant samples). In some cases, additional descendant nodes of different Pango designations (e.g. BA.2) are shown for context.\n",
    "\n",
    "Sample nodes are shown as squares; internal inferred nodes as circles. Recombination nodes are presented as larger circular nodes, with a Pango designation followed by the breakpoint position(s) surrounded by slashes, e.g. a breakpoint at position 1234 bp is indicated as **/1234/** (but note that Pango X lineages that are not of recombinant origin in *sc2ts* will not have a clear recombination node). Nodes of the focal pango type are plotted in pink, or as a set of alternative colours if multiple Pango designations are plotted in a single subgraph. Mutations within each subgraph (tickmarks along edges) are coloured pink if they are flagged as consensus mutations the focal Pango lineage(s): often such mutations occur in lineages above the Pango X origination node. Alternatively, if there are multiple mutations at the same site within a subgraph (indicating problematic reversion or recurrent mutations) they are plotted in a unique colour. For example, two green mutation tickmarks will represent mutations at the same site. If one is a reversion of a previous mutation (often indicating an unparsimonious reconstruction of topology), then the mutation is emphasised with a solid black outline. Deletion mutations are filled in black, and insertions are given strong emphasis using a magenta fill; where a site experiences multiple deletions or insertions at the same site, the outline is given a site-specific colour: note that reinsertions of a previous large deletion are biologically implausible, and are likely to represent ARG reconstruction artefacts.\n",
    "\n",
    "In the PDF version of this document, hovering over node names will reveal the sample_id of a node, and hovering over a mutation will reveal the position of the mutation and the inherited vs derived state. E.g. a mouseover label of <code>mut:A1234T</code> denotes a mutation from an A to a T at position 1234 in the genome. Technially this is implemented by faking a URL (this leads to the slightly annoying behaviour that actually clicking on the hover-over text will attempt to open a non-existent URL).\n",
    "\n",
    "For Pango X lineages that have a recombinant origin in the ARG, the summary copying pattern is also displayed below the subgraph. "
   ]
  },
  {
   "cell_type": "code",
   "execution_count": null,
   "id": "bf0338dc-87ed-45db-9d91-936decdcdd1b",
   "metadata": {},
   "outputs": [],
   "source": [
    "## NOTE: this notebook is not saved with the output cells completed, as this makes the file uncomfortably large\n",
    "#\n",
    "# Export only the output cells to PDF via:\n",
    "# jupyter nbconvert --to webpdf --no-prompt --no-input --PDFExporter.scale_factor=0.8  --TagRemovePreprocessor.remove_cell_tags='{\"remove_cell\"}' --PDFExporter.margin_left=0.2cm --PDFExporter.margin_right=0.2cm Viridian-PangoX.ipynb\n",
    "# A fancier option is to use the src/makepdf.py script, which creates hover-over labels, e.g. to save figures/supp_pdf-subgraphs-PangoX.pdf:\n",
    "#  python src/makepdf.py notebooks/supp_pdf-subgraphs-PangoX.ipynb -o figures \n"
   ]
  },
  {
   "cell_type": "code",
   "execution_count": null,
   "id": "69d69070-4eb2-45ad-b52d-5ffc81fe3c9c",
   "metadata": {
    "editable": true,
    "slideshow": {
     "slide_type": ""
    },
    "tags": []
   },
   "outputs": [],
   "source": [
    "import collections\n",
    "\n",
    "import numpy as np\n",
    "import pandas as pd\n",
    "import sc2ts\n",
    "import tskit\n",
    "import tszip\n",
    "import warnings\n",
    "from IPython.display import HTML\n",
    "\n",
    "import nb_utils\n",
    "from nb_utils import DATA_DIR\n",
    "\n",
    "from IPython.display import HTML\n",
    "HTML(\"\"\"<style>@page {margin: 0.5cm;}</style>\"\"\")  # Allow space for copying patterns in the pdf"
   ]
  },
  {
   "cell_type": "code",
   "execution_count": null,
   "id": "5d8691ff-5336-48ac-af8a-1d6475d9cbf9",
   "metadata": {
    "editable": true,
    "slideshow": {
     "slide_type": ""
    },
    "tags": []
   },
   "outputs": [],
   "source": [
    "# Get the Viridian ARG\n",
    "ts = tszip.load(DATA_DIR / \"sc2ts_viridian_v1.2.trees.tsz\")\n",
    "df = sc2ts.node_data(ts).set_index(\"sample_id\")\n",
    "\n",
    "# Join with the associated data\n",
    "ds = nb_utils.load_dataset()\n",
    "df = df.join(ds.metadata.as_dataframe([\"Viridian_pangolin\"]))\n",
    "\n",
    "hide_progress = True  # Set to `True` and rerun the nodebook to get a nicer version for PDF output"
   ]
  },
  {
   "cell_type": "code",
   "execution_count": null,
   "id": "acb18edc-5e11-44be-8d3a-fa8a77822f8f",
   "metadata": {
    "editable": true,
    "slideshow": {
     "slide_type": ""
    },
    "tags": []
   },
   "outputs": [],
   "source": [
    "# Set which pango designation to use:\n",
    "# Use \"pango\" to get the pango designations for all nodes computed by postprocessing the ARG.\n",
    "# Use \"Viridian_pangolin\" to use the sample designations provided by Viridian.\n",
    "Pango = \"pango\""
   ]
  },
  {
   "cell_type": "code",
   "execution_count": null,
   "id": "782e3924-4e00-4922-aa91-f0a5fc91ae4f",
   "metadata": {
    "editable": true,
    "slideshow": {
     "slide_type": ""
    },
    "tags": []
   },
   "outputs": [],
   "source": [
    "dfX = pd.read_csv(\"../data/pango_x_events.csv\")\n",
    "pango_lineage_samples = df[df.is_sample].groupby(Pango)['node_id'].apply(list).to_dict()\n",
    "pangoX = np.unique(dfX.root_pango)\n",
    "display(HTML(\n",
    "    f'<table><tr><th>{len(pangoX)} pango-X lineages</th></tr>'\n",
    "    f'<tr><td>{\", \".join(pangoX)}</td></tr></table>'\n",
    "))"
   ]
  },
  {
   "cell_type": "code",
   "execution_count": null,
   "id": "b6107f94-98ce-4dc6-b8e9-045efd5cef71",
   "metadata": {
    "editable": true,
    "slideshow": {
     "slide_type": ""
    },
    "tags": []
   },
   "outputs": [],
   "source": [
    "print(\"Consensus mutations for each lineage taken from https://covidcg.org\")\n",
    "lineage_consensus_muts = nb_utils.read_in_mutations(\"../data/consensus_mutations.json.bz2\")"
   ]
  },
  {
   "cell_type": "code",
   "execution_count": null,
   "id": "ae12c07d-3b9c-4bad-a94e-d4a6c7c581e6",
   "metadata": {
    "editable": true,
    "scrolled": true,
    "slideshow": {
     "slide_type": ""
    },
    "tags": [
     "remove_cell"
    ]
   },
   "outputs": [],
   "source": [
    "# Load in the ARG to the visualizer - can take a few minutes\n",
    "arg = nb_utils.D3ARG_viz(ts, df, lineage_consensus_muts, pangolin_field=Pango, progress=not hide_progress)"
   ]
  },
  {
   "cell_type": "code",
   "execution_count": null,
   "id": "4d5e1de3-90db-4db4-b4ef-c76ea1797bb1",
   "metadata": {
    "editable": true,
    "scrolled": true,
    "slideshow": {
     "slide_type": ""
    },
    "tags": [
     "remove_cell"
    ]
   },
   "outputs": [],
   "source": [
    "arg.set_sc2ts_node_labels(progress=not hide_progress)\n",
    "\n",
    "arg.d3arg.nodes.loc[arg.d3arg.nodes.id == 86456, 'label'] = \"Alpha-root\"\n",
    "arg.d3arg.nodes.loc[arg.d3arg.nodes.id == 200039, 'label'] = \"Delta-root\"\n",
    "arg.d3arg.nodes.loc[arg.d3arg.nodes.id == 851246, 'label'] = \"BA.1-root\"\n",
    "arg.d3arg.nodes.loc[arg.d3arg.nodes.id == 822854, 'label'] = \"BA.2-root\"\n",
    "arg.d3arg.nodes.loc[arg.d3arg.nodes.id == 1265302, 'label'] = \"BA.4-root\"\n",
    "arg.d3arg.nodes.loc[arg.d3arg.nodes.id == 1189192, 'label'] = \"BA.5-root\"\n",
    "arg.set_sc2ts_node_styles()"
   ]
  },
  {
   "cell_type": "code",
   "execution_count": null,
   "id": "36046fd3-16a7-408e-85fd-b5e13e63aeda",
   "metadata": {
    "editable": true,
    "slideshow": {
     "slide_type": ""
    },
    "tags": []
   },
   "outputs": [],
   "source": [
    "# Scale all the viz versions for print, so that a standard 750 x 1000 subgraph fits onto one size of A4\n",
    "display(HTML(\n",
    "    \"\"\"<style>\n",
    "    @media print {.d3arg {zoom: 0.8}}\n",
    "    .big table.copying-table {font-size: 8px; margin-left: auto !important; margin-right: auto !important; @media print {zoom: 0.8}}\n",
    "    .small table.copying-table {font-size: 8px; margin-left: auto !important; margin-right: auto !important; @media print {zoom: 0.6}}\n",
    "    table.copying-table .pattern td {font-size: 0.5em; width:0.7em}\n",
    "    </style>\"\"\"\n",
    "));\n",
    "\n",
    "def txt(html, right=\"33em\", top=\"15em\", width=\"275px\"):\n",
    "    return (\n",
    "        f'<div style=\\\"position: absolute; z-index:1; right:{right}; top:{top}; width:{width};'\n",
    "        f'border:1px solid black; padding: 0.5em;\\\">{html}</div>'\n",
    "    )\n",
    "\n",
    "def copypattern(u, css_class=\"big\", hide_extra_rows=True, hide_labels=True, show_bases=None, **kwargs):\n",
    "    display(HTML(\n",
    "        f'<div class=\"{css_class}\">' +\n",
    "        sc2ts.info.CopyingTable(ts, u).html(hide_extra_rows=hide_extra_rows, hide_labels=hide_labels, show_bases=show_bases, **kwargs) +\n",
    "        '</div>' \n",
    "    ))\n",
    "\n",
    "class RecordPango:\n",
    "    # Simply record all the calls to cls.pango()\n",
    "    pangos = []\n",
    "    def pango(self, pango_string):\n",
    "        if type(pango_string) == str:\n",
    "            self.pangos.append(pango_string)\n",
    "        else:\n",
    "            self.pangos += pango_string\n",
    "        return pango_string\n",
    "rec = RecordPango()"
   ]
  },
  {
   "cell_type": "code",
   "execution_count": null,
   "id": "ad877fbf-2d46-4e6d-baaf-1a10b2787e0e",
   "metadata": {
    "editable": true,
    "scrolled": true,
    "slideshow": {
     "slide_type": ""
    },
    "tags": []
   },
   "outputs": [],
   "source": [
    "arg.plot_pango_subgraph(\n",
    "    rec.pango(\"XA\"),\n",
    "    y_axis_scale=\"rank\",\n",
    "    parent_pangos=(\"B.1.1.7\", \"B.1.177.18\"),\n",
    "    tree_highlighting=False,\n",
    ")\n",
    "copypattern(122444)"
   ]
  },
  {
   "cell_type": "code",
   "execution_count": null,
   "id": "e11819b9-6a27-4c42-b9a1-0e67b5b78c9b",
   "metadata": {
    "editable": true,
    "scrolled": true,
    "slideshow": {
     "slide_type": ""
    },
    "tags": []
   },
   "outputs": [],
   "source": [
    "# XB has too many samples so we remove the immediate children of the XB root\n",
    "exclude = np.unique(ts.edges_child[ts.edges_parent==223239])\n",
    "exclude = exclude[exclude != 223230]\n",
    "\n",
    "keep_ids = list(df.loc[[\"SRR19258389\", \"SRR16145215\", \"SRR14453168\", \"SRR16733818\", \"SRR14898852\"], 'node_id'])\n",
    "\n",
    "arg.plot_pango_subgraph(\n",
    "    rec.pango(\"XB\"),\n",
    "    child_levels=0,\n",
    "    include=keep_ids,\n",
    "    restrict_to_first=20,\n",
    "    exclude=exclude,\n",
    "    parent_pangos=[\"B.1.631\", \"B.1.634\", \"B.1.627\"],\n",
    "    highlight_nodes={\"lightgrey\": keep_ids, arg.highlight_colour: df.loc[df.pango==\"XB\", 'node_id']},\n",
    "    tree_highlighting=False,\n",
    ")\n"
   ]
  },
  {
   "cell_type": "code",
   "execution_count": null,
   "id": "571d8c8c-233e-4e5b-95a9-43202faf1d48",
   "metadata": {
    "editable": true,
    "slideshow": {
     "slide_type": ""
    },
    "tags": []
   },
   "outputs": [],
   "source": [
    "arg.plot_pango_subgraph(\n",
    "    rec.pango(\"XC\"),\n",
    "    parent_levels=5,\n",
    "    y_axis_scale=\"rank\",\n",
    "    parent_pangos=[\"AY.29\", \"B.1.1.7\"],\n",
    "    oldest_y_label=\"2020-09\",\n",
    "    tree_highlighting=False,\n",
    ")\n",
    "copypattern(414488)"
   ]
  },
  {
   "cell_type": "code",
   "execution_count": null,
   "id": "637b02f4-c37f-4162-862d-193a389d1697",
   "metadata": {
    "editable": true,
    "slideshow": {
     "slide_type": ""
    },
    "tags": []
   },
   "outputs": [],
   "source": [
    "pangoX = [\"XE\", \"XH\"]\n",
    "keep_ids = list(df.loc[[\"SRR17712953\", \"ERR9656085\", \"ERR9657718\"], 'node_id']) + [1177107]\n",
    "cmap = {'lightgrey': keep_ids}\n",
    "cmap.update({c: pango_lineage_samples[pX] for c, pX in zip(arg.colours, pangoX)})\n",
    "\n",
    "\n",
    "with warnings.catch_warnings():\n",
    "    warnings.simplefilter(\"ignore\")\n",
    "    arg.plot_pango_subgraph(\n",
    "        rec.pango(pangoX),\n",
    "        include=keep_ids,\n",
    "        restrict_to_first=20,\n",
    "        parent_pangos=[\"BA.1.17.2\", \"BA.2\"],\n",
    "        child_levels=0,\n",
    "        parent_levels=4,\n",
    "        y_axis_scale=\"rank\",\n",
    "        oldest_y_label=\"2021-11\",\n",
    "        highlight_nodes=cmap,\n",
    "        tree_highlighting=False,\n",
    "    )\n",
    "copypattern(965353)\n"
   ]
  },
  {
   "cell_type": "code",
   "execution_count": null,
   "id": "b4d39c1c-21ee-4409-9b08-b3bb55f07e57",
   "metadata": {},
   "outputs": [],
   "source": [
    "arg.plot_pango_subgraph(\n",
    "    rec.pango(\"XF\"),\n",
    "    parent_pangos=[\"BA.1\", \"AY.4\"],\n",
    "    parent_levels=11,\n",
    "    y_axis_scale=\"rank\",\n",
    "    oldest_y_label=\"2020-04\",\n",
    "    tree_highlighting=False,\n",
    ")\n",
    "copypattern(946761, css_class=\"small\")"
   ]
  },
  {
   "cell_type": "code",
   "execution_count": null,
   "id": "4f2f7c3b-ee7a-4ad5-97fd-fde6e2026243",
   "metadata": {
    "editable": true,
    "slideshow": {
     "slide_type": ""
    },
    "tags": []
   },
   "outputs": [],
   "source": [
    "keep_ids = list(df.loc[[\"ERR9124067\"], 'node_id'])\n",
    "\n",
    "\n",
    "arg.plot_pango_subgraph(\n",
    "    rec.pango(\"XG\"),\n",
    "    parent_pangos=[\"BA.1.17\", \"BA.2\"],\n",
    "    include=keep_ids,\n",
    "    y_axis_scale=\"rank\",\n",
    "    parent_levels=9,\n",
    "    oldest_y_label=\"2021-08\",\n",
    "    highlight_nodes={\"lightgrey\": keep_ids, arg.highlight_colour: df.loc[df.pango==\"XG\", 'node_id']},\n",
    "    tree_highlighting=False,\n",
    ")\n",
    "copypattern(1083412)"
   ]
  },
  {
   "cell_type": "code",
   "execution_count": null,
   "id": "3b7e3df2-67db-4faa-ac36-ed0b09961446",
   "metadata": {
    "editable": true,
    "slideshow": {
     "slide_type": ""
    },
    "tags": []
   },
   "outputs": [],
   "source": [
    "keep_ids = [1090786, 2258352]\n",
    "\n",
    "\n",
    "arg.plot_pango_subgraph(\n",
    "    rec.pango(\"XJ\"),\n",
    "    include=[1090786, 2258352],\n",
    "    y_axis_scale=\"rank\",\n",
    "    parent_pangos=[\"BA.1.17.2\", \"BA.2\"],\n",
    "    parent_levels=5,\n",
    "    oldest_y_label=\"2020-06\",\n",
    "    highlight_nodes={\"lightgrey\": keep_ids, arg.highlight_colour: df.loc[df.pango==\"XJ\", 'node_id']},\n",
    "    tree_highlighting=False,\n",
    ")\n",
    "copypattern(966905)"
   ]
  },
  {
   "cell_type": "code",
   "execution_count": null,
   "id": "25459db2-f1fe-4485-a67e-d1965c880c89",
   "metadata": {
    "editable": true,
    "slideshow": {
     "slide_type": ""
    },
    "tags": []
   },
   "outputs": [],
   "source": [
    "keep_ids = list(df.loc[[\"SRR18781053\"], 'node_id'])\n",
    "\n",
    "arg.plot_pango_subgraph(\n",
    "    rec.pango(\"XL\"),\n",
    "    include=keep_ids,\n",
    "    y_axis_scale=\"rank\",\n",
    "    parent_pangos=[\"BA.1.17.2\", \"BA.2\"],\n",
    "    parent_levels=5,\n",
    "    oldest_y_label=\"2020-06\",\n",
    "    highlight_nodes={\"lightgrey\": keep_ids, arg.highlight_colour: df.loc[df.pango==\"XL\", 'node_id']},\n",
    "    tree_highlighting=False,\n",
    ")\n",
    "copypattern(1034619)"
   ]
  },
  {
   "cell_type": "code",
   "execution_count": null,
   "id": "cd660ee0-f482-4e6a-99b7-cca7d58afd67",
   "metadata": {
    "editable": true,
    "scrolled": true,
    "slideshow": {
     "slide_type": ""
    },
    "tags": []
   },
   "outputs": [],
   "source": [
    "pangos = rec.pango([\"XM\", \"XAL\"])\n",
    "arg.plot_pango_subgraph(\n",
    "    pangos,\n",
    "    parent_pangos=[\"BA.1.1\", \"BA.2\"],\n",
    "    child_levels=0,\n",
    "    parent_levels=7,\n",
    "    highlight_nodes={c: pango_lineage_samples[pX] for c, pX in zip(arg.colours, pangos)},\n",
    "    y_axis_scale=\"rank\",\n",
    "    tree_highlighting=False,\n",
    ")\n",
    "\n",
    "copypattern(1003220)"
   ]
  },
  {
   "cell_type": "code",
   "execution_count": null,
   "id": "5ed09b05-1f22-4a7f-86cd-3c6a0d98db83",
   "metadata": {
    "editable": true,
    "slideshow": {
     "slide_type": ""
    },
    "tags": []
   },
   "outputs": [],
   "source": [
    "pangoX = rec.pango([\"XN\", \"XAU\"])\n",
    "keep_ids = [1230542, 1235915, 1250403, 2546319, 2508083]\n",
    "cmap = {'lightgrey': keep_ids}\n",
    "cmap.update({c: pango_lineage_samples[pX] for c, pX in zip(arg.colours, pangoX)})\n",
    "\n",
    "arg.plot_pango_subgraph(\n",
    "    pangoX,\n",
    "    include=keep_ids,\n",
    "    parent_levels=7, child_levels=0,\n",
    "    parent_pangos=[\"BA.2\"],\n",
    "    highlight_nodes=cmap,\n",
    "    oldest_y_label=\"2020-07\",\n",
    "    y_axis_scale=\"rank\",\n",
    "    tree_highlighting=False,\n",
    ")"
   ]
  },
  {
   "cell_type": "code",
   "execution_count": null,
   "id": "9725cebb-b9e6-48e3-80f4-9771234f36cd",
   "metadata": {
    "editable": true,
    "slideshow": {
     "slide_type": ""
    },
    "tags": []
   },
   "outputs": [],
   "source": [
    "keep_ids = list(df.loc[[\"ERR8688510\", \"ERR8992715\", \"ERR8758930\", \"ERR8992748\"], 'node_id'])\n",
    "\n",
    "with warnings.catch_warnings():\n",
    "    warnings.simplefilter(\"ignore\")\n",
    "    arg.plot_pango_subgraph(\n",
    "        rec.pango(\"XP\"),\n",
    "        parent_levels=11,\n",
    "        include=keep_ids,\n",
    "        child_levels=0,\n",
    "        parent_pangos=[\"BA.1.1\"],\n",
    "        highlight_nodes={\"lightgrey\": keep_ids, arg.highlight_colour: df.loc[df.pango==\"XP\", 'node_id']},\n",
    "        y_axis_scale=\"rank\",\n",
    "        oldest_y_label=\"2021-06\",\n",
    "        tree_highlighting=False,\n",
    "    )"
   ]
  },
  {
   "cell_type": "code",
   "execution_count": null,
   "id": "9c25e098-5cc0-46ad-b1e6-86ae316bd85b",
   "metadata": {
    "editable": true,
    "scrolled": true,
    "slideshow": {
     "slide_type": ""
    },
    "tags": []
   },
   "outputs": [],
   "source": [
    "pangoX = rec.pango([\"XQ\", \"XR\", \"XU\", \"XAA\", \"XAG\", \"XAM\"])\n",
    "keep_ids = [1216524, 1240312, 1105611, 2534291, 2534290, 1202063, 1158324, 1080162]\n",
    "cmap = {'lightgrey': keep_ids}\n",
    "cmap.update({c: pango_lineage_samples[pX] for c, pX in zip(arg.colours, pangoX)})\n",
    "\n",
    "arg.plot_pango_subgraph(\n",
    "    pangoX,\n",
    "    include=keep_ids,\n",
    "    restrict_to_first=10,\n",
    "    parent_levels=10,\n",
    "    child_levels=0,\n",
    "    parent_pangos=[\"BA.1.1.15\", \"BA.2.9\"],\n",
    "    highlight_nodes=cmap,\n",
    "    y_axis_scale=\"rank\",\n",
    "    oldest_y_label=\"2021-10\",\n",
    "    tree_highlighting=False,\n",
    ")\n",
    "\n",
    "copypattern(1058654)"
   ]
  },
  {
   "cell_type": "code",
   "execution_count": null,
   "id": "1e9b286f-12d8-4848-b934-cdacd7167f7c",
   "metadata": {
    "editable": true,
    "slideshow": {
     "slide_type": ""
    },
    "tags": []
   },
   "outputs": [],
   "source": [
    "keep_ids = [881625]\n",
    "with warnings.catch_warnings():\n",
    "    warnings.simplefilter(\"ignore\")\n",
    "    arg.plot_pango_subgraph(\n",
    "        rec.pango(\"XS\"),\n",
    "        include=keep_ids,\n",
    "        parent_levels=6,\n",
    "        parent_pangos=[\"AY.103\", \"BA.1.1\"],\n",
    "        y_axis_scale=\"rank\",\n",
    "        oldest_y_label=\"2021-09\",\n",
    "        highlight_nodes={\"lightgrey\": keep_ids, arg.highlight_colour: df.loc[df.pango==\"XS\", 'node_id']},\n",
    "        tree_highlighting=False,\n",
    "    )\n",
    "\n",
    "copypattern(1000242, css_class=\"small\")\n",
    "copypattern(1014313, css_class=\"small\")"
   ]
  },
  {
   "cell_type": "code",
   "execution_count": null,
   "id": "f871da6f-57e5-4569-8f80-322b1e7c0c65",
   "metadata": {},
   "outputs": [],
   "source": [
    "arg.plot_pango_subgraph(\n",
    "    rec.pango(\"XW\"),\n",
    "    parent_levels=6,\n",
    "    parent_pangos=[\"BA.1.1.15\", \"BA.2\"],\n",
    "    oldest_y_label=\"2021-11\",\n",
    "    y_axis_scale=\"rank\",\n",
    "    tree_highlighting=False,\n",
    ")\n",
    "\n",
    "copypattern(1159411)"
   ]
  },
  {
   "cell_type": "code",
   "execution_count": null,
   "id": "06aac740-b06a-44ca-8edb-5bbd3da3f674",
   "metadata": {},
   "outputs": [],
   "source": [
    "keep_ids = list(df.loc[[\"ERR8627048\"], 'node_id'])\n",
    "\n",
    "\n",
    "arg.plot_pango_subgraph(\n",
    "    rec.pango(\"XY\"),\n",
    "    include=keep_ids,\n",
    "    parent_levels=6,\n",
    "    parent_pangos=[\"BA.1.1\", \"BA.2\"],\n",
    "    oldest_y_label=\"2021-11\",\n",
    "    y_axis_scale=\"rank\",\n",
    "    highlight_nodes={\"lightgrey\": keep_ids, arg.highlight_colour: df.loc[df.pango==\"XY\", 'node_id']},\n",
    "    tree_highlighting=False,\n",
    ")\n",
    "\n",
    "copypattern(1187989)"
   ]
  },
  {
   "cell_type": "code",
   "execution_count": null,
   "id": "12807198-be19-43ea-a064-7efb73add45b",
   "metadata": {},
   "outputs": [],
   "source": [
    "pangoX = rec.pango([\"XZ\", \"XAC\", \"XAD\", \"XAE\", \"XAP\"])\n",
    "keep_ids = list(df.loc[[\"SRR19689888\", \"ERR8146303\", \"ERR8163061\", \"SRR19689888\", \"SRR17712953\"], 'node_id'])\n",
    "\n",
    "cmap = {'lightgrey': keep_ids}\n",
    "cmap.update({c: pango_lineage_samples[pX] for c, pX in zip(arg.colours, pangoX)})\n",
    "\n",
    "\n",
    "arg.plot_pango_subgraph(\n",
    "    pangoX,\n",
    "    y_axis_scale=\"rank\",\n",
    "    include=keep_ids,\n",
    "    parent_levels=3,\n",
    "    highlight_nodes=cmap,\n",
    "    oldest_y_label=\"2021-11\",\n",
    "    tree_highlighting=False,\n",
    ")\n",
    "\n",
    "copypattern(964555)"
   ]
  },
  {
   "cell_type": "code",
   "execution_count": null,
   "id": "21052cc7-1cb5-4580-9653-cf850cc98a31",
   "metadata": {},
   "outputs": [],
   "source": [
    "keep_ids = [1177107]\n",
    "\n",
    "arg.plot_pango_subgraph(\n",
    "    rec.pango(\"XAF\"),\n",
    "    include=keep_ids,\n",
    "    parent_levels=1,\n",
    "    child_levels=10,\n",
    "    parent_pangos=[\"BA.2\", \"BA.1\"],\n",
    "    y_axis_scale=\"rank\",\n",
    "    oldest_y_label=\"2022-01\",\n",
    "    highlight_nodes={\"lightgrey\": keep_ids, arg.highlight_colour: df.loc[df.pango==\"XAF\", 'node_id']},\n",
    "    tree_highlighting=False,\n",
    ")\n",
    "\n",
    "copypattern(1177107)"
   ]
  },
  {
   "cell_type": "code",
   "execution_count": null,
   "id": "fedae7bc-9807-4752-a3b4-956444876b27",
   "metadata": {},
   "outputs": [],
   "source": [
    "keep_ids = [1149781, 1149782, 1272603]\n",
    "\n",
    "\n",
    "with warnings.catch_warnings():\n",
    "    warnings.simplefilter(\"ignore\")\n",
    "    arg.plot_pango_subgraph(\n",
    "        rec.pango(\"XAJ\"),\n",
    "        include=keep_ids,\n",
    "        parent_levels=6,\n",
    "        child_levels=0,\n",
    "        parent_pangos=[\"BA.2.12\"],\n",
    "        y_axis_scale=\"rank\",\n",
    "        oldest_y_label=\"2021-11\",    \n",
    "        highlight_nodes={\"lightgrey\": keep_ids, arg.highlight_colour: df.loc[df.pango==\"XAJ\", 'node_id']},\n",
    "        tree_highlighting=False,\n",
    "    )"
   ]
  },
  {
   "cell_type": "code",
   "execution_count": null,
   "id": "2cf00ed6-c3d9-4156-a4dc-28760e162512",
   "metadata": {},
   "outputs": [],
   "source": [
    "keep_ids = list(df.loc[[\"ERR9932299\", \"ERR9615608\", \"SRR20779844\"], 'node_id'])\n",
    "keep_ids += [1363957, 887654, 863361, 1185810, 2289990]\n",
    "pangoX = rec.pango([\"XAN\", \"XAV\"])\n",
    "\n",
    "cmap = {'lightgrey': keep_ids}\n",
    "cmap.update({c: pango_lineage_samples[pX] for c, pX in zip(arg.colours, pangoX)})\n",
    "\n",
    "arg.plot_pango_subgraph(\n",
    "    pangoX,\n",
    "    txt(\n",
    "        'In this non-recombinant subgraph we also plot the separate recent ancestry of a BA.2.5 sample '\n",
    "        'of the sort suggested as a left parent in Pango designation issues '\n",
    "        '<a href=\"https://github.com/cov-lineages/pango-designation/issues/771\">#771</a> and '\n",
    "        '<a href=\"https://github.com/cov-lineages/pango-designation/issues/911\">#911</a>.'\n",
    "    ),\n",
    "    parent_levels=2,\n",
    "    child_levels=0,\n",
    "    include=keep_ids,\n",
    "    parent_pangos=[\"BA.5.1\", \"BA.5.1.24\"],\n",
    "    highlight_nodes=cmap,\n",
    "    oldest_y_label=\"2021-11\",\n",
    "    tree_highlighting=False,\n",
    ")"
   ]
  },
  {
   "cell_type": "code",
   "execution_count": null,
   "id": "c818556a-368e-44fd-b639-468eae3b5f8f",
   "metadata": {},
   "outputs": [],
   "source": [
    "with warnings.catch_warnings():\n",
    "    warnings.simplefilter(\"ignore\")\n",
    "    arg.plot_pango_subgraph(\n",
    "        rec.pango(\"XAS\"),\n",
    "        include=[1275206],\n",
    "        parent_levels=5,\n",
    "        parent_pangos=[\"BA.4\"],\n",
    "        oldest_y_label=\"2021-11\",\n",
    "        y_axis_scale=\"rank\",\n",
    "        tree_highlighting=False,\n",
    "    )"
   ]
  },
  {
   "cell_type": "code",
   "execution_count": null,
   "id": "6d8bbab1-d57e-4ee6-9b5d-13169d2eb489",
   "metadata": {},
   "outputs": [],
   "source": [
    "keep_ids = list(df.loc[[\"ERR9810090\", \"SRR20430410\", \"SRR21294070\",    \"ERR9615610\", \"ERR8974195\"], 'node_id'])\n",
    "\n",
    "arg.plot_pango_subgraph(\n",
    "    rec.pango(\"XAZ\"),\n",
    "    txt(\n",
    "        'In this non-recombinant subgraph we also plot the separate recent ancestry of a B.2.5 sample '\n",
    "        'of the sort suggested as a left parent (<= position 3358) in Pango designation issue '\n",
    "        '<a href=\"https://github.com/cov-lineages/pango-designation/issues/797\">#797</a>. '\n",
    "        'It can be seen that the 3 mutations above the originating XAZ node are shared with this lineage.'\n",
    "    ),\n",
    "    include=keep_ids,\n",
    "    restrict_to_first=20,\n",
    "    parent_levels=2,\n",
    "    child_levels=0,\n",
    "    parent_pangos=[\"BA.5\"],\n",
    "    highlight_nodes={\"lightgrey\": keep_ids, arg.highlight_colour: df.loc[df.pango==\"XAZ\", 'node_id']},\n",
    "    oldest_y_label=\"2021-11\",\n",
    "    tree_highlighting=False,\n",
    ")"
   ]
  },
  {
   "cell_type": "code",
   "execution_count": null,
   "id": "dbdf9c13-5309-4ac2-a44b-a3e8264450ec",
   "metadata": {},
   "outputs": [],
   "source": [
    "keep_ids = list(df.loc[[\"SRR22136847\"], 'node_id'])\n",
    "\n",
    "\n",
    "arg.plot_pango_subgraph(\n",
    "    rec.pango(\"XBB\"),\n",
    "    restrict_to_first=20,\n",
    "    #include=[1408964, 1396838, 1404568, 1423196, 1398292, 2681617, 1409763],\n",
    "    include=[1396843] + keep_ids,\n",
    "    parent_levels=5,\n",
    "    child_levels=2,\n",
    "    parent_pangos=[\"BA.2.10\", \"BM.1.1.1\"],\n",
    "    oldest_y_label=\"2022-02\",\n",
    "    y_axis_scale=\"rank\",\n",
    "    highlight_nodes={\"lightgrey\": keep_ids, arg.highlight_colour: df.loc[df.pango==\"XBB\", 'node_id']},\n",
    "    tree_highlighting=False,\n",
    ")\n",
    "copypattern(1396207)"
   ]
  },
  {
   "cell_type": "code",
   "execution_count": null,
   "id": "4728058e-436a-4400-9502-970e2e17a981",
   "metadata": {},
   "outputs": [],
   "source": [
    "# This is a weird one: XBB.1 is not a recombinant, but there *is* a recombinant associated with samples\n",
    "# ERR10937584 & ERR10839902 both of which are labelled XBB.1. We are denoting this XBB.x\n",
    "# There is another recombination node under XBB which is labelled BA.2, which we show here for contrast\n",
    "\n",
    "keep_ids = list(df.loc[[\"ERR10839848\", \"ERR10839902\", \"ERR10937584\", \"ERR10792363\", \"SRR22059625\"], 'node_id'])\n",
    "\n",
    "\n",
    "arg.plot_pango_subgraph(\n",
    "    rec.pango(\"XBB.1\"),\n",
    "    txt(\n",
    "        \"XBB.1 is not a novel Pango recombinant, but a few XBB.1 samples give rise to novel recombinants. \"\n",
    "        \"The one to the left with 2 XBB.1 sample descendants, we denote as XBB.x. Its copying pattern is below.\",\n",
    "        right=\"17em\",\n",
    "        top=\"70em\",\n",
    "    ),\n",
    "    restrict_to_first=20,\n",
    "    include=keep_ids,\n",
    "    parent_levels=4,\n",
    "    child_levels=0,\n",
    "    parent_pangos=[\"BA.2.10\", \"BM.1.1.1\"],\n",
    "    oldest_y_label=\"2022-02\",\n",
    "    y_axis_scale=\"rank\",\n",
    "    highlight_nodes={\"lightgrey\": keep_ids, arg.highlight_colour: df.loc[df.pango==\"XBB.1\", 'node_id']},\n",
    "    tree_highlighting=False,\n",
    ")\n",
    "copypattern(1429711)"
   ]
  },
  {
   "cell_type": "code",
   "execution_count": null,
   "id": "1e1b2a9d-a780-413d-b41d-204941ad0667",
   "metadata": {},
   "outputs": [],
   "source": [
    "keep_ids = list(df.loc[[\"ERR9825609\", \"SRR21382561\"], 'node_id'])\n",
    "\n",
    "arg.plot_pango_subgraph(\n",
    "    rec.pango(\"XBD\"),\n",
    "    include=keep_ids,\n",
    "    y_axis_scale=\"rank\",\n",
    "    parent_levels=6,\n",
    "    parent_pangos=[\"BA.5.2.1\", \"BA.2.75.2\"],\n",
    "    oldest_y_label=\"2022-02\",\n",
    "    highlight_nodes={\"lightgrey\": keep_ids, arg.highlight_colour: df.loc[df.pango==\"XBD\", 'node_id']},\n",
    "    tree_highlighting=False,\n",
    ")\n",
    "copypattern(1378208)"
   ]
  },
  {
   "cell_type": "code",
   "execution_count": null,
   "id": "544aaea1-7fcf-4bfa-a41d-775efb660553",
   "metadata": {},
   "outputs": [],
   "source": [
    "keep_ids = list(df.loc[[\"SRR20747959\"], 'node_id'])\n",
    "\n",
    "arg.plot_pango_subgraph(\n",
    "    rec.pango(\"XBE\"),\n",
    "    include=keep_ids + [1348953],\n",
    "    y_axis_scale=\"rank\",\n",
    "    parent_levels=5,\n",
    "    child_levels=0,\n",
    "    parent_pangos=[\"BA.5.2\"],\n",
    "    oldest_y_label=\"2022-01\",\n",
    "    highlight_nodes={\"lightgrey\": keep_ids, arg.highlight_colour: df.loc[df.pango==\"XBE\", 'node_id']},\n",
    "    tree_highlighting=False,\n",
    ")"
   ]
  },
  {
   "cell_type": "code",
   "execution_count": null,
   "id": "61b55a51-bb88-47d9-840b-c65b98b9676d",
   "metadata": {},
   "outputs": [],
   "source": [
    "keep_ids = list(df.loc[[\"SRR21948068\"], 'node_id'])\n",
    "\n",
    "arg.plot_pango_subgraph(\n",
    "    rec.pango(\"XBF\"),\n",
    "    include=keep_ids,\n",
    "    parent_levels=6,\n",
    "    child_levels=0,\n",
    "    parent_pangos=[\"BA.5.2.1\", \"CJ.1\"],\n",
    "    oldest_y_label=\"2022-03\",\n",
    "    highlight_nodes={\"lightgrey\": keep_ids, arg.highlight_colour: df.loc[df.pango==\"XBF\", 'node_id']},\n",
    "    tree_highlighting=False,\n",
    ")\n",
    "copypattern(1420385)"
   ]
  },
  {
   "cell_type": "code",
   "execution_count": null,
   "id": "e657b37f-6507-41c8-a3b6-bc8ad425ed1c",
   "metadata": {},
   "outputs": [],
   "source": [
    "arg.plot_pango_subgraph(\n",
    "    rec.pango(\"XBG\"),\n",
    "    parent_levels=7,\n",
    "    parent_pangos=[\"BA.2.76\", \"BA.5.2\"],\n",
    "    oldest_y_label=\"2022-03\",\n",
    "    tree_highlighting=False,\n",
    ")\n",
    "copypattern(1291970)"
   ]
  },
  {
   "cell_type": "code",
   "execution_count": null,
   "id": "d74292ea-7908-4d5c-8e30-e77cea6e6a67",
   "metadata": {},
   "outputs": [],
   "source": [
    "keep_ids = list(df.loc[[\"SRR21796989\"], 'node_id'])\n",
    "\n",
    "arg.plot_pango_subgraph(\n",
    "    rec.pango(\"XBH\"),\n",
    "    parent_levels=5,\n",
    "    child_levels=3,\n",
    "    include=keep_ids,\n",
    "    y_axis_scale=\"rank\",\n",
    "    parent_pangos=[\"BA.2.1\", \"BA.2.75.2\"],\n",
    "    oldest_y_label=\"2021-12\",\n",
    "    tree_highlighting=False,\n",
    ")\n",
    "copypattern(1379419)"
   ]
  },
  {
   "cell_type": "code",
   "execution_count": null,
   "id": "7a0b0261-dc20-4ded-91d6-b642424239a0",
   "metadata": {
    "scrolled": true
   },
   "outputs": [],
   "source": [
    "pangoX = rec.pango([\"XBK\", \"XBK.1\", \"XBQ\"])\n",
    "keep_ids = list(df.loc[[\"ERR10797708\", \"ERR10791552\", \"ERR10791704\", \"ERR10797699\", \"SRR22136847\", \"SRR21948068\", \"ERR10431237\", \"SRR21886699\", \"SRR22136951\"], 'node_id'])\n",
    "cmap = {'lightgrey': keep_ids}\n",
    "cmap.update({c: pango_lineage_samples[pX] for c, pX in zip(arg.colours, pangoX)})\n",
    "\n",
    "with warnings.catch_warnings():\n",
    "    warnings.simplefilter(\"ignore\")\n",
    "    arg.plot_pango_subgraph(\n",
    "        pangoX,\n",
    "        include = keep_ids,\n",
    "        parent_levels=11,\n",
    "        child_levels=0,\n",
    "        parent_pangos=[\"BA.2\", \"BA.2.5\", \"BA.2.75\", \"BA.2.75.3\", \"BM.2\", \"BM.1.1.1\", \"BM.1.1\", \"CJ.1\"],\n",
    "        highlight_nodes=cmap,\n",
    "        oldest_y_label=\"2021-11\",\n",
    "        tree_highlighting=False,\n",
    "    )"
   ]
  },
  {
   "cell_type": "code",
   "execution_count": null,
   "id": "a6ac6b96-652b-4838-9788-ca1dc0875a68",
   "metadata": {},
   "outputs": [],
   "source": [
    "keep_ids = list(df.loc[[\"SRR21672613\", \"ERR10770184\", \"SRR20303898\"], 'node_id'])\n",
    "\n",
    "arg.plot_pango_subgraph(\n",
    "    rec.pango(\"XBM\"),\n",
    "    parent_levels=10,\n",
    "    child_levels=0,\n",
    "    include=keep_ids,\n",
    "    y_axis_scale=\"rank\",\n",
    "    parent_pangos=[\"BA.2.76\", \"BF.3\"],\n",
    "    oldest_y_label=\"2021-11\",\n",
    "    highlight_nodes={\"lightgrey\": keep_ids, arg.highlight_colour: df.loc[df.pango==\"XBM\", 'node_id']},\n",
    "    tree_highlighting=False,\n",
    ")\n",
    "copypattern(1348822)"
   ]
  },
  {
   "cell_type": "code",
   "execution_count": null,
   "id": "229ebf1c-94b2-4868-9c7c-105177aae185",
   "metadata": {},
   "outputs": [],
   "source": [
    "keep_ids = list(df.loc[[\"SRR22317465\"], 'node_id'])\n",
    "arg.plot_pango_subgraph(\n",
    "    rec.pango(\"XBR\"),\n",
    "    parent_levels=5,\n",
    "    child_levels=0,\n",
    "    include=[1405941],\n",
    "    parent_pangos=[\"BN.3.1\", \"BQ.1.25\"],\n",
    "    oldest_y_label=\"2022-04\",\n",
    "    highlight_nodes={\"lightgrey\": keep_ids, arg.highlight_colour: df.loc[df.pango==\"XBR\", 'node_id']},\n",
    "    tree_highlighting=False,\n",
    ")\n",
    "copypattern(1420166)"
   ]
  },
  {
   "cell_type": "code",
   "execution_count": null,
   "id": "e2a63248-a8ba-4cf6-b194-da2c25b3c791",
   "metadata": {},
   "outputs": [],
   "source": [
    "# Check we have plotted all the expected Pango X lineages\n",
    "assert set(dfX.root_pango) - set(rec.pangos) == set()"
   ]
  }
 ],
 "metadata": {
  "kernelspec": {
   "display_name": "Python 3 (ipykernel)",
   "language": "python",
   "name": "python3"
  },
  "language_info": {
   "codemirror_mode": {
    "name": "ipython",
    "version": 3
   },
   "file_extension": ".py",
   "mimetype": "text/x-python",
   "name": "python",
   "nbconvert_exporter": "python",
   "pygments_lexer": "ipython3",
   "version": "3.12.10"
  }
 },
 "nbformat": 4,
 "nbformat_minor": 5
}
