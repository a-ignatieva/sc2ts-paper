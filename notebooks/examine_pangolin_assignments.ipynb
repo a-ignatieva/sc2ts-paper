{
 "cells": [
  {
   "cell_type": "code",
   "execution_count": null,
   "metadata": {},
   "outputs": [],
   "source": [
    "import matplotlib.pyplot as plt\n",
    "from pathlib import Path\n",
    "import pandas as pd\n",
    "import tszip"
   ]
  },
  {
   "cell_type": "code",
   "execution_count": null,
   "metadata": {},
   "outputs": [],
   "source": [
    "data_dir = Path(\"../data\")"
   ]
  },
  {
   "cell_type": "code",
   "execution_count": null,
   "metadata": {},
   "outputs": [],
   "source": [
    "report_file = data_dir / \"combined.lineage_report.csv.xz\"\n",
    "report_df = pd.read_csv(report_file)\n",
    "report_df.head(5)"
   ]
  },
  {
   "cell_type": "code",
   "execution_count": null,
   "metadata": {},
   "outputs": [],
   "source": [
    "ts_file = data_dir / \"v1-beta1_2023-02-21.pp.md.bpshift.ts.dated.il.tsz\"\n",
    "ts = tszip.decompress(ts_file)\n",
    "ts"
   ]
  },
  {
   "cell_type": "code",
   "execution_count": null,
   "metadata": {},
   "outputs": [],
   "source": [
    "len(report_df) == ts.num_nodes"
   ]
  },
  {
   "cell_type": "code",
   "execution_count": null,
   "metadata": {},
   "outputs": [],
   "source": [
    "import os\n",
    "import urllib.request\n",
    "\n",
    "# NOTE: Use v.133.\n",
    "alias_key_file = data_dir / \"alias_key.json\"\n",
    "if not os.path.exists(alias_key_file):\n",
    "    url = \"https://raw.githubusercontent.com/cov-lineages/pango-designation/refs/tags/v1.33/pango_designation/alias_key.json\"\n",
    "    urllib.request.urlretrieve(url, alias_key_file)\n",
    "\n",
    "lineage_notes_file = data_dir / \"lineage_notes.txt\"\n",
    "if not os.path.exists(lineage_notes_file):\n",
    "    url = \"https://raw.githubusercontent.com/cov-lineages/pango-designation/refs/tags/v1.33/lineage_notes.txt\"\n",
    "    urllib.request.urlretrieve(url, lineage_notes_file)"
   ]
  },
  {
   "cell_type": "code",
   "execution_count": null,
   "metadata": {},
   "outputs": [],
   "source": [
    "import nb_utils\n",
    "pangonet = nb_utils.initialise_pangonet(\n",
    "    alias_key_file=alias_key_file,\n",
    "    lineage_notes_file=lineage_notes_file,\n",
    ")"
   ]
  },
  {
   "cell_type": "markdown",
   "metadata": {},
   "source": [
    "Examine Pango labels for sample nodes"
   ]
  },
  {
   "cell_type": "code",
   "execution_count": null,
   "metadata": {},
   "outputs": [],
   "source": [
    "pango_viridian = []\n",
    "for node in ts.nodes():\n",
    "    pango_viridian.append(node.metadata.get(\"Viridian_pangolin\", None))\n",
    "len(pango_viridian)"
   ]
  },
  {
   "cell_type": "code",
   "execution_count": null,
   "metadata": {},
   "outputs": [],
   "source": [
    "num_none = 0    # Check tally of non-sample nodes\n",
    "num_identical = 0\n",
    "pangonet_diff = []\n",
    "\n",
    "for a, b in zip(report_df.lineage, pango_viridian):\n",
    "    if b == None:\n",
    "        num_none += 1\n",
    "        continue\n",
    "    if a == b:\n",
    "        num_identical += 1\n",
    "    else:\n",
    "        try:\n",
    "            pd_dist = nb_utils.get_pangonet_distance(pangonet, label_1=a, label_2=b)\n",
    "        except BaseException as err:\n",
    "            pd_dist = -1\n",
    "        pangonet_diff.append(pd_dist)"
   ]
  },
  {
   "cell_type": "code",
   "execution_count": null,
   "metadata": {},
   "outputs": [],
   "source": [
    "print(f\"All nodes: {ts.num_nodes}\")\n",
    "print(f\"Sample nodes: {ts.num_samples}\")\n",
    "print(f\"Non-sample nodes: {ts.num_nodes - ts.num_samples}\")\n",
    "print(f\"None: {num_none}\")  # Check that it's identical to non-sample nodes\n",
    "print(f\"Identical labels: {num_identical} ({round(num_identical / ts.num_samples, ndigits=4) * 100}%)\")"
   ]
  },
  {
   "cell_type": "code",
   "execution_count": null,
   "metadata": {},
   "outputs": [],
   "source": [
    "plt.ylabel(\"Count of discrepant cases\")\n",
    "plt.xlabel(\"Pango distance\")\n",
    "plt.hist(pangonet_diff, bins=30, log=True);"
   ]
  },
  {
   "cell_type": "markdown",
   "metadata": {},
   "source": [
    "Examine Pango labels for non-sample nodes"
   ]
  },
  {
   "cell_type": "code",
   "execution_count": null,
   "metadata": {},
   "outputs": [],
   "source": [
    "pango_imputed = []\n",
    "for node in ts.nodes():\n",
    "    pango_imputed.append(node.metadata[\"Imputed_Viridian_pangolin\"])\n",
    "len(pango_imputed)"
   ]
  },
  {
   "cell_type": "code",
   "execution_count": null,
   "metadata": {},
   "outputs": [],
   "source": [
    "num_not_none = 0    # Check tally of sample nodes\n",
    "num_identical = 0\n",
    "pangonet_diff = []\n",
    "\n",
    "for a, b, c in zip(report_df.lineage, pango_imputed, pango_viridian):\n",
    "    if c != None:\n",
    "        num_not_none += 1\n",
    "        continue\n",
    "    if a == b:\n",
    "        num_identical += 1\n",
    "    else:\n",
    "        try:\n",
    "            pd_dist = nb_utils.get_pangonet_distance(pangonet, label_1=a, label_2=b)\n",
    "        except BaseException as err:\n",
    "            pd_dist = -1\n",
    "        pangonet_diff.append(pd_dist)"
   ]
  },
  {
   "cell_type": "code",
   "execution_count": null,
   "metadata": {},
   "outputs": [],
   "source": [
    "print(f\"All nodes: {ts.num_nodes}\")\n",
    "print(f\"Sample nodes: {ts.num_samples}\")\n",
    "num_nonsample_nodes = ts.num_nodes - ts.num_samples\n",
    "print(f\"Non-sample nodes: {num_nonsample_nodes}\")\n",
    "print(f\"Not None: {num_not_none}\")\n",
    "perc_identical = round(num_identical / num_nonsample_nodes, ndigits=4) * 100\n",
    "print(f\"Identical labels: {num_identical} ({perc_identical}%)\")"
   ]
  },
  {
   "cell_type": "code",
   "execution_count": null,
   "metadata": {},
   "outputs": [],
   "source": [
    "plt.ylabel(\"Count of discrepant cases\")\n",
    "plt.xlabel(\"Pango distance\")\n",
    "plt.hist(pangonet_diff, bins=30, log=True);"
   ]
  }
 ],
 "metadata": {
  "kernelspec": {
   "display_name": "sc2ts",
   "language": "python",
   "name": "python3"
  },
  "language_info": {
   "codemirror_mode": {
    "name": "ipython",
    "version": 3
   },
   "file_extension": ".py",
   "mimetype": "text/x-python",
   "name": "python",
   "nbconvert_exporter": "python",
   "pygments_lexer": "ipython3",
   "version": "3.12.9"
  }
 },
 "nbformat": 4,
 "nbformat_minor": 4
}
