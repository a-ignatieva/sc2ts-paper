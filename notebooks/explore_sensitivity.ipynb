{
 "cells": [
  {
   "cell_type": "code",
   "execution_count": null,
   "id": "6ec150d0-e6cf-4c8e-923d-7aff91309923",
   "metadata": {},
   "outputs": [],
   "source": [
    "from collections import Counter\n",
    "from pathlib import Path\n",
    "import pandas as pd\n",
    "import numpy as np\n",
    "import sc2ts\n",
    "import nb_utils"
   ]
  },
  {
   "cell_type": "code",
   "execution_count": null,
   "id": "bd3acbc5-1f2f-4be2-bcf6-7d2cd91d1e90",
   "metadata": {},
   "outputs": [],
   "source": [
    "data_dir = Path(\"../data\")"
   ]
  },
  {
   "cell_type": "code",
   "execution_count": null,
   "id": "e448d03b-3ad4-4a5f-afab-1700b17f0f4a",
   "metadata": {},
   "outputs": [],
   "source": [
    "#! git clone https://github.com/phac-nml/pangonet.git\n",
    "#! cd pangonet && pip install . && cd -\n",
    "#! pangonet --help | head"
   ]
  },
  {
   "cell_type": "code",
   "execution_count": null,
   "id": "9cb9293d-dbdd-44b7-9d9f-1d1d92884513",
   "metadata": {},
   "outputs": [],
   "source": [
    "dataset_dir = Path(\"dataset\")\n",
    "alias_key_file = dataset_dir / \"rebar\" / \"alias_key.json\"\n",
    "lineage_notes_file = dataset_dir / \"rebar\" / \"lineage_notes.txt\"\n",
    "pangonet = nb_utils.initialise_pangonet(alias_key_file, lineage_notes_file)"
   ]
  },
  {
   "cell_type": "code",
   "execution_count": null,
   "id": "99de777d",
   "metadata": {},
   "outputs": [],
   "source": [
    "ts = nb_utils.load()\n",
    "ti = sc2ts.TreeInfo(ts)"
   ]
  },
  {
   "cell_type": "code",
   "execution_count": null,
   "id": "401eefdc",
   "metadata": {},
   "outputs": [],
   "source": [
    "reconmb_file = data_dir / \"recombinants.csv\"\n",
    "recomb_df = pd.read_csv(reconmb_file, parse_dates=[\"date_added\"])\n",
    "len(recomb_df)"
   ]
  },
  {
   "cell_type": "code",
   "execution_count": null,
   "id": "686fddf6",
   "metadata": {},
   "outputs": [],
   "source": [
    "df_hq = recomb_df[recomb_df.net_min_supporting_loci_lft_rgt_ge_4].reset_index(drop=True)\n",
    "df_hq.columns"
   ]
  },
  {
   "cell_type": "code",
   "execution_count": null,
   "id": "efcb5312",
   "metadata": {},
   "outputs": [],
   "source": [
    "print(f\"All: {len(recomb_df)}\")\n",
    "print(f\"High-quality: {len(df_hq)}\")"
   ]
  },
  {
   "cell_type": "markdown",
   "id": "25e32529",
   "metadata": {},
   "source": [
    "Compute pangonet distance between pangolin-assigned Pango labels of sc2ts parents"
   ]
  },
  {
   "cell_type": "code",
   "execution_count": null,
   "id": "66bf5ab7-b08b-467c-8f9f-fbb9a36a95c4",
   "metadata": {},
   "outputs": [],
   "source": [
    "nd = np.zeros(len(df_hq), dtype=np.float32)\n",
    "for i, row in df_hq.iterrows():\n",
    "    if row.parent_left_pango.startswith(\"X\") or \\\n",
    "        row.parent_right_pango.startswith(\"X\"):\n",
    "        nd[i] = -1\n",
    "    else:\n",
    "        nd[i] = nb_utils.get_pangonet_distance(\n",
    "            pangonet=pangonet,\n",
    "            label_1=row.parent_left_pango,\n",
    "            label_2=row.parent_right_pango,\n",
    "        )"
   ]
  },
  {
   "cell_type": "code",
   "execution_count": null,
   "id": "a90da1a9",
   "metadata": {},
   "outputs": [],
   "source": [
    "# Exclude these cases.\n",
    "len([x for x in nd if x == -1])"
   ]
  },
  {
   "cell_type": "code",
   "execution_count": null,
   "id": "586d073a",
   "metadata": {},
   "outputs": [],
   "source": [
    "df_hq = df_hq.assign(node_distance=nd)\n",
    "df_hq = df_hq[df_hq.node_distance >= 0].reset_index(drop=True)\n",
    "df_hq.head(1)"
   ]
  },
  {
   "cell_type": "markdown",
   "id": "a2f04d62",
   "metadata": {},
   "source": [
    "Explore parent pairs, unfoled"
   ]
  },
  {
   "cell_type": "code",
   "execution_count": null,
   "id": "90905d34",
   "metadata": {},
   "outputs": [],
   "source": [
    "Counter(df_hq.parent_left_scorpio.to_list() + df_hq.parent_right_scorpio.to_list())"
   ]
  },
  {
   "cell_type": "code",
   "execution_count": null,
   "id": "b718aa24",
   "metadata": {},
   "outputs": [],
   "source": [
    "import matplotlib.pyplot as plt\n",
    "import matplotlib.colors as mcolors\n",
    "import matplotlib.patches as mpatches\n",
    "\n",
    "\n",
    "def plot_parent_mrca_vs_pango_node_distance(label_color_map):\n",
    "    # TODO: Add to recombinants CSV file.\n",
    "    re_t_mrca = ts.nodes_time[df_hq.mrca] - ts.nodes_time[df_hq.recombinant]\n",
    "    assert len(df_hq) == len(re_t_mrca)\n",
    "\n",
    "    j_width = 0.3\n",
    "    j = np.random.uniform(-j_width, j_width, len(df_hq))\n",
    "    nd_j = df_hq.node_distance + j\n",
    "    assert len(df_hq) == len(nd_j)\n",
    "\n",
    "    _, ax = plt.subplots(1, 1, figsize=(10, 4))\n",
    "\n",
    "    for i, row in enumerate(df_hq.itertuples()):\n",
    "        scorpio_pair = (row.parent_left_scorpio, row.parent_right_scorpio)\n",
    "        color = label_color_map.get(scorpio_pair, \"gray\")\n",
    "        alpha = 0.6 if color != \"gray\" else 0.3\n",
    "        ax.scatter(y=re_t_mrca[i], x=nd_j[i], color=color, alpha=alpha)\n",
    "\n",
    "    empty_patch = mpatches.Patch(color='none', label='')\n",
    "    ax.legend(\n",
    "        labels=label_color_map.keys(),\n",
    "        labelcolor=label_color_map.values(),\n",
    "        handles=[empty_patch for _ in label_color_map.keys()],\n",
    "        fontsize=8,\n",
    "        frameon=False,\n",
    "    )\n",
    "\n",
    "    max_nd = 21\n",
    "    ax.set_xticks(ticks=np.arange(max_nd), labels=np.arange(max_nd))\n",
    "    ax.set_title(f\"High-quality recombinants: {len(df_hq)}\")\n",
    "    ax.set_ylabel(\"Time to MRCA from recombination node (days)\")\n",
    "    ax.set_xlabel(\"Pango distance between sc2ts parents\");"
   ]
  },
  {
   "cell_type": "code",
   "execution_count": null,
   "id": "2052fc41",
   "metadata": {},
   "outputs": [],
   "source": [
    "focal_label_1 = \"Delta (B.1.617.2-like)\"\n",
    "focal_label_2 = \"Delta (AY.4-like)\"\n",
    "plot_parent_mrca_vs_pango_node_distance(\n",
    "    label_color_map={\n",
    "        (focal_label_1, focal_label_1): mcolors.TABLEAU_COLORS[\"tab:blue\"],\n",
    "        (focal_label_1, focal_label_2): mcolors.TABLEAU_COLORS[\"tab:orange\"],\n",
    "        (focal_label_2, focal_label_1): mcolors.TABLEAU_COLORS[\"tab:green\"],\n",
    "        (focal_label_2, focal_label_2): mcolors.TABLEAU_COLORS[\"tab:red\"],\n",
    "    }\n",
    ")"
   ]
  },
  {
   "cell_type": "code",
   "execution_count": null,
   "id": "9d5a717d",
   "metadata": {},
   "outputs": [],
   "source": [
    "focal_label_1 = \"Omicron (BA.1-like)\"\n",
    "focal_label_2 = \"Omicron (BA.2-like)\"\n",
    "focal_label_4 = \"Omicron (BA.4-like)\"\n",
    "focal_label_5 = \"Omicron (BA.5-like)\"\n",
    "plot_parent_mrca_vs_pango_node_distance(\n",
    "    label_color_map={\n",
    "        (focal_label_1, focal_label_1): mcolors.TABLEAU_COLORS[\"tab:blue\"],\n",
    "        (focal_label_1, focal_label_2): mcolors.TABLEAU_COLORS[\"tab:orange\"],\n",
    "        (focal_label_2, focal_label_1): mcolors.TABLEAU_COLORS[\"tab:green\"],\n",
    "        (focal_label_2, focal_label_2): mcolors.TABLEAU_COLORS[\"tab:red\"],\n",
    "        # BA.5 involved\n",
    "        (focal_label_2, focal_label_5): mcolors.TABLEAU_COLORS[\"tab:purple\"],\n",
    "        (focal_label_4, focal_label_5): mcolors.TABLEAU_COLORS[\"tab:brown\"],\n",
    "        (focal_label_5, focal_label_5): mcolors.TABLEAU_COLORS[\"tab:pink\"],\n",
    "        (focal_label_5, focal_label_4): mcolors.TABLEAU_COLORS[\"tab:olive\"],\n",
    "        (focal_label_5, focal_label_2): mcolors.TABLEAU_COLORS[\"tab:cyan\"],\n",
    "    }\n",
    ")"
   ]
  },
  {
   "cell_type": "markdown",
   "id": "c1208f1d",
   "metadata": {},
   "source": [
    "Fold the parent pairs"
   ]
  },
  {
   "cell_type": "code",
   "execution_count": null,
   "id": "aaa32625",
   "metadata": {},
   "outputs": [],
   "source": [
    "Counter([\n",
    "    tuple(sorted([x, y])) for x, y in zip(\n",
    "        df_hq.parent_left_scorpio.to_list(),\n",
    "        df_hq.parent_right_scorpio.to_list(),\n",
    "    )\n",
    "]).most_common(10)"
   ]
  },
  {
   "cell_type": "code",
   "execution_count": null,
   "id": "2518d636",
   "metadata": {},
   "outputs": [],
   "source": [
    "plot_parent_mrca_vs_pango_node_distance(\n",
    "    label_color_map={\n",
    "        # BA.5\n",
    "        ('Omicron (BA.5-like)', 'Omicron (BA.5-like)'): mcolors.TABLEAU_COLORS[\"tab:blue\"],\n",
    "        # B.1.617.2\n",
    "        ('Delta (B.1.617.2-like)', 'Delta (B.1.617.2-like)'): mcolors.TABLEAU_COLORS[\"tab:orange\"],\n",
    "        # BA.2 and BA.5\n",
    "        ('Omicron (BA.2-like)', 'Omicron (BA.5-like)'): mcolors.TABLEAU_COLORS[\"tab:green\"],\n",
    "        ('Omicron (BA.5-like)', 'Omicron (BA.2-like)'): mcolors.TABLEAU_COLORS[\"tab:green\"],\n",
    "        # BA.1 and BA.2\n",
    "        ('Omicron (BA.1-like)', 'Omicron (BA.2-like)'): mcolors.TABLEAU_COLORS[\"tab:red\"],\n",
    "        ('Omicron (BA.2-like)', 'Omicron (BA.1-like)'): mcolors.TABLEAU_COLORS[\"tab:red\"],\n",
    "        # BA.4 and BA.5\n",
    "        ('Omicron (BA.4-like)', 'Omicron (BA.5-like)'): mcolors.TABLEAU_COLORS[\"tab:purple\"],\n",
    "        ('Omicron (BA.5-like)', 'Omicron (BA.4-like)'): mcolors.TABLEAU_COLORS[\"tab:purple\"],\n",
    "        # AY.4 and B.1.617.2\n",
    "        ('Delta (AY.4-like)', 'Delta (B.1.617.2-like)'): mcolors.TABLEAU_COLORS[\"tab:brown\"],\n",
    "        ('Delta (B.1.617.2-like)', 'Delta (AY.4-like)'): mcolors.TABLEAU_COLORS[\"tab:brown\"],\n",
    "        # BA.1\n",
    "        ('Omicron (BA.1-like)', 'Omicron (BA.1-like)'): mcolors.TABLEAU_COLORS[\"tab:pink\"],\n",
    "        # BA.2\n",
    "        ('Omicron (BA.2-like)', 'Omicron (BA.2-like)'): mcolors.TABLEAU_COLORS[\"tab:olive\"],\n",
    "        # AY.4\n",
    "        ('Delta (AY.4-like)', 'Delta (AY.4-like)'): mcolors.TABLEAU_COLORS[\"tab:cyan\"],\n",
    "    }\n",
    ")"
   ]
  },
  {
   "cell_type": "code",
   "execution_count": null,
   "id": "d5c80a61",
   "metadata": {},
   "outputs": [],
   "source": []
  }
 ],
 "metadata": {
  "kernelspec": {
   "display_name": "sc2ts",
   "language": "python",
   "name": "python3"
  },
  "language_info": {
   "codemirror_mode": {
    "name": "ipython",
    "version": 3
   },
   "file_extension": ".py",
   "mimetype": "text/x-python",
   "name": "python",
   "nbconvert_exporter": "python",
   "pygments_lexer": "ipython3",
   "version": "3.12.9"
  }
 },
 "nbformat": 4,
 "nbformat_minor": 5
}
