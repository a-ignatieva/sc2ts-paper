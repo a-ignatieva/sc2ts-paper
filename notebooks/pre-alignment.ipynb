{
 "cells": [
  {
   "cell_type": "markdown",
   "id": "b1fa80ed-b604-4462-a67a-e2e49bfa75a1",
   "metadata": {},
   "source": [
    "# Pre-Alignment"
   ]
  },
  {
   "cell_type": "markdown",
   "id": "2d3377fe-ccaa-4047-95f5-04db949a6ad6",
   "metadata": {},
   "source": [
    "---\n",
    "\n",
    "\n",
    "> ⚠ This notebook runs a BASH kernel.\n",
    "\n",
    "## Objectives\n",
    "\n",
    "1. Produce a FASTA alignment of GISAID sequences.\n",
    "1. Produce a VCF of the alignment.\n",
    "1. Produce a TSV file of sample metadata and alignment statistics.\n",
    "1. Filter out sequences according to metadata, genome quality, and molecular clock deviations.\n",
    "\n",
    "**Input**\n",
    "\n",
    "- GISAID metadata should be downloaded to: `../data/metadata.tsv`.\n",
    "- GISAID sequences should be downloaded to: `../data/sequences.fasta`.\n"
   ]
  },
  {
   "cell_type": "markdown",
   "id": "571d3d01-82aa-4256-bd23-49e2af338fa7",
   "metadata": {},
   "source": [
    "## Setup\n",
    "\n",
    "---\n"
   ]
  },
  {
   "cell_type": "code",
   "execution_count": null,
   "id": "85f6546d-7580-4ea0-958f-2cc10f11d76f",
   "metadata": {},
   "outputs": [],
   "source": [
    "# System\n",
    "partition=\"\" # Leave this blank to just use your default sbatch partition\n",
    "# We need a conda env that has R, R package data.table, snp-sites, vcftools\n",
    "conda_env=\"ENV_NAME\"\n",
    "\n",
    "# Directory paths relative to this notebook\n",
    "data_dir=\"../data\"\n",
    "bin_dir=\"../bin\"\n",
    "log_dir=\"../logs\"\n",
    "results_dir=\"../results\"\n",
    "\n",
    "# Input/Output Paths\n",
    "input_metadata=\"${data_dir}/metadata.tsv\"\n",
    "input_sequences=\"${data_dir}/sequences.fasta\"\n",
    "input_reference=\"${data_dir}/reference.fasta\"\n",
    "\n",
    "# (Optional) Reuse existing alignment and statistics\n",
    "# Ignore on first time running\n",
    "nextclade_alignment=\"${results_dir}/nextclade.aligned.fasta\"\n",
    "nextclade_tsv=\"${results_dir}/nextclade.tsv\"\n",
    "\n",
    "# Program Versions (to download)\n",
    "nextclade_tag=\"2022-07-26T12:00:00Z\"\n",
    "nextclade_ver=\"2.3.0\"\n",
    "\n",
    "# Strain Names\n",
    "reference_strain=\"Wuhan/Hu-1/2019\" # The reference name in the GISAID metadata and in the input reference\n",
    "reference_strain_nextclade=\"MN908947 (Wuhan-Hu-1/2019)\" # The reference name in Nextclade data\n",
    "reference_genbank_accession=\"MN908947.3\"\n",
    "\n",
    "# Metadata Filters\n",
    "min_date=\"2020-01-01\"\n",
    "max_date=\"2022-06-30\"\n",
    "bad_quality_cols=\"qc.missingData.status,qc.mixedSites.status,qc.frameShifts.status,qc.stopCodons.status\" # Exclude strain if 'bad' for any of these\n",
    "\n",
    "# Final Output\n",
    "metadata_cols=\"strain,date,country,gisaid_epi_isl,host,date_submitted\"\n",
    "nextclade_cols=\"seqName,clade,Nextclade_pango,qc.missingData.status,qc.mixedSites.status,qc.frameShifts.status,qc.stopCodons.status,totalSubstitutions\""
   ]
  },
  {
   "cell_type": "code",
   "execution_count": null,
   "id": "06f0b277-e9e1-41f1-bdb8-ba71a40ed236",
   "metadata": {
    "tags": []
   },
   "outputs": [],
   "source": [
    "mkdir -p ${bin_dir}\n",
    "mkdir -p ${results_dir}\n",
    "mkdir -p ${log_dir}\n",
    "# data_dir already exists in repo"
   ]
  },
  {
   "cell_type": "markdown",
   "id": "282baade-0b85-4cb1-93d6-b0d8de1e5a24",
   "metadata": {
    "tags": []
   },
   "source": [
    "### Download Dependencies"
   ]
  },
  {
   "cell_type": "markdown",
   "id": "79ebbc80-fca9-49a5-8913-01d3e0892e12",
   "metadata": {},
   "source": [
    "#### Nextclade"
   ]
  },
  {
   "cell_type": "code",
   "execution_count": null,
   "id": "b50e2c67-5a56-4d73-ba05-eb53d9b6353a",
   "metadata": {
    "tags": []
   },
   "outputs": [],
   "source": [
    "wget -q -O ${bin_dir}/nextclade https://github.com/nextstrain/nextclade/releases/download/${nextclade_ver}/nextclade-x86_64-unknown-linux-gnu"
   ]
  },
  {
   "cell_type": "code",
   "execution_count": null,
   "id": "04a8712c-94b0-4696-b174-799ea7001f29",
   "metadata": {},
   "outputs": [],
   "source": [
    "${bin_dir}/nextclade dataset get --name sars-cov-2 --tag \"${nextclade_tag}\" --output-dir ${data_dir}/sars-cov-2_${nextclade_tag}"
   ]
  },
  {
   "cell_type": "markdown",
   "id": "a75a4ea5-8568-46db-9d68-87f8a45f8b74",
   "metadata": {},
   "source": [
    "#### csvtk"
   ]
  },
  {
   "cell_type": "code",
   "execution_count": null,
   "id": "784f132b-8535-4504-871d-6926d5746c6f",
   "metadata": {},
   "outputs": [],
   "source": [
    "wget -q https://github.com/shenwei356/csvtk/releases/download/v0.24.0/csvtk_linux_386.tar.gz\n",
    "tar -xvf csvtk_linux_386.tar.gz\n",
    "mv csvtk ${bin_dir}\n",
    "rm -f csvtk_linux_386.tar.gz"
   ]
  },
  {
   "cell_type": "markdown",
   "id": "c46d748b-fc4d-40ca-95c8-10500bf421f9",
   "metadata": {},
   "source": [
    "#### seqkit"
   ]
  },
  {
   "cell_type": "code",
   "execution_count": null,
   "id": "fcc11d50-96cd-4b2c-9497-a09fc337ccbd",
   "metadata": {},
   "outputs": [],
   "source": [
    "wget -q https://github.com/shenwei356/seqkit/releases/download/v2.2.0/seqkit_linux_386.tar.gz\n",
    "tar -xvf seqkit_linux_386.tar.gz\n",
    "mv seqkit ${bin_dir}\n",
    "rm -f seqkit_linux_386.tar.gz"
   ]
  },
  {
   "cell_type": "markdown",
   "id": "b14013f2-de2f-4001-b767-31445679adc5",
   "metadata": {},
   "source": [
    "#### faToVcf"
   ]
  },
  {
   "cell_type": "code",
   "execution_count": null,
   "id": "4d3e4dd4-4564-4537-9eeb-b5517eba1850",
   "metadata": {},
   "outputs": [],
   "source": [
    "wget -q -O ${bin_dir}/faToVcf http://hgdownload.soe.ucsc.edu/admin/exe/linux.x86_64/faToVcf"
   ]
  },
  {
   "cell_type": "code",
   "execution_count": null,
   "id": "71d0e35f-daf0-41bc-b828-240807aa0463",
   "metadata": {},
   "outputs": [],
   "source": [
    "wget -q -O ${data_dir}/problematic_sites.vcf https://github.com/W-L/ProblematicSites_SARS-CoV2/raw/master/problematic_sites_sarsCov2.vcf"
   ]
  },
  {
   "cell_type": "markdown",
   "id": "476bff76-ffd7-4f8d-ac64-b433f5b277ef",
   "metadata": {
    "tags": []
   },
   "source": [
    "## Alignment\n",
    "\n",
    "---\n",
    "\n",
    "- Start out by aligning EVERYTHING! This will take ~1-2 hours with 64 cores.\n",
    "- This gives us the freedom to align once, and play with filter combinations afterwards."
   ]
  },
  {
   "cell_type": "markdown",
   "id": "ba8d3a0d-e52b-4d68-a05b-b839d5a6796f",
   "metadata": {},
   "source": [
    "### Nextclade"
   ]
  },
  {
   "cell_type": "code",
   "execution_count": null,
   "id": "8a19998f-f7e4-4184-bd9f-40ce834dea30",
   "metadata": {},
   "outputs": [],
   "source": [
    "# Check if the alignment already exists (so we don't have to realign)\n",
    "if [[ (-e $nextclade_alignment) && (-e $nextclade_tsv) ]]; then \n",
    "\n",
    "    echo \"Alignment already exists, skipping nextclade.\"\n",
    "    dependency_alignment=\"\"\n",
    "  \n",
    "# Otherwise, we need to align the sequences\n",
    "else\n",
    "    wrap=\"${bin_dir}/nextclade run\n",
    "      --input-dataset ${data_dir}/sars-cov-2_${nextclade_tag} \n",
    "      --output-all ${results_dir}\n",
    "      --output-selection 'tsv,fasta'  \n",
    "      ${input_sequences}\"\n",
    "\n",
    "    cmd=\"sbatch\n",
    "      --parsable\n",
    "      ${partition}\n",
    "      -c 64 \n",
    "      --mem 64G\n",
    "      -J recomb-align\n",
    "      -o ${log_dir}/%x_$(date +\"%Y-%m-%d\")_%j.log\n",
    "      --wrap=\\\"$wrap 2>&1\\\"\"\n",
    "      \n",
    "    echo $cmd\n",
    "    align_id=$(eval $cmd)   \n",
    "  \n",
    "    # Setup the SLURM dependency string for jobs that will depend on this output\n",
    "    dependency_alignment=\"--dependency=aftercorr:$align_id\"      \n",
    "fi"
   ]
  },
  {
   "cell_type": "markdown",
   "id": "96387e07-97f2-433f-9f6a-8baa9a6b822e",
   "metadata": {},
   "source": [
    "### Metadata: Extract Minimal Columns"
   ]
  },
  {
   "cell_type": "code",
   "execution_count": null,
   "id": "494b8e80-875e-48af-b86f-85bc353566bd",
   "metadata": {},
   "outputs": [],
   "source": [
    "wrap=\"${bin_dir}/csvtk cut -t -f $metadata_cols $input_metadata > ${results_dir}/metadata.minimal.tsv\"\n",
    "cmd=\"sbatch --parsable ${partition} -c 1 --mem 16G -J recomb-metadata-minimal -o ${log_dir}/%x_$(date +\"%Y-%m-%d\")_%j.log --wrap=\\\"$wrap 2>&1\\\"\"\n",
    "echo $cmd\n",
    "metadata_minimal_id=$(eval $cmd)"
   ]
  },
  {
   "cell_type": "markdown",
   "id": "14bc4310-58fd-45e8-910e-43da04f815dc",
   "metadata": {},
   "source": [
    "### Alignment: Extract Minimal Columns"
   ]
  },
  {
   "cell_type": "code",
   "execution_count": null,
   "id": "12c72c1a-18f0-475a-85c7-99dfe43070e3",
   "metadata": {
    "tags": []
   },
   "outputs": [],
   "source": [
    "wrap=\"${bin_dir}/csvtk cut -t -f $nextclade_cols ${results_dir}/nextclade.tsv | ${bin_dir}/csvtk rename -t -f seqName -n strain > ${results_dir}/nextclade.minimal.tsv \"\n",
    "cmd=\"sbatch --parsable ${partition} --dependency=aftercorr:$align_id -c 1 --mem 16G -J recomb-nextclade-minimal -o ${log_dir}/%x_$(date +\"%Y-%m-%d\")_%j.log --wrap=\\\"$wrap 2>&1\\\"\"\n",
    "echo $cmd\n",
    "nextclade_minimal_id=$(eval $cmd)"
   ]
  },
  {
   "cell_type": "markdown",
   "id": "e6af20ab-7958-4a4b-b30b-4f7a2999e709",
   "metadata": {},
   "source": [
    "### Merge: Metadata and Alignment Minimal Columns\n",
    "\n",
    "This is performed through R, which has better memory management than csvtk and won't crash with these large files."
   ]
  },
  {
   "cell_type": "code",
   "execution_count": null,
   "id": "5abe7663-87da-4e47-b782-f612cf19d065",
   "metadata": {},
   "outputs": [],
   "source": [
    "dependency_minimal=\"--dependency=aftercorr:${metadata_minimal_id}:${nextclade_minimal_id}\"\n",
    "\n",
    "# This writes the file results/minimal.tsv\n",
    "wrap=\"source activate $conda_env && Rscript merge.R ${results_dir}\"\n",
    "# ${dependency_minimal} \n",
    "cmd=\"sbatch --parsable ${partition} -c 1 --mem 16G -J recomb-merge-minimal -o ${log_dir}/%x_$(date +\"%Y-%m-%d\")_%j.log --wrap=\\\"$wrap 2>&1\\\"\"\n",
    "\n",
    "echo $cmd\n",
    "minimal_id=$(eval $cmd)"
   ]
  },
  {
   "cell_type": "markdown",
   "id": "df194837-ca62-4745-8f06-524f4de276e2",
   "metadata": {},
   "source": [
    "## Filters\n",
    "\n",
    "---\n"
   ]
  },
  {
   "cell_type": "markdown",
   "id": "d0f47ed7-2ae0-4869-a06b-a0bab5db9cc9",
   "metadata": {
    "tags": []
   },
   "source": [
    "### Metadata\n",
    "\n",
    "After the alignment is finished running, work on some pure-metadata filters.\n",
    "\n",
    "Identify strains to exclude based on:\n",
    "1. Date ambiguity\n",
    "2. Date range\n",
    "3. Host\n",
    "4. Reference strain\n",
    "\n",
    "Note: There are no records with ambiguous country in GISAID, so a country filter is unecessary"
   ]
  },
  {
   "cell_type": "markdown",
   "id": "546b41e2-56a3-4c68-9f7c-afa4ddcb08cd",
   "metadata": {},
   "source": [
    "#### 1. Date Ambiguity"
   ]
  },
  {
   "cell_type": "code",
   "execution_count": null,
   "id": "5567c9ca-4bc6-4c58-9780-cb1d1ba95b71",
   "metadata": {},
   "outputs": [],
   "source": [
    "${bin_dir}/csvtk grep -t -f \"date\" -r -p \"[0-9]{4}-[0-9]{2}-[0-9]{2}\" -v ${results_dir}/metadata.minimal.tsv \\\n",
    " | ${bin_dir}/csvtk cut -t -f \"strain\" \\\n",
    " | tail -n+2 \\\n",
    " > ${results_dir}/exclude.date_ambiguity.txt"
   ]
  },
  {
   "cell_type": "markdown",
   "id": "96d92801-9252-43f3-9bc4-b48cbacaac2b",
   "metadata": {},
   "source": [
    "#### 2. Date Range"
   ]
  },
  {
   "cell_type": "code",
   "execution_count": null,
   "id": "4c33c60c-9ef1-4026-b436-732745d5ddda",
   "metadata": {},
   "outputs": [],
   "source": [
    "echo \"Min Date:\" $min_date \n",
    "# this is deliberately reversed, because we're constructing an exclusion list\n",
    "filter_min=\"\\$date<\\\"$min_date\\\"\"\n",
    "echo \"Exclude: $filter_min\"\n",
    "\n",
    "${bin_dir}/csvtk filter2 -t -f ${filter_min} ${results_dir}/metadata.minimal.tsv 2> /dev/null \\\n",
    "  | ${bin_dir}/csvtk cut -t -f \"strain\" \\\n",
    "  | tail -n+2 \\\n",
    "  > ${results_dir}/exclude.early.txt  "
   ]
  },
  {
   "cell_type": "code",
   "execution_count": null,
   "id": "6c4b9435-8ce0-454a-a757-475d2ef27c59",
   "metadata": {},
   "outputs": [],
   "source": [
    "echo \"Max Date:\" $max_date \n",
    "# this is deliberately reversed, because we're constructing an exclusion list\n",
    "filter_max=\"\\$date>\\\"$max_date\\\"\"\n",
    "echo \"Exclude: $filter_max\"\n",
    "\n",
    "${bin_dir}/csvtk filter2 -t -f ${filter_max} ${results_dir}/metadata.minimal.tsv 2> /dev/null \\\n",
    "  | ${bin_dir}/csvtk cut -t -f \"strain\" \\\n",
    "  | tail -n+2 \\\n",
    "  > ${results_dir}/exclude.late.txt"
   ]
  },
  {
   "cell_type": "markdown",
   "id": "0e8b38ba-5b87-4de9-aa2b-294bc14e35e0",
   "metadata": {},
   "source": [
    "#### 3. Host"
   ]
  },
  {
   "cell_type": "code",
   "execution_count": null,
   "id": "39f4a73a-35f7-498d-a3b2-ad29614752ef",
   "metadata": {},
   "outputs": [],
   "source": [
    "# Exclude ANYTHING source that is not human\n",
    "${bin_dir}/csvtk grep -t -f \"host\" -p \"Human\" -v ${results_dir}/metadata.minimal.tsv \\\n",
    "  | ${bin_dir}/csvtk cut -t -f \"strain\" \\\n",
    "  | tail -n+2 \\\n",
    "  > ${results_dir}/exclude.host.txt"
   ]
  },
  {
   "cell_type": "code",
   "execution_count": null,
   "id": "680ee71e-da83-4af3-8844-4a4b6592da52",
   "metadata": {},
   "outputs": [],
   "source": [
    "# Exclude environmental samples\n",
    "${bin_dir}/csvtk grep -t -f \"host\" -p \"Environment\" ${results_dir}/metadata.minimal.tsv \\\n",
    "  | ${bin_dir}/csvtk cut -t -f \"strain\" \\\n",
    "  | tail -n+2 \\\n",
    "  > ${results_dir}/exclude.environment.txt"
   ]
  },
  {
   "cell_type": "code",
   "execution_count": null,
   "id": "745b528d-4c8a-4f04-a286-422720f94291",
   "metadata": {},
   "outputs": [],
   "source": [
    "# Exclude non-human and not environment samples\n",
    "${bin_dir}/csvtk grep -t -f \"host\" -p \"Human\" -v ${results_dir}/metadata.minimal.tsv \\\n",
    "  | ${bin_dir}/csvtk grep -t -f \"host\" -v -p \"Environment\" \\\n",
    "  | ${bin_dir}/csvtk cut -t -f \"strain\" \\\n",
    "  | tail -n+2 \\\n",
    "  > ${results_dir}/exclude.non-human.txt"
   ]
  },
  {
   "cell_type": "markdown",
   "id": "a0219dda-7713-431a-9e94-204bcb29d100",
   "metadata": {},
   "source": [
    "#### 4. Reference Strain"
   ]
  },
  {
   "cell_type": "code",
   "execution_count": null,
   "id": "60fe022b-7f18-41f3-8218-6815310580e5",
   "metadata": {},
   "outputs": [],
   "source": [
    "echo $reference_strain > ${results_dir}/exclude.reference.txt"
   ]
  },
  {
   "cell_type": "markdown",
   "id": "d8c21411-3f75-418f-92c1-4f9205d6e5db",
   "metadata": {},
   "source": [
    "### Genome Quality\n",
    "\n",
    "When the alignment if finished, we can filter on the following quality metrics\n",
    "\n",
    "1. Missing Data, N (`qc.missingData.status`)\n",
    "1. Ambiguous Nucleotides (`qc.mixedSites.status`)\n",
    "1. Frameshifts (`qc.frameShifts.status`)\n",
    "1. Stop Codons (`qc.stopCodons.status`)"
   ]
  },
  {
   "cell_type": "code",
   "execution_count": null,
   "id": "77f6f1ec-e111-4633-bda2-6439a7d0d75d",
   "metadata": {},
   "outputs": [],
   "source": [
    "wrap=\"${bin_dir}/csvtk grep -t -f ${bad_quality_cols} -p bad ${results_dir}/nextclade.tsv \\\n",
    "  | ${bin_dir}/csvtk cut -t -f seqName \\\n",
    "  | tail -n+2 \\\n",
    "  > ${results_dir}/exclude.quality.txt\"\n",
    "  \n",
    "cmd=\"sbatch\n",
    "  --parsable\n",
    "  ${partition}\n",
    "  ${dependency_alignment}\n",
    "  -c 1 \n",
    "  --mem 16G\n",
    "  -J recomb-filter-quality\n",
    "  -o ${log_dir}/%x_$(date +\"%Y-%m-%d\")_%j.log\n",
    "  --wrap=\\\"$wrap 2>&1\\\"\"\n",
    "\n",
    "echo $cmd\n",
    "filter_quality_id=$(eval $cmd)\n",
    "# Setup the SLURM dependency string for jobs that will depend on this output\n",
    "dependency_filter_quality=\"--dependency=aftercorr:${filter_quality_id}\""
   ]
  },
  {
   "cell_type": "markdown",
   "id": "df6bc810-05c7-462e-84a3-4fbaf83ec8c7",
   "metadata": {},
   "source": [
    "### Clock Filter\n",
    "\n",
    "- Remove sequences where the collection date (`date`) is before the lower 95% CI of the MRCA date\n",
    "- ⚠ Requires external run of the `clock-filter.ipynb` notebook (python kernel)."
   ]
  },
  {
   "cell_type": "markdown",
   "id": "fca3dd81-6483-4a35-a625-eb01b90e6d56",
   "metadata": {},
   "source": [
    "### Combine All Exclusion Filters"
   ]
  },
  {
   "cell_type": "code",
   "execution_count": null,
   "id": "ef98c8bb-2afb-4136-b003-e1079a8ee91b",
   "metadata": {},
   "outputs": [],
   "source": [
    "# Exclude all\n",
    "cat ${results_dir}/exclude.*.txt \\\n",
    "  | sort \\\n",
    "  | uniq \\\n",
    "  > ${results_dir}/exclude.txt;"
   ]
  },
  {
   "cell_type": "markdown",
   "id": "a85dcebb-0ec6-4a88-a069-504d0ba10ea4",
   "metadata": {},
   "source": [
    "### Filter Metadata\n"
   ]
  },
  {
   "cell_type": "code",
   "execution_count": null,
   "id": "0b6ea5b3-6a34-4d8f-bba2-790d13b69f5b",
   "metadata": {},
   "outputs": [],
   "source": [
    "wrap=\"${bin_dir}/csvtk grep -t -f 'strain' -P ${results_dir}/exclude.txt -v ${results_dir}/minimal.tsv > ${results_dir}/minimal.filtered.tsv\"\n",
    "cmd=\"sbatch --parsable ${partition} -c 1 --mem 16G -J recomb-filter-metadata -o ${log_dir}/%x_$(date +\"%Y-%m-%d\")_%j.log --wrap=\\\"$wrap\\\"\"\n",
    "echo $cmd\n",
    "filter_metadata_id=$(eval $cmd)"
   ]
  },
  {
   "cell_type": "markdown",
   "id": "6d8e09f5-d884-4edd-9c2d-1a1efce4336b",
   "metadata": {},
   "source": [
    "## Partition\n",
    "\n",
    "### Metadata\n",
    "\n",
    "- ⚠ Requires external run of the `partition-month.ipynb` notebook (python kernel)."
   ]
  },
  {
   "cell_type": "markdown",
   "id": "f99d8a6f-fd81-40f3-bd8d-19adeb62bf6e",
   "metadata": {},
   "source": [
    "### Alignment"
   ]
  },
  {
   "cell_type": "code",
   "execution_count": null,
   "id": "3e752657-5040-4bc5-bd0d-820253548487",
   "metadata": {},
   "outputs": [],
   "source": [
    "for year_month in $(ls ${results_dir}/partition); \n",
    "do \n",
    "  echo $year_month;\n",
    "  strains=\"${results_dir}/partition/${year_month}/strains.txt\"\n",
    "  out_align=\"${results_dir}/partition/${year_month}/alignment.fasta\"\n",
    "  wrap=\"cat ${data_dir}/reference.fasta > ${out_align} && ${bin_dir}/seqkit grep --threads 8 -f $strains ${nextclade_alignment} >> ${out_align}\"\n",
    "  cmd=\"sbatch --parsable ${partition} -c 8 --mem 8G -J alignment-${year_month} -o ${log_dir}/%x_$(date +\"%Y-%m-%d\")_%j.log --wrap=\\\"$wrap\\\"\"  \n",
    "  id=$(eval $cmd)\n",
    "done"
   ]
  },
  {
   "cell_type": "markdown",
   "id": "88ee9b2d-6a77-49e5-adc4-9d4624010846",
   "metadata": {},
   "source": [
    "Collate in directory `partition-alignment`."
   ]
  },
  {
   "cell_type": "markdown",
   "id": "b95b3e6f-c4cb-4077-8b30-604319f0c899",
   "metadata": {},
   "source": [
    "### Genomic VCF (gVCF)\n",
    "\n",
    "- Replace IUPAC bases with N\n",
    "- Rename the chromosome to reference name\n",
    "- Remove reference genome from samples"
   ]
  },
  {
   "cell_type": "code",
   "execution_count": null,
   "id": "fd7d8665-7b75-4747-b756-179ce6ab4fac",
   "metadata": {},
   "outputs": [],
   "source": [
    "mkdir -p ${results_dir}/partition-gVCF\n",
    "mkdir -p ${results_dir}/partition-alignment\n",
    "\n",
    "for year_month in $(ls ${results_dir}/partition); \n",
    "do \n",
    "  year=$(echo $year_month | cut -d \"-\" -f 1)\n",
    "  echo $year_month;\n",
    "  in_align=\"${results_dir}/partition/${year_month}/alignment.fasta\"\n",
    "  out_align=\"${results_dir}/partition-alignment/${year_month}-alignment.fasta\"\n",
    "  out_vcf=\"${results_dir}/partition-gVCF/${year_month}-alignment.vcf\"\n",
    "  \n",
    "  wrap=\"source activate snp-sites \\\n",
    "    && ${bin_dir}/seqkit replace -s -i -p 'B|D|E|F|H|I|J|K|L|M|N|O|P|Q|R|S|U|V|W|X|Y|Z' -r 'N' ${in_align} > ${out_align} \\\n",
    "    && snp-sites -b -v ${out_align} > ${out_vcf}.tmp \\\n",
    "    && grep '#' ${out_vcf}.tmp > ${out_vcf}.chr_rename.tmp \\\n",
    "    && ${bin_dir}/csvtk replace -t -H -f 1 -p '1' -r 'Wuhan/Hu-1/2019' ${out_vcf}.tmp >> ${out_vcf}.chr_rename.tmp \\\n",
    "    && vcftools --remove-indv 'Wuhan/Hu-1/2019' --gzvcf ${out_vcf}.chr_rename.tmp --recode --stdout | gzip -c > ${out_vcf}.gz \\\n",
    "    && gzip $out_align \\\n",
    "    && rm -f ${out_vcf}*.tmp;\"\n",
    "  cmd=\"sbatch --parsable ${partition} -c 1 --mem 8G -J vcf-${year_month} -o ${log_dir}/%x_$(date +\"%Y-%m-%d\")_%j.log --wrap=\\\"$wrap\\\"\"  \n",
    "  id=$(eval $cmd)\n",
    "done"
   ]
  },
  {
   "cell_type": "markdown",
   "id": "193884fd-4455-4a62-b72c-fa3ec594ee39",
   "metadata": {},
   "source": [
    "## Output for Downstream\n",
    "\n",
    "---\n",
    "\n",
    "- Metadata: `../results/minimal.filtered.tsv`\n",
    "- Alignment: `../results/partition-alignment/*.fasta.gz`\n",
    "- VCF: `../results/partition-gVCF/*.vcf`"
   ]
  }
 ],
 "metadata": {
  "kernelspec": {
   "display_name": "Bash",
   "language": "bash",
   "name": "bash"
  },
  "language_info": {
   "codemirror_mode": "shell",
   "file_extension": ".sh",
   "mimetype": "text/x-sh",
   "name": "bash"
  }
 },
 "nbformat": 4,
 "nbformat_minor": 5
}
