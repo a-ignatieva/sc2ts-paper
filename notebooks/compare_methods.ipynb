{
 "cells": [
  {
   "cell_type": "code",
   "execution_count": 1,
   "metadata": {},
   "outputs": [],
   "source": [
    "import json\n",
    "import urllib.request\n",
    "import pandas as pd"
   ]
  },
  {
   "cell_type": "code",
   "execution_count": 2,
   "metadata": {},
   "outputs": [
    {
     "data": {
      "text/plain": [
       "51"
      ]
     },
     "execution_count": 2,
     "metadata": {},
     "output_type": "execute_result"
    }
   ],
   "source": [
    "pangos = [\n",
    "    \"XE\",\n",
    "    \"XB\",\n",
    "    \"XBB\",\n",
    "    \"XBF\",\n",
    "    \"XN\",\n",
    "    \"XAS\",\n",
    "    \"XBE\",\n",
    "    \"XL\",\n",
    "    \"XJ\",\n",
    "    \"XQ\",\n",
    "    \"XP\",\n",
    "    \"XZ\",\n",
    "    \"XBG\",\n",
    "    \"XBK\",\n",
    "    \"XBD\",\n",
    "    \"XW\",\n",
    "    \"XA\",\n",
    "    \"XM\",\n",
    "    \"XAJ\",\n",
    "    \"XY\",\n",
    "    \"XAM\",\n",
    "    \"XS\",\n",
    "    \"XF\",\n",
    "    \"XBQ\",\n",
    "    \"XR\",\n",
    "    \"XAP\",\n",
    "    \"XAA\",\n",
    "    \"XAF\",\n",
    "    \"XBM\",\n",
    "    \"XAV\",\n",
    "    \"XAU\",\n",
    "    \"XAE\",\n",
    "    \"XAN\",\n",
    "    \"XAG\",\n",
    "    \"XBH\",\n",
    "    \"XC\",\n",
    "    \"XBR\",\n",
    "    \"XH\",\n",
    "    \"XAD\",\n",
    "    \"XG\",\n",
    "    \"XAL\",\n",
    "    \"XU\",\n",
    "    \"XAB\",\n",
    "    \"XAH\",\n",
    "    \"XAQ\",\n",
    "    \"XAR\",\n",
    "    \"XAT\",\n",
    "    \"XBJ\",\n",
    "    \"XK\",\n",
    "    \"XT\",\n",
    "    \"XV\",\n",
    "]\n",
    "len(pangos)"
   ]
  },
  {
   "cell_type": "code",
   "execution_count": 9,
   "metadata": {},
   "outputs": [
    {
     "data": {
      "text/plain": [
       "11"
      ]
     },
     "execution_count": 9,
     "metadata": {},
     "output_type": "execute_result"
    }
   ],
   "source": [
    "# https://github.com/jeromekelleher/sc2ts-paper/issues/325#issuecomment-2659019906\n",
    "skip_pangos = [\n",
    "    \"XAB\",  # Failed sc2ts missing site QC\n",
    "    \"XAH\",  # Failed sc2ts missing site QC\n",
    "    \"XAQ\",  # Not in Viridian v04\n",
    "    \"XAR\",  # Not in Viridian v04\n",
    "    \"XAT\",  # Not in Viridian v04\n",
    "    \"XBJ\",  # SKIP FOR NOW but see comment\n",
    "    \"XK\",   # Not in Viridian v04\n",
    "    \"XT\",   # Not in Viridian v04\n",
    "    \"XV\",   # Not in Viridian v04\n",
    "    \"XBQ\",  # https://github.com/jeromekelleher/sc2ts-paper/issues/195#issuecomment-2665567347\n",
    "    \"XBR\", # https://github.com/jeromekelleher/sc2ts-paper/issues/195#issuecomment-2665567347\n",
    "]\n",
    "len(skip_pangos)"
   ]
  },
  {
   "cell_type": "code",
   "execution_count": 10,
   "metadata": {},
   "outputs": [],
   "source": [
    "alias_key_url = \"https://raw.githubusercontent.com/cov-lineages/pango-designation/refs/heads/master/pango_designation/alias_key.json\"\n",
    "with urllib.request.urlopen(alias_key_url) as url:\n",
    "    alias_key = json.load(url)"
   ]
  },
  {
   "cell_type": "code",
   "execution_count": 11,
   "metadata": {},
   "outputs": [
    {
     "name": "stdout",
     "output_type": "stream",
     "text": [
      "Pango X: 144\n",
      "One breakpoint: 123\n",
      "More breakpoints: 21\n"
     ]
    }
   ],
   "source": [
    "num_total_x = 0\n",
    "num_one_bkpt = 0\n",
    "num_multiple_bkpts = 0\n",
    "for x in alias_key:\n",
    "    if x.startswith(\"X\"):\n",
    "        num_total_x += 1\n",
    "        if len(alias_key[x]) == 2:\n",
    "            num_one_bkpt += 1\n",
    "        else:\n",
    "            num_multiple_bkpts += 1\n",
    "print(f\"Pango X: {num_total_x}\")\n",
    "print(f\"One breakpoint: {num_one_bkpt}\")\n",
    "print(f\"More breakpoints: {num_multiple_bkpts}\")"
   ]
  },
  {
   "cell_type": "code",
   "execution_count": 12,
   "metadata": {},
   "outputs": [],
   "source": [
    "def is_concordant(*, ground_truth, query):\n",
    "    def _remap(x):\n",
    "        if x.endswith(\"*\"):\n",
    "            x = x[:-1]\n",
    "        split = x.split(\".\")\n",
    "        alias = alias_key.get(split[0], \"\")\n",
    "        if alias != \"\":\n",
    "            x = \".\".join([alias] + split[1:])\n",
    "        return x\n",
    "    pango_gt = _remap(ground_truth)\n",
    "    pango_cp = _remap(query)\n",
    "    if (pango_cp == pango_gt) or (pango_cp.startswith(pango_gt + \".\")):\n",
    "        return True\n",
    "    else:\n",
    "        return False"
   ]
  },
  {
   "cell_type": "code",
   "execution_count": 13,
   "metadata": {},
   "outputs": [],
   "source": [
    "def compare_methods(df, comparator):\n",
    "    df_gt = df[df[\"method\"] == \"groundtruth\"]\n",
    "    df_cp = df[df[\"method\"] == comparator]\n",
    "\n",
    "    list_concordant = []\n",
    "    list_discrepant = []\n",
    "    list_nonrecomb = []\n",
    "\n",
    "    for p in pangos:\n",
    "        if p in skip_pangos:\n",
    "            continue\n",
    "\n",
    "        tmp_df_gt = df_gt[df_gt[\"pango\"] == p]\n",
    "        tmp_df_cp = df_cp[df_cp[\"pango\"] == p]\n",
    "\n",
    "        left_pango_parent_gt = tmp_df_gt.iloc[0][\"left_pango_parent\"]\n",
    "        left_pango_parent_cp = tmp_df_cp.iloc[0][\"left_pango_parent\"]\n",
    "        right_pango_parent_gt = tmp_df_gt.iloc[0][\"right_pango_parent\"]\n",
    "        right_pango_parent_cp = tmp_df_cp.iloc[0][\"right_pango_parent\"]\n",
    "\n",
    "        if left_pango_parent_cp == \"na\" or right_pango_parent_cp == \"na\":\n",
    "            list_nonrecomb.append(p)\n",
    "            continue\n",
    "\n",
    "        is_left_concordant = is_concordant(\n",
    "            ground_truth=left_pango_parent_gt,\n",
    "            query=left_pango_parent_cp,\n",
    "        )\n",
    "        is_right_concordant = is_concordant(\n",
    "            ground_truth=right_pango_parent_gt,\n",
    "            query=right_pango_parent_cp,\n",
    "        )\n",
    "        if is_left_concordant and is_right_concordant:\n",
    "            list_concordant.append(p)\n",
    "        else:\n",
    "            list_discrepant.append(p)\n",
    "            print(\n",
    "                p,\n",
    "                \"left\", [left_pango_parent_gt, left_pango_parent_cp],\n",
    "                \"right\", [right_pango_parent_gt, right_pango_parent_cp],\n",
    "            )\n",
    "\n",
    "    return (list_concordant, list_discrepant, list_nonrecomb)"
   ]
  },
  {
   "cell_type": "code",
   "execution_count": 14,
   "metadata": {},
   "outputs": [
    {
     "name": "stdout",
     "output_type": "stream",
     "text": [
      "Discrepant recombinants: GT vs sc2ts\n",
      "XBB left ['BJ.1', 'BA.2.10'] right ['BM.1.1.1', 'BM.1.1.1']\n",
      "XBF left ['BA.5.2', 'BA.5.2.1'] right ['CJ.1', 'BM.1.1.1']\n",
      "XBH left ['BA.2.3.17', 'BA.2.1'] right ['BA.2.75.2', 'BA.2.75.2']\n",
      "\n",
      "\n",
      "Discrepant recombinants: GT vs RH-GISAID\n",
      "XAS left ['BA.5*', 'BA.4.8'] right ['BA.2*', 'BA.2.65']\n",
      "XBE left ['BA.5.2*', 'BA.5.2.6'] right ['BE.4.1', 'BE.4']\n",
      "XBM left ['BA.2.76', 'BF.3'] right ['BF.3', 'BA.2.76;BF.3']\n",
      "XBH left ['BA.2.3.17', 'BA.2.75.2'] right ['BA.2.75.2', 'BA.2.3.17;BA.2.75.2']\n",
      "\n",
      "\n",
      "Concordant recombinants\n",
      "GT vs sc2ts: 26\n",
      "GT vs RH-GISAID: 30\n",
      "\n",
      "\n",
      "Non-recombinants\n",
      "GT vs sc2ts: 11\n",
      "GT vs RH-GISAID: 6\n"
     ]
    }
   ],
   "source": [
    "methods_df = pd.read_csv(\"../data/methods_comparison.csv\")\n",
    "\n",
    "print(f\"Discrepant recombinants: GT vs sc2ts\")\n",
    "(\n",
    "    concordant_sc2ts, discrepant_sc2ts, nonrecomb_sc2ts\n",
    ") = compare_methods(\n",
    "    df=methods_df,\n",
    "    comparator=\"sc2ts\",\n",
    ")\n",
    "print(\"\\n\")\n",
    "\n",
    "print(f\"Discrepant recombinants: GT vs RH-GISAID\")\n",
    "(\n",
    "    concordant_rh, discrepant_rh, nonrecomb_rh\n",
    ") = compare_methods(\n",
    "    df=methods_df,\n",
    "    comparator=\"recombinhunt_gisaid\",\n",
    ")\n",
    "print(\"\\n\")\n",
    "\n",
    "print(f\"Concordant recombinants\")\n",
    "print(f\"GT vs sc2ts: {len(concordant_sc2ts)}\")\n",
    "print(f\"GT vs RH-GISAID: {len(concordant_rh)}\")\n",
    "print(\"\\n\")\n",
    "\n",
    "print(f\"Non-recombinants\")\n",
    "print(f\"GT vs sc2ts: {len(nonrecomb_sc2ts)}\")\n",
    "print(f\"GT vs RH-GISAID: {len(nonrecomb_rh)}\")"
   ]
  },
  {
   "cell_type": "code",
   "execution_count": null,
   "metadata": {},
   "outputs": [],
   "source": []
  }
 ],
 "metadata": {
  "kernelspec": {
   "display_name": "Python 3",
   "language": "python",
   "name": "python3"
  },
  "language_info": {
   "codemirror_mode": {
    "name": "ipython",
    "version": 3
   },
   "file_extension": ".py",
   "mimetype": "text/x-python",
   "name": "python",
   "nbconvert_exporter": "python",
   "pygments_lexer": "ipython3",
   "version": "3.10.14"
  }
 },
 "nbformat": 4,
 "nbformat_minor": 4
}
