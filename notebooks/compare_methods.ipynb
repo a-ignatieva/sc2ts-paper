{
 "cells": [
  {
   "cell_type": "code",
   "execution_count": 1,
   "metadata": {},
   "outputs": [],
   "source": [
    "import json\n",
    "import urllib.request\n",
    "import pandas as pd"
   ]
  },
  {
   "cell_type": "code",
   "execution_count": 2,
   "metadata": {},
   "outputs": [
    {
     "data": {
      "text/plain": [
       "51"
      ]
     },
     "execution_count": 2,
     "metadata": {},
     "output_type": "execute_result"
    }
   ],
   "source": [
    "pangos = [\n",
    "    \"XE\",\n",
    "    \"XB\",\n",
    "    \"XBB\",\n",
    "    \"XBF\",\n",
    "    \"XN\",\n",
    "    \"XAS\",\n",
    "    \"XBE\",\n",
    "    \"XL\",\n",
    "    \"XJ\",\n",
    "    \"XQ\",\n",
    "    \"XP\",\n",
    "    \"XZ\",\n",
    "    \"XBG\",\n",
    "    \"XBK\",\n",
    "    \"XBD\",\n",
    "    \"XW\",\n",
    "    \"XA\",\n",
    "    \"XM\",\n",
    "    \"XAJ\",\n",
    "    \"XY\",\n",
    "    \"XAM\",\n",
    "    \"XS\",\n",
    "    \"XF\",\n",
    "    \"XBQ\",\n",
    "    \"XR\",\n",
    "    \"XAP\",\n",
    "    \"XAA\",\n",
    "    \"XAF\",\n",
    "    \"XBM\",\n",
    "    \"XAV\",\n",
    "    \"XAU\",\n",
    "    \"XAE\",\n",
    "    \"XAN\",\n",
    "    \"XAG\",\n",
    "    \"XBH\",\n",
    "    \"XC\",\n",
    "    \"XBR\",\n",
    "    \"XH\",\n",
    "    \"XAD\",\n",
    "    \"XG\",\n",
    "    \"XAL\",\n",
    "    \"XU\",\n",
    "    \"XAB\",\n",
    "    \"XAH\",\n",
    "    \"XAQ\",\n",
    "    \"XAR\",\n",
    "    \"XAT\",\n",
    "    \"XBJ\",\n",
    "    \"XK\",\n",
    "    \"XT\",\n",
    "    \"XV\",\n",
    "]\n",
    "len(pangos)"
   ]
  },
  {
   "cell_type": "code",
   "execution_count": 3,
   "metadata": {},
   "outputs": [
    {
     "data": {
      "text/plain": [
       "9"
      ]
     },
     "execution_count": 3,
     "metadata": {},
     "output_type": "execute_result"
    }
   ],
   "source": [
    "# https://github.com/jeromekelleher/sc2ts-paper/issues/325#issuecomment-2659019906\n",
    "skip_pangos = [\n",
    "    \"XAB\",\n",
    "    \"XAH\",\n",
    "    \"XAQ\",\n",
    "    \"XAR\",\n",
    "    \"XAT\",\n",
    "    \"XBJ\",\n",
    "    \"XK\",\n",
    "    \"XT\",\n",
    "    \"XV\",\n",
    "]\n",
    "len(skip_pangos)"
   ]
  },
  {
   "cell_type": "code",
   "execution_count": 4,
   "metadata": {},
   "outputs": [],
   "source": [
    "alias_key_url = \"https://raw.githubusercontent.com/cov-lineages/pango-designation/refs/heads/master/pango_designation/alias_key.json\"\n",
    "with urllib.request.urlopen(alias_key_url) as url:\n",
    "    alias_key = json.load(url)"
   ]
  },
  {
   "cell_type": "code",
   "execution_count": 5,
   "metadata": {},
   "outputs": [
    {
     "name": "stdout",
     "output_type": "stream",
     "text": [
      "Pango X: 144\n",
      "One breakpoint: 123\n",
      "More breakpoints: 21\n"
     ]
    }
   ],
   "source": [
    "num_total_x = 0\n",
    "num_one_bkpt = 0\n",
    "num_multiple_bkpts = 0\n",
    "for x in alias_key:\n",
    "    if x.startswith(\"X\"):\n",
    "        num_total_x += 1\n",
    "        if len(alias_key[x]) == 2:\n",
    "            num_one_bkpt += 1\n",
    "        else:\n",
    "            num_multiple_bkpts += 1\n",
    "print(f\"Pango X: {num_total_x}\")\n",
    "print(f\"One breakpoint: {num_one_bkpt}\")\n",
    "print(f\"More breakpoints: {num_multiple_bkpts}\")"
   ]
  },
  {
   "cell_type": "code",
   "execution_count": 6,
   "metadata": {},
   "outputs": [],
   "source": [
    "def is_concordant(*, ground_truth, query):\n",
    "    def _remap(x):\n",
    "        if x.endswith(\"*\"):\n",
    "            x = x[:-1]\n",
    "        split = x.split(\".\")\n",
    "        alias = alias_key.get(split[0], \"\")\n",
    "        if alias != \"\":\n",
    "            x = \".\".join([alias] + split[1:])\n",
    "        return x\n",
    "    pango_gt = _remap(ground_truth)\n",
    "    pango_cp = _remap(query)\n",
    "    if (pango_cp == pango_gt) or (pango_cp.startswith(pango_gt + \".\")):\n",
    "        return True\n",
    "    else:\n",
    "        return False"
   ]
  },
  {
   "cell_type": "code",
   "execution_count": 7,
   "metadata": {},
   "outputs": [],
   "source": [
    "def compare_methods(df, comparator):\n",
    "    df_gt = df[df[\"method\"] == \"groundtruth\"]\n",
    "    df_cp = df[df[\"method\"] == comparator]\n",
    "\n",
    "    num_concordant = 0\n",
    "\n",
    "    for p in pangos:\n",
    "        if p in skip_pangos:\n",
    "            continue\n",
    "\n",
    "        tmp_df_gt = df_gt[df_gt[\"pango\"] == p]\n",
    "        tmp_df_cp = df_cp[df_cp[\"pango\"] == p]\n",
    "\n",
    "        left_pango_parent_gt = tmp_df_gt.iloc[0][\"left_pango_parent\"]\n",
    "        left_pango_parent_cp = tmp_df_cp.iloc[0][\"left_pango_parent\"]\n",
    "        right_pango_parent_gt = tmp_df_gt.iloc[0][\"right_pango_parent\"]\n",
    "        right_pango_parent_cp = tmp_df_cp.iloc[0][\"right_pango_parent\"]\n",
    "\n",
    "        if left_pango_parent_cp == \"na\" or right_pango_parent_cp == \"na\":\n",
    "            continue\n",
    "\n",
    "        is_left_concordant = is_concordant(\n",
    "            ground_truth=left_pango_parent_gt,\n",
    "            query=left_pango_parent_cp,\n",
    "        )\n",
    "        is_right_concordant = is_concordant(\n",
    "            ground_truth=right_pango_parent_gt,\n",
    "            query=right_pango_parent_cp,\n",
    "        )\n",
    "        if is_left_concordant and is_right_concordant:\n",
    "            num_concordant += 1\n",
    "        else:\n",
    "            print(p, \"left\", left_pango_parent_gt, left_pango_parent_cp)\n",
    "            print(p, \"right\", right_pango_parent_gt, right_pango_parent_cp)\n",
    "\n",
    "    return num_concordant"
   ]
  },
  {
   "cell_type": "code",
   "execution_count": 8,
   "metadata": {},
   "outputs": [
    {
     "name": "stdout",
     "output_type": "stream",
     "text": [
      "Discrepant recombinants: GT vs sc2ts\n",
      "XBB left BJ.1 BA.2.10\n",
      "XBB right BM.1.1.1 BM.1.1.1\n",
      "XBF left BA.5.2 BA.5.2.1\n",
      "XBF right CJ.1 BM.1.1.1\n",
      "XBH left BA.2.3.17 BA.2.1\n",
      "XBH right BA.2.75.2 BA.2.75.2\n",
      "\n",
      "\n",
      "Discrepant recombinants: GT vs RH-GISAID\n",
      "XAS left BA.5* BA.4.8\n",
      "XAS right BA.2* BA.2.65\n",
      "XBE left BA.5.2* BA.5.2.6\n",
      "XBE right BE.4.1 BE.4\n",
      "XBM left BA.2.76 BF.3\n",
      "XBM right BF.3 BA.2.76;BF.3\n",
      "XBH left BA.2.3.17 BA.2.75.2\n",
      "XBH right BA.2.75.2 BA.2.3.17;BA.2.75.2\n",
      "\n",
      "\n",
      "Concordant recombinants\n",
      "GT vs sc2ts: 27\n",
      "GT vs RH-GISAID: 30\n"
     ]
    }
   ],
   "source": [
    "methods_df = pd.read_csv(\"../data/methods_comparison.csv\")\n",
    "\n",
    "print(f\"Discrepant recombinants: GT vs sc2ts\")\n",
    "num_concord_gt_vs_sc2ts = compare_methods(\n",
    "    df=methods_df,\n",
    "    comparator=\"sc2ts\",\n",
    ")\n",
    "print(\"\\n\")\n",
    "\n",
    "print(f\"Discrepant recombinants: GT vs RH-GISAID\")\n",
    "num_concord_gt_vs_rhgisaid = compare_methods(\n",
    "    df=methods_df,\n",
    "    comparator=\"recombinhunt_gisaid\",\n",
    ")\n",
    "print(\"\\n\")\n",
    "\n",
    "print(f\"Concordant recombinants\")\n",
    "print(f\"GT vs sc2ts: {num_concord_gt_vs_sc2ts}\")\n",
    "print(f\"GT vs RH-GISAID: {num_concord_gt_vs_rhgisaid}\")"
   ]
  },
  {
   "cell_type": "code",
   "execution_count": null,
   "metadata": {},
   "outputs": [],
   "source": []
  }
 ],
 "metadata": {
  "kernelspec": {
   "display_name": "Python 3",
   "language": "python",
   "name": "python3"
  },
  "language_info": {
   "codemirror_mode": {
    "name": "ipython",
    "version": 3
   },
   "file_extension": ".py",
   "mimetype": "text/x-python",
   "name": "python",
   "nbconvert_exporter": "python",
   "pygments_lexer": "ipython3",
   "version": "3.10.14"
  }
 },
 "nbformat": 4,
 "nbformat_minor": 4
}
